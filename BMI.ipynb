{
  "cells": [
    {
      "cell_type": "markdown",
      "metadata": {
        "id": "WJJcn1NjMPC7"
      },
      "source": [
        "![](./img/logo.png)"
      ]
    },
    {
      "cell_type": "markdown",
      "metadata": {
        "id": "KKmJoHIoMPDI"
      },
      "source": [
        "# Modelo **03**\n",
        "\n",
        "### Descripción de Valores:\n",
        "\n",
        "    Age: continuo.\n",
        "    Bodymass: continuo.\n",
        "    Height: continuo.\n",
        "    Education: 11th, HS-grad, Assoc-acdm, Some-college, 10th, Prof-school, 7th-8th, 9th,\n",
        "               12th, Bachelors, Masters, Doctorate, 5th-6th, Assoc-voc, 1st-4th, Preschool.\n",
        "    Martial_Status: Never-married, Married-civ-spouse, Widowed, Divorced,\n",
        "                    Separated, Married-spouse-absent, Married-AF-spouse.\n",
        "    Occupation: Machine-op-inspct, Farming-fishing, Protective-serv, Other-service, Sales,\n",
        "                Prof-specialty, Craft-repair, Adm-clerical, Exec-managerial, Armed-Forces,\n",
        "                Tech-support,  Priv-house-serv, Transport-moving, Handlers-cleaners.\n",
        "    Race: Black, White, Asian-Pac-Islander, Other, Amer-Indian-Eskimo.\n",
        "    Sex: Male, Female.\n",
        "    Hours_per_week: tiempo en horas.\n",
        "    Country: United-States, Peru, Guatemala, Mexico, Dominican-Republic,\n",
        "             Ireland, Germany, Philippines, Thailand, Haiti, El-Salvador,\n",
        "             Puerto-Rico, Vietnam, South, Columbia, Japan, India, Laos,\n",
        "             Cambodia, Poland, England, Cuba, Taiwan, Italy, Portugal,\n",
        "             Canada, China, Nicaragua, Honduras, Iran, Yugoslavi, Greece,\n",
        "             Scotland, Jamaica, Ecuador,  Hungary, Hong, Trinadad&Tobago,\n",
        "             Outlying-US(Guam-USVI-etc), France.\n",
        "    Target: <=50K, >50K."
      ]
    },
    {
      "cell_type": "markdown",
      "metadata": {
        "id": "t-WmleFgMPDP"
      },
      "source": [
        "## 0.- Bibliotecas y Lectura"
      ]
    },
    {
      "cell_type": "code",
      "execution_count": null,
      "metadata": {
        "id": "WZpMGBf0MPDR",
        "colab": {
          "base_uri": "https://localhost:8080/"
        },
        "outputId": "f5e57c48-c5a5-492e-c12f-b557e6e38a0b"
      },
      "outputs": [
        {
          "output_type": "stream",
          "name": "stdout",
          "text": [
            "fatal: destination path 'DATABASEHPC' already exists and is not an empty directory.\n"
          ]
        }
      ],
      "source": [
        "! git clone https://github.com/GodCarlosRojas/DATABASEHPC.git"
      ]
    },
    {
      "cell_type": "code",
      "execution_count": null,
      "metadata": {
        "id": "gDusNIioMPDS"
      },
      "outputs": [],
      "source": [
        "import pandas as pd\n",
        "import numpy as np\n",
        "import seaborn as sns\n",
        "import matplotlib.pyplot as plt\n",
        "from matplotlib import colors"
      ]
    },
    {
      "cell_type": "code",
      "execution_count": null,
      "metadata": {
        "id": "YCj594x1MPDT"
      },
      "outputs": [],
      "source": [
        "# se carga el dataset en un objeto pandas \"dataframe =df\"\n",
        "url = '/content/DATABASEHPC/indiceMasaCorporal.csv'\n",
        "SF = df_bmi = pd.read_csv(url)\n",
        "SF = df_bmi.head()\n"
      ]
    },
    {
      "cell_type": "markdown",
      "metadata": {
        "id": "rG1XLcE6MPDT"
      },
      "source": [
        "## 1.- Limpieza de los datos ( NaN)\n",
        "    - Bonus: ¿Cuantas Filas se han eliminado después de la limpieza?"
      ]
    },
    {
      "cell_type": "code",
      "execution_count": null,
      "metadata": {
        "id": "BqXtN1_gMPDU",
        "colab": {
          "base_uri": "https://localhost:8080/"
        },
        "outputId": "b603674a-a724-4de9-ce4d-e831d4766dfa"
      },
      "outputs": [
        {
          "output_type": "execute_result",
          "data": {
            "text/plain": [
              "16282"
            ]
          },
          "metadata": {},
          "execution_count": 12
        }
      ],
      "source": [
        "#1.- Limpieza de valores NaN\n",
        "#1.1.- Listar la cantidad de valores NaN por columna\n",
        "df_bmi.isnull().sum()\n",
        "len(df_bmi)"
      ]
    },
    {
      "cell_type": "markdown",
      "source": [
        "**OBSERVACIONES PUNTO 1.1:**\n",
        "\n",
        "En este caso se puede observar que las columnas \"Education\", \"Martial_Status\", \"Race\", \"Sex\", \"Hours_per_week\", \"Target\" poseeen 1 solo dato NaN. La columna \"Occupation\" tiene 967, y la columna \"Country\" tiene 275 datos NaN"
      ],
      "metadata": {
        "id": "3BTvN9H8pGup"
      }
    },
    {
      "cell_type": "code",
      "execution_count": null,
      "metadata": {
        "id": "OHLpYyeaMPDV",
        "colab": {
          "base_uri": "https://localhost:8080/",
          "height": 424
        },
        "outputId": "9256da43-a22f-4c64-d358-8394d0527b53"
      },
      "outputs": [
        {
          "output_type": "execute_result",
          "data": {
            "text/plain": [
              "      Age  Bodymass  Height      Education       Martial_Status  \\\n",
              "1      25     78.81  160.96           11th        Never-married   \n",
              "2      38     82.35  148.96        HS-grad   Married-civ-spouse   \n",
              "3      28     46.30  149.62     Assoc-acdm   Married-civ-spouse   \n",
              "4      44    107.85  146.28   Some-college   Married-civ-spouse   \n",
              "6      34     46.77  170.55           10th        Never-married   \n",
              "...    ..       ...     ...            ...                  ...   \n",
              "16276  33     63.77  140.15      Bachelors        Never-married   \n",
              "16277  39     53.76  132.50      Bachelors             Divorced   \n",
              "16279  38     82.94  168.96      Bachelors   Married-civ-spouse   \n",
              "16280  44    104.39  179.57      Bachelors             Divorced   \n",
              "16281  35     47.25  180.60      Bachelors   Married-civ-spouse   \n",
              "\n",
              "               Occupation                 Race      Sex  Hours_per_week  \\\n",
              "1       Machine-op-inspct                Black     Male            40.0   \n",
              "2         Farming-fishing                White     Male            50.0   \n",
              "3         Protective-serv                White     Male            40.0   \n",
              "4       Machine-op-inspct                Black     Male            40.0   \n",
              "6           Other-service                White     Male            30.0   \n",
              "...                   ...                  ...      ...             ...   \n",
              "16276      Prof-specialty                White     Male            40.0   \n",
              "16277      Prof-specialty                White   Female            36.0   \n",
              "16279      Prof-specialty                White     Male            50.0   \n",
              "16280        Adm-clerical   Asian-Pac-Islander     Male            40.0   \n",
              "16281     Exec-managerial                White     Male            60.0   \n",
              "\n",
              "              Country   Target  \n",
              "1       United-States   <=50K.  \n",
              "2       United-States   <=50K.  \n",
              "3       United-States    >50K.  \n",
              "4       United-States    >50K.  \n",
              "6       United-States   <=50K.  \n",
              "...               ...      ...  \n",
              "16276   United-States   <=50K.  \n",
              "16277   United-States   <=50K.  \n",
              "16279   United-States   <=50K.  \n",
              "16280   United-States   <=50K.  \n",
              "16281   United-States    >50K.  \n",
              "\n",
              "[15060 rows x 11 columns]"
            ],
            "text/html": [
              "\n",
              "  <div id=\"df-942358d0-efa8-4223-8fe1-00e1c3138965\">\n",
              "    <div class=\"colab-df-container\">\n",
              "      <div>\n",
              "<style scoped>\n",
              "    .dataframe tbody tr th:only-of-type {\n",
              "        vertical-align: middle;\n",
              "    }\n",
              "\n",
              "    .dataframe tbody tr th {\n",
              "        vertical-align: top;\n",
              "    }\n",
              "\n",
              "    .dataframe thead th {\n",
              "        text-align: right;\n",
              "    }\n",
              "</style>\n",
              "<table border=\"1\" class=\"dataframe\">\n",
              "  <thead>\n",
              "    <tr style=\"text-align: right;\">\n",
              "      <th></th>\n",
              "      <th>Age</th>\n",
              "      <th>Bodymass</th>\n",
              "      <th>Height</th>\n",
              "      <th>Education</th>\n",
              "      <th>Martial_Status</th>\n",
              "      <th>Occupation</th>\n",
              "      <th>Race</th>\n",
              "      <th>Sex</th>\n",
              "      <th>Hours_per_week</th>\n",
              "      <th>Country</th>\n",
              "      <th>Target</th>\n",
              "    </tr>\n",
              "  </thead>\n",
              "  <tbody>\n",
              "    <tr>\n",
              "      <th>1</th>\n",
              "      <td>25</td>\n",
              "      <td>78.81</td>\n",
              "      <td>160.96</td>\n",
              "      <td>11th</td>\n",
              "      <td>Never-married</td>\n",
              "      <td>Machine-op-inspct</td>\n",
              "      <td>Black</td>\n",
              "      <td>Male</td>\n",
              "      <td>40.0</td>\n",
              "      <td>United-States</td>\n",
              "      <td>&lt;=50K.</td>\n",
              "    </tr>\n",
              "    <tr>\n",
              "      <th>2</th>\n",
              "      <td>38</td>\n",
              "      <td>82.35</td>\n",
              "      <td>148.96</td>\n",
              "      <td>HS-grad</td>\n",
              "      <td>Married-civ-spouse</td>\n",
              "      <td>Farming-fishing</td>\n",
              "      <td>White</td>\n",
              "      <td>Male</td>\n",
              "      <td>50.0</td>\n",
              "      <td>United-States</td>\n",
              "      <td>&lt;=50K.</td>\n",
              "    </tr>\n",
              "    <tr>\n",
              "      <th>3</th>\n",
              "      <td>28</td>\n",
              "      <td>46.30</td>\n",
              "      <td>149.62</td>\n",
              "      <td>Assoc-acdm</td>\n",
              "      <td>Married-civ-spouse</td>\n",
              "      <td>Protective-serv</td>\n",
              "      <td>White</td>\n",
              "      <td>Male</td>\n",
              "      <td>40.0</td>\n",
              "      <td>United-States</td>\n",
              "      <td>&gt;50K.</td>\n",
              "    </tr>\n",
              "    <tr>\n",
              "      <th>4</th>\n",
              "      <td>44</td>\n",
              "      <td>107.85</td>\n",
              "      <td>146.28</td>\n",
              "      <td>Some-college</td>\n",
              "      <td>Married-civ-spouse</td>\n",
              "      <td>Machine-op-inspct</td>\n",
              "      <td>Black</td>\n",
              "      <td>Male</td>\n",
              "      <td>40.0</td>\n",
              "      <td>United-States</td>\n",
              "      <td>&gt;50K.</td>\n",
              "    </tr>\n",
              "    <tr>\n",
              "      <th>6</th>\n",
              "      <td>34</td>\n",
              "      <td>46.77</td>\n",
              "      <td>170.55</td>\n",
              "      <td>10th</td>\n",
              "      <td>Never-married</td>\n",
              "      <td>Other-service</td>\n",
              "      <td>White</td>\n",
              "      <td>Male</td>\n",
              "      <td>30.0</td>\n",
              "      <td>United-States</td>\n",
              "      <td>&lt;=50K.</td>\n",
              "    </tr>\n",
              "    <tr>\n",
              "      <th>...</th>\n",
              "      <td>...</td>\n",
              "      <td>...</td>\n",
              "      <td>...</td>\n",
              "      <td>...</td>\n",
              "      <td>...</td>\n",
              "      <td>...</td>\n",
              "      <td>...</td>\n",
              "      <td>...</td>\n",
              "      <td>...</td>\n",
              "      <td>...</td>\n",
              "      <td>...</td>\n",
              "    </tr>\n",
              "    <tr>\n",
              "      <th>16276</th>\n",
              "      <td>33</td>\n",
              "      <td>63.77</td>\n",
              "      <td>140.15</td>\n",
              "      <td>Bachelors</td>\n",
              "      <td>Never-married</td>\n",
              "      <td>Prof-specialty</td>\n",
              "      <td>White</td>\n",
              "      <td>Male</td>\n",
              "      <td>40.0</td>\n",
              "      <td>United-States</td>\n",
              "      <td>&lt;=50K.</td>\n",
              "    </tr>\n",
              "    <tr>\n",
              "      <th>16277</th>\n",
              "      <td>39</td>\n",
              "      <td>53.76</td>\n",
              "      <td>132.50</td>\n",
              "      <td>Bachelors</td>\n",
              "      <td>Divorced</td>\n",
              "      <td>Prof-specialty</td>\n",
              "      <td>White</td>\n",
              "      <td>Female</td>\n",
              "      <td>36.0</td>\n",
              "      <td>United-States</td>\n",
              "      <td>&lt;=50K.</td>\n",
              "    </tr>\n",
              "    <tr>\n",
              "      <th>16279</th>\n",
              "      <td>38</td>\n",
              "      <td>82.94</td>\n",
              "      <td>168.96</td>\n",
              "      <td>Bachelors</td>\n",
              "      <td>Married-civ-spouse</td>\n",
              "      <td>Prof-specialty</td>\n",
              "      <td>White</td>\n",
              "      <td>Male</td>\n",
              "      <td>50.0</td>\n",
              "      <td>United-States</td>\n",
              "      <td>&lt;=50K.</td>\n",
              "    </tr>\n",
              "    <tr>\n",
              "      <th>16280</th>\n",
              "      <td>44</td>\n",
              "      <td>104.39</td>\n",
              "      <td>179.57</td>\n",
              "      <td>Bachelors</td>\n",
              "      <td>Divorced</td>\n",
              "      <td>Adm-clerical</td>\n",
              "      <td>Asian-Pac-Islander</td>\n",
              "      <td>Male</td>\n",
              "      <td>40.0</td>\n",
              "      <td>United-States</td>\n",
              "      <td>&lt;=50K.</td>\n",
              "    </tr>\n",
              "    <tr>\n",
              "      <th>16281</th>\n",
              "      <td>35</td>\n",
              "      <td>47.25</td>\n",
              "      <td>180.60</td>\n",
              "      <td>Bachelors</td>\n",
              "      <td>Married-civ-spouse</td>\n",
              "      <td>Exec-managerial</td>\n",
              "      <td>White</td>\n",
              "      <td>Male</td>\n",
              "      <td>60.0</td>\n",
              "      <td>United-States</td>\n",
              "      <td>&gt;50K.</td>\n",
              "    </tr>\n",
              "  </tbody>\n",
              "</table>\n",
              "<p>15060 rows × 11 columns</p>\n",
              "</div>\n",
              "      <button class=\"colab-df-convert\" onclick=\"convertToInteractive('df-942358d0-efa8-4223-8fe1-00e1c3138965')\"\n",
              "              title=\"Convert this dataframe to an interactive table.\"\n",
              "              style=\"display:none;\">\n",
              "        \n",
              "  <svg xmlns=\"http://www.w3.org/2000/svg\" height=\"24px\"viewBox=\"0 0 24 24\"\n",
              "       width=\"24px\">\n",
              "    <path d=\"M0 0h24v24H0V0z\" fill=\"none\"/>\n",
              "    <path d=\"M18.56 5.44l.94 2.06.94-2.06 2.06-.94-2.06-.94-.94-2.06-.94 2.06-2.06.94zm-11 1L8.5 8.5l.94-2.06 2.06-.94-2.06-.94L8.5 2.5l-.94 2.06-2.06.94zm10 10l.94 2.06.94-2.06 2.06-.94-2.06-.94-.94-2.06-.94 2.06-2.06.94z\"/><path d=\"M17.41 7.96l-1.37-1.37c-.4-.4-.92-.59-1.43-.59-.52 0-1.04.2-1.43.59L10.3 9.45l-7.72 7.72c-.78.78-.78 2.05 0 2.83L4 21.41c.39.39.9.59 1.41.59.51 0 1.02-.2 1.41-.59l7.78-7.78 2.81-2.81c.8-.78.8-2.07 0-2.86zM5.41 20L4 18.59l7.72-7.72 1.47 1.35L5.41 20z\"/>\n",
              "  </svg>\n",
              "      </button>\n",
              "      \n",
              "  <style>\n",
              "    .colab-df-container {\n",
              "      display:flex;\n",
              "      flex-wrap:wrap;\n",
              "      gap: 12px;\n",
              "    }\n",
              "\n",
              "    .colab-df-convert {\n",
              "      background-color: #E8F0FE;\n",
              "      border: none;\n",
              "      border-radius: 50%;\n",
              "      cursor: pointer;\n",
              "      display: none;\n",
              "      fill: #1967D2;\n",
              "      height: 32px;\n",
              "      padding: 0 0 0 0;\n",
              "      width: 32px;\n",
              "    }\n",
              "\n",
              "    .colab-df-convert:hover {\n",
              "      background-color: #E2EBFA;\n",
              "      box-shadow: 0px 1px 2px rgba(60, 64, 67, 0.3), 0px 1px 3px 1px rgba(60, 64, 67, 0.15);\n",
              "      fill: #174EA6;\n",
              "    }\n",
              "\n",
              "    [theme=dark] .colab-df-convert {\n",
              "      background-color: #3B4455;\n",
              "      fill: #D2E3FC;\n",
              "    }\n",
              "\n",
              "    [theme=dark] .colab-df-convert:hover {\n",
              "      background-color: #434B5C;\n",
              "      box-shadow: 0px 1px 3px 1px rgba(0, 0, 0, 0.15);\n",
              "      filter: drop-shadow(0px 1px 2px rgba(0, 0, 0, 0.3));\n",
              "      fill: #FFFFFF;\n",
              "    }\n",
              "  </style>\n",
              "\n",
              "      <script>\n",
              "        const buttonEl =\n",
              "          document.querySelector('#df-942358d0-efa8-4223-8fe1-00e1c3138965 button.colab-df-convert');\n",
              "        buttonEl.style.display =\n",
              "          google.colab.kernel.accessAllowed ? 'block' : 'none';\n",
              "\n",
              "        async function convertToInteractive(key) {\n",
              "          const element = document.querySelector('#df-942358d0-efa8-4223-8fe1-00e1c3138965');\n",
              "          const dataTable =\n",
              "            await google.colab.kernel.invokeFunction('convertToInteractive',\n",
              "                                                     [key], {});\n",
              "          if (!dataTable) return;\n",
              "\n",
              "          const docLinkHtml = 'Like what you see? Visit the ' +\n",
              "            '<a target=\"_blank\" href=https://colab.research.google.com/notebooks/data_table.ipynb>data table notebook</a>'\n",
              "            + ' to learn more about interactive tables.';\n",
              "          element.innerHTML = '';\n",
              "          dataTable['output_type'] = 'display_data';\n",
              "          await google.colab.output.renderOutput(dataTable, element);\n",
              "          const docLink = document.createElement('div');\n",
              "          docLink.innerHTML = docLinkHtml;\n",
              "          element.appendChild(docLink);\n",
              "        }\n",
              "      </script>\n",
              "    </div>\n",
              "  </div>\n",
              "  "
            ]
          },
          "metadata": {},
          "execution_count": 13
        }
      ],
      "source": [
        "#1.2.- Eliminar los valores NaN del dataset\n",
        "SF = df_bmi.dropna()\n",
        "df_bmi.dropna()"
      ]
    },
    {
      "cell_type": "markdown",
      "source": [
        "**Observaciones PUTNO 1.2:**\n",
        "\n",
        "Primero se cuenta cuantos valores tenia el Dataset, que en este caso eran 16282(aca incluyendo valores Nan), luego se procede a eliminar las filas con esos valores.\n"
      ],
      "metadata": {
        "id": "1sto92GcpSOm"
      }
    },
    {
      "cell_type": "code",
      "execution_count": null,
      "metadata": {
        "id": "-NuaCOYFMPDV",
        "colab": {
          "base_uri": "https://localhost:8080/"
        },
        "outputId": "f5b12e67-0ca5-41c1-98d9-fa16aa89f7cc"
      },
      "outputs": [
        {
          "output_type": "execute_result",
          "data": {
            "text/plain": [
              "15060"
            ]
          },
          "metadata": {},
          "execution_count": 14
        }
      ],
      "source": [
        "#1.3.- ¿Con cuantos registros cuenta ahora el dataset?\n",
        "len(SF)"
      ]
    },
    {
      "cell_type": "markdown",
      "source": [
        "**Observaciones PUNTO 1.3: **\n",
        "\n",
        "Al haber eliminado ya las filas con valores, queda un total de 15060 filas. Por lo que se puede decir que habian 1222 filas que ensuciaban la base de datos."
      ],
      "metadata": {
        "id": "0hd44YltpYKH"
      }
    },
    {
      "cell_type": "markdown",
      "metadata": {
        "id": "MHzUiggzMPDW"
      },
      "source": [
        "## 2.- Insertar columna que presente el Indice de Masa Corporal\n",
        "[Enlace BMI](https://www.calculator.net/bmi-calculator.html)"
      ]
    },
    {
      "cell_type": "markdown",
      "metadata": {
        "id": "DLfikskaMPDW"
      },
      "source": [
        " $BMI = kg/(m^2)$"
      ]
    },
    {
      "cell_type": "markdown",
      "metadata": {
        "id": "qxS4zBApMPDX"
      },
      "source": [
        "<img src=\"./content/DATABASEHPC/graff003.png\">"
      ]
    },
    {
      "cell_type": "code",
      "execution_count": null,
      "metadata": {
        "id": "xQZH-WWQMPDX",
        "colab": {
          "base_uri": "https://localhost:8080/"
        },
        "outputId": "5cf4ed01-81fe-431d-979c-a92b84882fbb"
      },
      "outputs": [
        {
          "output_type": "stream",
          "name": "stdout",
          "text": [
            "      Age  Bodymass  Height        BMI      Education       Martial_Status  \\\n",
            "1      25     78.81  160.96  30.419033           11th        Never-married   \n",
            "2      38     82.35  148.96  37.112847        HS-grad   Married-civ-spouse   \n",
            "3      28     46.30  149.62  20.682436     Assoc-acdm   Married-civ-spouse   \n",
            "4      44    107.85  146.28  50.402287   Some-college   Married-civ-spouse   \n",
            "6      34     46.77  170.55  16.079181           10th        Never-married   \n",
            "...    ..       ...     ...        ...            ...                  ...   \n",
            "16276  33     63.77  140.15  32.466107      Bachelors        Never-married   \n",
            "16277  39     53.76  132.50  30.621574      Bachelors             Divorced   \n",
            "16279  38     82.94  168.96  29.053351      Bachelors   Married-civ-spouse   \n",
            "16280  44    104.39  179.57  32.373625      Bachelors             Divorced   \n",
            "16281  35     47.25  180.60  14.486595      Bachelors   Married-civ-spouse   \n",
            "\n",
            "               Occupation                 Race      Sex  Hours_per_week  \\\n",
            "1       Machine-op-inspct                Black     Male            40.0   \n",
            "2         Farming-fishing                White     Male            50.0   \n",
            "3         Protective-serv                White     Male            40.0   \n",
            "4       Machine-op-inspct                Black     Male            40.0   \n",
            "6           Other-service                White     Male            30.0   \n",
            "...                   ...                  ...      ...             ...   \n",
            "16276      Prof-specialty                White     Male            40.0   \n",
            "16277      Prof-specialty                White   Female            36.0   \n",
            "16279      Prof-specialty                White     Male            50.0   \n",
            "16280        Adm-clerical   Asian-Pac-Islander     Male            40.0   \n",
            "16281     Exec-managerial                White     Male            60.0   \n",
            "\n",
            "              Country   Target  \n",
            "1       United-States   <=50K.  \n",
            "2       United-States   <=50K.  \n",
            "3       United-States    >50K.  \n",
            "4       United-States    >50K.  \n",
            "6       United-States   <=50K.  \n",
            "...               ...      ...  \n",
            "16276   United-States   <=50K.  \n",
            "16277   United-States   <=50K.  \n",
            "16279   United-States   <=50K.  \n",
            "16280   United-States   <=50K.  \n",
            "16281   United-States    >50K.  \n",
            "\n",
            "[15060 rows x 12 columns]\n"
          ]
        }
      ],
      "source": [
        "#2.- Insertar columna de Indice Masa Corporal (enlace) después de la columna ‘Height’\n",
        "SF.insert(3, \"BMI\", (SF['Bodymass'])/((SF['Height']/100)*(SF['Height']/100)), allow_duplicates=False)\n",
        "print(SF)"
      ]
    },
    {
      "cell_type": "markdown",
      "source": [
        "**Observaciones PUNTO 2:**\n",
        "\n",
        "Se inserto la columna con el calculo de BMI de cada sujeto"
      ],
      "metadata": {
        "id": "YYh_imw7qQpQ"
      }
    },
    {
      "cell_type": "markdown",
      "metadata": {
        "id": "KzXI4QzsMPDY"
      },
      "source": [
        "## 3.- ¿Cuantos hombres y mujeres presentan BMI normal?\n",
        "\n",
        "    *------------------*------------*\n",
        "    |   Categoría      |  Rango BMI |\n",
        "    *------------------*------------*\n",
        "    | Delgadez severa  |    < 16    |\n",
        "    | Delgadez moderada|  16 - 17   |\n",
        "    | Delgadez leve    |  17 - 18,5 |\n",
        "    | Normal           |  18.5 - 25 |\n",
        "    | Sobrepeso        |  25 - 30   |\n",
        "    | Obesos Clase I   |  30 - 35   |\n",
        "    | Obesos Clase II  |  35 - 40   |\n",
        "    | Obesos Clase III |    > 40    |\n",
        "    *------------------*------------*"
      ]
    },
    {
      "cell_type": "code",
      "execution_count": null,
      "metadata": {
        "id": "7uF1KNMMMPDZ",
        "colab": {
          "base_uri": "https://localhost:8080/"
        },
        "outputId": "b48f1283-2194-435b-9ffe-e2dd4883f60c"
      },
      "outputs": [
        {
          "output_type": "execute_result",
          "data": {
            "text/plain": [
              "3110"
            ]
          },
          "metadata": {},
          "execution_count": 16
        }
      ],
      "source": [
        "#3.- ¿Cuántos hombres y mujeres presentan BMI normal?\n",
        "BMINORMAL = SF.query('BMI >= 18.5  and BMI <=24.9')\n",
        "len(BMINORMAL)"
      ]
    },
    {
      "cell_type": "markdown",
      "source": [
        "**Observaciones PUNTO 3:**\n",
        "\n",
        "Se puede observar que entre hombres y mujeres, 3110 de ellos tiene un BMI normal, lo que representa un 20,65% de la poblacion tienen su BMI entre 18.5 y 24,9. Por lo que se puede decir que 11950 personas no tienen un BMI normal"
      ],
      "metadata": {
        "id": "fTmkCY72q3I-"
      }
    },
    {
      "cell_type": "markdown",
      "metadata": {
        "id": "-cI9lEGMMPDa"
      },
      "source": [
        "## 4.- ¿Cuántos hombres y mujeres presentan BMI Obesos Clase III?"
      ]
    },
    {
      "cell_type": "code",
      "execution_count": null,
      "metadata": {
        "id": "ADTmn0ifMPDa",
        "colab": {
          "base_uri": "https://localhost:8080/"
        },
        "outputId": "0e6cdba8-8da0-45a0-c636-97f995e6d064"
      },
      "outputs": [
        {
          "output_type": "execute_result",
          "data": {
            "text/plain": [
              "3279"
            ]
          },
          "metadata": {},
          "execution_count": 17
        }
      ],
      "source": [
        "#4.- ¿Cuántos hombres y mujeres presentan BMI Obesos Clase III?\n",
        "BMICLASE3 = SF.query('BMI >= 40')\n",
        "len(BMICLASE3)"
      ]
    },
    {
      "cell_type": "markdown",
      "source": [
        "**Observaciones PUNTO 4:**\n",
        "\n",
        "Se puede observar que entre hombres y mujeres, 3279 de ellos presentan obesidad clase 3(alto riesgo), lo que representa que el 21,77% de la poblacio  tiene un BMI mayor a 40. Entonces se dedce que en esta polbacion hay mas personas con BMI CLASE 3 que con uno normal"
      ],
      "metadata": {
        "id": "nbcFGBpurHXa"
      }
    },
    {
      "cell_type": "code",
      "source": [
        "SF['Age'] = SF['Age'].astype('float64')"
      ],
      "metadata": {
        "colab": {
          "base_uri": "https://localhost:8080/"
        },
        "id": "3pNBHytJwMco",
        "outputId": "7bfd39da-82c2-4735-df77-6aae489d8059"
      },
      "execution_count": null,
      "outputs": [
        {
          "output_type": "stream",
          "name": "stderr",
          "text": [
            "/usr/local/lib/python3.7/dist-packages/ipykernel_launcher.py:1: SettingWithCopyWarning: \n",
            "A value is trying to be set on a copy of a slice from a DataFrame.\n",
            "Try using .loc[row_indexer,col_indexer] = value instead\n",
            "\n",
            "See the caveats in the documentation: https://pandas.pydata.org/pandas-docs/stable/user_guide/indexing.html#returning-a-view-versus-a-copy\n",
            "  \"\"\"Entry point for launching an IPython kernel.\n"
          ]
        }
      ]
    },
    {
      "cell_type": "markdown",
      "source": [
        "## 5.-  ¿Cuál es la edad promedio de las mujeres en el dataset?"
      ],
      "metadata": {
        "id": "j2BTlYICshyi"
      }
    },
    {
      "cell_type": "code",
      "source": [
        "#5.- ¿Cuál es la edad promedio de las mujeres en el dataset?\n",
        "mujeres = SF[SF['Sex'] == ' Female']\n",
        "mean_edad = mujeres['Age'].sum()/len(mujeres)\n",
        "print(mean_edad)"
      ],
      "metadata": {
        "colab": {
          "base_uri": "https://localhost:8080/"
        },
        "id": "onFLpa2Nsrf4",
        "outputId": "45ce4007-8feb-48fb-fae8-53b0cbdd35a4"
      },
      "execution_count": null,
      "outputs": [
        {
          "output_type": "stream",
          "name": "stdout",
          "text": [
            "37.18644412782414\n"
          ]
        }
      ]
    },
    {
      "cell_type": "markdown",
      "source": [
        "**Observaciones PUNTO 5:**\n",
        "\n",
        "Primero se convirtio Age que estaba tipo Object a float, esto para poder operarlo y conseguir el promedio, luego se separaron las mujeres de la lista en otra auxiliar, para luego promediar sus edades, y se concluye que la edad promedio de mujeres del Dataset es de 37 años"
      ],
      "metadata": {
        "id": "c7W-Z9HWs0gI"
      }
    },
    {
      "cell_type": "markdown",
      "metadata": {
        "id": "isMfJ6gwMPDb"
      },
      "source": [
        "## 6.-  ¿Es verdad que las personas del DataFrame del pais ' United-States', en promedio se encuentran en 'Sobre Peso'?\n",
        "      - Bonus -->  ¿En que categoria 'BMI' se encuentran en promedio por 'Sex' las personas del DataFrame?\n",
        "     \n",
        "    \n",
        "    *------------------*------------*\n",
        "    |   Categoría      |  Rango BMI |\n",
        "    *------------------*------------*\n",
        "    | Delgadez severa  |    < 16    |\n",
        "    | Delgadez moderada|  16 - 17   |\n",
        "    | Delgadez leve    |  17 - 18,5 |\n",
        "    | Normal           |  18.5 - 25 |\n",
        "    | Sobrepeso        |  25 - 30   |\n",
        "    | Obesos Clase I   |  30 - 35   |\n",
        "    | Obesos Clase II  |  35 - 40   |\n",
        "    | Obesos Clase III |    > 40    |\n",
        "    *------------------*------------*"
      ]
    },
    {
      "cell_type": "code",
      "execution_count": null,
      "metadata": {
        "id": "M-_mjvYvMPDb",
        "colab": {
          "base_uri": "https://localhost:8080/"
        },
        "outputId": "8b2f6f86-6d3b-4097-e02b-8bdadeba0578"
      },
      "outputs": [
        {
          "output_type": "stream",
          "name": "stdout",
          "text": [
            "31.666798666463507\n"
          ]
        }
      ],
      "source": [
        "#6.- ¿Es verdad que las personas del dataset del país ' United-States', en promedio se encuentran en 'Sobre Peso’?\n",
        "EEUU = SF[SF['Country'] == ' United-States']\n",
        "mean_bmi = EEUU['BMI'].mean()\n",
        "print(mean_bmi)"
      ]
    },
    {
      "cell_type": "markdown",
      "source": [
        "**Observaciones PUNTO 6:**\n",
        "\n",
        "Se ponen los datos que tengan UnitedStates enuna lista auxiliar para asi poder promediar su BMI.\n",
        "Se concluye que es verdad que United States se encuentra en la categoria de sobre pesoclase 1, con un BMI promedio de 31,66"
      ],
      "metadata": {
        "id": "Vx1r2nMns_UU"
      }
    },
    {
      "cell_type": "markdown",
      "source": [
        "##7.- ¿Cuál es el promedio de la masa corporal del país ‘Colombia’?\n",
        "#8.- ¿Cuál es la categoría BMI que presenta el país ‘Colombia’ en promedio?"
      ],
      "metadata": {
        "id": "Vt0yRM0mtTIr"
      }
    },
    {
      "cell_type": "code",
      "source": [
        "COLOM = SF[SF['Country'] == ' Colombia']\n",
        "mean_bmicol = COLOM['BMI'].mean()\n",
        "print(mean_bmicol)"
      ],
      "metadata": {
        "colab": {
          "base_uri": "https://localhost:8080/"
        },
        "id": "1bvKQN8ptXd5",
        "outputId": "4b8e27d5-8c90-45b7-aa36-bc8750f7b2e8"
      },
      "execution_count": null,
      "outputs": [
        {
          "output_type": "stream",
          "name": "stdout",
          "text": [
            "nan\n"
          ]
        }
      ]
    },
    {
      "cell_type": "markdown",
      "source": [
        "**Observaciones PUNTO 7 y 8:**\n",
        "\n",
        "No se sabe cual es el BMI promedio de Colombia, esto ya que Colombia no hace parte de la poblacion de esta base de datos. Entonces tampoco se sabe que categoria de BMI tiene."
      ],
      "metadata": {
        "id": "rS4-2XAJtZlP"
      }
    },
    {
      "cell_type": "markdown",
      "metadata": {
        "id": "lOOxf8YoMPDc"
      },
      "source": [
        "## 9.- Calcule el promedio y la desviación estandar de la edad, en las siguentes categorias ['BMI']:\n",
        "        - La edad promedio y su desviación de categoría Delgadez Severa: {mean} +- {std} años.\n",
        "        - La edad promedio y su desviación de categoría Obesos Clase II: {mean} +- {std} años.\n",
        "        - La edad promedio y su desviación de categoría Obesos Clase III: {mean} +- {std} años."
      ]
    },
    {
      "cell_type": "code",
      "execution_count": null,
      "metadata": {
        "id": "1Hqnv4JAMPDc",
        "colab": {
          "base_uri": "https://localhost:8080/"
        },
        "outputId": "55dad508-bb09-4464-eaa5-b9e98734409f"
      },
      "outputs": [
        {
          "output_type": "stream",
          "name": "stdout",
          "text": [
            "- Delgadez Severa:  14.624393228180535  +-  0.9281017249707174  años.\n",
            "- Obesidad clase 2:  37.285241806673525  +-  1.4270824652694711  años.\n",
            "- Obesidad clase 3:  47.91942532394651  +-  5.932066956521273  años.\n"
          ]
        }
      ],
      "source": [
        "#9.- Calcule el promedio y la desviación estándar de la edad, en las siguientes\n",
        "#categorías [‘BMI']:\n",
        "#- Delgadez Severa: {mean} +- {std} años.\n",
        "#- Obesos Clase II: {mean} +- {std} años.\n",
        "#- Obesos Clase III: {mean} +- {std} años.\n",
        "\n",
        "BMIDS = SF.query('BMI < 16')\n",
        "mean_ds=BMIDS['BMI'].mean()\n",
        "std_ds=BMIDS['BMI'].std()\n",
        "print(\"- Delgadez Severa: \",mean_ds,\" +- \",std_ds,\" años.\")\n",
        "BMIC2 = SF.query('BMI >= 35 and BMI <= 39.9')\n",
        "mean_c2=BMIC2['BMI'].mean()\n",
        "std_c2=BMIC2['BMI'].std()\n",
        "print(\"- Obesidad clase 2: \",mean_c2,\" +- \",std_c2,\" años.\")\n",
        "BMIC3 = SF.query('BMI >= 40')\n",
        "mean_c3=BMIC3['BMI'].mean()\n",
        "std_c3=BMIC3['BMI'].std()\n",
        "print(\"- Obesidad clase 3: \",mean_c3,\" +- \",std_c3,\" años.\")\n"
      ]
    },
    {
      "cell_type": "markdown",
      "source": [
        "**Observaciones PUNTO 9:**\n",
        "\n",
        "De lo anterior se puede observar:\n",
        "\n",
        "-Delgadez severa tiene el promedio y desvacion estandar mas bajos en sus sujetos.\n",
        "\n",
        "-Obesidad clase 3 tiene el mayor promedio y desviacion estandar en la edad de los sujetos\n"
      ],
      "metadata": {
        "id": "cI7xill7tr70"
      }
    },
    {
      "cell_type": "markdown",
      "metadata": {
        "id": "TD-_xG4XMPDd"
      },
      "source": [
        "## 10.- De las personas de más edad en el Dataframe:\n",
        "    - ¿Cuantas mujeres aparecen, que grado de educación y que estado civil tienen?\n",
        "    - ¿Es cierto que son todas del pais 'United-States'?"
      ]
    },
    {
      "cell_type": "code",
      "execution_count": null,
      "metadata": {
        "id": "wqyYxdosMPDe",
        "colab": {
          "base_uri": "https://localhost:8080/"
        },
        "outputId": "da5684ed-4e07-4697-de46-f259aae9b4d3"
      },
      "outputs": [
        {
          "output_type": "execute_result",
          "data": {
            "text/plain": [
              "90.0"
            ]
          },
          "metadata": {},
          "execution_count": 24
        }
      ],
      "source": [
        "SF['Age'].max()"
      ]
    },
    {
      "cell_type": "markdown",
      "source": [
        "**Observaciones PUNTO 10:**\n",
        "\n",
        "La edad maxima de la base de datos es 90 años"
      ],
      "metadata": {
        "id": "9TRLtT5Pt2jk"
      }
    },
    {
      "cell_type": "code",
      "source": [
        "#10.1.- ¿Cuántas mujeres aparecen, que grado de educación y que estado civil tienen?\n",
        "agemax = SF.query('Age == 90')\n",
        "mujmax = agemax[agemax['Sex'] == ' Female']\n",
        "pnt101= mujmax[['Education','Martial_Status']].copy()\n",
        "print(len(mujmax))\n",
        "print(pnt101)"
      ],
      "metadata": {
        "colab": {
          "base_uri": "https://localhost:8080/"
        },
        "id": "_FwgLOLNt6Wl",
        "outputId": "d4a35421-284d-4d09-b805-30cf0d612bbd"
      },
      "execution_count": null,
      "outputs": [
        {
          "output_type": "stream",
          "name": "stdout",
          "text": [
            "2\n",
            "           Education  Martial_Status\n",
            "12447   Some-college   Never-married\n",
            "15089        HS-grad   Never-married\n"
          ]
        }
      ]
    },
    {
      "cell_type": "markdown",
      "source": [
        "**Observaciones PUNTO 10.1:**\n",
        "\n",
        "Se puede obervar que solo hay 2 mujeres con 90 años(la edad maxima), una de ellas tiene el  de egrado de educacion de Some-college y nunca se caso, y la ota tiene el grado de estudio de Hs-grad y nunca se caso."
      ],
      "metadata": {
        "id": "b_-6zkqGt8Xz"
      }
    },
    {
      "cell_type": "code",
      "source": [
        "#10.2.- ¿Es cierto que son todas del país 'United-States'?\n",
        "mujcou = mujmax[mujmax['Country'] == ' United-States']\n",
        "print(len(mujcou))\n",
        "print(mujcou)"
      ],
      "metadata": {
        "colab": {
          "base_uri": "https://localhost:8080/"
        },
        "id": "iiNSnHC1t_RM",
        "outputId": "b40add9e-b912-4dc1-b9a3-9e8b544077de"
      },
      "execution_count": null,
      "outputs": [
        {
          "output_type": "stream",
          "name": "stdout",
          "text": [
            "2\n",
            "        Age  Bodymass  Height        BMI      Education  Martial_Status  \\\n",
            "12447  90.0     79.58  142.02  39.455261   Some-college   Never-married   \n",
            "15089  90.0     90.11  188.57  25.341236        HS-grad   Never-married   \n",
            "\n",
            "          Occupation    Race      Sex  Hours_per_week         Country   Target  \n",
            "12447   Adm-clerical   White   Female            12.0   United-States   <=50K.  \n",
            "15089   Adm-clerical   White   Female            40.0   United-States    >50K.  \n"
          ]
        }
      ]
    },
    {
      "cell_type": "markdown",
      "source": [
        "**Obervaciones punto 10.2:**\n",
        "\n",
        "Si es cierto que ambas mujeres con 90 años son de United-States"
      ],
      "metadata": {
        "id": "nT_bLSxCuBtF"
      }
    },
    {
      "cell_type": "markdown",
      "metadata": {
        "id": "ZSdKTf18MPDe"
      },
      "source": [
        "## 11.- Presentar la gráfica de Edad por Ocupación por Género\n",
        "    --> BONUS: Mencione al menos 3 (tres) observaciones obtenidas de la gráfica"
      ]
    },
    {
      "cell_type": "code",
      "execution_count": null,
      "metadata": {
        "id": "W-wyIUb5MPDf",
        "colab": {
          "base_uri": "https://localhost:8080/",
          "height": 295
        },
        "outputId": "1292e1a5-145b-45e5-c519-af49f4cf9e1e"
      },
      "outputs": [
        {
          "output_type": "display_data",
          "data": {
            "text/plain": [
              "<Figure size 2160x288 with 1 Axes>"
            ],
            "image/png": "[encoded data removed]"
          },
          "metadata": {
            "needs_background": "light"
          }
        }
      ],
      "source": [
        "#11.- Presentar la gráfica de Edad por Ocupación por Género\n",
        "plt.figure(figsize=(30,4))\n",
        "sns.violinplot(data = SF,  x = 'Occupation', y = 'Age', hue='Sex')\n",
        "\n",
        "plt.title('Grafica de Edad por Ocupación por Género')\n",
        "plt.grid()"
      ]
    },
    {
      "cell_type": "markdown",
      "source": [
        "**Observaciones PUNTO 11:**\n",
        "\n",
        "Grfica de violin para representar Edad por Ocupacionn por Genero.\n",
        "Se elijio la grafia en violin debido a que hay varias ocupaciones, y las edades en cada una de ellas es diferente, por lo cual un diagrama de barras no es buena opcion para representar esto, ya que es una poblacion muy grande, por lo que no se evidenciaria claramente los datos del Data set, por lo que hacer una analissis asi seria mas complejo, de hay que sea mejor la figura de violin para representar esto"
      ],
      "metadata": {
        "id": "kPRtnFXDuWku"
      }
    },
    {
      "cell_type": "code",
      "source": [
        "#11.1- Presentar la gráfica de Edad por Ocupación por Género\n",
        "plt.figure(figsize=(30,4))\n",
        "sns.barplot(data = SF,  x = 'Occupation', y = 'Age', hue='Sex')\n",
        "plt.title('Grafica de Edad por Ocupación por Género')\n",
        "plt.grid()"
      ],
      "metadata": {
        "colab": {
          "base_uri": "https://localhost:8080/",
          "height": 295
        },
        "id": "tWlYIrSbuaK_",
        "outputId": "804cc3e6-3622-426e-cf13-38a904edcac1"
      },
      "execution_count": null,
      "outputs": [
        {
          "output_type": "display_data",
          "data": {
            "text/plain": [
              "<Figure size 2160x288 with 1 Axes>"
            ],
            "image/png": "[encoded data removed]"
          },
          "metadata": {
            "needs_background": "light"
          }
        }
      ]
    },
    {
      "cell_type": "markdown",
      "source": [
        "Esta era la grafica solicitado para resolver el ejercicio, pero como ya se menciono la grafica de violin es mas optima para presentar los resultados.\n",
        "\n",
        "El diagrama de barras presenta la comparativa Edad por ocupacion entre hombres y mujeres. La linea negra representa el rango la desviacion de los datos"
      ],
      "metadata": {
        "id": "4hYNaLaA6M_J"
      }
    },
    {
      "cell_type": "markdown",
      "source": [
        "##12.- Describa al menos 5 conclusiones sobre la gráfica del punto 11.\n",
        "\n",
        "1. priv-house-serv tiene la mayor densidad de hombres y mujeres trabajando en eso\n",
        "\n",
        "2. Armed-forces posee solo hombres, que tiene su promedio muy cerca a su mediana, que aproximadamente serian 30 años\n",
        "\n",
        "3. El promedio de edad mas bajo para que los hombres trabajan es en Sales, con uno de masomenos 23 años\n",
        "\n",
        "4. El promedio de edad mas bajo para que las mujeres trabajan es other service , con uno de masomenos 23 años\n",
        "\n",
        "5. La ocupacion con menos densidad poblacional es Sales"
      ],
      "metadata": {
        "id": "nH2r88U1uizF"
      }
    },
    {
      "cell_type": "markdown",
      "metadata": {
        "id": "H5TeUSIPMPDg"
      },
      "source": [
        "## 13.-  ¿Es cierto que las personas que reciben más de 50k ['Target'] tienen al menos educación secundaria?\n",
        "        educación = Bachelors, Prof-school, Assoc-acdm, Assoc-voc, Masters or Doctorate"
      ]
    },
    {
      "cell_type": "code",
      "execution_count": null,
      "metadata": {
        "id": "eVp9Ol2WMPDg",
        "colab": {
          "base_uri": "https://localhost:8080/"
        },
        "outputId": "9c4058a9-4d74-48e7-eb42-b6837f059fd4"
      },
      "outputs": [
        {
          "output_type": "stream",
          "name": "stdout",
          "text": [
            "112\n"
          ]
        }
      ],
      "source": [
        "#13.- ¿Es cierto que las personas que reciben más de 50k ['Target'] tienen al menos educación secundaria?\n",
        "edu= SF.query('Education == \" 11th\" or Education == \" 10th\" or Education == \" 7th-8th\" or Education == \" 9th\" or Education == \" 12th\" or Education == \" 5th-6th\" or Education == \" 1st-4th\"')\n",
        "sal = edu[edu['Target'] == ' >50K.']\n",
        "print(len(sal))"
      ]
    },
    {
      "cell_type": "markdown",
      "source": [
        "**Observaciones PUNTO 13:**\n",
        "\n",
        "No es cierto, para ganar mas de 50k de salario no necesariamente debe haber terminado la educacion secundaria, ya que como se ve en el resultado, hay 112 personas que no terminaron la secundaria y ganan mas de 50k."
      ],
      "metadata": {
        "id": "7W4qyiCQuwur"
      }
    },
    {
      "cell_type": "markdown",
      "source": [
        "##14.- ¿Cuál es el promedio, desviación, el valor máximo y mínimo en el dataset?"
      ],
      "metadata": {
        "id": "8e2ekxyouzze"
      }
    },
    {
      "cell_type": "code",
      "source": [
        "#14.- ¿Cuál es el promedio, desviación, el valor máximo y mínimo en el dataset?\n",
        "SF.describe().T"
      ],
      "metadata": {
        "colab": {
          "base_uri": "https://localhost:8080/",
          "height": 206
        },
        "id": "_XUgUfO7u6AV",
        "outputId": "61ac79eb-488a-41ed-c60d-26acf16074c8"
      },
      "execution_count": null,
      "outputs": [
        {
          "output_type": "execute_result",
          "data": {
            "text/plain": [
              "                  count        mean        std        min         25%  \\\n",
              "Age             15060.0   38.768327  13.380676   17.00000   28.000000   \n",
              "Bodymass        15060.0   80.339313  20.485389   45.00000   62.510000   \n",
              "Height          15060.0  162.310350  17.717412  132.01000  146.737500   \n",
              "BMI             15060.0   31.642459  10.879151   12.22037   23.324516   \n",
              "Hours_per_week  15060.0   40.951594  12.062831    1.00000   40.000000   \n",
              "\n",
              "                       50%         75%         max  \n",
              "Age              37.000000   48.000000   90.000000  \n",
              "Bodymass         80.380000   97.912500  116.000000  \n",
              "Height          162.450000  177.722500  193.000000  \n",
              "BMI              30.170482   38.475673   66.247723  \n",
              "Hours_per_week   40.000000   45.000000   99.000000  "
            ],
            "text/html": [
              "\n",
              "  <div id=\"df-e6b91050-ce44-4230-a866-78f4447a877c\">\n",
              "    <div class=\"colab-df-container\">\n",
              "      <div>\n",
              "<style scoped>\n",
              "    .dataframe tbody tr th:only-of-type {\n",
              "        vertical-align: middle;\n",
              "    }\n",
              "\n",
              "    .dataframe tbody tr th {\n",
              "        vertical-align: top;\n",
              "    }\n",
              "\n",
              "    .dataframe thead th {\n",
              "        text-align: right;\n",
              "    }\n",
              "</style>\n",
              "<table border=\"1\" class=\"dataframe\">\n",
              "  <thead>\n",
              "    <tr style=\"text-align: right;\">\n",
              "      <th></th>\n",
              "      <th>count</th>\n",
              "      <th>mean</th>\n",
              "      <th>std</th>\n",
              "      <th>min</th>\n",
              "      <th>25%</th>\n",
              "      <th>50%</th>\n",
              "      <th>75%</th>\n",
              "      <th>max</th>\n",
              "    </tr>\n",
              "  </thead>\n",
              "  <tbody>\n",
              "    <tr>\n",
              "      <th>Age</th>\n",
              "      <td>15060.0</td>\n",
              "      <td>38.768327</td>\n",
              "      <td>13.380676</td>\n",
              "      <td>17.00000</td>\n",
              "      <td>28.000000</td>\n",
              "      <td>37.000000</td>\n",
              "      <td>48.000000</td>\n",
              "      <td>90.000000</td>\n",
              "    </tr>\n",
              "    <tr>\n",
              "      <th>Bodymass</th>\n",
              "      <td>15060.0</td>\n",
              "      <td>80.339313</td>\n",
              "      <td>20.485389</td>\n",
              "      <td>45.00000</td>\n",
              "      <td>62.510000</td>\n",
              "      <td>80.380000</td>\n",
              "      <td>97.912500</td>\n",
              "      <td>116.000000</td>\n",
              "    </tr>\n",
              "    <tr>\n",
              "      <th>Height</th>\n",
              "      <td>15060.0</td>\n",
              "      <td>162.310350</td>\n",
              "      <td>17.717412</td>\n",
              "      <td>132.01000</td>\n",
              "      <td>146.737500</td>\n",
              "      <td>162.450000</td>\n",
              "      <td>177.722500</td>\n",
              "      <td>193.000000</td>\n",
              "    </tr>\n",
              "    <tr>\n",
              "      <th>BMI</th>\n",
              "      <td>15060.0</td>\n",
              "      <td>31.642459</td>\n",
              "      <td>10.879151</td>\n",
              "      <td>12.22037</td>\n",
              "      <td>23.324516</td>\n",
              "      <td>30.170482</td>\n",
              "      <td>38.475673</td>\n",
              "      <td>66.247723</td>\n",
              "    </tr>\n",
              "    <tr>\n",
              "      <th>Hours_per_week</th>\n",
              "      <td>15060.0</td>\n",
              "      <td>40.951594</td>\n",
              "      <td>12.062831</td>\n",
              "      <td>1.00000</td>\n",
              "      <td>40.000000</td>\n",
              "      <td>40.000000</td>\n",
              "      <td>45.000000</td>\n",
              "      <td>99.000000</td>\n",
              "    </tr>\n",
              "  </tbody>\n",
              "</table>\n",
              "</div>\n",
              "      <button class=\"colab-df-convert\" onclick=\"convertToInteractive('df-e6b91050-ce44-4230-a866-78f4447a877c')\"\n",
              "              title=\"Convert this dataframe to an interactive table.\"\n",
              "              style=\"display:none;\">\n",
              "        \n",
              "  <svg xmlns=\"http://www.w3.org/2000/svg\" height=\"24px\"viewBox=\"0 0 24 24\"\n",
              "       width=\"24px\">\n",
              "    <path d=\"M0 0h24v24H0V0z\" fill=\"none\"/>\n",
              "    <path d=\"M18.56 5.44l.94 2.06.94-2.06 2.06-.94-2.06-.94-.94-2.06-.94 2.06-2.06.94zm-11 1L8.5 8.5l.94-2.06 2.06-.94-2.06-.94L8.5 2.5l-.94 2.06-2.06.94zm10 10l.94 2.06.94-2.06 2.06-.94-2.06-.94-.94-2.06-.94 2.06-2.06.94z\"/><path d=\"M17.41 7.96l-1.37-1.37c-.4-.4-.92-.59-1.43-.59-.52 0-1.04.2-1.43.59L10.3 9.45l-7.72 7.72c-.78.78-.78 2.05 0 2.83L4 21.41c.39.39.9.59 1.41.59.51 0 1.02-.2 1.41-.59l7.78-7.78 2.81-2.81c.8-.78.8-2.07 0-2.86zM5.41 20L4 18.59l7.72-7.72 1.47 1.35L5.41 20z\"/>\n",
              "  </svg>\n",
              "      </button>\n",
              "      \n",
              "  <style>\n",
              "    .colab-df-container {\n",
              "      display:flex;\n",
              "      flex-wrap:wrap;\n",
              "      gap: 12px;\n",
              "    }\n",
              "\n",
              "    .colab-df-convert {\n",
              "      background-color: #E8F0FE;\n",
              "      border: none;\n",
              "      border-radius: 50%;\n",
              "      cursor: pointer;\n",
              "      display: none;\n",
              "      fill: #1967D2;\n",
              "      height: 32px;\n",
              "      padding: 0 0 0 0;\n",
              "      width: 32px;\n",
              "    }\n",
              "\n",
              "    .colab-df-convert:hover {\n",
              "      background-color: #E2EBFA;\n",
              "      box-shadow: 0px 1px 2px rgba(60, 64, 67, 0.3), 0px 1px 3px 1px rgba(60, 64, 67, 0.15);\n",
              "      fill: #174EA6;\n",
              "    }\n",
              "\n",
              "    [theme=dark] .colab-df-convert {\n",
              "      background-color: #3B4455;\n",
              "      fill: #D2E3FC;\n",
              "    }\n",
              "\n",
              "    [theme=dark] .colab-df-convert:hover {\n",
              "      background-color: #434B5C;\n",
              "      box-shadow: 0px 1px 3px 1px rgba(0, 0, 0, 0.15);\n",
              "      filter: drop-shadow(0px 1px 2px rgba(0, 0, 0, 0.3));\n",
              "      fill: #FFFFFF;\n",
              "    }\n",
              "  </style>\n",
              "\n",
              "      <script>\n",
              "        const buttonEl =\n",
              "          document.querySelector('#df-e6b91050-ce44-4230-a866-78f4447a877c button.colab-df-convert');\n",
              "        buttonEl.style.display =\n",
              "          google.colab.kernel.accessAllowed ? 'block' : 'none';\n",
              "\n",
              "        async function convertToInteractive(key) {\n",
              "          const element = document.querySelector('#df-e6b91050-ce44-4230-a866-78f4447a877c');\n",
              "          const dataTable =\n",
              "            await google.colab.kernel.invokeFunction('convertToInteractive',\n",
              "                                                     [key], {});\n",
              "          if (!dataTable) return;\n",
              "\n",
              "          const docLinkHtml = 'Like what you see? Visit the ' +\n",
              "            '<a target=\"_blank\" href=https://colab.research.google.com/notebooks/data_table.ipynb>data table notebook</a>'\n",
              "            + ' to learn more about interactive tables.';\n",
              "          element.innerHTML = '';\n",
              "          dataTable['output_type'] = 'display_data';\n",
              "          await google.colab.output.renderOutput(dataTable, element);\n",
              "          const docLink = document.createElement('div');\n",
              "          docLink.innerHTML = docLinkHtml;\n",
              "          element.appendChild(docLink);\n",
              "        }\n",
              "      </script>\n",
              "    </div>\n",
              "  </div>\n",
              "  "
            ]
          },
          "metadata": {},
          "execution_count": 30
        }
      ]
    },
    {
      "cell_type": "markdown",
      "source": [
        "**Observaciones PUNTO 14:**\n",
        "\n",
        "En la anterioir tabla se imprio la media, desviacion estandar, el valor maximo y minimo de cada columna de la tabla. Se puede identificar que la columan con el calculo de BMI es la que tiene menor desviacion en sus datos con respecto a su media, ya que su desviacion estandar a comparacion de la de los demas es menor. Caso contrario para con el peso(bodymasss), ya que su desviacion estandar es mucho mayor a la de los demas, por lo que sus datos estan mas dispersos.\n",
        "Se aclara que no se pueden comparar los promedios, los maximos y minimos de las columnas entre ellas, ya que trabajan proporciones diferentes, y su comparacion no seria un analisis correcto"
      ],
      "metadata": {
        "id": "7n8uZT5ewlxg"
      }
    },
    {
      "cell_type": "markdown",
      "source": [
        "##15.- ¿Cuál es la proporción Doctorate del país Colombia en el dataset?"
      ],
      "metadata": {
        "id": "kv4kEBohyUtY"
      }
    },
    {
      "cell_type": "code",
      "source": [
        "#15.- ¿Cuál es la proporción Doctorate del país Colombia en el dataset?\n",
        "doc = SF[SF['Education'] ==' Doctorate']\n",
        "\n",
        "doccol = doc[doc['Country'] ==' Colombia']\n",
        "print(len(doccol))"
      ],
      "metadata": {
        "colab": {
          "base_uri": "https://localhost:8080/"
        },
        "id": "RGGyh2WZySwe",
        "outputId": "40016527-c837-4c6e-d9dd-8fd1572d3965"
      },
      "execution_count": null,
      "outputs": [
        {
          "output_type": "stream",
          "name": "stdout",
          "text": [
            "0\n"
          ]
        }
      ]
    },
    {
      "cell_type": "markdown",
      "source": [
        "**Observaciones PUNTO 15:**\n",
        "\n",
        "La proporcion de Doctorate en Colombia es de 0, esto ya que no hay registros de Colombia en el DataSet"
      ],
      "metadata": {
        "id": "FzKfBNEBzwyM"
      }
    },
    {
      "cell_type": "markdown",
      "source": [
        "##16.- ¿Cuál es la proporción Doctorate del país US en el dataset?"
      ],
      "metadata": {
        "id": "kf7EDX4A0P7g"
      }
    },
    {
      "cell_type": "code",
      "source": [
        "#16.- ¿Cuál es la proporción Doctorate del país US en el dataset?\n",
        "docus = doc[doc['Country'] == ' United-States']\n",
        "proporcion = len(docus)/len(SF['Country'])*100\n",
        "print(proporcion)\n",
        "print(len(docus))"
      ],
      "metadata": {
        "colab": {
          "base_uri": "https://localhost:8080/"
        },
        "id": "WtgvC_QD0S86",
        "outputId": "aa92f0e9-230f-4fc5-89ea-4cb28e09f667"
      },
      "execution_count": null,
      "outputs": [
        {
          "output_type": "stream",
          "name": "stdout",
          "text": [
            "0.9827357237715804\n",
            "148\n"
          ]
        }
      ]
    },
    {
      "cell_type": "markdown",
      "source": [
        "**Observaciones PUNTO 16:**\n",
        "\n",
        "Solo el 0.9% de la poblacion entrevista tiene un Doctorate y es de United-States.\n",
        "\n",
        "Esta propporcion es muy baja a comparacion de las demas, ya que ni siquiera llega al 1%, pero tiene sentido, ya que solo una pequeña parte de la poblacion mundial cuenta con un Doctorado"
      ],
      "metadata": {
        "id": "ZWXsADDz1DFa"
      }
    },
    {
      "cell_type": "markdown",
      "source": [
        "##Conclusiones\n",
        "\n",
        "1. Se importaron las bibliotecas requeridas, usando pandas, numpy, seaborn y matplotlib\n",
        "2. La data utilizada corresponde a datos de indice de indice de masa coporal de personas en varios paises\n",
        "3. La data presenta datos numericos, los cuales seran analizados para posteriormente convertirlos en datos categoricos\n",
        "4. Se presenta un analisis estadistico  de ciertos datos en especifico, los cuales representan informacion para hacer graficos y posteriormente resumenes\n",
        "5. Se presenta visualizacion de los resultados de las busquedas y calculos estadisticos del DataSet\n",
        "6. La columna de Age se prsentaba como una variable tipo char, la cual sufrio una transformacion por medio de la funcion de pandas  **get_dummmies** para pasarlas a variables numericas\n",
        "7. Para la visualizacion de las graficas se uno la libreria seaborn, con las funciones violinplot y barplot se pasaron los datos a graficos los cuales presentaban la informacion en forma visual\n",
        "8. Para el calculo del promedio, desviacion, maximos y minimos se uso la funcion describe().T, la cual trabaja datos unicamente numericos, y los presenta en forma de tabla\n",
        "9. Para filtrar las listas se usaron listas auxiliares para almacenar la informacion deseada\n",
        "10. Se concluye finalmente, que de forma sastifactoria se han procesado los datos\n",
        "11. Sobre las referencias, el siguiente link fue la base de la construccion del programa, donde se explica a mas detalle el funcionamiento de cada algoritmo realizado.LINK :https://campusvirtual.usergioarboleda.edu.co/pluginfile.php/384867/mod_quiz/intro/2.2.4.5%20Pr%C3%A1ctica%20de%20laboratorio%20-%20Delitos%20en%20San%20Francisco.pdf"
      ],
      "metadata": {
        "id": "qfWV3FEn4-t4"
      }
    }
  ],
  "metadata": {
    "kernelspec": {
      "display_name": "Python 3",
      "language": "python",
      "name": "python3"
    },
    "language_info": {
      "codemirror_mode": {
        "name": "ipython",
        "version": 3
      },
      "file_extension": ".py",
      "mimetype": "text/x-python",
      "name": "python",
      "nbconvert_exporter": "python",
      "pygments_lexer": "ipython3",
      "version": "3.9.1"
    },
    "colab": {
      "provenance": []
    }
  },
  "nbformat": 4,
  "nbformat_minor": 0
}