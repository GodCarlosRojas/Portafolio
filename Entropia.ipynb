{
  "cells": [
    {
      "cell_type": "code",
      "source": [
        "import math"
      ],
      "metadata": {
        "id": "yJq4Q0Bq7Wup"
      },
      "execution_count": null,
      "outputs": []
    },
    {
      "cell_type": "code",
      "source": [
        "def entropia(proe):\n",
        "  suma = 0\n",
        "  for i in range(len(proe)):\n",
        "    suma += proe[i]*math.log(proe[i],2)\n",
        "\n",
        "  return -suma"
      ],
      "metadata": {
        "id": "Lv0pq09O7u62"
      },
      "execution_count": null,
      "outputs": []
    },
    {
      "cell_type": "markdown",
      "source": [
        "**Primer Condicional : X <= 3**"
      ],
      "metadata": {
        "id": "ir-uPOWU_ZvK"
      }
    },
    {
      "cell_type": "code",
      "source": [
        "proe1 = [1]\n",
        "proe2 = [3/5,2/5]\n",
        "\n",
        "\n",
        "entro1 = entropia(proe1)\n",
        "entro2 = entropia(proe2)\n",
        "\n",
        "entro_total = (1/6)*entro1 + (5/6)*entro2\n",
        "entro_total"
      ],
      "metadata": {
        "colab": {
          "base_uri": "https://localhost:8080/"
        },
        "id": "5_ER1CYB6252",
        "outputId": "c9055dfb-c0dd-452e-cacb-0aa374912351"
      },
      "execution_count": null,
      "outputs": [
        {
          "output_type": "execute_result",
          "data": {
            "text/plain": [
              "0.8091254953788906"
            ]
          },
          "metadata": {},
          "execution_count": 3
        }
      ]
    },
    {
      "cell_type": "markdown",
      "source": [
        "**Segundo Condicional : X <= 5**"
      ],
      "metadata": {
        "id": "8J95Twhv_fD5"
      }
    },
    {
      "cell_type": "code",
      "source": [
        "proe1 = [1]\n",
        "proe2 = [1/4,3/4]\n",
        "\n",
        "\n",
        "entro1 = entropia(proe1)\n",
        "entro2 = entropia(proe2)\n",
        "\n",
        "entro_total = (2/6)*entro1 + (4/6)*entro2\n",
        "entro_total"
      ],
      "metadata": {
        "colab": {
          "base_uri": "https://localhost:8080/"
        },
        "id": "bltTIhg5_XUJ",
        "outputId": "98e9fbd8-2f00-4808-ee81-1b4355ed567a"
      },
      "execution_count": null,
      "outputs": [
        {
          "output_type": "execute_result",
          "data": {
            "text/plain": [
              "0.5408520829727552"
            ]
          },
          "metadata": {},
          "execution_count": 4
        }
      ]
    },
    {
      "cell_type": "markdown",
      "source": [
        "**Tercer Condicional: X <= 7**"
      ],
      "metadata": {
        "id": "d6bCpPw2_gnJ"
      }
    },
    {
      "cell_type": "code",
      "source": [
        "proe1 = [2/3,1/3]\n",
        "proe2 = [1/3,2/3]\n",
        "\n",
        "\n",
        "entro1 = entropia(proe1)\n",
        "entro2 = entropia(proe2)\n",
        "\n",
        "entro_total = (3/6)*entro1 + (3/6)*entro2\n",
        "entro_total"
      ],
      "metadata": {
        "colab": {
          "base_uri": "https://localhost:8080/"
        },
        "id": "nyjjaTB5_XlA",
        "outputId": "7501929f-8efe-4261-e90e-b2f075f19a5f"
      },
      "execution_count": null,
      "outputs": [
        {
          "output_type": "execute_result",
          "data": {
            "text/plain": [
              "0.9182958340544896"
            ]
          },
          "metadata": {},
          "execution_count": 5
        }
      ]
    },
    {
      "cell_type": "markdown",
      "source": [
        "**Cuarto Condicional: X <= 9**"
      ],
      "metadata": {
        "id": "erRJ-n6L_iQQ"
      }
    },
    {
      "cell_type": "code",
      "source": [
        "proe1 = [1/2,1/2]\n",
        "proe2 = [1/2,1/2]\n",
        "\n",
        "\n",
        "entro1 = entropia(proe1)\n",
        "entro2 = entropia(proe2)\n",
        "\n",
        "entro_total = (4/6)*entro1 + (2/6)*entro2\n",
        "entro_total"
      ],
      "metadata": {
        "colab": {
          "base_uri": "https://localhost:8080/"
        },
        "id": "Fl63zMko_X_5",
        "outputId": "dd240b1d-990b-418e-a7aa-d9f21fc89abb"
      },
      "execution_count": null,
      "outputs": [
        {
          "output_type": "execute_result",
          "data": {
            "text/plain": [
              "1.0"
            ]
          },
          "metadata": {},
          "execution_count": 6
        }
      ]
    },
    {
      "cell_type": "markdown",
      "source": [
        "**Quinto Condicional: X1 <= 11**"
      ],
      "metadata": {
        "id": "ZvkgGaya_kEo"
      }
    },
    {
      "cell_type": "code",
      "source": [
        "proe1 = [2/5,3/5]\n",
        "proe2 = [1]\n",
        "\n",
        "\n",
        "entro1 = entropia(proe1)\n",
        "entro2 = entropia(proe2)\n",
        "\n",
        "entro_total = (5/6)*entro1 + (1/6)*entro2\n",
        "entro_total"
      ],
      "metadata": {
        "colab": {
          "base_uri": "https://localhost:8080/"
        },
        "id": "wkq1w6Cx_YK5",
        "outputId": "95b3a8a8-5b62-4113-cf9c-acb7470253c4"
      },
      "execution_count": null,
      "outputs": [
        {
          "output_type": "execute_result",
          "data": {
            "text/plain": [
              "0.8091254953788906"
            ]
          },
          "metadata": {},
          "execution_count": 7
        }
      ]
    },
    {
      "cell_type": "markdown",
      "source": [
        "RESPUESTA: La mejor entropia es la del condicional 2"
      ],
      "metadata": {
        "id": "Ya72K1j7Crnh"
      }
    }
  ],
  "metadata": {
    "colab": {
      "provenance": []
    },
    "kernelspec": {
      "display_name": "Python 3",
      "name": "python3"
    }
  },
  "nbformat": 4,
  "nbformat_minor": 0
}