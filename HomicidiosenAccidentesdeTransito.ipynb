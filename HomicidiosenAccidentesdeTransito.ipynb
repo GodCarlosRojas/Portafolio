{
  "nbformat": 4,
  "nbformat_minor": 0,
  "metadata": {
    "colab": {
      "provenance": [],
      "collapsed_sections": [
        "LqDLNcMwOMtO",
        "aDC_lhZLKbWT",
        "N5-gAFP10W45",
        "FVDRBfXkL-eP"
      ]
    },
    "kernelspec": {
      "name": "python3",
      "display_name": "Python 3"
    },
    "language_info": {
      "name": "python"
    }
  },
  "cells": [
    {
      "cell_type": "markdown",
      "source": [
        "Enlace a repositorio: https://github.com/GodCarlosRojas/HPC3FINAL\n",
        "\n",
        "Las lineas de codigo estan en celdas ocultas, esto debido a que se quiere entregar este cuaderno con la mayor presentación posible, para ver el codigo oprimir la opción de # celdas ocultas"
      ],
      "metadata": {
        "id": "JAZgJBXMN3n9"
      }
    },
    {
      "cell_type": "markdown",
      "source": [
        "# **0. Introducción de contexto**\n",
        "Del siguiente laboratorio se busca crear un modelo de regresion lineal para un dataset de 64118 registros extraido de Datos Abiertos, el dataset corresponde a casos de accidentes de transito que ah habido desde 2010. Su modelo de regresion se basara en predecir el numero de muertos que habra en x fecha determinada. Por ej: Cuantos muertos por accidentes de transito habra el 24 de diciembre de 2022."
      ],
      "metadata": {
        "id": "LqDLNcMwOMtO"
      }
    },
    {
      "cell_type": "code",
      "execution_count": null,
      "metadata": {
        "id": "6OmbpRgVELUZ",
        "colab": {
          "base_uri": "https://localhost:8080/"
        },
        "outputId": "1add9dec-56d8-4ebb-bda4-0738b28f1e86"
      },
      "outputs": [
        {
          "output_type": "stream",
          "name": "stdout",
          "text": [
            "Looking in indexes: https://pypi.org/simple, https://us-python.pkg.dev/colab-wheels/public/simple/\n",
            "Collecting sqldf\n",
            "  Downloading sqldf-0.4.2-py3-none-any.whl (4.3 kB)\n",
            "Installing collected packages: sqldf\n",
            "Successfully installed sqldf-0.4.2\n"
          ]
        }
      ],
      "source": [
        "import pandas as pd\n",
        "import numpy as np\n",
        "import seaborn as sns\n",
        "import datetime\n",
        "from sklearn.linear_model import LogisticRegression\n",
        "import matplotlib.pyplot as plt\n",
        "!pip install sqldf\n",
        "import sqldf"
      ]
    },
    {
      "cell_type": "code",
      "source": [
        "#Se requiere importar el Data set, en este caso el dataset es  de que cantidad de homicidios en\n",
        "# accidentes de transito hay por dia desde el 2010 entra mujeres y hombre por fech\n",
        "url = 'https://raw.githubusercontent.com/GodCarlosRojas/datosabiertos/main/Homicidios_accidente_de_tr_nsito_Polic_a_Nacional.csv'\n",
        "SF = df_homi = pd.read_csv(url)"
      ],
      "metadata": {
        "id": "mL5nbzihEOZr"
      },
      "execution_count": null,
      "outputs": []
    },
    {
      "cell_type": "code",
      "source": [
        "SF"
      ],
      "metadata": {
        "id": "up309F5XGEfC",
        "colab": {
          "base_uri": "https://localhost:8080/",
          "height": 424
        },
        "outputId": "de904546-8a0f-4b99-bbe6-9dd7aba03201"
      },
      "execution_count": null,
      "outputs": [
        {
          "output_type": "execute_result",
          "data": {
            "text/plain": [
              "      DEPARTAMENTO            MUNICIPIO  CODIGO DANE ARMAS MEDIOS FECHA HECHO  \\\n",
              "0        ANTIOQUIA              LA CEJA      5376000         MOTO   1/01/2010   \n",
              "1        ATLÁNTICO    BARRANQUILLA (CT)      8001000         MOTO   1/01/2010   \n",
              "2        ATLÁNTICO              LURUACO      8421000         MOTO   1/01/2010   \n",
              "3          CAQUETÁ          PUERTO RICO     18592000         MOTO   1/01/2010   \n",
              "4         CASANARE              AGUAZUL     85010000         MOTO   1/01/2010   \n",
              "...            ...                  ...          ...          ...         ...   \n",
              "64113        VALLE  GUADALAJARA DE BUGA     76111000   NO REPORTA  15/07/2022   \n",
              "64114        VALLE          LA VICTORIA     76403000   NO REPORTA  16/07/2022   \n",
              "64115        VALLE              PALMIRA     76520000   NO REPORTA  06/02/2022   \n",
              "64116        VALLE              PALMIRA     76520000   NO REPORTA  13/02/2022   \n",
              "64117      VICHADA  PUERTO CARREÑO (CT)     99001000   NO REPORTA  24/07/2022   \n",
              "\n",
              "          GENERO  GRUPO ETARÍO  \\\n",
              "0      MASCULINO       ADULTOS   \n",
              "1       FEMENINO       ADULTOS   \n",
              "2      MASCULINO       ADULTOS   \n",
              "3      MASCULINO  ADOLESCENTES   \n",
              "4      MASCULINO       ADULTOS   \n",
              "...          ...           ...   \n",
              "64113  MASCULINO       ADULTOS   \n",
              "64114   FEMENINO       ADULTOS   \n",
              "64115   FEMENINO       ADULTOS   \n",
              "64116  MASCULINO       ADULTOS   \n",
              "64117  MASCULINO       ADULTOS   \n",
              "\n",
              "                                    DESCRIPCIÓN CONDUCTA  CANTIDAD  \n",
              "0      ARTÍCULO 109. HOMICIDIO CULPOSO ( EN ACCIDENTE...         1  \n",
              "1      ARTÍCULO 109. HOMICIDIO CULPOSO ( EN ACCIDENTE...         1  \n",
              "2      ARTÍCULO 109. HOMICIDIO CULPOSO ( EN ACCIDENTE...         1  \n",
              "3      ARTÍCULO 109. HOMICIDIO CULPOSO ( EN ACCIDENTE...         1  \n",
              "4      ARTÍCULO 109. HOMICIDIO CULPOSO ( EN ACCIDENTE...         1  \n",
              "...                                                  ...       ...  \n",
              "64113  ARTÍCULO 109. HOMICIDIO CULPOSO ( EN ACCIDENTE...         1  \n",
              "64114  ARTÍCULO 109. HOMICIDIO CULPOSO ( EN ACCIDENTE...         1  \n",
              "64115  ARTÍCULO 109. HOMICIDIO CULPOSO ( EN ACCIDENTE...         1  \n",
              "64116  ARTÍCULO 109. HOMICIDIO CULPOSO ( EN ACCIDENTE...         1  \n",
              "64117  ARTÍCULO 109. HOMICIDIO CULPOSO ( EN ACCIDENTE...         1  \n",
              "\n",
              "[64118 rows x 9 columns]"
            ],
            "text/html": [
              "\n",
              "  <div id=\"df-b768c0bb-7b78-4dd3-a84b-b1bbb6027532\">\n",
              "    <div class=\"colab-df-container\">\n",
              "      <div>\n",
              "<style scoped>\n",
              "    .dataframe tbody tr th:only-of-type {\n",
              "        vertical-align: middle;\n",
              "    }\n",
              "\n",
              "    .dataframe tbody tr th {\n",
              "        vertical-align: top;\n",
              "    }\n",
              "\n",
              "    .dataframe thead th {\n",
              "        text-align: right;\n",
              "    }\n",
              "</style>\n",
              "<table border=\"1\" class=\"dataframe\">\n",
              "  <thead>\n",
              "    <tr style=\"text-align: right;\">\n",
              "      <th></th>\n",
              "      <th>DEPARTAMENTO</th>\n",
              "      <th>MUNICIPIO</th>\n",
              "      <th>CODIGO DANE</th>\n",
              "      <th>ARMAS MEDIOS</th>\n",
              "      <th>FECHA HECHO</th>\n",
              "      <th>GENERO</th>\n",
              "      <th>GRUPO ETARÍO</th>\n",
              "      <th>DESCRIPCIÓN CONDUCTA</th>\n",
              "      <th>CANTIDAD</th>\n",
              "    </tr>\n",
              "  </thead>\n",
              "  <tbody>\n",
              "    <tr>\n",
              "      <th>0</th>\n",
              "      <td>ANTIOQUIA</td>\n",
              "      <td>LA CEJA</td>\n",
              "      <td>5376000</td>\n",
              "      <td>MOTO</td>\n",
              "      <td>1/01/2010</td>\n",
              "      <td>MASCULINO</td>\n",
              "      <td>ADULTOS</td>\n",
              "      <td>ARTÍCULO 109. HOMICIDIO CULPOSO ( EN ACCIDENTE...</td>\n",
              "      <td>1</td>\n",
              "    </tr>\n",
              "    <tr>\n",
              "      <th>1</th>\n",
              "      <td>ATLÁNTICO</td>\n",
              "      <td>BARRANQUILLA (CT)</td>\n",
              "      <td>8001000</td>\n",
              "      <td>MOTO</td>\n",
              "      <td>1/01/2010</td>\n",
              "      <td>FEMENINO</td>\n",
              "      <td>ADULTOS</td>\n",
              "      <td>ARTÍCULO 109. HOMICIDIO CULPOSO ( EN ACCIDENTE...</td>\n",
              "      <td>1</td>\n",
              "    </tr>\n",
              "    <tr>\n",
              "      <th>2</th>\n",
              "      <td>ATLÁNTICO</td>\n",
              "      <td>LURUACO</td>\n",
              "      <td>8421000</td>\n",
              "      <td>MOTO</td>\n",
              "      <td>1/01/2010</td>\n",
              "      <td>MASCULINO</td>\n",
              "      <td>ADULTOS</td>\n",
              "      <td>ARTÍCULO 109. HOMICIDIO CULPOSO ( EN ACCIDENTE...</td>\n",
              "      <td>1</td>\n",
              "    </tr>\n",
              "    <tr>\n",
              "      <th>3</th>\n",
              "      <td>CAQUETÁ</td>\n",
              "      <td>PUERTO RICO</td>\n",
              "      <td>18592000</td>\n",
              "      <td>MOTO</td>\n",
              "      <td>1/01/2010</td>\n",
              "      <td>MASCULINO</td>\n",
              "      <td>ADOLESCENTES</td>\n",
              "      <td>ARTÍCULO 109. HOMICIDIO CULPOSO ( EN ACCIDENTE...</td>\n",
              "      <td>1</td>\n",
              "    </tr>\n",
              "    <tr>\n",
              "      <th>4</th>\n",
              "      <td>CASANARE</td>\n",
              "      <td>AGUAZUL</td>\n",
              "      <td>85010000</td>\n",
              "      <td>MOTO</td>\n",
              "      <td>1/01/2010</td>\n",
              "      <td>MASCULINO</td>\n",
              "      <td>ADULTOS</td>\n",
              "      <td>ARTÍCULO 109. HOMICIDIO CULPOSO ( EN ACCIDENTE...</td>\n",
              "      <td>1</td>\n",
              "    </tr>\n",
              "    <tr>\n",
              "      <th>...</th>\n",
              "      <td>...</td>\n",
              "      <td>...</td>\n",
              "      <td>...</td>\n",
              "      <td>...</td>\n",
              "      <td>...</td>\n",
              "      <td>...</td>\n",
              "      <td>...</td>\n",
              "      <td>...</td>\n",
              "      <td>...</td>\n",
              "    </tr>\n",
              "    <tr>\n",
              "      <th>64113</th>\n",
              "      <td>VALLE</td>\n",
              "      <td>GUADALAJARA DE BUGA</td>\n",
              "      <td>76111000</td>\n",
              "      <td>NO REPORTA</td>\n",
              "      <td>15/07/2022</td>\n",
              "      <td>MASCULINO</td>\n",
              "      <td>ADULTOS</td>\n",
              "      <td>ARTÍCULO 109. HOMICIDIO CULPOSO ( EN ACCIDENTE...</td>\n",
              "      <td>1</td>\n",
              "    </tr>\n",
              "    <tr>\n",
              "      <th>64114</th>\n",
              "      <td>VALLE</td>\n",
              "      <td>LA VICTORIA</td>\n",
              "      <td>76403000</td>\n",
              "      <td>NO REPORTA</td>\n",
              "      <td>16/07/2022</td>\n",
              "      <td>FEMENINO</td>\n",
              "      <td>ADULTOS</td>\n",
              "      <td>ARTÍCULO 109. HOMICIDIO CULPOSO ( EN ACCIDENTE...</td>\n",
              "      <td>1</td>\n",
              "    </tr>\n",
              "    <tr>\n",
              "      <th>64115</th>\n",
              "      <td>VALLE</td>\n",
              "      <td>PALMIRA</td>\n",
              "      <td>76520000</td>\n",
              "      <td>NO REPORTA</td>\n",
              "      <td>06/02/2022</td>\n",
              "      <td>FEMENINO</td>\n",
              "      <td>ADULTOS</td>\n",
              "      <td>ARTÍCULO 109. HOMICIDIO CULPOSO ( EN ACCIDENTE...</td>\n",
              "      <td>1</td>\n",
              "    </tr>\n",
              "    <tr>\n",
              "      <th>64116</th>\n",
              "      <td>VALLE</td>\n",
              "      <td>PALMIRA</td>\n",
              "      <td>76520000</td>\n",
              "      <td>NO REPORTA</td>\n",
              "      <td>13/02/2022</td>\n",
              "      <td>MASCULINO</td>\n",
              "      <td>ADULTOS</td>\n",
              "      <td>ARTÍCULO 109. HOMICIDIO CULPOSO ( EN ACCIDENTE...</td>\n",
              "      <td>1</td>\n",
              "    </tr>\n",
              "    <tr>\n",
              "      <th>64117</th>\n",
              "      <td>VICHADA</td>\n",
              "      <td>PUERTO CARREÑO (CT)</td>\n",
              "      <td>99001000</td>\n",
              "      <td>NO REPORTA</td>\n",
              "      <td>24/07/2022</td>\n",
              "      <td>MASCULINO</td>\n",
              "      <td>ADULTOS</td>\n",
              "      <td>ARTÍCULO 109. HOMICIDIO CULPOSO ( EN ACCIDENTE...</td>\n",
              "      <td>1</td>\n",
              "    </tr>\n",
              "  </tbody>\n",
              "</table>\n",
              "<p>64118 rows × 9 columns</p>\n",
              "</div>\n",
              "      <button class=\"colab-df-convert\" onclick=\"convertToInteractive('df-b768c0bb-7b78-4dd3-a84b-b1bbb6027532')\"\n",
              "              title=\"Convert this dataframe to an interactive table.\"\n",
              "              style=\"display:none;\">\n",
              "        \n",
              "  <svg xmlns=\"http://www.w3.org/2000/svg\" height=\"24px\"viewBox=\"0 0 24 24\"\n",
              "       width=\"24px\">\n",
              "    <path d=\"M0 0h24v24H0V0z\" fill=\"none\"/>\n",
              "    <path d=\"M18.56 5.44l.94 2.06.94-2.06 2.06-.94-2.06-.94-.94-2.06-.94 2.06-2.06.94zm-11 1L8.5 8.5l.94-2.06 2.06-.94-2.06-.94L8.5 2.5l-.94 2.06-2.06.94zm10 10l.94 2.06.94-2.06 2.06-.94-2.06-.94-.94-2.06-.94 2.06-2.06.94z\"/><path d=\"M17.41 7.96l-1.37-1.37c-.4-.4-.92-.59-1.43-.59-.52 0-1.04.2-1.43.59L10.3 9.45l-7.72 7.72c-.78.78-.78 2.05 0 2.83L4 21.41c.39.39.9.59 1.41.59.51 0 1.02-.2 1.41-.59l7.78-7.78 2.81-2.81c.8-.78.8-2.07 0-2.86zM5.41 20L4 18.59l7.72-7.72 1.47 1.35L5.41 20z\"/>\n",
              "  </svg>\n",
              "      </button>\n",
              "      \n",
              "  <style>\n",
              "    .colab-df-container {\n",
              "      display:flex;\n",
              "      flex-wrap:wrap;\n",
              "      gap: 12px;\n",
              "    }\n",
              "\n",
              "    .colab-df-convert {\n",
              "      background-color: #E8F0FE;\n",
              "      border: none;\n",
              "      border-radius: 50%;\n",
              "      cursor: pointer;\n",
              "      display: none;\n",
              "      fill: #1967D2;\n",
              "      height: 32px;\n",
              "      padding: 0 0 0 0;\n",
              "      width: 32px;\n",
              "    }\n",
              "\n",
              "    .colab-df-convert:hover {\n",
              "      background-color: #E2EBFA;\n",
              "      box-shadow: 0px 1px 2px rgba(60, 64, 67, 0.3), 0px 1px 3px 1px rgba(60, 64, 67, 0.15);\n",
              "      fill: #174EA6;\n",
              "    }\n",
              "\n",
              "    [theme=dark] .colab-df-convert {\n",
              "      background-color: #3B4455;\n",
              "      fill: #D2E3FC;\n",
              "    }\n",
              "\n",
              "    [theme=dark] .colab-df-convert:hover {\n",
              "      background-color: #434B5C;\n",
              "      box-shadow: 0px 1px 3px 1px rgba(0, 0, 0, 0.15);\n",
              "      filter: drop-shadow(0px 1px 2px rgba(0, 0, 0, 0.3));\n",
              "      fill: #FFFFFF;\n",
              "    }\n",
              "  </style>\n",
              "\n",
              "      <script>\n",
              "        const buttonEl =\n",
              "          document.querySelector('#df-b768c0bb-7b78-4dd3-a84b-b1bbb6027532 button.colab-df-convert');\n",
              "        buttonEl.style.display =\n",
              "          google.colab.kernel.accessAllowed ? 'block' : 'none';\n",
              "\n",
              "        async function convertToInteractive(key) {\n",
              "          const element = document.querySelector('#df-b768c0bb-7b78-4dd3-a84b-b1bbb6027532');\n",
              "          const dataTable =\n",
              "            await google.colab.kernel.invokeFunction('convertToInteractive',\n",
              "                                                     [key], {});\n",
              "          if (!dataTable) return;\n",
              "\n",
              "          const docLinkHtml = 'Like what you see? Visit the ' +\n",
              "            '<a target=\"_blank\" href=https://colab.research.google.com/notebooks/data_table.ipynb>data table notebook</a>'\n",
              "            + ' to learn more about interactive tables.';\n",
              "          element.innerHTML = '';\n",
              "          dataTable['output_type'] = 'display_data';\n",
              "          await google.colab.output.renderOutput(dataTable, element);\n",
              "          const docLink = document.createElement('div');\n",
              "          docLink.innerHTML = docLinkHtml;\n",
              "          element.appendChild(docLink);\n",
              "        }\n",
              "      </script>\n",
              "    </div>\n",
              "  </div>\n",
              "  "
            ]
          },
          "metadata": {},
          "execution_count": 3
        }
      ]
    },
    {
      "cell_type": "code",
      "source": [
        "# Se cuenta cuatnas filas posee el dataset, en este caso posee 64118 Registros\n",
        "len(SF)"
      ],
      "metadata": {
        "colab": {
          "base_uri": "https://localhost:8080/"
        },
        "id": "IsZU4JCdHY6K",
        "outputId": "91c68c95-800f-412e-ff6f-5866a9633fca"
      },
      "execution_count": null,
      "outputs": [
        {
          "output_type": "execute_result",
          "data": {
            "text/plain": [
              "64118"
            ]
          },
          "metadata": {},
          "execution_count": 4
        }
      ]
    },
    {
      "cell_type": "markdown",
      "source": [
        "**EDA-INTRODUCTORIO**\n",
        "\n",
        "- Se realizar un modelo de prediccion, esto tomando el 20% de datos para su entrenamiento, para al final concluir que comportamiento se obtuvo y calificar que tan bueno o que tan malo fue el modelo\n",
        "\n",
        "- Se buscara que relacion tienen los resultados en QT para comprobar si el modelo realizado en clase es correcto o  no, y de la misma manera evaluar el comportamiento que este posee al cambiar los datos que recibe de entrenamiento\n",
        "\n",
        "- El dataset  trabaja con datos tipo fecha, por lo cual no es necesario realizar normalizacion ni ezcalar los datos, y asi, aplicar la regresion lineal del dataset, pero, ¿sera posible que esta normalizacion aplique de forma correcta la regresion lineal y se ajuste de forma precisa al dataset?, al igual que ¿Ajusta correctamente el gradiente descendiente para encontrar los minimos verdaderos de la funcion?"
      ],
      "metadata": {
        "id": "iBhA922tKDrw"
      }
    },
    {
      "cell_type": "markdown",
      "source": [
        "# **1. Limpiar Datos**\n",
        "Se ajustara el dattaset para dejar solo los datos que se creen convenientes para el analisis, y asi crear su modelo de aprendizaje, para luego poder predecir"
      ],
      "metadata": {
        "id": "aDC_lhZLKbWT"
      }
    },
    {
      "cell_type": "code",
      "source": [
        "# Se requiere limpiar las columnas innecesarias para el analisis del dataset\n",
        "SF = SF.drop('DESCRIPCIÓN CONDUCTA', axis=1)\n",
        "SF = SF.drop('CODIGO DANE', axis=1)\n",
        "SF = SF.drop('MUNICIPIO', axis=1)\n",
        "SF = SF.drop('ARMAS MEDIOS', axis=1)\n",
        "SF = SF.drop('GRUPO ETARÍO', axis=1)\n",
        "SF = SF.drop('DEPARTAMENTO',axis=1)"
      ],
      "metadata": {
        "id": "IL3NSUtHGJ7i"
      },
      "execution_count": null,
      "outputs": []
    },
    {
      "cell_type": "code",
      "source": [
        "#Se comprueba si hay valores NaN, en este caso se evidencia que no hay datos NaN\n",
        "SF.info()"
      ],
      "metadata": {
        "colab": {
          "base_uri": "https://localhost:8080/"
        },
        "id": "ZJhN473nHKxL",
        "outputId": "857be279-7787-484f-8bd1-0385f74bf6ec"
      },
      "execution_count": null,
      "outputs": [
        {
          "output_type": "stream",
          "name": "stdout",
          "text": [
            "<class 'pandas.core.frame.DataFrame'>\n",
            "RangeIndex: 64118 entries, 0 to 64117\n",
            "Data columns (total 3 columns):\n",
            " #   Column       Non-Null Count  Dtype \n",
            "---  ------       --------------  ----- \n",
            " 0   FECHA HECHO  64118 non-null  object\n",
            " 1   GENERO       64118 non-null  object\n",
            " 2   CANTIDAD     64118 non-null  int64 \n",
            "dtypes: int64(1), object(2)\n",
            "memory usage: 1.5+ MB\n"
          ]
        }
      ]
    },
    {
      "cell_type": "code",
      "source": [
        "SF"
      ],
      "metadata": {
        "colab": {
          "base_uri": "https://localhost:8080/"
        },
        "id": "D37-_AVu2SRJ",
        "outputId": "51dcde93-dd71-4192-9bf7-02c2bd3910c2"
      },
      "execution_count": null,
      "outputs": [
        {
          "output_type": "execute_result",
          "data": {
            "text/plain": [
              "      FECHA HECHO     GENERO  CANTIDAD\n",
              "0       1/01/2010  MASCULINO         1\n",
              "1       1/01/2010   FEMENINO         1\n",
              "2       1/01/2010  MASCULINO         1\n",
              "3       1/01/2010  MASCULINO         1\n",
              "4       1/01/2010  MASCULINO         1\n",
              "...           ...        ...       ...\n",
              "64113  15/07/2022  MASCULINO         1\n",
              "64114  16/07/2022   FEMENINO         1\n",
              "64115  06/02/2022   FEMENINO         1\n",
              "64116  13/02/2022  MASCULINO         1\n",
              "64117  24/07/2022  MASCULINO         1\n",
              "\n",
              "[64118 rows x 3 columns]"
            ],
            "text/html": [
              "\n",
              "  <div id=\"df-1359b0ff-c984-474b-987b-c8b755b98564\">\n",
              "    <div class=\"colab-df-container\">\n",
              "      <div>\n",
              "<style scoped>\n",
              "    .dataframe tbody tr th:only-of-type {\n",
              "        vertical-align: middle;\n",
              "    }\n",
              "\n",
              "    .dataframe tbody tr th {\n",
              "        vertical-align: top;\n",
              "    }\n",
              "\n",
              "    .dataframe thead th {\n",
              "        text-align: right;\n",
              "    }\n",
              "</style>\n",
              "<table border=\"1\" class=\"dataframe\">\n",
              "  <thead>\n",
              "    <tr style=\"text-align: right;\">\n",
              "      <th></th>\n",
              "      <th>FECHA HECHO</th>\n",
              "      <th>GENERO</th>\n",
              "      <th>CANTIDAD</th>\n",
              "    </tr>\n",
              "  </thead>\n",
              "  <tbody>\n",
              "    <tr>\n",
              "      <th>0</th>\n",
              "      <td>1/01/2010</td>\n",
              "      <td>MASCULINO</td>\n",
              "      <td>1</td>\n",
              "    </tr>\n",
              "    <tr>\n",
              "      <th>1</th>\n",
              "      <td>1/01/2010</td>\n",
              "      <td>FEMENINO</td>\n",
              "      <td>1</td>\n",
              "    </tr>\n",
              "    <tr>\n",
              "      <th>2</th>\n",
              "      <td>1/01/2010</td>\n",
              "      <td>MASCULINO</td>\n",
              "      <td>1</td>\n",
              "    </tr>\n",
              "    <tr>\n",
              "      <th>3</th>\n",
              "      <td>1/01/2010</td>\n",
              "      <td>MASCULINO</td>\n",
              "      <td>1</td>\n",
              "    </tr>\n",
              "    <tr>\n",
              "      <th>4</th>\n",
              "      <td>1/01/2010</td>\n",
              "      <td>MASCULINO</td>\n",
              "      <td>1</td>\n",
              "    </tr>\n",
              "    <tr>\n",
              "      <th>...</th>\n",
              "      <td>...</td>\n",
              "      <td>...</td>\n",
              "      <td>...</td>\n",
              "    </tr>\n",
              "    <tr>\n",
              "      <th>64113</th>\n",
              "      <td>15/07/2022</td>\n",
              "      <td>MASCULINO</td>\n",
              "      <td>1</td>\n",
              "    </tr>\n",
              "    <tr>\n",
              "      <th>64114</th>\n",
              "      <td>16/07/2022</td>\n",
              "      <td>FEMENINO</td>\n",
              "      <td>1</td>\n",
              "    </tr>\n",
              "    <tr>\n",
              "      <th>64115</th>\n",
              "      <td>06/02/2022</td>\n",
              "      <td>FEMENINO</td>\n",
              "      <td>1</td>\n",
              "    </tr>\n",
              "    <tr>\n",
              "      <th>64116</th>\n",
              "      <td>13/02/2022</td>\n",
              "      <td>MASCULINO</td>\n",
              "      <td>1</td>\n",
              "    </tr>\n",
              "    <tr>\n",
              "      <th>64117</th>\n",
              "      <td>24/07/2022</td>\n",
              "      <td>MASCULINO</td>\n",
              "      <td>1</td>\n",
              "    </tr>\n",
              "  </tbody>\n",
              "</table>\n",
              "<p>64118 rows × 3 columns</p>\n",
              "</div>\n",
              "      <button class=\"colab-df-convert\" onclick=\"convertToInteractive('df-1359b0ff-c984-474b-987b-c8b755b98564')\"\n",
              "              title=\"Convert this dataframe to an interactive table.\"\n",
              "              style=\"display:none;\">\n",
              "        \n",
              "  <svg xmlns=\"http://www.w3.org/2000/svg\" height=\"24px\"viewBox=\"0 0 24 24\"\n",
              "       width=\"24px\">\n",
              "    <path d=\"M0 0h24v24H0V0z\" fill=\"none\"/>\n",
              "    <path d=\"M18.56 5.44l.94 2.06.94-2.06 2.06-.94-2.06-.94-.94-2.06-.94 2.06-2.06.94zm-11 1L8.5 8.5l.94-2.06 2.06-.94-2.06-.94L8.5 2.5l-.94 2.06-2.06.94zm10 10l.94 2.06.94-2.06 2.06-.94-2.06-.94-.94-2.06-.94 2.06-2.06.94z\"/><path d=\"M17.41 7.96l-1.37-1.37c-.4-.4-.92-.59-1.43-.59-.52 0-1.04.2-1.43.59L10.3 9.45l-7.72 7.72c-.78.78-.78 2.05 0 2.83L4 21.41c.39.39.9.59 1.41.59.51 0 1.02-.2 1.41-.59l7.78-7.78 2.81-2.81c.8-.78.8-2.07 0-2.86zM5.41 20L4 18.59l7.72-7.72 1.47 1.35L5.41 20z\"/>\n",
              "  </svg>\n",
              "      </button>\n",
              "      \n",
              "  <style>\n",
              "    .colab-df-container {\n",
              "      display:flex;\n",
              "      flex-wrap:wrap;\n",
              "      gap: 12px;\n",
              "    }\n",
              "\n",
              "    .colab-df-convert {\n",
              "      background-color: #E8F0FE;\n",
              "      border: none;\n",
              "      border-radius: 50%;\n",
              "      cursor: pointer;\n",
              "      display: none;\n",
              "      fill: #1967D2;\n",
              "      height: 32px;\n",
              "      padding: 0 0 0 0;\n",
              "      width: 32px;\n",
              "    }\n",
              "\n",
              "    .colab-df-convert:hover {\n",
              "      background-color: #E2EBFA;\n",
              "      box-shadow: 0px 1px 2px rgba(60, 64, 67, 0.3), 0px 1px 3px 1px rgba(60, 64, 67, 0.15);\n",
              "      fill: #174EA6;\n",
              "    }\n",
              "\n",
              "    [theme=dark] .colab-df-convert {\n",
              "      background-color: #3B4455;\n",
              "      fill: #D2E3FC;\n",
              "    }\n",
              "\n",
              "    [theme=dark] .colab-df-convert:hover {\n",
              "      background-color: #434B5C;\n",
              "      box-shadow: 0px 1px 3px 1px rgba(0, 0, 0, 0.15);\n",
              "      filter: drop-shadow(0px 1px 2px rgba(0, 0, 0, 0.3));\n",
              "      fill: #FFFFFF;\n",
              "    }\n",
              "  </style>\n",
              "\n",
              "      <script>\n",
              "        const buttonEl =\n",
              "          document.querySelector('#df-1359b0ff-c984-474b-987b-c8b755b98564 button.colab-df-convert');\n",
              "        buttonEl.style.display =\n",
              "          google.colab.kernel.accessAllowed ? 'block' : 'none';\n",
              "\n",
              "        async function convertToInteractive(key) {\n",
              "          const element = document.querySelector('#df-1359b0ff-c984-474b-987b-c8b755b98564');\n",
              "          const dataTable =\n",
              "            await google.colab.kernel.invokeFunction('convertToInteractive',\n",
              "                                                     [key], {});\n",
              "          if (!dataTable) return;\n",
              "\n",
              "          const docLinkHtml = 'Like what you see? Visit the ' +\n",
              "            '<a target=\"_blank\" href=https://colab.research.google.com/notebooks/data_table.ipynb>data table notebook</a>'\n",
              "            + ' to learn more about interactive tables.';\n",
              "          element.innerHTML = '';\n",
              "          dataTable['output_type'] = 'display_data';\n",
              "          await google.colab.output.renderOutput(dataTable, element);\n",
              "          const docLink = document.createElement('div');\n",
              "          docLink.innerHTML = docLinkHtml;\n",
              "          element.appendChild(docLink);\n",
              "        }\n",
              "      </script>\n",
              "    </div>\n",
              "  </div>\n",
              "  "
            ]
          },
          "metadata": {},
          "execution_count": 21
        }
      ]
    },
    {
      "cell_type": "code",
      "source": [
        "# Se reemplazan los valores NO REPORTA por NO REPORTADO, esto ya que hacen referencia a que no\n",
        "# hay reporte de el.\n",
        "SF.loc[SF['GENERO'] == 'NO REPORTA', 'GENERO'] = 'NO REPORTADO'"
      ],
      "metadata": {
        "id": "uvv421aiI0-S"
      },
      "execution_count": null,
      "outputs": []
    },
    {
      "cell_type": "code",
      "source": [
        "#Se eliminan las filas que en Genero no tengan masculino o femenino, para realizar de manera correcta las predicciones\n",
        "SF = SF.drop(SF[SF['GENERO']=='NO REPORTADO'].index)"
      ],
      "metadata": {
        "id": "VgGg_uZ_cEHV"
      },
      "execution_count": null,
      "outputs": []
    },
    {
      "cell_type": "code",
      "source": [
        "#Se requiere convertir el tipo de variables de las columnas\n",
        "SF['CANTIDAD'] = SF['CANTIDAD'].astype('int')\n",
        "SF['FECHA HECHO']= pd.to_datetime(SF['FECHA HECHO'])\n",
        "SF['FECHA HECHO'] = pd.to_datetime(SF['FECHA HECHO'], format='%m/%y/%d')"
      ],
      "metadata": {
        "id": "fyskqbLbOWBL"
      },
      "execution_count": null,
      "outputs": []
    },
    {
      "cell_type": "code",
      "source": [
        "SF.info()"
      ],
      "metadata": {
        "colab": {
          "base_uri": "https://localhost:8080/"
        },
        "id": "HRCdXp92ncin",
        "outputId": "63ba4481-64b6-46b7-8f25-5aaa9fb27d71"
      },
      "execution_count": null,
      "outputs": [
        {
          "output_type": "stream",
          "name": "stdout",
          "text": [
            "<class 'pandas.core.frame.DataFrame'>\n",
            "Int64Index: 64056 entries, 0 to 64117\n",
            "Data columns (total 3 columns):\n",
            " #   Column       Non-Null Count  Dtype         \n",
            "---  ------       --------------  -----         \n",
            " 0   FECHA HECHO  64056 non-null  datetime64[ns]\n",
            " 1   GENERO       64056 non-null  object        \n",
            " 2   CANTIDAD     64056 non-null  int64         \n",
            "dtypes: datetime64[ns](1), int64(1), object(1)\n",
            "memory usage: 2.0+ MB\n"
          ]
        }
      ]
    },
    {
      "cell_type": "code",
      "source": [
        "# Para hacer un mejor analisis, se trabaja con variables numericas para valorar el genero\n",
        "# 0 si es mujer, y 1 si es hombre\n",
        "SF['GENERO'] = SF['GENERO'].replace({\"MASCULINO\": 1, \"FEMENINO\": 0})\n",
        "SF['GENERO'] = SF['GENERO'].astype('int')"
      ],
      "metadata": {
        "id": "Yn1uDqOzcoLt"
      },
      "execution_count": null,
      "outputs": []
    },
    {
      "cell_type": "code",
      "source": [
        "# Luego de haber limpiado el dataset, quedaron 64118 registros\n",
        "len(SF)"
      ],
      "metadata": {
        "colab": {
          "base_uri": "https://localhost:8080/"
        },
        "id": "jZdmq9KuWT1t",
        "outputId": "64180887-a616-4fd0-a34f-5a179db655a9"
      },
      "execution_count": null,
      "outputs": [
        {
          "output_type": "execute_result",
          "data": {
            "text/plain": [
              "64056"
            ]
          },
          "metadata": {},
          "execution_count": 27
        }
      ]
    },
    {
      "cell_type": "code",
      "source": [
        "#Se requiere realizar la agrupacion de las muertes que hay por fecha, esto permite\n",
        "# realizar graficas coherentes, y asi realizar el modelo de aprendizaje de forma correcta\n",
        "SFN  = sqldf.run(\"select [FECHA HECHO],GENERO,  SUM(CANTIDAD) AS CANTIDAD FROM SF  GROUP BY [FECHA HECHO], GENERO \")"
      ],
      "metadata": {
        "colab": {
          "base_uri": "https://localhost:8080/"
        },
        "id": "80T9utOszxf2",
        "outputId": "76874099-a3b8-413c-e472-420e744f59ba"
      },
      "execution_count": null,
      "outputs": [
        {
          "output_type": "stream",
          "name": "stderr",
          "text": [
            "/usr/local/lib/python3.7/dist-packages/pandas/core/generic.py:2882: UserWarning: The spaces in these column names will not be changed. In pandas versions < 0.14, spaces were converted to underscores.\n",
            "  method=method,\n"
          ]
        }
      ]
    },
    {
      "cell_type": "markdown",
      "source": [
        "# **Observaciones de la limpieza de datos**\n",
        "Luego de haber limpiado el dataset, se descubre que habia 62 datos vacios, que a comparacion del dataset, que tenia 64118 registros, se concluye que el 0.09% de los registros estam vacios, lo que es algo insignificante, por lo cual no afecta al estudio"
      ],
      "metadata": {
        "id": "dHa_yD9lysJK"
      }
    },
    {
      "cell_type": "markdown",
      "source": [
        "# **2. Analisis estadisticos y graficas**\n",
        "Para realizar analisis estadisticos del dataset, esto se realizara mediante graficos, que explicaran comportamiento del mimso. Para esto se usara la libreria sqldf para realizar filtros y asi el analisis correspondiente"
      ],
      "metadata": {
        "id": "N5-gAFP10W45"
      }
    },
    {
      "cell_type": "code",
      "source": [
        "#Se crea una copia del dataset, esto para crear su analisis estadistico\n",
        "SFN_ESTADISTICA = SFN"
      ],
      "metadata": {
        "id": "Ck7wf1bO8e9p"
      },
      "execution_count": null,
      "outputs": []
    },
    {
      "cell_type": "code",
      "source": [
        "SFN_ESTADISTICA.info()\n",
        "SFN_ESTADISTICA['FECHA HECHO']= pd.to_datetime(SFN_ESTADISTICA['FECHA HECHO'])\n",
        "SFN_ESTADISTICA['FECHA HECHO'] = pd.to_datetime(SFN_ESTADISTICA['FECHA HECHO'], format='%m/%y/%d')"
      ],
      "metadata": {
        "colab": {
          "base_uri": "https://localhost:8080/"
        },
        "id": "FScEzVr-oqTu",
        "outputId": "4adc799d-5dc1-4ff7-a488-67db820a0254"
      },
      "execution_count": null,
      "outputs": [
        {
          "output_type": "stream",
          "name": "stdout",
          "text": [
            "<class 'pandas.core.frame.DataFrame'>\n",
            "RangeIndex: 8863 entries, 0 to 8862\n",
            "Data columns (total 3 columns):\n",
            " #   Column       Non-Null Count  Dtype \n",
            "---  ------       --------------  ----- \n",
            " 0   FECHA HECHO  8863 non-null   object\n",
            " 1   GENERO       8863 non-null   int64 \n",
            " 2   CANTIDAD     8863 non-null   int64 \n",
            "dtypes: int64(2), object(1)\n",
            "memory usage: 207.9+ KB\n"
          ]
        }
      ]
    },
    {
      "cell_type": "code",
      "source": [
        "#EDA Introductorio\n",
        "# La grafica representa cuales son los valores dependientes que se freceuntaron mas\n",
        "sns.distplot(SFN['CANTIDAD'])"
      ],
      "metadata": {
        "colab": {
          "base_uri": "https://localhost:8080/"
        },
        "id": "A0PWux75K3jO",
        "outputId": "e8d0a0de-fcb8-4246-975a-dc7eea0433a7"
      },
      "execution_count": null,
      "outputs": [
        {
          "output_type": "stream",
          "name": "stderr",
          "text": [
            "/usr/local/lib/python3.7/dist-packages/seaborn/distributions.py:2619: FutureWarning: `distplot` is a deprecated function and will be removed in a future version. Please adapt your code to use either `displot` (a figure-level function with similar flexibility) or `histplot` (an axes-level function for histograms).\n",
            "  warnings.warn(msg, FutureWarning)\n"
          ]
        },
        {
          "output_type": "execute_result",
          "data": {
            "text/plain": [
              "<matplotlib.axes._subplots.AxesSubplot at 0x7f7b65c58710>"
            ]
          },
          "metadata": {},
          "execution_count": 31
        },
        {
          "output_type": "display_data",
          "data": {
            "text/plain": [
              "<Figure size 432x288 with 1 Axes>"
            ],
            "image/png": "[encoded data removed]"
          },
          "metadata": {
            "needs_background": "light"
          }
        }
      ]
    },
    {
      "cell_type": "code",
      "source": [
        "#EDA introduccion\n",
        "# Graficas de la cantidad de datos que pose cada una de la columnas\n",
        "SFN_ESTADISTICA.hist(bins=35, figsize=(20,8), color='blue', alpha=1)\n",
        "plt.show()"
      ],
      "metadata": {
        "colab": {
          "base_uri": "https://localhost:8080/"
        },
        "id": "_8JUvsYMLEs-",
        "outputId": "e27ab328-86e1-460e-d939-1fa84575a018"
      },
      "execution_count": null,
      "outputs": [
        {
          "output_type": "display_data",
          "data": {
            "text/plain": [
              "<Figure size 1440x576 with 4 Axes>"
            ],
            "image/png": "[encoded data removed]"
          },
          "metadata": {
            "needs_background": "light"
          }
        }
      ]
    },
    {
      "cell_type": "code",
      "source": [
        "#Se separa el mes y el año de la fecha\n",
        "SFN_ESTADISTICA = SFN_ESTADISTICA.assign(YEAR=SFN_ESTADISTICA['FECHA HECHO'].dt.year )\n",
        "SFN_ESTADISTICA = SFN_ESTADISTICA.assign(MES=SFN_ESTADISTICA['FECHA HECHO'].dt.month )"
      ],
      "metadata": {
        "id": "Mu6lcs6Z8iUY"
      },
      "execution_count": null,
      "outputs": []
    },
    {
      "cell_type": "code",
      "source": [
        "#En este analisis estadistico la fecha no es necesario, se requiere eliminarla\n",
        "SFN_ESTADISTICA = SFN_ESTADISTICA.drop('FECHA HECHO', axis=1)"
      ],
      "metadata": {
        "id": "r4NWw96m-xgg"
      },
      "execution_count": null,
      "outputs": []
    },
    {
      "cell_type": "code",
      "source": [
        "#Se realiza el filtro por mes\n",
        "SFN_MES = sqldf.run(\"select MES, SUM(CANTIDAD) AS CANTIDAD FROM SFN_ESTADISTICA  GROUP BY MES \")"
      ],
      "metadata": {
        "id": "59-1WzMV_pLn"
      },
      "execution_count": null,
      "outputs": []
    },
    {
      "cell_type": "code",
      "source": [
        "SFN_MES"
      ],
      "metadata": {
        "id": "w8ZZ6TMxA1To",
        "colab": {
          "base_uri": "https://localhost:8080/"
        },
        "outputId": "ee5174f7-84e2-4b5e-fa8a-0426a88f2218"
      },
      "execution_count": null,
      "outputs": [
        {
          "output_type": "execute_result",
          "data": {
            "text/plain": [
              "    MES  CANTIDAD\n",
              "0     1      6667\n",
              "1     2      5716\n",
              "2     3      6380\n",
              "3     4      5803\n",
              "4     5      5820\n",
              "5     6      5704\n",
              "6     7      5987\n",
              "7     8      5682\n",
              "8     9      5444\n",
              "9    10      5622\n",
              "10   11      5443\n",
              "11   12      6038"
            ],
            "text/html": [
              "\n",
              "  <div id=\"df-6ed05593-b0ff-4178-9fec-8145ba2ad7bb\">\n",
              "    <div class=\"colab-df-container\">\n",
              "      <div>\n",
              "<style scoped>\n",
              "    .dataframe tbody tr th:only-of-type {\n",
              "        vertical-align: middle;\n",
              "    }\n",
              "\n",
              "    .dataframe tbody tr th {\n",
              "        vertical-align: top;\n",
              "    }\n",
              "\n",
              "    .dataframe thead th {\n",
              "        text-align: right;\n",
              "    }\n",
              "</style>\n",
              "<table border=\"1\" class=\"dataframe\">\n",
              "  <thead>\n",
              "    <tr style=\"text-align: right;\">\n",
              "      <th></th>\n",
              "      <th>MES</th>\n",
              "      <th>CANTIDAD</th>\n",
              "    </tr>\n",
              "  </thead>\n",
              "  <tbody>\n",
              "    <tr>\n",
              "      <th>0</th>\n",
              "      <td>1</td>\n",
              "      <td>6667</td>\n",
              "    </tr>\n",
              "    <tr>\n",
              "      <th>1</th>\n",
              "      <td>2</td>\n",
              "      <td>5716</td>\n",
              "    </tr>\n",
              "    <tr>\n",
              "      <th>2</th>\n",
              "      <td>3</td>\n",
              "      <td>6380</td>\n",
              "    </tr>\n",
              "    <tr>\n",
              "      <th>3</th>\n",
              "      <td>4</td>\n",
              "      <td>5803</td>\n",
              "    </tr>\n",
              "    <tr>\n",
              "      <th>4</th>\n",
              "      <td>5</td>\n",
              "      <td>5820</td>\n",
              "    </tr>\n",
              "    <tr>\n",
              "      <th>5</th>\n",
              "      <td>6</td>\n",
              "      <td>5704</td>\n",
              "    </tr>\n",
              "    <tr>\n",
              "      <th>6</th>\n",
              "      <td>7</td>\n",
              "      <td>5987</td>\n",
              "    </tr>\n",
              "    <tr>\n",
              "      <th>7</th>\n",
              "      <td>8</td>\n",
              "      <td>5682</td>\n",
              "    </tr>\n",
              "    <tr>\n",
              "      <th>8</th>\n",
              "      <td>9</td>\n",
              "      <td>5444</td>\n",
              "    </tr>\n",
              "    <tr>\n",
              "      <th>9</th>\n",
              "      <td>10</td>\n",
              "      <td>5622</td>\n",
              "    </tr>\n",
              "    <tr>\n",
              "      <th>10</th>\n",
              "      <td>11</td>\n",
              "      <td>5443</td>\n",
              "    </tr>\n",
              "    <tr>\n",
              "      <th>11</th>\n",
              "      <td>12</td>\n",
              "      <td>6038</td>\n",
              "    </tr>\n",
              "  </tbody>\n",
              "</table>\n",
              "</div>\n",
              "      <button class=\"colab-df-convert\" onclick=\"convertToInteractive('df-6ed05593-b0ff-4178-9fec-8145ba2ad7bb')\"\n",
              "              title=\"Convert this dataframe to an interactive table.\"\n",
              "              style=\"display:none;\">\n",
              "        \n",
              "  <svg xmlns=\"http://www.w3.org/2000/svg\" height=\"24px\"viewBox=\"0 0 24 24\"\n",
              "       width=\"24px\">\n",
              "    <path d=\"M0 0h24v24H0V0z\" fill=\"none\"/>\n",
              "    <path d=\"M18.56 5.44l.94 2.06.94-2.06 2.06-.94-2.06-.94-.94-2.06-.94 2.06-2.06.94zm-11 1L8.5 8.5l.94-2.06 2.06-.94-2.06-.94L8.5 2.5l-.94 2.06-2.06.94zm10 10l.94 2.06.94-2.06 2.06-.94-2.06-.94-.94-2.06-.94 2.06-2.06.94z\"/><path d=\"M17.41 7.96l-1.37-1.37c-.4-.4-.92-.59-1.43-.59-.52 0-1.04.2-1.43.59L10.3 9.45l-7.72 7.72c-.78.78-.78 2.05 0 2.83L4 21.41c.39.39.9.59 1.41.59.51 0 1.02-.2 1.41-.59l7.78-7.78 2.81-2.81c.8-.78.8-2.07 0-2.86zM5.41 20L4 18.59l7.72-7.72 1.47 1.35L5.41 20z\"/>\n",
              "  </svg>\n",
              "      </button>\n",
              "      \n",
              "  <style>\n",
              "    .colab-df-container {\n",
              "      display:flex;\n",
              "      flex-wrap:wrap;\n",
              "      gap: 12px;\n",
              "    }\n",
              "\n",
              "    .colab-df-convert {\n",
              "      background-color: #E8F0FE;\n",
              "      border: none;\n",
              "      border-radius: 50%;\n",
              "      cursor: pointer;\n",
              "      display: none;\n",
              "      fill: #1967D2;\n",
              "      height: 32px;\n",
              "      padding: 0 0 0 0;\n",
              "      width: 32px;\n",
              "    }\n",
              "\n",
              "    .colab-df-convert:hover {\n",
              "      background-color: #E2EBFA;\n",
              "      box-shadow: 0px 1px 2px rgba(60, 64, 67, 0.3), 0px 1px 3px 1px rgba(60, 64, 67, 0.15);\n",
              "      fill: #174EA6;\n",
              "    }\n",
              "\n",
              "    [theme=dark] .colab-df-convert {\n",
              "      background-color: #3B4455;\n",
              "      fill: #D2E3FC;\n",
              "    }\n",
              "\n",
              "    [theme=dark] .colab-df-convert:hover {\n",
              "      background-color: #434B5C;\n",
              "      box-shadow: 0px 1px 3px 1px rgba(0, 0, 0, 0.15);\n",
              "      filter: drop-shadow(0px 1px 2px rgba(0, 0, 0, 0.3));\n",
              "      fill: #FFFFFF;\n",
              "    }\n",
              "  </style>\n",
              "\n",
              "      <script>\n",
              "        const buttonEl =\n",
              "          document.querySelector('#df-6ed05593-b0ff-4178-9fec-8145ba2ad7bb button.colab-df-convert');\n",
              "        buttonEl.style.display =\n",
              "          google.colab.kernel.accessAllowed ? 'block' : 'none';\n",
              "\n",
              "        async function convertToInteractive(key) {\n",
              "          const element = document.querySelector('#df-6ed05593-b0ff-4178-9fec-8145ba2ad7bb');\n",
              "          const dataTable =\n",
              "            await google.colab.kernel.invokeFunction('convertToInteractive',\n",
              "                                                     [key], {});\n",
              "          if (!dataTable) return;\n",
              "\n",
              "          const docLinkHtml = 'Like what you see? Visit the ' +\n",
              "            '<a target=\"_blank\" href=https://colab.research.google.com/notebooks/data_table.ipynb>data table notebook</a>'\n",
              "            + ' to learn more about interactive tables.';\n",
              "          element.innerHTML = '';\n",
              "          dataTable['output_type'] = 'display_data';\n",
              "          await google.colab.output.renderOutput(dataTable, element);\n",
              "          const docLink = document.createElement('div');\n",
              "          docLink.innerHTML = docLinkHtml;\n",
              "          element.appendChild(docLink);\n",
              "        }\n",
              "      </script>\n",
              "    </div>\n",
              "  </div>\n",
              "  "
            ]
          },
          "metadata": {},
          "execution_count": 36
        }
      ]
    },
    {
      "cell_type": "code",
      "source": [
        "# Grafica de Mes vs Cantidad\n",
        "plt.figure(figsize=(14,5))\n",
        "xest = SFN_MES['MES']\n",
        "yest = SFN_MES['CANTIDAD']\n",
        "fig, ax = plt.subplots()\n",
        "ax.bar(xest, yest)\n",
        "plt.title('Grafica de Muertes en accidente por mes')\n",
        "plt.show"
      ],
      "metadata": {
        "id": "gLxUHpiGDznQ",
        "colab": {
          "base_uri": "https://localhost:8080/"
        },
        "outputId": "b8cfe753-7e7e-4bae-9fd6-16c35d378535"
      },
      "execution_count": null,
      "outputs": [
        {
          "output_type": "execute_result",
          "data": {
            "text/plain": [
              "<function matplotlib.pyplot.show(*args, **kw)>"
            ]
          },
          "metadata": {},
          "execution_count": 37
        },
        {
          "output_type": "display_data",
          "data": {
            "text/plain": [
              "<Figure size 1008x360 with 0 Axes>"
            ]
          },
          "metadata": {}
        },
        {
          "output_type": "display_data",
          "data": {
            "text/plain": [
              "<Figure size 432x288 with 1 Axes>"
            ],
            "image/png": "[encoded data removed]"
          },
          "metadata": {
            "needs_background": "light"
          }
        }
      ]
    },
    {
      "cell_type": "code",
      "source": [
        "# Resumen estadistico de las variables del data set\n",
        "SFN_MES.describe().T"
      ],
      "metadata": {
        "id": "ZghbyzBx_0p_",
        "colab": {
          "base_uri": "https://localhost:8080/"
        },
        "outputId": "6aff1746-7a0b-4c6c-c493-3efade57c7f7"
      },
      "execution_count": null,
      "outputs": [
        {
          "output_type": "execute_result",
          "data": {
            "text/plain": [
              "          count         mean         std     min      25%     50%      75%  \\\n",
              "MES        12.0     6.500000    3.605551     1.0     3.75     6.5     9.25   \n",
              "CANTIDAD   12.0  5858.833333  363.648140  5443.0  5667.00  5759.5  5999.75   \n",
              "\n",
              "             max  \n",
              "MES         12.0  \n",
              "CANTIDAD  6667.0  "
            ],
            "text/html": [
              "\n",
              "  <div id=\"df-bfc4c3a2-1b49-4e63-b369-0e5baf0a8bbe\">\n",
              "    <div class=\"colab-df-container\">\n",
              "      <div>\n",
              "<style scoped>\n",
              "    .dataframe tbody tr th:only-of-type {\n",
              "        vertical-align: middle;\n",
              "    }\n",
              "\n",
              "    .dataframe tbody tr th {\n",
              "        vertical-align: top;\n",
              "    }\n",
              "\n",
              "    .dataframe thead th {\n",
              "        text-align: right;\n",
              "    }\n",
              "</style>\n",
              "<table border=\"1\" class=\"dataframe\">\n",
              "  <thead>\n",
              "    <tr style=\"text-align: right;\">\n",
              "      <th></th>\n",
              "      <th>count</th>\n",
              "      <th>mean</th>\n",
              "      <th>std</th>\n",
              "      <th>min</th>\n",
              "      <th>25%</th>\n",
              "      <th>50%</th>\n",
              "      <th>75%</th>\n",
              "      <th>max</th>\n",
              "    </tr>\n",
              "  </thead>\n",
              "  <tbody>\n",
              "    <tr>\n",
              "      <th>MES</th>\n",
              "      <td>12.0</td>\n",
              "      <td>6.500000</td>\n",
              "      <td>3.605551</td>\n",
              "      <td>1.0</td>\n",
              "      <td>3.75</td>\n",
              "      <td>6.5</td>\n",
              "      <td>9.25</td>\n",
              "      <td>12.0</td>\n",
              "    </tr>\n",
              "    <tr>\n",
              "      <th>CANTIDAD</th>\n",
              "      <td>12.0</td>\n",
              "      <td>5858.833333</td>\n",
              "      <td>363.648140</td>\n",
              "      <td>5443.0</td>\n",
              "      <td>5667.00</td>\n",
              "      <td>5759.5</td>\n",
              "      <td>5999.75</td>\n",
              "      <td>6667.0</td>\n",
              "    </tr>\n",
              "  </tbody>\n",
              "</table>\n",
              "</div>\n",
              "      <button class=\"colab-df-convert\" onclick=\"convertToInteractive('df-bfc4c3a2-1b49-4e63-b369-0e5baf0a8bbe')\"\n",
              "              title=\"Convert this dataframe to an interactive table.\"\n",
              "              style=\"display:none;\">\n",
              "        \n",
              "  <svg xmlns=\"http://www.w3.org/2000/svg\" height=\"24px\"viewBox=\"0 0 24 24\"\n",
              "       width=\"24px\">\n",
              "    <path d=\"M0 0h24v24H0V0z\" fill=\"none\"/>\n",
              "    <path d=\"M18.56 5.44l.94 2.06.94-2.06 2.06-.94-2.06-.94-.94-2.06-.94 2.06-2.06.94zm-11 1L8.5 8.5l.94-2.06 2.06-.94-2.06-.94L8.5 2.5l-.94 2.06-2.06.94zm10 10l.94 2.06.94-2.06 2.06-.94-2.06-.94-.94-2.06-.94 2.06-2.06.94z\"/><path d=\"M17.41 7.96l-1.37-1.37c-.4-.4-.92-.59-1.43-.59-.52 0-1.04.2-1.43.59L10.3 9.45l-7.72 7.72c-.78.78-.78 2.05 0 2.83L4 21.41c.39.39.9.59 1.41.59.51 0 1.02-.2 1.41-.59l7.78-7.78 2.81-2.81c.8-.78.8-2.07 0-2.86zM5.41 20L4 18.59l7.72-7.72 1.47 1.35L5.41 20z\"/>\n",
              "  </svg>\n",
              "      </button>\n",
              "      \n",
              "  <style>\n",
              "    .colab-df-container {\n",
              "      display:flex;\n",
              "      flex-wrap:wrap;\n",
              "      gap: 12px;\n",
              "    }\n",
              "\n",
              "    .colab-df-convert {\n",
              "      background-color: #E8F0FE;\n",
              "      border: none;\n",
              "      border-radius: 50%;\n",
              "      cursor: pointer;\n",
              "      display: none;\n",
              "      fill: #1967D2;\n",
              "      height: 32px;\n",
              "      padding: 0 0 0 0;\n",
              "      width: 32px;\n",
              "    }\n",
              "\n",
              "    .colab-df-convert:hover {\n",
              "      background-color: #E2EBFA;\n",
              "      box-shadow: 0px 1px 2px rgba(60, 64, 67, 0.3), 0px 1px 3px 1px rgba(60, 64, 67, 0.15);\n",
              "      fill: #174EA6;\n",
              "    }\n",
              "\n",
              "    [theme=dark] .colab-df-convert {\n",
              "      background-color: #3B4455;\n",
              "      fill: #D2E3FC;\n",
              "    }\n",
              "\n",
              "    [theme=dark] .colab-df-convert:hover {\n",
              "      background-color: #434B5C;\n",
              "      box-shadow: 0px 1px 3px 1px rgba(0, 0, 0, 0.15);\n",
              "      filter: drop-shadow(0px 1px 2px rgba(0, 0, 0, 0.3));\n",
              "      fill: #FFFFFF;\n",
              "    }\n",
              "  </style>\n",
              "\n",
              "      <script>\n",
              "        const buttonEl =\n",
              "          document.querySelector('#df-bfc4c3a2-1b49-4e63-b369-0e5baf0a8bbe button.colab-df-convert');\n",
              "        buttonEl.style.display =\n",
              "          google.colab.kernel.accessAllowed ? 'block' : 'none';\n",
              "\n",
              "        async function convertToInteractive(key) {\n",
              "          const element = document.querySelector('#df-bfc4c3a2-1b49-4e63-b369-0e5baf0a8bbe');\n",
              "          const dataTable =\n",
              "            await google.colab.kernel.invokeFunction('convertToInteractive',\n",
              "                                                     [key], {});\n",
              "          if (!dataTable) return;\n",
              "\n",
              "          const docLinkHtml = 'Like what you see? Visit the ' +\n",
              "            '<a target=\"_blank\" href=https://colab.research.google.com/notebooks/data_table.ipynb>data table notebook</a>'\n",
              "            + ' to learn more about interactive tables.';\n",
              "          element.innerHTML = '';\n",
              "          dataTable['output_type'] = 'display_data';\n",
              "          await google.colab.output.renderOutput(dataTable, element);\n",
              "          const docLink = document.createElement('div');\n",
              "          docLink.innerHTML = docLinkHtml;\n",
              "          element.appendChild(docLink);\n",
              "        }\n",
              "      </script>\n",
              "    </div>\n",
              "  </div>\n",
              "  "
            ]
          },
          "metadata": {},
          "execution_count": 38
        }
      ]
    },
    {
      "cell_type": "code",
      "source": [
        "#Se realiza el filtro por año\n",
        "SFN_YEAR = sqldf.run(\"select YEAR , SUM(CANTIDAD) AS CANTIDAD FROM SFN_ESTADISTICA  GROUP BY YEAR\")"
      ],
      "metadata": {
        "id": "hzofSYEz-5qy"
      },
      "execution_count": null,
      "outputs": []
    },
    {
      "cell_type": "code",
      "source": [
        "plt.figure(figsize=(14,5))\n",
        "xest = SFN_YEAR['YEAR']\n",
        "yest = SFN_YEAR['CANTIDAD']\n",
        "fig, ax = plt.subplots()\n",
        "ax.bar(xest, yest)\n",
        "plt.title('Grafica de Muertes en accidente por año')\n",
        "plt.show"
      ],
      "metadata": {
        "id": "sf4kdr6eFMcw",
        "colab": {
          "base_uri": "https://localhost:8080/"
        },
        "outputId": "54e24872-9622-4976-ac8f-00e8a1417025"
      },
      "execution_count": null,
      "outputs": [
        {
          "output_type": "execute_result",
          "data": {
            "text/plain": [
              "<function matplotlib.pyplot.show(*args, **kw)>"
            ]
          },
          "metadata": {},
          "execution_count": 40
        },
        {
          "output_type": "display_data",
          "data": {
            "text/plain": [
              "<Figure size 1008x360 with 0 Axes>"
            ]
          },
          "metadata": {}
        },
        {
          "output_type": "display_data",
          "data": {
            "text/plain": [
              "<Figure size 432x288 with 1 Axes>"
            ],
            "image/png": "[encoded data removed]"
          },
          "metadata": {
            "needs_background": "light"
          }
        }
      ]
    },
    {
      "cell_type": "code",
      "source": [
        "# Resumen estadistico de las variables del data set\n",
        "SFN_YEAR.describe().T"
      ],
      "metadata": {
        "id": "9Wa_Byla5tpg",
        "colab": {
          "base_uri": "https://localhost:8080/"
        },
        "outputId": "d8002413-937d-4735-c434-0685863d9241"
      },
      "execution_count": null,
      "outputs": [
        {
          "output_type": "execute_result",
          "data": {
            "text/plain": [
              "          count         mean         std     min     25%     50%     75%  \\\n",
              "YEAR       13.0  2016.000000    3.894440  2010.0  2013.0  2016.0  2019.0   \n",
              "CANTIDAD   13.0  5408.153846  871.095655  4290.0  4833.0  5260.0  6001.0   \n",
              "\n",
              "             max  \n",
              "YEAR      2022.0  \n",
              "CANTIDAD  6997.0  "
            ],
            "text/html": [
              "\n",
              "  <div id=\"df-f8b0ba54-560a-4288-92f6-fffedd71bfcf\">\n",
              "    <div class=\"colab-df-container\">\n",
              "      <div>\n",
              "<style scoped>\n",
              "    .dataframe tbody tr th:only-of-type {\n",
              "        vertical-align: middle;\n",
              "    }\n",
              "\n",
              "    .dataframe tbody tr th {\n",
              "        vertical-align: top;\n",
              "    }\n",
              "\n",
              "    .dataframe thead th {\n",
              "        text-align: right;\n",
              "    }\n",
              "</style>\n",
              "<table border=\"1\" class=\"dataframe\">\n",
              "  <thead>\n",
              "    <tr style=\"text-align: right;\">\n",
              "      <th></th>\n",
              "      <th>count</th>\n",
              "      <th>mean</th>\n",
              "      <th>std</th>\n",
              "      <th>min</th>\n",
              "      <th>25%</th>\n",
              "      <th>50%</th>\n",
              "      <th>75%</th>\n",
              "      <th>max</th>\n",
              "    </tr>\n",
              "  </thead>\n",
              "  <tbody>\n",
              "    <tr>\n",
              "      <th>YEAR</th>\n",
              "      <td>13.0</td>\n",
              "      <td>2016.000000</td>\n",
              "      <td>3.894440</td>\n",
              "      <td>2010.0</td>\n",
              "      <td>2013.0</td>\n",
              "      <td>2016.0</td>\n",
              "      <td>2019.0</td>\n",
              "      <td>2022.0</td>\n",
              "    </tr>\n",
              "    <tr>\n",
              "      <th>CANTIDAD</th>\n",
              "      <td>13.0</td>\n",
              "      <td>5408.153846</td>\n",
              "      <td>871.095655</td>\n",
              "      <td>4290.0</td>\n",
              "      <td>4833.0</td>\n",
              "      <td>5260.0</td>\n",
              "      <td>6001.0</td>\n",
              "      <td>6997.0</td>\n",
              "    </tr>\n",
              "  </tbody>\n",
              "</table>\n",
              "</div>\n",
              "      <button class=\"colab-df-convert\" onclick=\"convertToInteractive('df-f8b0ba54-560a-4288-92f6-fffedd71bfcf')\"\n",
              "              title=\"Convert this dataframe to an interactive table.\"\n",
              "              style=\"display:none;\">\n",
              "        \n",
              "  <svg xmlns=\"http://www.w3.org/2000/svg\" height=\"24px\"viewBox=\"0 0 24 24\"\n",
              "       width=\"24px\">\n",
              "    <path d=\"M0 0h24v24H0V0z\" fill=\"none\"/>\n",
              "    <path d=\"M18.56 5.44l.94 2.06.94-2.06 2.06-.94-2.06-.94-.94-2.06-.94 2.06-2.06.94zm-11 1L8.5 8.5l.94-2.06 2.06-.94-2.06-.94L8.5 2.5l-.94 2.06-2.06.94zm10 10l.94 2.06.94-2.06 2.06-.94-2.06-.94-.94-2.06-.94 2.06-2.06.94z\"/><path d=\"M17.41 7.96l-1.37-1.37c-.4-.4-.92-.59-1.43-.59-.52 0-1.04.2-1.43.59L10.3 9.45l-7.72 7.72c-.78.78-.78 2.05 0 2.83L4 21.41c.39.39.9.59 1.41.59.51 0 1.02-.2 1.41-.59l7.78-7.78 2.81-2.81c.8-.78.8-2.07 0-2.86zM5.41 20L4 18.59l7.72-7.72 1.47 1.35L5.41 20z\"/>\n",
              "  </svg>\n",
              "      </button>\n",
              "      \n",
              "  <style>\n",
              "    .colab-df-container {\n",
              "      display:flex;\n",
              "      flex-wrap:wrap;\n",
              "      gap: 12px;\n",
              "    }\n",
              "\n",
              "    .colab-df-convert {\n",
              "      background-color: #E8F0FE;\n",
              "      border: none;\n",
              "      border-radius: 50%;\n",
              "      cursor: pointer;\n",
              "      display: none;\n",
              "      fill: #1967D2;\n",
              "      height: 32px;\n",
              "      padding: 0 0 0 0;\n",
              "      width: 32px;\n",
              "    }\n",
              "\n",
              "    .colab-df-convert:hover {\n",
              "      background-color: #E2EBFA;\n",
              "      box-shadow: 0px 1px 2px rgba(60, 64, 67, 0.3), 0px 1px 3px 1px rgba(60, 64, 67, 0.15);\n",
              "      fill: #174EA6;\n",
              "    }\n",
              "\n",
              "    [theme=dark] .colab-df-convert {\n",
              "      background-color: #3B4455;\n",
              "      fill: #D2E3FC;\n",
              "    }\n",
              "\n",
              "    [theme=dark] .colab-df-convert:hover {\n",
              "      background-color: #434B5C;\n",
              "      box-shadow: 0px 1px 3px 1px rgba(0, 0, 0, 0.15);\n",
              "      filter: drop-shadow(0px 1px 2px rgba(0, 0, 0, 0.3));\n",
              "      fill: #FFFFFF;\n",
              "    }\n",
              "  </style>\n",
              "\n",
              "      <script>\n",
              "        const buttonEl =\n",
              "          document.querySelector('#df-f8b0ba54-560a-4288-92f6-fffedd71bfcf button.colab-df-convert');\n",
              "        buttonEl.style.display =\n",
              "          google.colab.kernel.accessAllowed ? 'block' : 'none';\n",
              "\n",
              "        async function convertToInteractive(key) {\n",
              "          const element = document.querySelector('#df-f8b0ba54-560a-4288-92f6-fffedd71bfcf');\n",
              "          const dataTable =\n",
              "            await google.colab.kernel.invokeFunction('convertToInteractive',\n",
              "                                                     [key], {});\n",
              "          if (!dataTable) return;\n",
              "\n",
              "          const docLinkHtml = 'Like what you see? Visit the ' +\n",
              "            '<a target=\"_blank\" href=https://colab.research.google.com/notebooks/data_table.ipynb>data table notebook</a>'\n",
              "            + ' to learn more about interactive tables.';\n",
              "          element.innerHTML = '';\n",
              "          dataTable['output_type'] = 'display_data';\n",
              "          await google.colab.output.renderOutput(dataTable, element);\n",
              "          const docLink = document.createElement('div');\n",
              "          docLink.innerHTML = docLinkHtml;\n",
              "          element.appendChild(docLink);\n",
              "        }\n",
              "      </script>\n",
              "    </div>\n",
              "  </div>\n",
              "  "
            ]
          },
          "metadata": {},
          "execution_count": 41
        }
      ]
    },
    {
      "cell_type": "code",
      "source": [
        "#Se realiza el filtro por genero\n",
        "SFN_GEN = sqldf.run(\"select GENERO, SUM(CANTIDAD) AS CANTIDAD FROM SFN_ESTADISTICA  GROUP BY GENERO \")"
      ],
      "metadata": {
        "id": "aHSlLO69FgjH"
      },
      "execution_count": null,
      "outputs": []
    },
    {
      "cell_type": "code",
      "source": [
        "SFN_GEN"
      ],
      "metadata": {
        "id": "BC_NLShGF5EW",
        "colab": {
          "base_uri": "https://localhost:8080/"
        },
        "outputId": "711d27c9-95f6-46c8-a8b6-ddf58d7cee5a"
      },
      "execution_count": null,
      "outputs": [
        {
          "output_type": "execute_result",
          "data": {
            "text/plain": [
              "   GENERO  CANTIDAD\n",
              "0       0     14015\n",
              "1       1     56291"
            ],
            "text/html": [
              "\n",
              "  <div id=\"df-ee15ce59-d93e-46c9-8b38-e5104f21c93f\">\n",
              "    <div class=\"colab-df-container\">\n",
              "      <div>\n",
              "<style scoped>\n",
              "    .dataframe tbody tr th:only-of-type {\n",
              "        vertical-align: middle;\n",
              "    }\n",
              "\n",
              "    .dataframe tbody tr th {\n",
              "        vertical-align: top;\n",
              "    }\n",
              "\n",
              "    .dataframe thead th {\n",
              "        text-align: right;\n",
              "    }\n",
              "</style>\n",
              "<table border=\"1\" class=\"dataframe\">\n",
              "  <thead>\n",
              "    <tr style=\"text-align: right;\">\n",
              "      <th></th>\n",
              "      <th>GENERO</th>\n",
              "      <th>CANTIDAD</th>\n",
              "    </tr>\n",
              "  </thead>\n",
              "  <tbody>\n",
              "    <tr>\n",
              "      <th>0</th>\n",
              "      <td>0</td>\n",
              "      <td>14015</td>\n",
              "    </tr>\n",
              "    <tr>\n",
              "      <th>1</th>\n",
              "      <td>1</td>\n",
              "      <td>56291</td>\n",
              "    </tr>\n",
              "  </tbody>\n",
              "</table>\n",
              "</div>\n",
              "      <button class=\"colab-df-convert\" onclick=\"convertToInteractive('df-ee15ce59-d93e-46c9-8b38-e5104f21c93f')\"\n",
              "              title=\"Convert this dataframe to an interactive table.\"\n",
              "              style=\"display:none;\">\n",
              "        \n",
              "  <svg xmlns=\"http://www.w3.org/2000/svg\" height=\"24px\"viewBox=\"0 0 24 24\"\n",
              "       width=\"24px\">\n",
              "    <path d=\"M0 0h24v24H0V0z\" fill=\"none\"/>\n",
              "    <path d=\"M18.56 5.44l.94 2.06.94-2.06 2.06-.94-2.06-.94-.94-2.06-.94 2.06-2.06.94zm-11 1L8.5 8.5l.94-2.06 2.06-.94-2.06-.94L8.5 2.5l-.94 2.06-2.06.94zm10 10l.94 2.06.94-2.06 2.06-.94-2.06-.94-.94-2.06-.94 2.06-2.06.94z\"/><path d=\"M17.41 7.96l-1.37-1.37c-.4-.4-.92-.59-1.43-.59-.52 0-1.04.2-1.43.59L10.3 9.45l-7.72 7.72c-.78.78-.78 2.05 0 2.83L4 21.41c.39.39.9.59 1.41.59.51 0 1.02-.2 1.41-.59l7.78-7.78 2.81-2.81c.8-.78.8-2.07 0-2.86zM5.41 20L4 18.59l7.72-7.72 1.47 1.35L5.41 20z\"/>\n",
              "  </svg>\n",
              "      </button>\n",
              "      \n",
              "  <style>\n",
              "    .colab-df-container {\n",
              "      display:flex;\n",
              "      flex-wrap:wrap;\n",
              "      gap: 12px;\n",
              "    }\n",
              "\n",
              "    .colab-df-convert {\n",
              "      background-color: #E8F0FE;\n",
              "      border: none;\n",
              "      border-radius: 50%;\n",
              "      cursor: pointer;\n",
              "      display: none;\n",
              "      fill: #1967D2;\n",
              "      height: 32px;\n",
              "      padding: 0 0 0 0;\n",
              "      width: 32px;\n",
              "    }\n",
              "\n",
              "    .colab-df-convert:hover {\n",
              "      background-color: #E2EBFA;\n",
              "      box-shadow: 0px 1px 2px rgba(60, 64, 67, 0.3), 0px 1px 3px 1px rgba(60, 64, 67, 0.15);\n",
              "      fill: #174EA6;\n",
              "    }\n",
              "\n",
              "    [theme=dark] .colab-df-convert {\n",
              "      background-color: #3B4455;\n",
              "      fill: #D2E3FC;\n",
              "    }\n",
              "\n",
              "    [theme=dark] .colab-df-convert:hover {\n",
              "      background-color: #434B5C;\n",
              "      box-shadow: 0px 1px 3px 1px rgba(0, 0, 0, 0.15);\n",
              "      filter: drop-shadow(0px 1px 2px rgba(0, 0, 0, 0.3));\n",
              "      fill: #FFFFFF;\n",
              "    }\n",
              "  </style>\n",
              "\n",
              "      <script>\n",
              "        const buttonEl =\n",
              "          document.querySelector('#df-ee15ce59-d93e-46c9-8b38-e5104f21c93f button.colab-df-convert');\n",
              "        buttonEl.style.display =\n",
              "          google.colab.kernel.accessAllowed ? 'block' : 'none';\n",
              "\n",
              "        async function convertToInteractive(key) {\n",
              "          const element = document.querySelector('#df-ee15ce59-d93e-46c9-8b38-e5104f21c93f');\n",
              "          const dataTable =\n",
              "            await google.colab.kernel.invokeFunction('convertToInteractive',\n",
              "                                                     [key], {});\n",
              "          if (!dataTable) return;\n",
              "\n",
              "          const docLinkHtml = 'Like what you see? Visit the ' +\n",
              "            '<a target=\"_blank\" href=https://colab.research.google.com/notebooks/data_table.ipynb>data table notebook</a>'\n",
              "            + ' to learn more about interactive tables.';\n",
              "          element.innerHTML = '';\n",
              "          dataTable['output_type'] = 'display_data';\n",
              "          await google.colab.output.renderOutput(dataTable, element);\n",
              "          const docLink = document.createElement('div');\n",
              "          docLink.innerHTML = docLinkHtml;\n",
              "          element.appendChild(docLink);\n",
              "        }\n",
              "      </script>\n",
              "    </div>\n",
              "  </div>\n",
              "  "
            ]
          },
          "metadata": {},
          "execution_count": 43
        }
      ]
    },
    {
      "cell_type": "code",
      "source": [
        "#Grafica de ciolin de muertes por genero\n",
        "fig = plt.figure(figsize = (10,5))\n",
        "axes = fig.add_subplot(121)\n",
        "sns.violinplot(data=SFN,\n",
        "               x = 'GENERO',\n",
        "               y='CANTIDAD', ax = axes)\n",
        "axes.set_title('Grafica de violin de Cantidad vs Genero')\n",
        "plt.show()"
      ],
      "metadata": {
        "id": "sg0Jm9wp0mJw",
        "colab": {
          "base_uri": "https://localhost:8080/"
        },
        "outputId": "7c5567e5-0049-4159-cbe6-315b46257a56"
      },
      "execution_count": null,
      "outputs": [
        {
          "output_type": "display_data",
          "data": {
            "text/plain": [
              "<Figure size 720x360 with 1 Axes>"
            ],
            "image/png": "[encoded data removed]"
          },
          "metadata": {
            "needs_background": "light"
          }
        }
      ]
    },
    {
      "cell_type": "code",
      "source": [
        "SFN['CANTIDAD'].mean()"
      ],
      "metadata": {
        "id": "oOinl0y2S6wF",
        "colab": {
          "base_uri": "https://localhost:8080/"
        },
        "outputId": "e2184989-bcd3-4a0c-aaf2-78d6ec605fbb"
      },
      "execution_count": null,
      "outputs": [
        {
          "output_type": "execute_result",
          "data": {
            "text/plain": [
              "7.932528489224867"
            ]
          },
          "metadata": {},
          "execution_count": 45
        }
      ]
    },
    {
      "cell_type": "markdown",
      "source": [
        "# **Observaciones de analisis estadisticos y graficas**\n",
        "*  El mes que presenta mas muertes es Enero con 6667 de muertes por accidente de transito, mientras que el mes que menos reportes presenta es noviembre, con 5443 de muertes\n",
        "* El año que menos muertes ah tenido es 2011 con 4290 reportes, mientras que 2022 es el año que ah reportado mas muertes en acciedentes de transito, con 6997, pero hay que agregar que esta cifra se ira actualizando con lo que qeuda de año, por lo que se espera que aumente aun mas.\n",
        "* De la grafica de Violin, se deduce que en promedio,mueren mas hombres por dia en accidentes de transito\n",
        "* Mueren mas hombres por accidentes de transito al año que mujeres, hombres con 56291 y mujeres con 14015 registros.\n",
        "* Al dia mueren en promedio 8 personas en accidentes de transito en Colombia"
      ],
      "metadata": {
        "id": "BCJYw6WA5cPq"
      }
    },
    {
      "cell_type": "markdown",
      "source": [
        "# **3. Modelo Regresión Lineal**\n",
        "El modelo de regresion buscara predecir cuantas muertes habran determinado dia."
      ],
      "metadata": {
        "id": "FVDRBfXkL-eP"
      }
    },
    {
      "cell_type": "code",
      "source": [
        "#Se realizara una agrupacion para trabajar cpon la cantidad exacta de muertes que hay por fecha\n",
        "SFN_RL  = sqldf.run(\"select [FECHA HECHO],  SUM(CANTIDAD) AS CANTIDAD FROM SF  GROUP BY [FECHA HECHO]\")"
      ],
      "metadata": {
        "id": "KiCDuTq7Pnu9",
        "colab": {
          "base_uri": "https://localhost:8080/"
        },
        "outputId": "683de2b0-4e83-4855-aeeb-7d6d863ec28f"
      },
      "execution_count": null,
      "outputs": [
        {
          "output_type": "stream",
          "name": "stderr",
          "text": [
            "/usr/local/lib/python3.7/dist-packages/pandas/core/generic.py:2882: UserWarning: The spaces in these column names will not be changed. In pandas versions < 0.14, spaces were converted to underscores.\n",
            "  method=method,\n"
          ]
        }
      ]
    },
    {
      "cell_type": "code",
      "source": [
        "#Se necesita importar el metodo StandardScaler de la libreria Skalearn para normalizar los datos\n",
        "from sklearn.preprocessing import StandardScaler"
      ],
      "metadata": {
        "id": "kp8oBNQPsN4-"
      },
      "execution_count": null,
      "outputs": []
    },
    {
      "cell_type": "code",
      "source": [
        "SFN_RL['FECHA HECHO']= pd.to_datetime(SFN_RL['FECHA HECHO'])\n",
        "SFN_RL['FECHA HECHO'] = pd.to_datetime(SFN_RL['FECHA HECHO'], format='%m/%y/%d')"
      ],
      "metadata": {
        "id": "H2qoneA693gl"
      },
      "execution_count": null,
      "outputs": []
    },
    {
      "cell_type": "code",
      "source": [
        "SFN_RL['CANTIDAD'] = SFN_RL['CANTIDAD'].astype('int')"
      ],
      "metadata": {
        "id": "yaLuKmvH-Bgd"
      },
      "execution_count": null,
      "outputs": []
    },
    {
      "cell_type": "code",
      "source": [
        "x = SFN_RL[\"FECHA HECHO\"]\n",
        "y = SFN_RL[\"CANTIDAD\"]"
      ],
      "metadata": {
        "id": "kR1RqnE09cid"
      },
      "execution_count": null,
      "outputs": []
    },
    {
      "cell_type": "code",
      "source": [
        " x = x.values.reshape(-1,1)"
      ],
      "metadata": {
        "id": "raN-SgV5-pdC"
      },
      "execution_count": null,
      "outputs": []
    },
    {
      "cell_type": "code",
      "source": [
        "# Por medio de la libreria sklearn train_test_split se separaran los datos de test y los de train\n",
        "from sklearn.model_selection import train_test_split\n",
        "X_train, X_test, y_train,  y_test = train_test_split(x,y,test_size = 0.2, random_state =0)"
      ],
      "metadata": {
        "id": "ruJ8Jnc0tQsb"
      },
      "execution_count": null,
      "outputs": []
    },
    {
      "cell_type": "code",
      "source": [
        "print(X_test.shape)\n",
        "print(X_train.shape)\n",
        "print(y_test.shape)\n",
        "print(y_train.shape)"
      ],
      "metadata": {
        "id": "wlxB-nqRRxrd",
        "colab": {
          "base_uri": "https://localhost:8080/"
        },
        "outputId": "7fdf6f97-6f03-4b5e-c9be-481a929f059e"
      },
      "execution_count": null,
      "outputs": [
        {
          "output_type": "stream",
          "name": "stdout",
          "text": [
            "(926, 1)\n",
            "(3700, 1)\n",
            "(926,)\n",
            "(3700,)\n"
          ]
        }
      ]
    },
    {
      "cell_type": "code",
      "source": [
        "#Se requiere importar las librerias LinearRegression, StandardScaler y pipeline para realizar\n",
        "# la regresion lineal y el gradiente descendiente del modelo, para asi finalmente\n",
        "# poder comparar con el modelo en QT los resultados obtenidos\n",
        "from sklearn.linear_model import LinearRegression\n",
        "from sklearn.preprocessing import StandardScaler\n",
        "from sklearn.pipeline import Pipeline\n",
        "\n",
        "pipe=Pipeline([('scaler',StandardScaler()),('RL', LinearRegression())])\n",
        "pipe.fit(X_train,y_train)"
      ],
      "metadata": {
        "id": "OKYpfjH4tbwP",
        "colab": {
          "base_uri": "https://localhost:8080/"
        },
        "outputId": "33124595-e2e9-40b8-cb42-c64db92eff2c"
      },
      "execution_count": null,
      "outputs": [
        {
          "output_type": "execute_result",
          "data": {
            "text/plain": [
              "Pipeline(steps=[('scaler', StandardScaler()), ('RL', LinearRegression())])"
            ]
          },
          "metadata": {},
          "execution_count": 54
        }
      ]
    },
    {
      "cell_type": "code",
      "source": [
        "#Se realizan preddiciones aplicando gradiente descendiente\n",
        "# y regresion lineal, esto por medio de la libreria pipe\n",
        "ytpredict = pipe.predict(X_train)\n",
        "ytpredict = pipe.predict(X_test)\n",
        "#predicciones\n",
        "print(\"Prediccion: \",ytpredict)\n",
        "#Evaluacion\n",
        "R2 = pipe.score(X_train,y_train)\n",
        "print(\"% Metrica de rendimiento\", R2)"
      ],
      "metadata": {
        "id": "ITLIT7ztuYmP",
        "colab": {
          "base_uri": "https://localhost:8080/"
        },
        "outputId": "618e8a79-a248-4119-cc03-e19af8457254"
      },
      "execution_count": null,
      "outputs": [
        {
          "output_type": "stream",
          "name": "stdout",
          "text": [
            "Prediccion:  [13.54181743 16.027009   15.28287863 16.8832686  11.47252339 16.46125494\n",
            " 17.30324355 18.04533521 17.62332154 12.54080918 14.68757433 10.57752823\n",
            " 17.08917865 17.60905055 18.40414875 18.51423927 19.7863964  18.27774853\n",
            " 18.1513483  16.63250686 13.246204   15.38277558 13.20135231 12.30227972\n",
            " 11.85376279 13.49900445 15.91691848 15.88226035 12.12898909 11.58873005\n",
            " 14.84863269 12.94243571 10.8160577  15.50102096 14.70184533 18.44696173\n",
            " 18.36337449 14.82416813 18.6854912  16.01069929 13.27066856 18.20435485\n",
            " 14.20032184 12.31858943 13.09126179 10.72227688 12.07394383 13.51327545\n",
            " 14.33895435 17.03413339 18.94440779 18.26755496 15.43985955 15.89449263\n",
            " 19.74358342 18.11261275 18.14319345 15.53160166 11.57242035 14.35322534\n",
            " 16.70997797 12.90777758 12.55508018 15.76401498 18.08610947 14.63049036\n",
            " 11.92715647 19.3276859  13.89451484 16.54484219 13.37056551 19.39292472\n",
            " 15.62538247 10.93634178 10.83848354 13.32367511 19.12381456 13.96790852\n",
            " 11.51533637 16.09224782 18.4265746  19.27875678 12.76506765 19.07488544\n",
            " 11.86803378 14.29410266 15.58868563 14.0861539  13.98829566 14.7283486\n",
            " 16.91588801 19.85571265 13.29921055 17.95155439 11.93531132 15.2176398\n",
            " 11.62542689 16.66716499 18.05756749 18.93217551 14.88329081 14.89960052\n",
            " 16.06778326 14.88532953 10.75693501 14.05965062 13.19523617 19.20740181\n",
            " 15.39704657 12.36344112 17.59274084 19.59475735 14.4225416  15.82721509\n",
            " 19.113621   15.9046862  14.82212941 15.06269759 17.93116726 14.85271011\n",
            " 14.34303178 18.33890993 19.86590622 12.75283537 17.62128283 18.68345248\n",
            " 15.07900729 18.7323816  15.9352669  16.39601611 11.84968536 11.32777474\n",
            " 16.34097085 19.11565971 13.58870784 14.47147072 15.24006565 17.40110179\n",
            " 14.65291621 12.87719688 13.09533921 13.57647556 11.31146504 12.14733751\n",
            " 14.38992218 16.42251939 16.55503575 13.87005028 15.9515766  17.16868847\n",
            " 16.93423643 16.25330618 14.44700616 15.51529195 17.5397343  11.97404687\n",
            " 16.79764264 10.92818693 16.23088033 16.67124241 19.16662754 11.95977588\n",
            " 14.36953505 12.94447442 16.90161702 10.69169618 14.32672207 17.72933464\n",
            " 16.95666228 14.23090254 11.11982598 17.88427685 12.48780264 12.45926065\n",
            " 18.98722077 12.73040952 10.63868964 11.8863822  11.55407193 19.90260306\n",
            " 17.80476703 16.82006849 14.56321282 12.30839586 19.35622788 11.48475567\n",
            " 10.70392846 18.36949063 17.48061161 12.61828029 15.65800188 17.65186353\n",
            " 11.08516786 16.75686837 16.72628767 14.75077445 12.78953221 14.69572919\n",
            " 11.20137452 17.95970925 16.08001554 10.80586413 16.94646871 11.1075937\n",
            " 13.26862985 16.012738   19.91687405 17.47449547 17.28693384 15.25637535\n",
            " 17.68040552 10.77324472 11.26457463 13.26251371 19.47243455 19.99638387\n",
            " 15.04027174 11.57853649 12.57546731 10.8772191  18.39395519 16.76502323\n",
            " 12.21869247 13.52346901 11.59892362 18.26959367 11.67027859 15.60703405\n",
            " 17.48876646 15.85575708 11.71309157 10.94041921 12.63459    15.8435248\n",
            " 18.12280631 11.78852396 17.53769558 16.23495776 14.67534205 17.71098622\n",
            " 10.88333524 11.29515533 13.74568877 18.87916896 13.68452737 14.483703\n",
            " 15.53975651 14.12896688 17.07083023 15.69877615 11.31758118 12.20849891\n",
            " 12.42664124 17.22373373 16.40824839 15.82313766 17.5866247  10.94653535\n",
            " 16.71609411 11.27272948 19.29506648 15.80275053 14.37972862 14.09227004\n",
            " 18.22678069 16.69774569 12.53265433 17.86796715 11.49291053 14.0249925\n",
            " 18.63452336 17.10141093 13.00359711 14.78951    18.87305282 19.17885982\n",
            " 16.72221025 13.35425581 14.92610379 18.57132325 16.12078981 16.35931927\n",
            " 17.45614705 17.82515416 10.82217384 13.84354701 15.45209184 17.62536026\n",
            " 10.58364437 13.72530163 12.38178954 11.47660082 19.52136367 13.06475851\n",
            " 18.55501354 14.50612884 18.23493555 11.30331018 10.73043174 12.66924812\n",
            " 16.92608158 14.59379352 14.60398708 14.90571666 15.73955042 16.82414591\n",
            " 13.08718436 12.22888604 13.19115874 18.80985271 16.36747413 14.26759938\n",
            " 18.82616242 19.28895034 17.89854785 15.00969104 19.15847269 17.63963125\n",
            " 14.4388513  18.00863837 19.09119515 16.31650629 13.30532669 12.88942916\n",
            " 14.1167346  10.76508986 14.09430875 18.56928453 15.15443969 12.48984135\n",
            " 19.23390508 15.56014364 12.52042205 19.88629335 17.43779863 12.41237024\n",
            " 16.11671238 17.00151397 13.69472093 15.31753675 11.60911719 19.1910921\n",
            " 13.46230761 13.31959768 16.92200415 14.55301925 15.49082739 15.9964283\n",
            " 13.38279779 19.18293725 19.05449831 10.59179923 14.94445221 13.14019091\n",
            " 11.11167113 15.98827344 19.02595632 11.85172407 17.32974682 18.65694921\n",
            " 13.33182996 18.9770272  14.16974114 14.29818008 16.27980945 12.99951968\n",
            " 14.2247864  16.44494523 12.25946674 18.49792957 19.57437021 12.32674428\n",
            " 11.04031616 13.03621653 11.81910466 15.6906213  12.06782769 18.67733634\n",
            " 12.53469304 18.25328397 11.57445906 12.18199563 10.79363185 10.60810893\n",
            " 19.21147924 13.64579181 17.22169502 16.56930675 10.99342576 12.88127431\n",
            " 15.99846701 13.14834576 14.49797399 13.83946958 11.04439359 12.4062541\n",
            " 18.7772333  15.81498281 11.091284   14.07392162 13.68044994 14.74669702\n",
            " 16.86695889 11.51125895 10.88945138 15.40316271 10.78139957 17.12383678\n",
            " 12.40421539 13.54793357 11.41543942 18.19008385 11.31961989 17.92505112\n",
            " 19.42758285 12.23296347 12.08209868 10.74674144 14.55098054 14.21051541\n",
            " 16.19010606 12.31655072 15.83129252 16.89346217 11.68251087 16.09428654\n",
            " 11.75386583 12.34713142 15.66411802 16.30835144 17.83534773 15.52956294\n",
            " 11.50310409 16.98316555 15.39296915 15.84760222 13.48881089 16.00050572\n",
            " 13.55812714 15.721202   18.30832923 15.6151889  11.53980093 12.36140241\n",
            " 14.1024636  15.73139556 11.78444653 16.95462357 15.34200131 11.56834292\n",
            " 12.27169902 16.96889456 13.0321391  17.95359311 15.21967851 17.66613452\n",
            " 14.08207647 10.7406253  12.7426418  18.17989029 16.7915265  12.53673176\n",
            " 10.66927034 15.69266001 18.57336196 14.97911034 14.00052794 16.51426149\n",
            " 10.82013512 11.64785274 19.88833207 16.73240381 12.61624158 17.85777358\n",
            " 13.61724983 11.67843344 19.22982766 11.02808388 17.70283136 17.50507617\n",
            " 11.87414992 12.26966031 18.86693668 16.93627515 18.77111716 17.13403034\n",
            " 19.73338985 10.84459968 11.81298852 17.62943768 11.59484619 14.16158629\n",
            " 12.49391878 14.77320029 17.81903802 14.10042489 11.60300105 12.6651707\n",
            " 16.67735855 18.19212257 15.69673744 17.70487008 13.84762444 19.27264064\n",
            " 18.8995561  13.0178681  11.45417497 10.94857406 14.59583223 18.18600643\n",
            " 14.34099306 14.53263212 17.04432695 11.56426549 15.06677501 15.22783337\n",
            " 11.63154303 13.27270727 10.93430307 11.7946401  14.9424135  14.13916044\n",
            " 13.44803662 17.12995292 12.29208616 10.80994156 19.71911886 15.26249149\n",
            " 13.43784305 17.12587549 13.80481145 14.90775537 12.71613853 11.63765917\n",
            " 11.83949179 19.70280915 16.65493271 15.05658145 16.72832639 15.21152366\n",
            " 14.18808956 19.00353048 15.46432412 16.77113937 19.09527258 16.66512627\n",
            " 14.3776899  11.98220173 15.60295662 18.3042518  18.75276874 11.00565804\n",
            " 17.19519174 14.56729024 15.30122705 15.54995008 14.86698111 17.91078013\n",
            " 18.00048351 10.8323674  12.13510523 18.63248465 10.53675397 14.78135515\n",
            " 14.62437422 18.70383962 17.39498565 14.93221993 12.77118379 12.70390625\n",
            " 17.3868308  18.69568476 17.64370868 12.17384078 14.52243855 12.68759654\n",
            " 15.69469872 17.48265032 16.12282852 16.94850743 15.23598822 13.49492703\n",
            " 16.07797683 15.90876362 15.51936938 16.20845448 13.05864237 17.54992786\n",
            " 12.85884846 16.67531984 19.70892529 12.29004744 17.77622504 17.08306251\n",
            " 16.61823587 12.21053762 17.31955326 17.0667528  18.07999333 13.97402466\n",
            " 17.36236624 13.01379068 19.23186637 19.00149176 10.98323219 15.58256949\n",
            " 15.5377178  16.33893214 15.43578213 17.22577244 19.72727371 18.01067708\n",
            " 15.34811745 17.19315303 16.49387435 20.05754527 16.19214478 18.41230361\n",
            " 13.73957263 15.32976903 11.06885815 11.79871753 14.77523901 17.83330902\n",
            " 15.8904152  16.64066171 13.71306935 11.17079382 10.55917981 19.47855069\n",
            " 12.18607306 18.43676817 18.49385214 16.59581002 14.05761191 13.67025637\n",
            " 17.68244423 13.56832071 15.26860763 13.20339102 19.70688658 18.2430904\n",
            " 15.94546046 15.63557604 17.79457346 14.09634746 19.31545362 15.74770527\n",
            " 16.35320313 19.65184132 12.15753107 14.78543257 19.49486039 13.22989429\n",
            " 16.80783621 18.93421422 17.22781116 10.51636683 13.46434633 17.48672775\n",
            " 13.95363753 12.86292589 15.37665944 10.99138704 15.5682985  16.44698395\n",
            " 19.2359438  13.73345649 13.58055299 13.52754644 12.8180742  14.73446474\n",
            " 17.250237   15.0647363  14.65495492 12.07190511 14.96280063 12.28189259\n",
            " 17.95767053 10.49394099 19.1442017  19.25429222 11.50922023 17.76399276\n",
            " 17.94136083 13.7660759  11.62338818 11.26865206 17.90262527 17.99232866\n",
            " 11.95162103 18.80169786 13.93121168 10.63461221 19.39700215 14.41030932\n",
            " 19.24002122 13.56016585 16.48164207 11.13205826 15.54383394 12.25742803\n",
            " 17.84758001 15.64169218 11.89861448 12.55304146 16.29815787 16.57338417\n",
            " 19.59883477 14.57748381 10.67130905 11.47048468 16.84657176 18.3959939\n",
            " 10.55510239 11.58465263 14.42865774 14.03518606 14.84251655 18.67325892\n",
            " 18.22066455 16.53872605 11.26253592 15.27472377 19.69669301 14.23701868\n",
            " 13.10349407 13.16057804 18.32667765 16.26757717 19.28691163 12.69779011\n",
            " 17.7089475  19.37661502 18.73645903 11.79260139 13.26047499 10.86906424\n",
            " 12.75079666 11.87822735 15.32161418 13.34406224 12.09840839 15.7375117\n",
            " 11.48067825 17.79049604 16.49999049 18.65491049 17.00763011 17.84146387\n",
            " 18.76907844 17.43575992 13.14222962 16.21253191 11.43378784 20.11462925\n",
            " 13.78442432 11.1993358  12.12083423 11.45009755 14.06372805 13.7966566\n",
            " 18.50404571 12.85680975 19.6640736  11.29923276 19.03614989 18.38376162\n",
            " 16.75890709 11.61931075 13.872089   13.39095265 16.86492018 15.9209959\n",
            " 15.19317524 11.19525838 12.2227699  18.51016185 15.4622854  13.63967567\n",
            " 11.07497429 11.43990398 15.13609127 19.91891277 15.27676249 12.2676216\n",
            " 14.27371552 18.87713025 14.44496744 17.03821081 11.75998197 14.23294126\n",
            " 10.76712858 13.91694069 11.67639473 13.08514565 11.99035658 18.38580033\n",
            " 13.57239813 15.32365289 12.76710636 13.857818   18.95867878 16.28796431\n",
            " 13.68656608 17.25839186 13.40930107 16.8526879  17.06267538 15.30734319\n",
            " 19.32156976 17.01374625 18.42045846 13.93936654 14.27575424 14.77931643\n",
            " 14.66922591 11.32369732 18.54481997 12.48372521 15.48063382 13.94140525\n",
            " 19.64368647 13.61113369 19.35418917 18.03718035 13.46842375 14.47350943\n",
            " 15.40927885 11.3665103  19.77008669 12.33897656 12.5122672  19.65795746\n",
            " 17.62739897 19.93318376 14.12692816 18.09834175 19.83532552 17.88223814\n",
            " 18.9607175  12.76302894 12.70186754 14.2859478  12.02297599 11.15448411\n",
            " 12.5734286  19.2216728  18.28386467 19.80270611 16.28184817 13.63559825\n",
            " 14.95260707 12.39402182 15.98011859 14.89756181 11.52552994 11.20952937\n",
            " 12.24723446 11.88434349 15.81906024 11.15652282 12.45314451 10.66519291\n",
            " 17.80884446 10.99750318 15.00765233 17.90874141 19.58048635 19.90056435\n",
            " 11.12594212 11.77425297 11.94346617 11.00769675 17.29916612 18.35521963\n",
            " 12.14122137 11.55203321 16.62027458 14.74873573 15.10958799 11.51329766\n",
            " 16.11467367 10.9546902  13.66414023 12.7732225  17.55400529 16.81802977\n",
            " 11.26661334 11.5805752  16.29408045 10.58160566 11.66416245 17.39702436\n",
            " 19.8475578  14.05149577 17.35013396 13.19931359 11.75590455 19.19720824\n",
            " 12.72429338 17.94339954 11.75794326 12.47149293 13.05252623 16.93015901\n",
            " 19.91483534 16.37562898 10.90372237 13.4908496  17.87000586 11.09943885\n",
            " 12.9872874  15.68042773 12.01685985 16.9138493  13.27882341 16.05351227\n",
            " 13.28086213 11.88842091 17.94951568 17.60293441 10.94245792 10.57141209\n",
            " 12.54896404 16.73851995]\n",
            "% Metrica de rendimiento 0.11441391141651025\n"
          ]
        }
      ]
    },
    {
      "cell_type": "markdown",
      "source": [
        "# **4. Comparación entre modelos**\n",
        "En este numeral se explicara los datos seleccionados por colab y QT, los resultados presentados por ambos se explicaran en el numeral 5 de conclusiones y resultados.\n",
        "Luego de haber elaborado el modelo en colab, y obtener una metrica de 11.44%, es decir, un modelo que no es de fiar para realizar predicciones, se determino que se separa la fecha por columnas, osea el años, mes y dia por aparte en su propia columna, para luego asi poder realizar la metrica, y ver cual forma de evaluar el modelo es mejor que la otra, o si son iguales. Los resultados obtenidos son explicados en el numeral 5 de este documento\n",
        "Con esto se aclara que se realizan 2 compraciones, la primera es entre el entorno en el cual se realizo, que  en este caso es colab y QT, y la segunda, compara la forma de evaluar el dataset, que por una parte es la fecha entera en una columna, y en la otra separada por columnas."
      ],
      "metadata": {
        "id": "AzS4muzxJHjZ"
      }
    },
    {
      "cell_type": "markdown",
      "source": [
        "# **5. Conclusiones y Resultados**\n",
        "Link de evidencia de resultados QT: https://drive.google.com/file/d/17rwhPNDQ2FBgPopzdB9dLSZYACo5-GNH/view?usp=share_link\n",
        "\n",
        "\n",
        "Link de evidencia de resultados COlab: https://drive.google.com/file/d/1s7NgDDbgZFCzjccrtOm3-6w0_0IKsP0p/view?usp=share_link\n",
        "\n",
        "\n",
        "La metrica de rendimiento seleccionada en este caso fue R2, ya que, esta métrica es el coeficiente de determinación y representa la proporción de la varianza de y que es explicada por las variables independientes del modelo. Lo cual se determino que era combeniente para evaluar el modelo de este dataset.\n",
        "\n",
        "0. De los resultados obtenidos, se concluye que el dataset trabajado (Muertes por accidentes de trafico) no se pueden elaborar predicciones confiables, debido a que estimar cuantas persona moriran x dia es bastante aleatorio, aunque se cuente con un gran dataset, del cual se pueda comparar y \"sacar estimaciones\", eso en este caso no funciona. ESto fue demostrado de dos formas, la primera fue en colab, que se trabajo la variable independiente como tipo fecha, dejando una metrica de rendimiento del 11.44%, osea, una metrica bastante mala, y la segunda manera, fue en QT, en la cual se separo las variables de la fecha, es decir, año, mes y dia quedaron como columnas independientes, de esta forma la metrica dio 52,54%, que aunque a comparacion de colab aumentara en gran medida, confirma que el modelo no es de fiar.\n",
        "\n",
        "\n",
        "1. Lo unico que tiene de confiable el modelo es que las muertes aumentaran respecto al año anterior, esa es la unica conclusión confiable que se puede sacar del modelo de regresión.\n",
        "\n",
        "\n",
        "2. Se demostro que los promedios de los valores dependientes es 7.9, osea en promedio mueren aproximadamente 8 personas al dia\n",
        "\n",
        "\n",
        "3. La cantidad de filas tomadas para el entrenamiento concuerda con las tomadas en QT, que es el 20% del total del dataframe\n",
        "\n",
        "\n",
        "4. Se concluye que phyton y c++ tienen diferente paradigma para seleccionar el 20% de un conjunto de datos, en c++ eigen siempre va a ser aleatorio, mientras que en phyton se puede ajustar para trabajar con la misma semilla de datos aleatorios, y asi al analizar resultados se realice de manera mas precisa. Pero en este caso, para elaborar el estudio lo mas preciso posible, se trabajo con los mismos datos de entrenamiento.\n",
        "\n",
        "\n",
        "5. Normalizar es un proceso fundamental para manipular los datos, esto ya que ajusta mas efectivamente y borra las barreras producidas por la variacion del rango de datos, pero en este caso al trabajar con fechas, no se requiere de este procedimiento. Aunque en QT se separa la fecha por columnas, no se requiere aplicar la normalización.\n",
        "\n",
        "\n",
        "6. El modelo que se halló no es preciso, y solo cuenta con el 11.44% (colab)de predicción, esto hace que no sea de fiar. Esto ocurre ya que el dataset escogido es algo aleatorio, no se puede predecir cuantas personas moriran en un dia determinado, por lo que \"atinarle\" al numero exacto de muertes por dia es imposible. Lo unico que se puede tener certeza es que este numero es ascendente si se evalua por año\n"
      ],
      "metadata": {
        "id": "wADNT4jjWpWd"
      }
    },
    {
      "cell_type": "markdown",
      "source": [
        "# **6. Recomendaciones**\n",
        "En esta numeral, no se recomendara cual explicación es mejor que la otra. Se recomendara que para realizar un estudio academico de un dataset, que permita realizar predicciones de fiar creando un modelo de regresión, no se recomienda que el tema del dataset sea algo tan aletorio como lo es el el numero de muertes por accidente de trafico, debido a que este tipo de datos no se permiten representar de forma lineal, ya que no dependen de valores del pasadao, depende de mas factores como lo es decisiones politicas, estado actual de las vias, numero de carros en la ciudad, el horario, el trafico (esto en el caso del dataset de este ejercicio), etc."
      ],
      "metadata": {
        "id": "eLhCXnATKaFZ"
      }
    },
    {
      "cell_type": "markdown",
      "source": [
        "# **7. REFERENCIAS:**\n",
        "1. Normalizar: https://www.delftstack.com/es/howto/python-pandas/pandas-normalize/\n",
        "2. Pipeline: https://medium.com/datos-y-ciencia/pipeline-python-20c84e255444\n",
        "3. Standard Scaler: https://scikit-learn.org/stable/modules/generated/sklearn.preprocessing.StandardScaler.html\n",
        "4. LinearRegression: https://towardsdatascience.com/glr-with-python-and-scikit-learn-library-67b5b0d418ea\n",
        "5. Skelearn: https://scikit-learn.org/stable/\n",
        "6. Regresion lineal: https://www.youtube.com/watch?v=SsFBnvkoZa4&ab_channel=EstadigrafoMenteEstadistica\n",
        "7. Gradiente descendiente 1: https://www.youtube.com/watch?v=IKloEocn3Hw&ab_channel=CodificandoBits\n",
        "8. Gradiente descendiente 2:https://www.youtube.com/watch?v=A6FiCDoz8_4&ab_channel=DotCSV\n",
        "9. SQLite: https://datacarpentry.org/python-ecology-lesson-es/09-working-with-sql/index.html\n",
        "10. Group by: https://pandas.pydata.org/pandas-docs/stable/reference/api/pandas.DataFrame.groupby.html#:~:text=A%20groupby%20operation%20involves%20some,compute%20operations%20on%20these%20groups.&text=Used%20to%20determine%20the%20groups%20for%20the%20groupby.\n",
        "11. Datos abiertos: https://www.datos.gov.co/\n"
      ],
      "metadata": {
        "id": "PL3kXHDdWvcs"
      }
    }
  ]
}