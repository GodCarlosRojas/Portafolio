{
  "nbformat": 4,
  "nbformat_minor": 0,
  "metadata": {
    "colab": {
      "provenance": []
    },
    "kernelspec": {
      "name": "python3",
      "display_name": "Python 3"
    },
    "language_info": {
      "name": "python"
    }
  },
  "cells": [
    {
      "cell_type": "code",
      "execution_count": null,
      "metadata": {
        "id": "mq6P1PL7yHtF"
      },
      "outputs": [],
      "source": [
        "#Se importan las bibliotecas necesarias\n",
        "import pandas as pd\n",
        "import matplotlib.pyplot as plt #Pintar\n",
        "from sklearn.linear_model import LinearRegression #Regresion lineal"
      ]
    },
    {
      "cell_type": "code",
      "source": [
        "#Se carga el dataset LungCapData\n",
        "url = '/content/LungCapDataTabla1.csv'\n",
        "LungCapDF = pd.read_csv(url)\n",
        "LungCapDF.head()"
      ],
      "metadata": {
        "colab": {
          "base_uri": "https://localhost:8080/",
          "height": 206
        },
        "id": "2sIXbR9UyTuy",
        "outputId": "db294871-96e3-443b-f4a1-b84a3013f832"
      },
      "execution_count": null,
      "outputs": [
        {
          "output_type": "execute_result",
          "data": {
            "text/html": [
              "\n",
              "  <div id=\"df-93ea6c89-daec-45fa-b8c2-95155aec9c4d\">\n",
              "    <div class=\"colab-df-container\">\n",
              "      <div>\n",
              "<style scoped>\n",
              "    .dataframe tbody tr th:only-of-type {\n",
              "        vertical-align: middle;\n",
              "    }\n",
              "\n",
              "    .dataframe tbody tr th {\n",
              "        vertical-align: top;\n",
              "    }\n",
              "\n",
              "    .dataframe thead th {\n",
              "        text-align: right;\n",
              "    }\n",
              "</style>\n",
              "<table border=\"1\" class=\"dataframe\">\n",
              "  <thead>\n",
              "    <tr style=\"text-align: right;\">\n",
              "      <th></th>\n",
              "      <th>LungCap</th>\n",
              "      <th>Age</th>\n",
              "      <th>Height</th>\n",
              "      <th>Smoke</th>\n",
              "      <th>Gender</th>\n",
              "      <th>Caesarean</th>\n",
              "    </tr>\n",
              "  </thead>\n",
              "  <tbody>\n",
              "    <tr>\n",
              "      <th>0</th>\n",
              "      <td>6.475</td>\n",
              "      <td>6</td>\n",
              "      <td>62.1</td>\n",
              "      <td>no</td>\n",
              "      <td>male</td>\n",
              "      <td>no</td>\n",
              "    </tr>\n",
              "    <tr>\n",
              "      <th>1</th>\n",
              "      <td>10.125</td>\n",
              "      <td>18</td>\n",
              "      <td>74.7</td>\n",
              "      <td>yes</td>\n",
              "      <td>female</td>\n",
              "      <td>no</td>\n",
              "    </tr>\n",
              "    <tr>\n",
              "      <th>2</th>\n",
              "      <td>9.550</td>\n",
              "      <td>16</td>\n",
              "      <td>69.7</td>\n",
              "      <td>no</td>\n",
              "      <td>female</td>\n",
              "      <td>yes</td>\n",
              "    </tr>\n",
              "    <tr>\n",
              "      <th>3</th>\n",
              "      <td>11.125</td>\n",
              "      <td>14</td>\n",
              "      <td>71.0</td>\n",
              "      <td>no</td>\n",
              "      <td>male</td>\n",
              "      <td>no</td>\n",
              "    </tr>\n",
              "    <tr>\n",
              "      <th>4</th>\n",
              "      <td>4.800</td>\n",
              "      <td>5</td>\n",
              "      <td>56.9</td>\n",
              "      <td>no</td>\n",
              "      <td>male</td>\n",
              "      <td>no</td>\n",
              "    </tr>\n",
              "  </tbody>\n",
              "</table>\n",
              "</div>\n",
              "      <button class=\"colab-df-convert\" onclick=\"convertToInteractive('df-93ea6c89-daec-45fa-b8c2-95155aec9c4d')\"\n",
              "              title=\"Convert this dataframe to an interactive table.\"\n",
              "              style=\"display:none;\">\n",
              "        \n",
              "  <svg xmlns=\"http://www.w3.org/2000/svg\" height=\"24px\"viewBox=\"0 0 24 24\"\n",
              "       width=\"24px\">\n",
              "    <path d=\"M0 0h24v24H0V0z\" fill=\"none\"/>\n",
              "    <path d=\"M18.56 5.44l.94 2.06.94-2.06 2.06-.94-2.06-.94-.94-2.06-.94 2.06-2.06.94zm-11 1L8.5 8.5l.94-2.06 2.06-.94-2.06-.94L8.5 2.5l-.94 2.06-2.06.94zm10 10l.94 2.06.94-2.06 2.06-.94-2.06-.94-.94-2.06-.94 2.06-2.06.94z\"/><path d=\"M17.41 7.96l-1.37-1.37c-.4-.4-.92-.59-1.43-.59-.52 0-1.04.2-1.43.59L10.3 9.45l-7.72 7.72c-.78.78-.78 2.05 0 2.83L4 21.41c.39.39.9.59 1.41.59.51 0 1.02-.2 1.41-.59l7.78-7.78 2.81-2.81c.8-.78.8-2.07 0-2.86zM5.41 20L4 18.59l7.72-7.72 1.47 1.35L5.41 20z\"/>\n",
              "  </svg>\n",
              "      </button>\n",
              "      \n",
              "  <style>\n",
              "    .colab-df-container {\n",
              "      display:flex;\n",
              "      flex-wrap:wrap;\n",
              "      gap: 12px;\n",
              "    }\n",
              "\n",
              "    .colab-df-convert {\n",
              "      background-color: #E8F0FE;\n",
              "      border: none;\n",
              "      border-radius: 50%;\n",
              "      cursor: pointer;\n",
              "      display: none;\n",
              "      fill: #1967D2;\n",
              "      height: 32px;\n",
              "      padding: 0 0 0 0;\n",
              "      width: 32px;\n",
              "    }\n",
              "\n",
              "    .colab-df-convert:hover {\n",
              "      background-color: #E2EBFA;\n",
              "      box-shadow: 0px 1px 2px rgba(60, 64, 67, 0.3), 0px 1px 3px 1px rgba(60, 64, 67, 0.15);\n",
              "      fill: #174EA6;\n",
              "    }\n",
              "\n",
              "    [theme=dark] .colab-df-convert {\n",
              "      background-color: #3B4455;\n",
              "      fill: #D2E3FC;\n",
              "    }\n",
              "\n",
              "    [theme=dark] .colab-df-convert:hover {\n",
              "      background-color: #434B5C;\n",
              "      box-shadow: 0px 1px 3px 1px rgba(0, 0, 0, 0.15);\n",
              "      filter: drop-shadow(0px 1px 2px rgba(0, 0, 0, 0.3));\n",
              "      fill: #FFFFFF;\n",
              "    }\n",
              "  </style>\n",
              "\n",
              "      <script>\n",
              "        const buttonEl =\n",
              "          document.querySelector('#df-93ea6c89-daec-45fa-b8c2-95155aec9c4d button.colab-df-convert');\n",
              "        buttonEl.style.display =\n",
              "          google.colab.kernel.accessAllowed ? 'block' : 'none';\n",
              "\n",
              "        async function convertToInteractive(key) {\n",
              "          const element = document.querySelector('#df-93ea6c89-daec-45fa-b8c2-95155aec9c4d');\n",
              "          const dataTable =\n",
              "            await google.colab.kernel.invokeFunction('convertToInteractive',\n",
              "                                                     [key], {});\n",
              "          if (!dataTable) return;\n",
              "\n",
              "          const docLinkHtml = 'Like what you see? Visit the ' +\n",
              "            '<a target=\"_blank\" href=https://colab.research.google.com/notebooks/data_table.ipynb>data table notebook</a>'\n",
              "            + ' to learn more about interactive tables.';\n",
              "          element.innerHTML = '';\n",
              "          dataTable['output_type'] = 'display_data';\n",
              "          await google.colab.output.renderOutput(dataTable, element);\n",
              "          const docLink = document.createElement('div');\n",
              "          docLink.innerHTML = docLinkHtml;\n",
              "          element.appendChild(docLink);\n",
              "        }\n",
              "      </script>\n",
              "    </div>\n",
              "  </div>\n",
              "  "
            ],
            "text/plain": [
              "   LungCap  Age  Height Smoke  Gender Caesarean\n",
              "0    6.475    6    62.1    no    male        no\n",
              "1   10.125   18    74.7   yes  female        no\n",
              "2    9.550   16    69.7    no  female       yes\n",
              "3   11.125   14    71.0    no    male        no\n",
              "4    4.800    5    56.9    no    male        no"
            ]
          },
          "metadata": {},
          "execution_count": 2
        }
      ]
    },
    {
      "cell_type": "code",
      "source": [
        "#Se requiere un resume informativo del DataFrame\n",
        "LungCapDF.info()"
      ],
      "metadata": {
        "colab": {
          "base_uri": "https://localhost:8080/"
        },
        "id": "txcDaNU9zc-5",
        "outputId": "aa7e744b-46e1-432b-84e8-aca2f5821bbf"
      },
      "execution_count": null,
      "outputs": [
        {
          "output_type": "stream",
          "name": "stdout",
          "text": [
            "<class 'pandas.core.frame.DataFrame'>\n",
            "RangeIndex: 725 entries, 0 to 724\n",
            "Data columns (total 6 columns):\n",
            " #   Column     Non-Null Count  Dtype  \n",
            "---  ------     --------------  -----  \n",
            " 0   LungCap    725 non-null    float64\n",
            " 1   Age        725 non-null    int64  \n",
            " 2   Height     725 non-null    float64\n",
            " 3   Smoke      725 non-null    object \n",
            " 4   Gender     725 non-null    object \n",
            " 5   Caesarean  725 non-null    object \n",
            "dtypes: float64(2), int64(1), object(3)\n",
            "memory usage: 34.1+ KB\n"
          ]
        }
      ]
    },
    {
      "cell_type": "code",
      "source": [
        "#Se presenta un resumen estadistico\n",
        "LungCapDF.describe()"
      ],
      "metadata": {
        "colab": {
          "base_uri": "https://localhost:8080/",
          "height": 300
        },
        "id": "mbBqvr9H0JQU",
        "outputId": "a72b4098-d9c7-44ce-cea8-e108fac22ddc"
      },
      "execution_count": null,
      "outputs": [
        {
          "output_type": "execute_result",
          "data": {
            "text/html": [
              "\n",
              "  <div id=\"df-83b471a7-c45d-4514-bbef-f51f69dcc65f\">\n",
              "    <div class=\"colab-df-container\">\n",
              "      <div>\n",
              "<style scoped>\n",
              "    .dataframe tbody tr th:only-of-type {\n",
              "        vertical-align: middle;\n",
              "    }\n",
              "\n",
              "    .dataframe tbody tr th {\n",
              "        vertical-align: top;\n",
              "    }\n",
              "\n",
              "    .dataframe thead th {\n",
              "        text-align: right;\n",
              "    }\n",
              "</style>\n",
              "<table border=\"1\" class=\"dataframe\">\n",
              "  <thead>\n",
              "    <tr style=\"text-align: right;\">\n",
              "      <th></th>\n",
              "      <th>LungCap</th>\n",
              "      <th>Age</th>\n",
              "      <th>Height</th>\n",
              "    </tr>\n",
              "  </thead>\n",
              "  <tbody>\n",
              "    <tr>\n",
              "      <th>count</th>\n",
              "      <td>725.000000</td>\n",
              "      <td>725.000000</td>\n",
              "      <td>725.000000</td>\n",
              "    </tr>\n",
              "    <tr>\n",
              "      <th>mean</th>\n",
              "      <td>7.869441</td>\n",
              "      <td>12.326897</td>\n",
              "      <td>64.836276</td>\n",
              "    </tr>\n",
              "    <tr>\n",
              "      <th>std</th>\n",
              "      <td>2.649959</td>\n",
              "      <td>4.004750</td>\n",
              "      <td>7.202144</td>\n",
              "    </tr>\n",
              "    <tr>\n",
              "      <th>min</th>\n",
              "      <td>1.025000</td>\n",
              "      <td>3.000000</td>\n",
              "      <td>45.300000</td>\n",
              "    </tr>\n",
              "    <tr>\n",
              "      <th>25%</th>\n",
              "      <td>6.150000</td>\n",
              "      <td>9.000000</td>\n",
              "      <td>59.900000</td>\n",
              "    </tr>\n",
              "    <tr>\n",
              "      <th>50%</th>\n",
              "      <td>8.000000</td>\n",
              "      <td>13.000000</td>\n",
              "      <td>65.400000</td>\n",
              "    </tr>\n",
              "    <tr>\n",
              "      <th>75%</th>\n",
              "      <td>9.800000</td>\n",
              "      <td>15.000000</td>\n",
              "      <td>70.300000</td>\n",
              "    </tr>\n",
              "    <tr>\n",
              "      <th>max</th>\n",
              "      <td>14.675000</td>\n",
              "      <td>19.000000</td>\n",
              "      <td>81.800000</td>\n",
              "    </tr>\n",
              "  </tbody>\n",
              "</table>\n",
              "</div>\n",
              "      <button class=\"colab-df-convert\" onclick=\"convertToInteractive('df-83b471a7-c45d-4514-bbef-f51f69dcc65f')\"\n",
              "              title=\"Convert this dataframe to an interactive table.\"\n",
              "              style=\"display:none;\">\n",
              "        \n",
              "  <svg xmlns=\"http://www.w3.org/2000/svg\" height=\"24px\"viewBox=\"0 0 24 24\"\n",
              "       width=\"24px\">\n",
              "    <path d=\"M0 0h24v24H0V0z\" fill=\"none\"/>\n",
              "    <path d=\"M18.56 5.44l.94 2.06.94-2.06 2.06-.94-2.06-.94-.94-2.06-.94 2.06-2.06.94zm-11 1L8.5 8.5l.94-2.06 2.06-.94-2.06-.94L8.5 2.5l-.94 2.06-2.06.94zm10 10l.94 2.06.94-2.06 2.06-.94-2.06-.94-.94-2.06-.94 2.06-2.06.94z\"/><path d=\"M17.41 7.96l-1.37-1.37c-.4-.4-.92-.59-1.43-.59-.52 0-1.04.2-1.43.59L10.3 9.45l-7.72 7.72c-.78.78-.78 2.05 0 2.83L4 21.41c.39.39.9.59 1.41.59.51 0 1.02-.2 1.41-.59l7.78-7.78 2.81-2.81c.8-.78.8-2.07 0-2.86zM5.41 20L4 18.59l7.72-7.72 1.47 1.35L5.41 20z\"/>\n",
              "  </svg>\n",
              "      </button>\n",
              "      \n",
              "  <style>\n",
              "    .colab-df-container {\n",
              "      display:flex;\n",
              "      flex-wrap:wrap;\n",
              "      gap: 12px;\n",
              "    }\n",
              "\n",
              "    .colab-df-convert {\n",
              "      background-color: #E8F0FE;\n",
              "      border: none;\n",
              "      border-radius: 50%;\n",
              "      cursor: pointer;\n",
              "      display: none;\n",
              "      fill: #1967D2;\n",
              "      height: 32px;\n",
              "      padding: 0 0 0 0;\n",
              "      width: 32px;\n",
              "    }\n",
              "\n",
              "    .colab-df-convert:hover {\n",
              "      background-color: #E2EBFA;\n",
              "      box-shadow: 0px 1px 2px rgba(60, 64, 67, 0.3), 0px 1px 3px 1px rgba(60, 64, 67, 0.15);\n",
              "      fill: #174EA6;\n",
              "    }\n",
              "\n",
              "    [theme=dark] .colab-df-convert {\n",
              "      background-color: #3B4455;\n",
              "      fill: #D2E3FC;\n",
              "    }\n",
              "\n",
              "    [theme=dark] .colab-df-convert:hover {\n",
              "      background-color: #434B5C;\n",
              "      box-shadow: 0px 1px 3px 1px rgba(0, 0, 0, 0.15);\n",
              "      filter: drop-shadow(0px 1px 2px rgba(0, 0, 0, 0.3));\n",
              "      fill: #FFFFFF;\n",
              "    }\n",
              "  </style>\n",
              "\n",
              "      <script>\n",
              "        const buttonEl =\n",
              "          document.querySelector('#df-83b471a7-c45d-4514-bbef-f51f69dcc65f button.colab-df-convert');\n",
              "        buttonEl.style.display =\n",
              "          google.colab.kernel.accessAllowed ? 'block' : 'none';\n",
              "\n",
              "        async function convertToInteractive(key) {\n",
              "          const element = document.querySelector('#df-83b471a7-c45d-4514-bbef-f51f69dcc65f');\n",
              "          const dataTable =\n",
              "            await google.colab.kernel.invokeFunction('convertToInteractive',\n",
              "                                                     [key], {});\n",
              "          if (!dataTable) return;\n",
              "\n",
              "          const docLinkHtml = 'Like what you see? Visit the ' +\n",
              "            '<a target=\"_blank\" href=https://colab.research.google.com/notebooks/data_table.ipynb>data table notebook</a>'\n",
              "            + ' to learn more about interactive tables.';\n",
              "          element.innerHTML = '';\n",
              "          dataTable['output_type'] = 'display_data';\n",
              "          await google.colab.output.renderOutput(dataTable, element);\n",
              "          const docLink = document.createElement('div');\n",
              "          docLink.innerHTML = docLinkHtml;\n",
              "          element.appendChild(docLink);\n",
              "        }\n",
              "      </script>\n",
              "    </div>\n",
              "  </div>\n",
              "  "
            ],
            "text/plain": [
              "          LungCap         Age      Height\n",
              "count  725.000000  725.000000  725.000000\n",
              "mean     7.869441   12.326897   64.836276\n",
              "std      2.649959    4.004750    7.202144\n",
              "min      1.025000    3.000000   45.300000\n",
              "25%      6.150000    9.000000   59.900000\n",
              "50%      8.000000   13.000000   65.400000\n",
              "75%      9.800000   15.000000   70.300000\n",
              "max     14.675000   19.000000   81.800000"
            ]
          },
          "metadata": {},
          "execution_count": 4
        }
      ]
    },
    {
      "cell_type": "code",
      "source": [
        "#Se quiere graficar LungCap vs Edad\n",
        "X = LungCapDF['Age']\n",
        "Y = LungCapDF['LungCap']\n",
        "plt.figure(figsize=(12,5))\n",
        "plt.scatter(x=X,y=Y)\n",
        "plt.title(\"Capacidad Pulmonar vs Edad\")\n",
        "plt.xlabel(\"Edad (años)\")\n",
        "plt.ylabel(\"Capacidad Pulmonar\")\n",
        "plt.show()"
      ],
      "metadata": {
        "colab": {
          "base_uri": "https://localhost:8080/",
          "height": 350
        },
        "id": "U5OeuE8d5BgF",
        "outputId": "364aa221-911a-40c8-a035-16070ff1670d"
      },
      "execution_count": null,
      "outputs": [
        {
          "output_type": "display_data",
          "data": {
            "image/png": "[encoded data removed]",
            "text/plain": [
              "<Figure size 864x360 with 1 Axes>"
            ]
          },
          "metadata": {
            "needs_background": "light"
          }
        }
      ]
    },
    {
      "cell_type": "markdown",
      "source": [
        "# **A continuación se ajusta los datos (X,Y) a un modelo de regresión lineal**\n",
        "\n",
        "# Para estimar, los coeficientes **(m<Pendiente>-b<Punto de intersección>)** se usará **Minimos cuadrados** Usado por la bibliotea sklearn\n",
        "# **X** = LungCapDF['Age']\n",
        "# **Y** = LungCapDF['LungCap']"
      ],
      "metadata": {
        "id": "g_4pUZfO8AqV"
      }
    },
    {
      "cell_type": "code",
      "source": [
        "#Las variables se necesitan reajustar para ser usadas\n",
        "#en el modelo (Es decir, en una dirección)\n",
        "X = LungCapDF['Age'].values.reshape(-1,1)\n",
        "y = LungCapDF['LungCap'].values.reshape(-1,1)"
      ],
      "metadata": {
        "id": "SbIFhJpp-Mmy"
      },
      "execution_count": null,
      "outputs": []
    },
    {
      "cell_type": "code",
      "source": [
        "  ##Se selecciona el modelo de\n",
        "  ##Regresión Lineal, basado en SKLEARN\n",
        "  modeloLR = LinearRegression()"
      ],
      "metadata": {
        "id": "0RTVALRl_Idy"
      },
      "execution_count": null,
      "outputs": []
    },
    {
      "cell_type": "code",
      "source": [
        "## Para el modelo sacar los coeficientes debe entrenarse (usar los datos)\n",
        "modeloLR.fit(X,y)"
      ],
      "metadata": {
        "colab": {
          "base_uri": "https://localhost:8080/"
        },
        "id": "HNxfdDfFAEza",
        "outputId": "f685714b-3ba3-48b6-de72-23be25faa10e"
      },
      "execution_count": null,
      "outputs": [
        {
          "output_type": "execute_result",
          "data": {
            "text/plain": [
              "LinearRegression()"
            ]
          },
          "metadata": {},
          "execution_count": 8
        }
      ]
    },
    {
      "cell_type": "code",
      "source": [
        "## Implementar la predicción\n",
        "yPrediccion = modeloLR.predict(X)"
      ],
      "metadata": {
        "id": "6I3ISWu-Aaxi"
      },
      "execution_count": null,
      "outputs": []
    },
    {
      "cell_type": "code",
      "source": [
        "## Se presentan los coeficientes\n",
        "## Pendiente(m), punto de corte (b)\n",
        "b = modeloLR.intercept_[0] #Punto de corte\n",
        "m = modeloLR.coef_[0][0]\n",
        "print(\"La pendiente del modelo es:\", m)\n",
        "print(\"El punto de corte del modelo es:\", b)"
      ],
      "metadata": {
        "colab": {
          "base_uri": "https://localhost:8080/"
        },
        "id": "8ztiOLEcBIto",
        "outputId": "7174465f-7946-4f66-c972-8c0dfd1b9f56"
      },
      "execution_count": null,
      "outputs": [
        {
          "output_type": "stream",
          "name": "stdout",
          "text": [
            "La pendiente del modelo es: 0.5411831876675206\n",
            "El punto de corte del modelo es: 1.1983322094005073\n"
          ]
        }
      ]
    },
    {
      "cell_type": "code",
      "source": [
        "##Se hace la grafica de mejor ajuste\n",
        "## Para visualizar el modelo LR\n",
        "\n",
        "plt.figure(figsize=(12,5))\n",
        "plt.scatter(LungCapDF['Age'],\n",
        "            LungCapDF['LungCap'],\n",
        "            c = 'pink')\n",
        "plt.plot(LungCapDF['Age'],\n",
        "            yPrediccion,\n",
        "            c = 'purple',\n",
        "            linewidth = 3)\n",
        "plt.title(\"Capacidad Pulmonar vs Edad\")\n",
        "plt.xlabel(\"Edad (años)\")\n",
        "plt.ylabel(\"Capacidad Pulmonar\")\n",
        "plt.grid()\n",
        "plt.show()"
      ],
      "metadata": {
        "colab": {
          "base_uri": "https://localhost:8080/",
          "height": 350
        },
        "id": "qtEVWPg5CL-p",
        "outputId": "03011b1d-a2f6-4c70-8add-b29423615996"
      },
      "execution_count": null,
      "outputs": [
        {
          "output_type": "display_data",
          "data": {
            "image/png": "[encoded data removed]",
            "text/plain": [
              "<Figure size 864x360 with 1 Axes>"
            ]
          },
          "metadata": {
            "needs_background": "light"
          }
        }
      ]
    },
    {
      "cell_type": "markdown",
      "source": [
        "# **Predicción**\n",
        "\n",
        "## Se calcula la prediccion sobre valores conocidos y no conocidos"
      ],
      "metadata": {
        "id": "rUxRuAj2FKv3"
      }
    },
    {
      "cell_type": "code",
      "source": [
        "##Prediccion sobre valor conocido\n",
        "X_know = [[18]]\n",
        "print(\"La capacidad pulmonar en la edad de 18 años, según el modelo es:\",modeloLR.predict(X_know))"
      ],
      "metadata": {
        "colab": {
          "base_uri": "https://localhost:8080/"
        },
        "id": "DL3wqbgeFUBf",
        "outputId": "96ce9c59-1d96-4b84-b5be-5a98f75c61fa"
      },
      "execution_count": null,
      "outputs": [
        {
          "output_type": "stream",
          "name": "stdout",
          "text": [
            "La capacidad pulmonar en la edad de 18 años, según el modelo es: [[10.93962959]]\n"
          ]
        }
      ]
    },
    {
      "cell_type": "code",
      "source": [
        "## Para un valor desconocido\n",
        "X_unknow01 = [[30]]\n",
        "print(\"La capacidad pulmonar en la edad de 30 años, según el modelo es:\",modeloLR.predict(X_unknow01))"
      ],
      "metadata": {
        "colab": {
          "base_uri": "https://localhost:8080/"
        },
        "id": "HpR8mGOiFwz2",
        "outputId": "67ba259f-93bc-4c9b-8b0d-03fb10fdc31c"
      },
      "execution_count": null,
      "outputs": [
        {
          "output_type": "stream",
          "name": "stdout",
          "text": [
            "La capacidad pulmonar en la edad de 30 años, según el modelo es: [[17.43382784]]\n"
          ]
        }
      ]
    },
    {
      "cell_type": "code",
      "source": [
        "##Prediccion sobre valor conocido\n",
        "X_know01 = [[5]]\n",
        "print(\"La capacidad pulmonar en la edad de 5 años, según el modelo es:\",modeloLR.predict(X_know01))"
      ],
      "metadata": {
        "colab": {
          "base_uri": "https://localhost:8080/"
        },
        "id": "MggprGqIGRRm",
        "outputId": "a979930e-a044-4210-c456-61b5094fe800"
      },
      "execution_count": null,
      "outputs": [
        {
          "output_type": "stream",
          "name": "stdout",
          "text": [
            "La capacidad pulmonar en la edad de 5 años, según el modelo es: [[3.90424815]]\n"
          ]
        }
      ]
    },
    {
      "cell_type": "code",
      "source": [
        "## Para un valor desconocido\n",
        "X_unknow02 = [[45]]\n",
        "print(\"La capacidad pulmonar en la edad de 45 años, según el modelo es:\",modeloLR.predict(X_unknow02))"
      ],
      "metadata": {
        "colab": {
          "base_uri": "https://localhost:8080/"
        },
        "id": "wG-1hLvNGeQ2",
        "outputId": "f1cb3bad-13cd-4968-e82b-d675d543466e"
      },
      "execution_count": null,
      "outputs": [
        {
          "output_type": "stream",
          "name": "stdout",
          "text": [
            "La capacidad pulmonar en la edad de 45 años, según el modelo es: [[25.55157565]]\n"
          ]
        }
      ]
    }
  ]
}