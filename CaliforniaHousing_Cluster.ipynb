{
  "cells": [
    {
      "cell_type": "code",
      "source": [
        "!pip install pyspark"
      ],
      "metadata": {
        "id": "_N2WmZhHzC_-",
        "outputId": "bbae6ce3-e847-4b37-c9a0-86bcdade253f",
        "colab": {
          "base_uri": "https://localhost:8080/"
        }
      },
      "execution_count": null,
      "outputs": [
        {
          "output_type": "stream",
          "name": "stdout",
          "text": [
            "Looking in indexes: https://pypi.org/simple, https://us-python.pkg.dev/colab-wheels/public/simple/\n",
            "Collecting pyspark\n",
            "  Downloading pyspark-3.3.2.tar.gz (281.4 MB)\n",
            "\u001b[2K     \u001b[90m━━━━━━━━━━━━━━━━━━━━━━━━━━━━━━━━━━━━━━━\u001b[0m \u001b[32m281.4/281.4 MB\u001b[0m \u001b[31m4.2 MB/s\u001b[0m eta \u001b[36m0:00:00\u001b[0m\n",
            "\u001b[?25h  Preparing metadata (setup.py) ... \u001b[?25l\u001b[?25hdone\n",
            "Collecting py4j==0.10.9.5\n",
            "  Downloading py4j-0.10.9.5-py2.py3-none-any.whl (199 kB)\n",
            "\u001b[2K     \u001b[90m━━━━━━━━━━━━━━━━━━━━━━━━━━━━━━━━━━━━━━\u001b[0m \u001b[32m199.7/199.7 KB\u001b[0m \u001b[31m22.2 MB/s\u001b[0m eta \u001b[36m0:00:00\u001b[0m\n",
            "\u001b[?25hBuilding wheels for collected packages: pyspark\n",
            "  Building wheel for pyspark (setup.py) ... \u001b[?25l\u001b[?25hdone\n",
            "  Created wheel for pyspark: filename=pyspark-3.3.2-py2.py3-none-any.whl size=281824028 sha256=6f39ef86744e7b25276420ba83b288d449f4040378a9e113e29eff9fc03b7e53\n",
            "  Stored in directory: /root/.cache/pip/wheels/6c/e3/9b/0525ce8a69478916513509d43693511463c6468db0de237c86\n",
            "Successfully built pyspark\n",
            "Installing collected packages: py4j, pyspark\n",
            "  Attempting uninstall: py4j\n",
            "    Found existing installation: py4j 0.10.9.7\n",
            "    Uninstalling py4j-0.10.9.7:\n",
            "      Successfully uninstalled py4j-0.10.9.7\n",
            "Successfully installed py4j-0.10.9.5 pyspark-3.3.2\n"
          ]
        }
      ]
    },
    {
      "cell_type": "code",
      "source": [
        "from pyspark.sql import SparkSession\n",
        "from pyspark.sql import functions as fc"
      ],
      "metadata": {
        "id": "ZzNLwo-E0wZo"
      },
      "execution_count": null,
      "outputs": []
    },
    {
      "cell_type": "code",
      "source": [
        "spark = SparkSession.builder.getOrCreate()"
      ],
      "metadata": {
        "id": "6_jaGw6o07Tu"
      },
      "execution_count": null,
      "outputs": []
    },
    {
      "cell_type": "code",
      "source": [
        "df = spark.read.csv(\"/content/sample_data/california_housing_train.csv\",header=True, inferSchema=True)"
      ],
      "metadata": {
        "id": "4LKGDXuW1Ih_"
      },
      "execution_count": null,
      "outputs": []
    },
    {
      "cell_type": "code",
      "source": [
        "df.show(2)"
      ],
      "metadata": {
        "id": "wfqxCqTo1g9o",
        "outputId": "f2739fcb-c425-4359-ccda-da3af92eff07",
        "colab": {
          "base_uri": "https://localhost:8080/"
        }
      },
      "execution_count": null,
      "outputs": [
        {
          "output_type": "stream",
          "name": "stdout",
          "text": [
            "+---------+--------+------------------+-----------+--------------+----------+----------+-------------+------------------+\n",
            "|longitude|latitude|housing_median_age|total_rooms|total_bedrooms|population|households|median_income|median_house_value|\n",
            "+---------+--------+------------------+-----------+--------------+----------+----------+-------------+------------------+\n",
            "|  -114.31|   34.19|              15.0|     5612.0|        1283.0|    1015.0|     472.0|       1.4936|           66900.0|\n",
            "|  -114.47|    34.4|              19.0|     7650.0|        1901.0|    1129.0|     463.0|         1.82|           80100.0|\n",
            "+---------+--------+------------------+-----------+--------------+----------+----------+-------------+------------------+\n",
            "only showing top 2 rows\n",
            "\n"
          ]
        }
      ]
    },
    {
      "cell_type": "code",
      "source": [
        "df.printSchema()"
      ],
      "metadata": {
        "id": "ZeTI6LBk2Mo3",
        "outputId": "e192dfb5-4c00-42f6-ac86-316feac8cb18",
        "colab": {
          "base_uri": "https://localhost:8080/"
        }
      },
      "execution_count": null,
      "outputs": [
        {
          "output_type": "stream",
          "name": "stdout",
          "text": [
            "root\n",
            " |-- longitude: double (nullable = true)\n",
            " |-- latitude: double (nullable = true)\n",
            " |-- housing_median_age: double (nullable = true)\n",
            " |-- total_rooms: double (nullable = true)\n",
            " |-- total_bedrooms: double (nullable = true)\n",
            " |-- population: double (nullable = true)\n",
            " |-- households: double (nullable = true)\n",
            " |-- median_income: double (nullable = true)\n",
            " |-- median_house_value: double (nullable = true)\n",
            "\n"
          ]
        }
      ]
    },
    {
      "cell_type": "code",
      "source": [
        "df.select(\"longitude\", \"latitude\").show()"
      ],
      "metadata": {
        "id": "D6wG71r12ha_",
        "outputId": "f5521a92-90b2-4712-c78a-e3bd557a3d08",
        "colab": {
          "base_uri": "https://localhost:8080/"
        }
      },
      "execution_count": null,
      "outputs": [
        {
          "output_type": "stream",
          "name": "stdout",
          "text": [
            "+---------+--------+\n",
            "|longitude|latitude|\n",
            "+---------+--------+\n",
            "|  -114.31|   34.19|\n",
            "|  -114.47|    34.4|\n",
            "|  -114.56|   33.69|\n",
            "|  -114.57|   33.64|\n",
            "|  -114.57|   33.57|\n",
            "|  -114.58|   33.63|\n",
            "|  -114.58|   33.61|\n",
            "|  -114.59|   34.83|\n",
            "|  -114.59|   33.61|\n",
            "|   -114.6|   34.83|\n",
            "|   -114.6|   33.62|\n",
            "|   -114.6|    33.6|\n",
            "|  -114.61|   34.84|\n",
            "|  -114.61|   34.83|\n",
            "|  -114.63|   32.76|\n",
            "|  -114.65|   34.89|\n",
            "|  -114.65|    33.6|\n",
            "|  -114.65|   32.79|\n",
            "|  -114.66|   32.74|\n",
            "|  -114.67|   33.92|\n",
            "+---------+--------+\n",
            "only showing top 20 rows\n",
            "\n"
          ]
        }
      ]
    },
    {
      "cell_type": "code",
      "source": [
        "df.select(fc.avg(\"housing_median_age\").alias(\"promedio_edad\")).show()"
      ],
      "metadata": {
        "id": "I7HnHFeL2sno",
        "outputId": "47506359-7990-46c3-c3ef-2b06e456da9d",
        "colab": {
          "base_uri": "https://localhost:8080/"
        }
      },
      "execution_count": null,
      "outputs": [
        {
          "output_type": "stream",
          "name": "stdout",
          "text": [
            "+-----------------+\n",
            "|    promedio_edad|\n",
            "+-----------------+\n",
            "|28.58935294117647|\n",
            "+-----------------+\n",
            "\n"
          ]
        }
      ]
    },
    {
      "cell_type": "code",
      "source": [
        "df.select(fc.min(\"latitude\"),fc.max(\"longitude\")).show()"
      ],
      "metadata": {
        "id": "PQy1HKeO34cx",
        "outputId": "dde5b0be-15df-4b88-b401-ad9defe42c4a",
        "colab": {
          "base_uri": "https://localhost:8080/"
        }
      },
      "execution_count": null,
      "outputs": [
        {
          "output_type": "stream",
          "name": "stdout",
          "text": [
            "+-------------+--------------+\n",
            "|min(latitude)|max(longitude)|\n",
            "+-------------+--------------+\n",
            "|        32.54|       -114.31|\n",
            "+-------------+--------------+\n",
            "\n"
          ]
        }
      ]
    },
    {
      "cell_type": "code",
      "source": [
        "df.where(\"housing_median_age > 10\").count()"
      ],
      "metadata": {
        "id": "ZPNaVOMO4EwA",
        "outputId": "03368042-5f2f-4141-e2f3-efa757cd501d",
        "colab": {
          "base_uri": "https://localhost:8080/"
        }
      },
      "execution_count": null,
      "outputs": [
        {
          "output_type": "execute_result",
          "data": {
            "text/plain": [
              "15687"
            ]
          },
          "metadata": {},
          "execution_count": 21
        }
      ]
    },
    {
      "cell_type": "code",
      "source": [
        "df = spark.read.csv(\"credit\",header=True,inferSchema=True)"
      ],
      "metadata": {
        "id": "-9rX6rlS6kkx"
      },
      "execution_count": null,
      "outputs": []
    },
    {
      "cell_type": "code",
      "source": [
        "df.show()"
      ],
      "metadata": {
        "id": "CUmved5_6suA",
        "outputId": "fd7cf140-89e0-486e-85a0-9aabae25123c",
        "colab": {
          "base_uri": "https://localhost:8080/"
        }
      },
      "execution_count": null,
      "outputs": [
        {
          "output_type": "stream",
          "name": "stdout",
          "text": [
            "+---+---+------+---+-------+---------------+----------------+-------------+--------+-------------------+----+\n",
            "|_c0|Age|   Sex|Job|Housing|Saving accounts|Checking account|Credit amount|Duration|            Purpose|Risk|\n",
            "+---+---+------+---+-------+---------------+----------------+-------------+--------+-------------------+----+\n",
            "|  0| 67|  male|  2|    own|             NA|          little|         1169|       6|           radio/TV|good|\n",
            "|  1| 22|female|  2|    own|         little|        moderate|         5951|      48|           radio/TV| bad|\n",
            "|  2| 49|  male|  1|    own|         little|              NA|         2096|      12|          education|good|\n",
            "|  3| 45|  male|  2|   free|         little|          little|         7882|      42|furniture/equipment|good|\n",
            "|  4| 53|  male|  2|   free|         little|          little|         4870|      24|                car| bad|\n",
            "|  5| 35|  male|  1|   free|             NA|              NA|         9055|      36|          education|good|\n",
            "|  6| 53|  male|  2|    own|     quite rich|              NA|         2835|      24|furniture/equipment|good|\n",
            "|  7| 35|  male|  3|   rent|         little|        moderate|         6948|      36|                car|good|\n",
            "|  8| 61|  male|  1|    own|           rich|              NA|         3059|      12|           radio/TV|good|\n",
            "|  9| 28|  male|  3|    own|         little|        moderate|         5234|      30|                car| bad|\n",
            "| 10| 25|female|  2|   rent|         little|        moderate|         1295|      12|                car| bad|\n",
            "| 11| 24|female|  2|   rent|         little|          little|         4308|      48|           business| bad|\n",
            "| 12| 22|female|  2|    own|         little|        moderate|         1567|      12|           radio/TV|good|\n",
            "| 13| 60|  male|  1|    own|         little|          little|         1199|      24|                car| bad|\n",
            "| 14| 28|female|  2|   rent|         little|          little|         1403|      15|                car|good|\n",
            "| 15| 32|female|  1|    own|       moderate|          little|         1282|      24|           radio/TV| bad|\n",
            "| 16| 53|  male|  2|    own|             NA|              NA|         2424|      24|           radio/TV|good|\n",
            "| 17| 25|  male|  2|    own|             NA|          little|         8072|      30|           business|good|\n",
            "| 18| 44|female|  3|   free|         little|        moderate|        12579|      24|                car| bad|\n",
            "| 19| 31|  male|  2|    own|     quite rich|              NA|         3430|      24|           radio/TV|good|\n",
            "+---+---+------+---+-------+---------------+----------------+-------------+--------+-------------------+----+\n",
            "only showing top 20 rows\n",
            "\n"
          ]
        }
      ]
    },
    {
      "cell_type": "code",
      "source": [
        "df.groupby(\"sex\").avg(\"age\").show()"
      ],
      "metadata": {
        "id": "s9kplmVq66ew",
        "outputId": "02119a45-59fe-4bbf-ced8-4955b72a92b7",
        "colab": {
          "base_uri": "https://localhost:8080/"
        }
      },
      "execution_count": null,
      "outputs": [
        {
          "output_type": "stream",
          "name": "stdout",
          "text": [
            "+------+------------------+\n",
            "|   sex|          avg(age)|\n",
            "+------+------------------+\n",
            "|female|32.803225806451614|\n",
            "|  male|36.778260869565216|\n",
            "+------+------------------+\n",
            "\n"
          ]
        }
      ]
    },
    {
      "cell_type": "code",
      "source": [
        "df.where(\"housing_median_age > 10\").count()\n",
        "df.select(fc.avg(\"housing_median_age\").alias(\"promedio_edad\")).show()"
      ],
      "metadata": {
        "id": "QGJZbRNZ7yNy"
      },
      "execution_count": null,
      "outputs": []
    },
    {
      "cell_type": "markdown",
      "source": [
        "Edad promedio de los clientes malos\n",
        "\n",
        "\n",
        "Número de hombres y mujeres.\n",
        "\n",
        "\n",
        "Valor de crédito promedio para hombres y para mujeres.\n",
        "\n",
        "\n",
        "promedio de duration de créditos que son destinados para educación"
      ],
      "metadata": {
        "id": "YbKV3OdV8Sug"
      }
    },
    {
      "cell_type": "code",
      "source": [
        "df.where(\"Risk == 'bad'\").select(fc.avg(\"Age\").alias(\"promedio_edad_clientes_malos\")).show()"
      ],
      "metadata": {
        "id": "9tuapLrs9OfT",
        "outputId": "e619618a-d161-484d-97e9-def5e4e8f7d2",
        "colab": {
          "base_uri": "https://localhost:8080/"
        }
      },
      "execution_count": null,
      "outputs": [
        {
          "output_type": "stream",
          "name": "stdout",
          "text": [
            "+----------------------------+\n",
            "|promedio_edad_clientes_malos|\n",
            "+----------------------------+\n",
            "|           33.96333333333333|\n",
            "+----------------------------+\n",
            "\n"
          ]
        }
      ]
    },
    {
      "cell_type": "code",
      "source": [
        "df.groupby(\"Sex\").count().show()"
      ],
      "metadata": {
        "id": "hUzgV6BF9pzY",
        "outputId": "8284b7de-bb93-4ff7-a414-9a85f957a582",
        "colab": {
          "base_uri": "https://localhost:8080/"
        }
      },
      "execution_count": null,
      "outputs": [
        {
          "output_type": "stream",
          "name": "stdout",
          "text": [
            "+------+-----+\n",
            "|   Sex|count|\n",
            "+------+-----+\n",
            "|female|  930|\n",
            "|  male| 2070|\n",
            "+------+-----+\n",
            "\n"
          ]
        }
      ]
    },
    {
      "cell_type": "code",
      "source": [
        "df.groupby(\"Sex\").avg(\"Credit amount\").show()"
      ],
      "metadata": {
        "id": "24N0n_8D91Vv",
        "outputId": "db01e6fd-0480-4e93-aea4-733fc82757aa",
        "colab": {
          "base_uri": "https://localhost:8080/"
        }
      },
      "execution_count": null,
      "outputs": [
        {
          "output_type": "stream",
          "name": "stdout",
          "text": [
            "+------+------------------+\n",
            "|   Sex|avg(Credit amount)|\n",
            "+------+------------------+\n",
            "|female|2877.7741935483873|\n",
            "|  male| 3448.040579710145|\n",
            "+------+------------------+\n",
            "\n"
          ]
        }
      ]
    },
    {
      "cell_type": "code",
      "source": [
        "df.where(\"Purpose == 'education'\").select(fc.avg(\"Credit amount\").alias(\"promedio_para_Educacion\")).show()"
      ],
      "metadata": {
        "id": "defXxrwV-Svo",
        "outputId": "e7c96809-31f8-42e9-e149-5311cb2db4d1",
        "colab": {
          "base_uri": "https://localhost:8080/"
        }
      },
      "execution_count": null,
      "outputs": [
        {
          "output_type": "stream",
          "name": "stdout",
          "text": [
            "+-----------------------+\n",
            "|promedio_para_Educacion|\n",
            "+-----------------------+\n",
            "|     2879.2033898305085|\n",
            "+-----------------------+\n",
            "\n"
          ]
        }
      ]
    }
  ],
  "metadata": {
    "colab": {
      "provenance": []
    },
    "kernelspec": {
      "display_name": "Python 3",
      "name": "python3"
    }
  },
  "nbformat": 4,
  "nbformat_minor": 0
}