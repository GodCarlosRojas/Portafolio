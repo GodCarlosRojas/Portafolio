{
  "cells": [
    {
      "cell_type": "markdown",
      "id": "109ab491",
      "metadata": {
        "id": "109ab491"
      },
      "source": [
        "# Taller 2: Métricas de Desempeño\n",
        "---\n",
        "\n",
        "Este taller busca evaluar conceptos de modelamiento y la implementación de métricas de desempeño para la evaluación de modelos de Machine Learning supervisados.\n",
        "\n",
        "- **Fecha de entrega**: 23 de Abril de 2023\n",
        "- **Enlace de entrega**: https://forms.gle/cZDfJHdUn3PjM3KD6\n",
        "\n",
        "Librerías:"
      ]
    },
    {
      "cell_type": "markdown",
      "source": [
        "<div>\n",
        "<img src=\"https://res-5.cloudinary.com/crunchbase-production/image/upload/c_lpad,h_256,w_256,f_auto,q_auto:eco/v1455514364/pim02bzqvgz0hibsra41.png\" align=\"right\"><br><br><FONT FACE=\"times new roman\" SIZE=5>\n",
        "<b></b>\n",
        "<br>\n",
        "<i><b>Docente:</b></i> Juan Lara.\n",
        "<br>\n",
        "<i><b>Asignatura:</b></i> Metricas de desempeño.\n",
        "<br>\n",
        "<i><b>Estudiante:</b></i> Steven Sebastian Florido Paez.\n",
        "<br>\n",
        "<i><b>Estudiante:</b></i> Luis Angel Rodriguez Calderon.\n",
        "<br>\n",
        "<i><b>Estudiante:</b></i> Carlos Andres Rojas Rocha.\n",
        "<br>\n",
        "<i><b>Tema:</b></i> Parcial corte 2.\n",
        "<br>\n",
        "<i><b>23 Abril 2023 </b></i>\n",
        "</FONT>\n",
        "</div>"
      ],
      "metadata": {
        "id": "xwHEPHtSxuIs"
      },
      "id": "xwHEPHtSxuIs"
    },
    {
      "cell_type": "code",
      "execution_count": null,
      "id": "227aa92d",
      "metadata": {
        "id": "227aa92d"
      },
      "outputs": [],
      "source": [
        "import numpy as np\n",
        "import pandas as pd\n",
        "import matplotlib.pyplot as plt\n",
        "from scipy import optimize\n",
        "from sklearn.base import BaseEstimator, ClassifierMixin\n",
        "from sklearn.preprocessing import MinMaxScaler\n",
        "from sklearn.model_selection import train_test_split\n",
        "from numpy.typing import ArrayLike\n",
        "from typing import Tuple\n",
        "from IPython.display import display\n",
        "import seaborn as sns\n",
        "from scipy.optimize import minimize\n",
        "from sklearn.metrics import accuracy_score\n",
        "from scipy.special import expit as sigmoid\n",
        "from sklearn.metrics import precision_score\n",
        "from sklearn.metrics import recall_score\n",
        "from sklearn.metrics import f1_score\n",
        "from sklearn.metrics import confusion_matrix"
      ]
    },
    {
      "cell_type": "markdown",
      "id": "ef23fc9b",
      "metadata": {
        "id": "ef23fc9b"
      },
      "source": [
        "## **1. Carga de Datos**\n",
        "---\n",
        "\n",
        "En este caso trabajáremos con el conjunto de datos [Heart Attack Analysis & Prediction Dataset](https://www.kaggle.com/datasets/rashikrahmanpritom/heart-attack-analysis-prediction-dataset?select=heart.csv) de Kaggle, vamos a descargarlo:"
      ]
    },
    {
      "cell_type": "code",
      "execution_count": null,
      "id": "fa48bcec",
      "metadata": {
        "id": "fa48bcec",
        "colab": {
          "base_uri": "https://localhost:8080/"
        },
        "outputId": "dd838538-1f9c-4d85-9d0b-42ee7925f9ef"
      },
      "outputs": [
        {
          "output_type": "stream",
          "name": "stdout",
          "text": [
            "--2023-04-17 13:29:32--  https://drive.google.com/uc?export=view&id=1djX2CPMY-O_vskg9ey326auY8Yho415v\n",
            "Resolving drive.google.com (drive.google.com)... 142.251.107.102, 142.251.107.113, 142.251.107.138, ...\n",
            "Connecting to drive.google.com (drive.google.com)|142.251.107.102|:443... connected.\n",
            "HTTP request sent, awaiting response... 303 See Other\n",
            "Location: https://doc-10-4g-docs.googleusercontent.com/docs/securesc/ha0ro937gcuc7l7deffksulhg5h7mbp1/4tm1vfl29sl2rff98v8fvu8n80u77at3/1681738125000/16848862265445619282/*/1djX2CPMY-O_vskg9ey326auY8Yho415v?e=view&uuid=c0927eb1-3303-4fdf-9ba4-1f4df9b9be89 [following]\n",
            "Warning: wildcards not supported in HTTP.\n",
            "--2023-04-17 13:29:33--  https://doc-10-4g-docs.googleusercontent.com/docs/securesc/ha0ro937gcuc7l7deffksulhg5h7mbp1/4tm1vfl29sl2rff98v8fvu8n80u77at3/1681738125000/16848862265445619282/*/1djX2CPMY-O_vskg9ey326auY8Yho415v?e=view&uuid=c0927eb1-3303-4fdf-9ba4-1f4df9b9be89\n",
            "Resolving doc-10-4g-docs.googleusercontent.com (doc-10-4g-docs.googleusercontent.com)... 74.125.141.132, 2607:f8b0:400c:c06::84\n",
            "Connecting to doc-10-4g-docs.googleusercontent.com (doc-10-4g-docs.googleusercontent.com)|74.125.141.132|:443... connected.\n",
            "HTTP request sent, awaiting response... 200 OK\n",
            "Length: 4209 (4.1K) [application/zip]\n",
            "Saving to: ‘heart_failure.zip’\n",
            "\n",
            "heart_failure.zip   100%[===================>]   4.11K  --.-KB/s    in 0s      \n",
            "\n",
            "2023-04-17 13:29:33 (48.2 MB/s) - ‘heart_failure.zip’ saved [4209/4209]\n",
            "\n",
            "Archive:  heart_failure.zip\n",
            "replace heart.csv? [y]es, [n]o, [A]ll, [N]one, [r]ename: n\n",
            "replace o2Saturation.csv? [y]es, [n]o, [A]ll, [N]one, [r]ename: n\n"
          ]
        }
      ],
      "source": [
        "!wget 'https://drive.google.com/uc?export=view&id=1djX2CPMY-O_vskg9ey326auY8Yho415v' -O heart_failure.zip\n",
        "!unzip heart_failure.zip"
      ]
    },
    {
      "cell_type": "markdown",
      "id": "3485302f",
      "metadata": {
        "id": "3485302f"
      },
      "source": [
        "Cargamos el conjunto de datos:"
      ]
    },
    {
      "cell_type": "code",
      "execution_count": null,
      "id": "ba397770",
      "metadata": {
        "lines_to_next_cell": 1,
        "id": "ba397770",
        "colab": {
          "base_uri": "https://localhost:8080/",
          "height": 206
        },
        "outputId": "bcbbfb73-450d-4ad7-9e44-5a55a3a1ac51"
      },
      "outputs": [
        {
          "output_type": "display_data",
          "data": {
            "text/plain": [
              "   age  sex  cp  trtbps  chol  fbs  restecg  thalachh  exng  oldpeak  slp  \\\n",
              "0   63    1   3     145   233    1        0       150     0      2.3    0   \n",
              "1   37    1   2     130   250    0        1       187     0      3.5    0   \n",
              "2   41    0   1     130   204    0        0       172     0      1.4    2   \n",
              "3   56    1   1     120   236    0        1       178     0      0.8    2   \n",
              "4   57    0   0     120   354    0        1       163     1      0.6    2   \n",
              "\n",
              "   caa  thall  output  \n",
              "0    0      1       1  \n",
              "1    0      2       1  \n",
              "2    0      2       1  \n",
              "3    0      2       1  \n",
              "4    0      2       1  "
            ],
            "text/html": [
              "\n",
              "  <div id=\"df-dbc939ed-5fd6-4d10-9cbd-24a1aa2a82df\">\n",
              "    <div class=\"colab-df-container\">\n",
              "      <div>\n",
              "<style scoped>\n",
              "    .dataframe tbody tr th:only-of-type {\n",
              "        vertical-align: middle;\n",
              "    }\n",
              "\n",
              "    .dataframe tbody tr th {\n",
              "        vertical-align: top;\n",
              "    }\n",
              "\n",
              "    .dataframe thead th {\n",
              "        text-align: right;\n",
              "    }\n",
              "</style>\n",
              "<table border=\"1\" class=\"dataframe\">\n",
              "  <thead>\n",
              "    <tr style=\"text-align: right;\">\n",
              "      <th></th>\n",
              "      <th>age</th>\n",
              "      <th>sex</th>\n",
              "      <th>cp</th>\n",
              "      <th>trtbps</th>\n",
              "      <th>chol</th>\n",
              "      <th>fbs</th>\n",
              "      <th>restecg</th>\n",
              "      <th>thalachh</th>\n",
              "      <th>exng</th>\n",
              "      <th>oldpeak</th>\n",
              "      <th>slp</th>\n",
              "      <th>caa</th>\n",
              "      <th>thall</th>\n",
              "      <th>output</th>\n",
              "    </tr>\n",
              "  </thead>\n",
              "  <tbody>\n",
              "    <tr>\n",
              "      <th>0</th>\n",
              "      <td>63</td>\n",
              "      <td>1</td>\n",
              "      <td>3</td>\n",
              "      <td>145</td>\n",
              "      <td>233</td>\n",
              "      <td>1</td>\n",
              "      <td>0</td>\n",
              "      <td>150</td>\n",
              "      <td>0</td>\n",
              "      <td>2.3</td>\n",
              "      <td>0</td>\n",
              "      <td>0</td>\n",
              "      <td>1</td>\n",
              "      <td>1</td>\n",
              "    </tr>\n",
              "    <tr>\n",
              "      <th>1</th>\n",
              "      <td>37</td>\n",
              "      <td>1</td>\n",
              "      <td>2</td>\n",
              "      <td>130</td>\n",
              "      <td>250</td>\n",
              "      <td>0</td>\n",
              "      <td>1</td>\n",
              "      <td>187</td>\n",
              "      <td>0</td>\n",
              "      <td>3.5</td>\n",
              "      <td>0</td>\n",
              "      <td>0</td>\n",
              "      <td>2</td>\n",
              "      <td>1</td>\n",
              "    </tr>\n",
              "    <tr>\n",
              "      <th>2</th>\n",
              "      <td>41</td>\n",
              "      <td>0</td>\n",
              "      <td>1</td>\n",
              "      <td>130</td>\n",
              "      <td>204</td>\n",
              "      <td>0</td>\n",
              "      <td>0</td>\n",
              "      <td>172</td>\n",
              "      <td>0</td>\n",
              "      <td>1.4</td>\n",
              "      <td>2</td>\n",
              "      <td>0</td>\n",
              "      <td>2</td>\n",
              "      <td>1</td>\n",
              "    </tr>\n",
              "    <tr>\n",
              "      <th>3</th>\n",
              "      <td>56</td>\n",
              "      <td>1</td>\n",
              "      <td>1</td>\n",
              "      <td>120</td>\n",
              "      <td>236</td>\n",
              "      <td>0</td>\n",
              "      <td>1</td>\n",
              "      <td>178</td>\n",
              "      <td>0</td>\n",
              "      <td>0.8</td>\n",
              "      <td>2</td>\n",
              "      <td>0</td>\n",
              "      <td>2</td>\n",
              "      <td>1</td>\n",
              "    </tr>\n",
              "    <tr>\n",
              "      <th>4</th>\n",
              "      <td>57</td>\n",
              "      <td>0</td>\n",
              "      <td>0</td>\n",
              "      <td>120</td>\n",
              "      <td>354</td>\n",
              "      <td>0</td>\n",
              "      <td>1</td>\n",
              "      <td>163</td>\n",
              "      <td>1</td>\n",
              "      <td>0.6</td>\n",
              "      <td>2</td>\n",
              "      <td>0</td>\n",
              "      <td>2</td>\n",
              "      <td>1</td>\n",
              "    </tr>\n",
              "  </tbody>\n",
              "</table>\n",
              "</div>\n",
              "      <button class=\"colab-df-convert\" onclick=\"convertToInteractive('df-dbc939ed-5fd6-4d10-9cbd-24a1aa2a82df')\"\n",
              "              title=\"Convert this dataframe to an interactive table.\"\n",
              "              style=\"display:none;\">\n",
              "        \n",
              "  <svg xmlns=\"http://www.w3.org/2000/svg\" height=\"24px\"viewBox=\"0 0 24 24\"\n",
              "       width=\"24px\">\n",
              "    <path d=\"M0 0h24v24H0V0z\" fill=\"none\"/>\n",
              "    <path d=\"M18.56 5.44l.94 2.06.94-2.06 2.06-.94-2.06-.94-.94-2.06-.94 2.06-2.06.94zm-11 1L8.5 8.5l.94-2.06 2.06-.94-2.06-.94L8.5 2.5l-.94 2.06-2.06.94zm10 10l.94 2.06.94-2.06 2.06-.94-2.06-.94-.94-2.06-.94 2.06-2.06.94z\"/><path d=\"M17.41 7.96l-1.37-1.37c-.4-.4-.92-.59-1.43-.59-.52 0-1.04.2-1.43.59L10.3 9.45l-7.72 7.72c-.78.78-.78 2.05 0 2.83L4 21.41c.39.39.9.59 1.41.59.51 0 1.02-.2 1.41-.59l7.78-7.78 2.81-2.81c.8-.78.8-2.07 0-2.86zM5.41 20L4 18.59l7.72-7.72 1.47 1.35L5.41 20z\"/>\n",
              "  </svg>\n",
              "      </button>\n",
              "      \n",
              "  <style>\n",
              "    .colab-df-container {\n",
              "      display:flex;\n",
              "      flex-wrap:wrap;\n",
              "      gap: 12px;\n",
              "    }\n",
              "\n",
              "    .colab-df-convert {\n",
              "      background-color: #E8F0FE;\n",
              "      border: none;\n",
              "      border-radius: 50%;\n",
              "      cursor: pointer;\n",
              "      display: none;\n",
              "      fill: #1967D2;\n",
              "      height: 32px;\n",
              "      padding: 0 0 0 0;\n",
              "      width: 32px;\n",
              "    }\n",
              "\n",
              "    .colab-df-convert:hover {\n",
              "      background-color: #E2EBFA;\n",
              "      box-shadow: 0px 1px 2px rgba(60, 64, 67, 0.3), 0px 1px 3px 1px rgba(60, 64, 67, 0.15);\n",
              "      fill: #174EA6;\n",
              "    }\n",
              "\n",
              "    [theme=dark] .colab-df-convert {\n",
              "      background-color: #3B4455;\n",
              "      fill: #D2E3FC;\n",
              "    }\n",
              "\n",
              "    [theme=dark] .colab-df-convert:hover {\n",
              "      background-color: #434B5C;\n",
              "      box-shadow: 0px 1px 3px 1px rgba(0, 0, 0, 0.15);\n",
              "      filter: drop-shadow(0px 1px 2px rgba(0, 0, 0, 0.3));\n",
              "      fill: #FFFFFF;\n",
              "    }\n",
              "  </style>\n",
              "\n",
              "      <script>\n",
              "        const buttonEl =\n",
              "          document.querySelector('#df-dbc939ed-5fd6-4d10-9cbd-24a1aa2a82df button.colab-df-convert');\n",
              "        buttonEl.style.display =\n",
              "          google.colab.kernel.accessAllowed ? 'block' : 'none';\n",
              "\n",
              "        async function convertToInteractive(key) {\n",
              "          const element = document.querySelector('#df-dbc939ed-5fd6-4d10-9cbd-24a1aa2a82df');\n",
              "          const dataTable =\n",
              "            await google.colab.kernel.invokeFunction('convertToInteractive',\n",
              "                                                     [key], {});\n",
              "          if (!dataTable) return;\n",
              "\n",
              "          const docLinkHtml = 'Like what you see? Visit the ' +\n",
              "            '<a target=\"_blank\" href=https://colab.research.google.com/notebooks/data_table.ipynb>data table notebook</a>'\n",
              "            + ' to learn more about interactive tables.';\n",
              "          element.innerHTML = '';\n",
              "          dataTable['output_type'] = 'display_data';\n",
              "          await google.colab.output.renderOutput(dataTable, element);\n",
              "          const docLink = document.createElement('div');\n",
              "          docLink.innerHTML = docLinkHtml;\n",
              "          element.appendChild(docLink);\n",
              "        }\n",
              "      </script>\n",
              "    </div>\n",
              "  </div>\n",
              "  "
            ]
          },
          "metadata": {}
        }
      ],
      "source": [
        "data = pd.read_csv(\"heart.csv\")\n",
        "display(data.head())"
      ]
    },
    {
      "cell_type": "code",
      "source": [
        "data.info()"
      ],
      "metadata": {
        "colab": {
          "base_uri": "https://localhost:8080/"
        },
        "id": "cokIWdY-TPJf",
        "outputId": "333799af-cbc8-401c-f06b-0da4b2d58868"
      },
      "id": "cokIWdY-TPJf",
      "execution_count": null,
      "outputs": [
        {
          "output_type": "stream",
          "name": "stdout",
          "text": [
            "<class 'pandas.core.frame.DataFrame'>\n",
            "RangeIndex: 303 entries, 0 to 302\n",
            "Data columns (total 14 columns):\n",
            " #   Column    Non-Null Count  Dtype  \n",
            "---  ------    --------------  -----  \n",
            " 0   age       303 non-null    int64  \n",
            " 1   sex       303 non-null    int64  \n",
            " 2   cp        303 non-null    int64  \n",
            " 3   trtbps    303 non-null    int64  \n",
            " 4   chol      303 non-null    int64  \n",
            " 5   fbs       303 non-null    int64  \n",
            " 6   restecg   303 non-null    int64  \n",
            " 7   thalachh  303 non-null    int64  \n",
            " 8   exng      303 non-null    int64  \n",
            " 9   oldpeak   303 non-null    float64\n",
            " 10  slp       303 non-null    int64  \n",
            " 11  caa       303 non-null    int64  \n",
            " 12  thall     303 non-null    int64  \n",
            " 13  output    303 non-null    int64  \n",
            "dtypes: float64(1), int64(13)\n",
            "memory usage: 33.3 KB\n"
          ]
        }
      ]
    },
    {
      "cell_type": "code",
      "source": [
        "num_columnas = data.shape[1]\n",
        "print(\"El dataset tiene \", num_columnas, \" columnas.\")"
      ],
      "metadata": {
        "colab": {
          "base_uri": "https://localhost:8080/"
        },
        "id": "53aZ6JegCywq",
        "outputId": "e671b1d7-d9e4-49ed-9b25-ee3184a7e045"
      },
      "id": "53aZ6JegCywq",
      "execution_count": null,
      "outputs": [
        {
          "output_type": "stream",
          "name": "stdout",
          "text": [
            "El dataset tiene  14  columnas.\n"
          ]
        }
      ]
    },
    {
      "cell_type": "markdown",
      "id": "f15f04a3",
      "metadata": {
        "id": "f15f04a3"
      },
      "source": [
        "## **2. Análisis Exploratorio**\n",
        "---\n",
        "\n",
        "En este punto deberá explorar y entender el conjunto de datos y sus elementos.\n",
        "\n",
        "- ¿Cuántas columnas tiene el conjunto de datos, qué significa cada una?"
      ]
    },
    {
      "cell_type": "markdown",
      "id": "19630b61",
      "metadata": {
        "id": "19630b61"
      },
      "source": [
        "**El conjunto de datos posee 14 columnas:**\n",
        "\n",
        "**1.   Age: La edad de cada persona**\n",
        "\n",
        "**2.   Sex: El genero de cada persona(1 = masculino, 0 = femenino)**\n",
        "\n",
        "**3.   CP: Nivel de pericarditis constrictiva(del 1 al 4)**\n",
        "\n",
        "**4.   Trtbps: Presión artertial en reposo**\n",
        "\n",
        "**5.   Chol: Nivel de colesterol**\n",
        "\n",
        "**6.   Fbs: Si tiene(1) o no tiene(0) azucar en la sangre en ayunas**\n",
        "\n",
        "**7.   Restecg: Nivel de electrocardiográfica del paciente en reposo(del 0 al 2)**\n",
        "\n",
        "**8.   Thalachh: Frecuancia cardiaca maxima**\n",
        "\n",
        "**9.   Exng: Si tiene(1) o no(0) angina inducida**\n",
        "\n",
        "**10.  OldPeak: Depresion del segmento ST(Electrocardiograma)**\n",
        "\n",
        "**11.  Slp: Inclinacion del segmento ST de ejercicio(del 1 al 3)**\n",
        "\n",
        "**12.  Caa: Numero de vasos principales obstruidos**\n",
        "\n",
        "**13.  Thall: Transtorno sanguineo**\n",
        "\n",
        "**14.  Output: Si tiene(1) o no(0) una enfermedad cardiaca**\n",
        "\n"
      ]
    },
    {
      "cell_type": "markdown",
      "id": "e60fbbd1",
      "metadata": {
        "id": "e60fbbd1"
      },
      "source": [
        "Implemente una función que permita determinar si una columna es continúa o categórica (puede guiarse por el número de elementos únicos que tenga cada columna):"
      ]
    },
    {
      "cell_type": "code",
      "execution_count": null,
      "id": "71339b3c",
      "metadata": {
        "lines_to_next_cell": 1,
        "id": "71339b3c"
      },
      "outputs": [],
      "source": [
        "def continuous_or_categoric(data: pd.DataFrame, column: str, unique_threshold: int = 10) -> bool:\n",
        "    \"\"\"\n",
        "    Esta función valida si una columna contiene números continuos o categóricos.\n",
        "\n",
        "    Parameters\n",
        "    ----------\n",
        "    data : pd.DataFrame\n",
        "        Conjunto de datos.\n",
        "    column : str\n",
        "        Nombre de la columna a seleccionar.\n",
        "\n",
        "    Returns\n",
        "    -------\n",
        "    is_continuous : bool\n",
        "        Indica si la variable es continua o categórica.\n",
        "    \"\"\"\n",
        "    # INGRESE SU CÓDIGO ACÁ\n",
        "    unique_count = data[column].nunique()\n",
        "    is_continuous = unique_count > unique_threshold\n",
        "    return is_continuous"
      ]
    },
    {
      "cell_type": "markdown",
      "id": "58c60a4a",
      "metadata": {
        "id": "58c60a4a"
      },
      "source": [
        "Use la siguiente celda para probar su código (puede cambiar el nombre de la variable)."
      ]
    },
    {
      "cell_type": "code",
      "execution_count": null,
      "id": "e999f1f4",
      "metadata": {
        "lines_to_next_cell": 1,
        "id": "e999f1f4",
        "colab": {
          "base_uri": "https://localhost:8080/",
          "height": 34
        },
        "outputId": "3c78d55f-ce78-492c-c9ed-adb5ae15bd5d"
      },
      "outputs": [
        {
          "output_type": "display_data",
          "data": {
            "text/plain": [
              "True"
            ]
          },
          "metadata": {}
        }
      ],
      "source": [
        "display(continuous_or_categoric(data, \"age\"))"
      ]
    },
    {
      "cell_type": "markdown",
      "id": "1d0835d1",
      "metadata": {
        "id": "1d0835d1"
      },
      "source": [
        "- ¿Cómo es la distribución de las columnas?\n",
        "\n",
        "Para esto debe implementar la función `show_distribution` la cual debe graficar un diagrama de tipo [kernel density estimation](https://seaborn.pydata.org/generated/seaborn.kdeplot.html) para las variables continuas y un diagrama de barras para las variables categóricas:"
      ]
    },
    {
      "cell_type": "code",
      "execution_count": null,
      "id": "9cdd3926",
      "metadata": {
        "lines_to_next_cell": 1,
        "id": "9cdd3926"
      },
      "outputs": [],
      "source": [
        "def show_distribution(data: pd.DataFrame, column: str, plot_color: str = \"orange\") -> plt.Figure:\n",
        "    \"\"\"\n",
        "    Esta función permite visualizar la distribución de cualquier columna del conjunto de datos.\n",
        "\n",
        "    Parameters\n",
        "    ----------\n",
        "    data : pd.DataFrame\n",
        "        Conjunto de datos.\n",
        "    column : str\n",
        "        columna a analizar.\n",
        "\n",
        "    Returns\n",
        "    -------\n",
        "    fig : plt.Figure\n",
        "        Figura de matplotlib.\n",
        "    \"\"\"\n",
        "    # INGRESE SU CÓDIGO ACÁ\n",
        "    if continuous_or_categoric(data, column):\n",
        "        fig, ax = plt.subplots()\n",
        "        sns.kdeplot(data[column], ax=ax, color=plot_color)\n",
        "        ax.set_title(f\"Distribucion {column}\")\n",
        "    else:\n",
        "        fig, ax = plt.subplots()\n",
        "        sns.countplot(data[column], ax=ax, color=plot_color)\n",
        "        ax.set_title(f\"Distribucion {column}\")\n",
        "        ax.set_xlabel(column)\n",
        "        ax.set_ylabel(\"Frecuencia\")\n",
        "    return fig"
      ]
    },
    {
      "cell_type": "markdown",
      "id": "307bb6f4",
      "metadata": {
        "id": "307bb6f4"
      },
      "source": [
        "Utilice la siguiente celda para probar su código:"
      ]
    },
    {
      "cell_type": "code",
      "execution_count": null,
      "id": "3caa60bb",
      "metadata": {
        "lines_to_next_cell": 1,
        "id": "3caa60bb",
        "colab": {
          "base_uri": "https://localhost:8080/",
          "height": 472
        },
        "outputId": "cfd0c53e-c974-4eae-f2dc-1d77277cd5d0"
      },
      "outputs": [
        {
          "output_type": "display_data",
          "data": {
            "text/plain": [
              "<Figure size 640x480 with 1 Axes>"
            ],
            "image/png": "[encoded data removed]"
          },
          "metadata": {}
        }
      ],
      "source": [
        "fig = show_distribution(data, \"age\")\n",
        "fig.show()"
      ]
    },
    {
      "cell_type": "markdown",
      "id": "37d815c1",
      "metadata": {
        "id": "37d815c1"
      },
      "source": [
        "- ¿Cuáles son las variables independientes y cuál es la variable dependiente?\n",
        "\n",
        "Para esto debe implementar la función `target_variable` la cual debe separar las columnas que se tomarán como variables independientes de la columna objetivo."
      ]
    },
    {
      "cell_type": "code",
      "execution_count": null,
      "id": "9fb2a3a6",
      "metadata": {
        "lines_to_next_cell": 1,
        "id": "9fb2a3a6"
      },
      "outputs": [],
      "source": [
        "def target_variable(data: pd.DataFrame) -> Tuple[pd.DataFrame, pd.Series]:\n",
        "    \"\"\"\n",
        "    Esta función permite seleccionar las columnas independientes y la dependiente.\n",
        "\n",
        "    Parameters\n",
        "    ----------\n",
        "    data : pd.DataFrame\n",
        "        Conjunto de datos.\n",
        "\n",
        "    Returns\n",
        "    -------\n",
        "    features : pd.DataFrame\n",
        "        Variables independientes.\n",
        "    labels : pd.Series\n",
        "        Variable dependiente.\n",
        "    \"\"\"\n",
        "    # INGRESE SU CÓDIGO ACÁ\n",
        "    labels = data.iloc[:, -1]\n",
        "    features = data.drop(columns=labels.name)\n",
        "    return features, labels"
      ]
    },
    {
      "cell_type": "markdown",
      "id": "f0896a7e",
      "metadata": {
        "id": "f0896a7e"
      },
      "source": [
        "Utilice la siguiente celda para probar su código:"
      ]
    },
    {
      "cell_type": "code",
      "execution_count": null,
      "id": "c6da58d2",
      "metadata": {
        "lines_to_next_cell": 1,
        "id": "c6da58d2"
      },
      "outputs": [],
      "source": [
        "features, labels = target_variable(data)"
      ]
    },
    {
      "cell_type": "code",
      "source": [
        "print(\"Variable independientes\\n\",features.head())\n",
        "print(\"--------------------------------------------------------------------------\")\n",
        "print(\"Variable dependientes\\n\",labels.head())"
      ],
      "metadata": {
        "colab": {
          "base_uri": "https://localhost:8080/"
        },
        "id": "Fig9lBXGqMal",
        "outputId": "0aa57d9a-dcb0-40c4-84fc-5b30fdb90790"
      },
      "id": "Fig9lBXGqMal",
      "execution_count": null,
      "outputs": [
        {
          "output_type": "stream",
          "name": "stdout",
          "text": [
            "Variable independientes\n",
            "    age  sex  cp  trtbps  chol  fbs  restecg  thalachh  exng  oldpeak  slp  \\\n",
            "0   63    1   3     145   233    1        0       150     0      2.3    0   \n",
            "1   37    1   2     130   250    0        1       187     0      3.5    0   \n",
            "2   41    0   1     130   204    0        0       172     0      1.4    2   \n",
            "3   56    1   1     120   236    0        1       178     0      0.8    2   \n",
            "4   57    0   0     120   354    0        1       163     1      0.6    2   \n",
            "\n",
            "   caa  thall  \n",
            "0    0      1  \n",
            "1    0      2  \n",
            "2    0      2  \n",
            "3    0      2  \n",
            "4    0      2  \n",
            "--------------------------------------------------------------------------\n",
            "Variable dependientes\n",
            " 0    1\n",
            "1    1\n",
            "2    1\n",
            "3    1\n",
            "4    1\n",
            "Name: output, dtype: int64\n"
          ]
        }
      ]
    },
    {
      "cell_type": "markdown",
      "id": "c837777c",
      "metadata": {
        "id": "c837777c"
      },
      "source": [
        "## **3. Preprocesamiento**\n",
        "---\n",
        "\n",
        "En este punto debe implementar una función para preprocesar el conjunto de datos. debe aplicar una transformación de tipo `min_max` sobre los datos (cada columna debe estar entre 0 y 1):\n",
        "\n",
        "$$\n",
        "x_{minmax} = \\frac{x - \\text{min}(x)}{\\text{max}(x) - \\text{min}(x)}\n",
        "$$\n",
        "\n",
        "Puede utilizar la clase `MinMaxScaler` de `sklearn`. Adicionalmente, debe convertir las etiquetas a un arreglo de `numpy`."
      ]
    },
    {
      "cell_type": "code",
      "execution_count": null,
      "id": "d96d430c",
      "metadata": {
        "lines_to_next_cell": 1,
        "id": "d96d430c"
      },
      "outputs": [],
      "source": [
        "def preprocess(features: pd.DataFrame, labels: pd.Series) -> Tuple[ArrayLike, ArrayLike]:\n",
        "    \"\"\"\n",
        "    Esta función permite preprocesar el conjunto de datos.\n",
        "\n",
        "    Parameters\n",
        "    ----------\n",
        "    features : pd.DataFrame\n",
        "        Variables independientes.\n",
        "    labels : pd.Series\n",
        "        Variable dependiente.\n",
        "\n",
        "    Returns\n",
        "    -------\n",
        "    features_p : ArrayLike\n",
        "        Variables independientes preprocesadas.\n",
        "    labels_p : ArrayLike\n",
        "        Variable dependiente preprocesada.\n",
        "    \"\"\"\n",
        "    # INGRESE SU CÓDIGO ACÁ\n",
        "    scaler = MinMaxScaler()\n",
        "    features_p = scaler.fit_transform(features)\n",
        "\n",
        "    labels_p = labels.values\n",
        "\n",
        "    return features_p, labels_p"
      ]
    },
    {
      "cell_type": "markdown",
      "id": "d501932e",
      "metadata": {
        "id": "d501932e"
      },
      "source": [
        "Utilice la siguiente celda para probar su código:"
      ]
    },
    {
      "cell_type": "code",
      "execution_count": null,
      "id": "0bad57ca",
      "metadata": {
        "id": "0bad57ca"
      },
      "outputs": [],
      "source": [
        "features_p, labels_p = preprocess(features, labels)"
      ]
    },
    {
      "cell_type": "code",
      "source": [
        "print(\"Variables independientes:\\n\", features_p)\n",
        "print(\"Variables dependientes:\\n\", labels_p)"
      ],
      "metadata": {
        "colab": {
          "base_uri": "https://localhost:8080/"
        },
        "id": "gL8WJOVHrVLV",
        "outputId": "28c714e9-b958-4c1a-b3b6-c9fedc5d555e"
      },
      "id": "gL8WJOVHrVLV",
      "execution_count": null,
      "outputs": [
        {
          "output_type": "stream",
          "name": "stdout",
          "text": [
            "Variables independientes:\n",
            " [[0.70833333 1.         1.         ... 0.         0.         0.33333333]\n",
            " [0.16666667 1.         0.66666667 ... 0.         0.         0.66666667]\n",
            " [0.25       0.         0.33333333 ... 1.         0.         0.66666667]\n",
            " ...\n",
            " [0.8125     1.         0.         ... 0.5        0.5        1.        ]\n",
            " [0.58333333 1.         0.         ... 0.5        0.25       1.        ]\n",
            " [0.58333333 0.         0.33333333 ... 0.5        0.25       0.66666667]]\n",
            "Variables dependientes:\n",
            " [1 1 1 1 1 1 1 1 1 1 1 1 1 1 1 1 1 1 1 1 1 1 1 1 1 1 1 1 1 1 1 1 1 1 1 1 1\n",
            " 1 1 1 1 1 1 1 1 1 1 1 1 1 1 1 1 1 1 1 1 1 1 1 1 1 1 1 1 1 1 1 1 1 1 1 1 1\n",
            " 1 1 1 1 1 1 1 1 1 1 1 1 1 1 1 1 1 1 1 1 1 1 1 1 1 1 1 1 1 1 1 1 1 1 1 1 1\n",
            " 1 1 1 1 1 1 1 1 1 1 1 1 1 1 1 1 1 1 1 1 1 1 1 1 1 1 1 1 1 1 1 1 1 1 1 1 1\n",
            " 1 1 1 1 1 1 1 1 1 1 1 1 1 1 1 1 1 0 0 0 0 0 0 0 0 0 0 0 0 0 0 0 0 0 0 0 0\n",
            " 0 0 0 0 0 0 0 0 0 0 0 0 0 0 0 0 0 0 0 0 0 0 0 0 0 0 0 0 0 0 0 0 0 0 0 0 0\n",
            " 0 0 0 0 0 0 0 0 0 0 0 0 0 0 0 0 0 0 0 0 0 0 0 0 0 0 0 0 0 0 0 0 0 0 0 0 0\n",
            " 0 0 0 0 0 0 0 0 0 0 0 0 0 0 0 0 0 0 0 0 0 0 0 0 0 0 0 0 0 0 0 0 0 0 0 0 0\n",
            " 0 0 0 0 0 0 0]\n"
          ]
        }
      ]
    },
    {
      "cell_type": "markdown",
      "id": "751cbbea",
      "metadata": {
        "id": "751cbbea"
      },
      "source": [
        "## **4. Modelamiento**\n",
        "---\n",
        "\n",
        "Para entrenar el modelo, dividimos el conjunto de datos en las particiones de entrenamiento y prueba:"
      ]
    },
    {
      "cell_type": "code",
      "execution_count": null,
      "id": "7bbf5001",
      "metadata": {
        "lines_to_next_cell": 1,
        "id": "7bbf5001"
      },
      "outputs": [],
      "source": [
        "features_train, features_test, labels_train, labels_test = train_test_split(\n",
        "        features_p, labels_p, stratify=labels_p, test_size=0.3\n",
        "        )"
      ]
    },
    {
      "cell_type": "markdown",
      "id": "ce470163",
      "metadata": {
        "id": "ce470163"
      },
      "source": [
        "Para el modelo necesitamos optimizar una función de pérdida conocida como la entropía binaria cruzada':\n",
        "\n",
        "$$\n",
        "\\mathcal{L} = - \\frac{1}{N} \\sum_{i=1} ^ N y_i \\log{\\tilde{y}_i} + (1 - y_i) \\log{(1 - \\tilde{y}_i)}\n",
        "$$\n",
        "\n",
        "Debe implementar esta función:"
      ]
    },
    {
      "cell_type": "code",
      "execution_count": null,
      "id": "5d666ed1",
      "metadata": {
        "lines_to_next_cell": 1,
        "id": "5d666ed1"
      },
      "outputs": [],
      "source": [
        "def binary_crossentropy(y: ArrayLike, y_pred: ArrayLike) -> ArrayLike:\n",
        "    \"\"\"\n",
        "    Esta función implementa la entropía binaria cruzada.\n",
        "\n",
        "    Parameters\n",
        "    ----------\n",
        "    y : ArrayLike\n",
        "        Etiquetas del conjunto de datos.\n",
        "    y_pred : ArrayLike\n",
        "        Predicciones de un modelo.\n",
        "\n",
        "    Returns\n",
        "    -------\n",
        "    value : ArrayLike\n",
        "        Valor de la pérdida.\n",
        "    \"\"\"\n",
        "    # INGRESE SU CÓDIGO ACÁ\n",
        "    epsilon = 1e-7\n",
        "    value = -np.mean(y * np.log(y_pred + epsilon) + (1 - y) * np.log(1 - y_pred + epsilon))\n",
        "    return value"
      ]
    },
    {
      "cell_type": "markdown",
      "id": "ef486652",
      "metadata": {
        "id": "ef486652"
      },
      "source": [
        "Utilice las siguientes celdas para probar su código:"
      ]
    },
    {
      "cell_type": "code",
      "execution_count": null,
      "id": "a090bcad",
      "metadata": {
        "id": "a090bcad",
        "colab": {
          "base_uri": "https://localhost:8080/"
        },
        "outputId": "4844b597-440d-4f46-80e1-ad1a7b11f7fb"
      },
      "outputs": [
        {
          "output_type": "stream",
          "name": "stdout",
          "text": [
            "0.010050234843405595\n"
          ]
        }
      ],
      "source": [
        "y = np.array([0., 0])\n",
        "y_pred = np.array([0.01, 0.01])\n",
        "# Debe dar un valor bajo al ser valores parecidos\n",
        "print(binary_crossentropy(y, y_pred))"
      ]
    },
    {
      "cell_type": "code",
      "execution_count": null,
      "id": "b8e445fc",
      "metadata": {
        "id": "b8e445fc",
        "colab": {
          "base_uri": "https://localhost:8080/"
        },
        "outputId": "8dfcb22c-4830-419d-d6c4-9f457b4ca436"
      },
      "outputs": [
        {
          "output_type": "stream",
          "name": "stdout",
          "text": [
            "0.010050234843405595\n"
          ]
        }
      ],
      "source": [
        "y = np.array([1., 1.])\n",
        "y_pred = np.array([0.99, 0.99])\n",
        "# Debe dar un valor bajo al ser valores parecidos\n",
        "print(binary_crossentropy(y, y_pred))"
      ]
    },
    {
      "cell_type": "code",
      "execution_count": null,
      "id": "21d44e96",
      "metadata": {
        "id": "21d44e96",
        "colab": {
          "base_uri": "https://localhost:8080/"
        },
        "outputId": "8190f9e4-75e8-4dd7-f8ae-0601a5a5e41e"
      },
      "outputs": [
        {
          "output_type": "stream",
          "name": "stdout",
          "text": [
            "4.60516018603809\n"
          ]
        }
      ],
      "source": [
        "y = np.array([0., 0.])\n",
        "y_pred = np.array([0.99, 0.99])\n",
        "# Debe dar un valor alto al ser valores distintos\n",
        "print(binary_crossentropy(y, y_pred))"
      ]
    },
    {
      "cell_type": "code",
      "execution_count": null,
      "id": "efb91173",
      "metadata": {
        "lines_to_next_cell": 1,
        "id": "efb91173",
        "colab": {
          "base_uri": "https://localhost:8080/"
        },
        "outputId": "c4ffb711-1121-424b-b00d-fda06cca58e9"
      },
      "outputs": [
        {
          "output_type": "stream",
          "name": "stdout",
          "text": [
            "4.605160186038091\n"
          ]
        }
      ],
      "source": [
        "y = np.array([1., 1.])\n",
        "y_pred = np.array([0.01, 0.01])\n",
        "# Debe dar un valor alto al ser valores distintos\n",
        "print(binary_crossentropy(y, y_pred))"
      ]
    },
    {
      "cell_type": "markdown",
      "id": "c304a21b",
      "metadata": {
        "id": "c304a21b"
      },
      "source": [
        "Ahora, debe implementar un modelo de regresión logistica:\n",
        "\n",
        "$$\n",
        "\\tilde{\\mathbf{y}} = \\frac{1}{1 + e^{\\mathbf{X}\\cdot\\mathbf{w}}}\n",
        "$$\n",
        "\n",
        "Donde $\\mathbf{X}$ corresponde a la matriz de características de entrenamiento, $\\mathbf{w}$ es el vector de parámetros y $\\tilde{\\mathbf{y}}$ es la estimación del modelo.\n",
        "\n",
        "> **Nota**: recuerde agregar una columna de unos para considerar el intercepto. El entrenamiento del modelo debe realizarse optimizando la entropía binaria cruzada, puede utilizar la función `optimize` de `scipy` para esto."
      ]
    },
    {
      "cell_type": "code",
      "execution_count": null,
      "id": "20cf0b18",
      "metadata": {
        "lines_to_next_cell": 1,
        "id": "20cf0b18"
      },
      "outputs": [],
      "source": [
        "class LogisticRegression(BaseEstimator, ClassifierMixin):\n",
        "    \"\"\"\n",
        "    Implementación del modelo de regresión logística.\n",
        "    \"\"\"\n",
        "    def sigmoid(z):\n",
        "        return 1 / (1 + np.exp(-z))\n",
        "\n",
        "\n",
        "    def __init__(self, C=1.0, max_iter=100, tol=1e-4):\n",
        "        self.C = C\n",
        "        self.max_iter = max_iter\n",
        "        self.tol = tol\n",
        "\n",
        "\n",
        "    def fit(self, X: ArrayLike, y: ArrayLike) -> \"LogisticRegression\":\n",
        "        \"\"\"\n",
        "        Este método permite entrenar el modelo.\n",
        "\n",
        "        Parameters\n",
        "        ----------\n",
        "        X : ArrayLike\n",
        "            Variables independientes.\n",
        "        y : ArrayLike\n",
        "            Variable dependiente.\n",
        "\n",
        "        Returns\n",
        "        -------\n",
        "        self : LogisticRegression\n",
        "            Referencia al objeto.\n",
        "        \"\"\"\n",
        "        # INGRESE SU CÓDIGO AQUÍ\n",
        "        X = np.hstack([np.ones((X.shape[0], 1)), X])\n",
        "\n",
        "        def loss(w, X, y):\n",
        "            y_pred = sigmoid(X.dot(w))\n",
        "            return binary_crossentropy(y, y_pred) + (1 / (2 * self.C)) * w.dot(w)\n",
        "\n",
        "        def grad(w, X, y):\n",
        "            y_pred = sigmoid(X.dot(w))\n",
        "            return X.T.dot(y_pred - y) + (1 / self.C) * w\n",
        "\n",
        "        w0 = np.random.rand(X.shape[1])\n",
        "        #w0 = np.zeros(X.shape[1])\n",
        "        #dejara w0 en random\n",
        "        #result = minimize(loss, w0, args=(X, y), method=\"L-BFGS-B\", jac=grad, options={\"maxiter\": self.max_iter, \"gtol\": self.tol})\n",
        "        result = minimize(loss, w0, args=(X, y), method=\"L-BFGS-B\", options={\"maxiter\": self.max_iter, \"gtol\": self.tol})\n",
        "\n",
        "        self.w_ = result.x\n",
        "        return self\n",
        "\n",
        "\n",
        "    def predict_proba(self, X: ArrayLike) -> ArrayLike:\n",
        "        \"\"\"\n",
        "        Este método permite obtener las probabilidades de cada clase.\n",
        "\n",
        "        Parameters\n",
        "        ----------\n",
        "        X : ArrayLike\n",
        "            Variables independientes.\n",
        "\n",
        "        Returns\n",
        "        -------\n",
        "        probs : ArrayLike\n",
        "            Probabilidades de cada clase.\n",
        "        \"\"\"\n",
        "        # INGRESE SU CÓDIGO AQUÍ\n",
        "        X = np.hstack([np.ones((X.shape[0], 1)), X])\n",
        "        probs = sigmoid(X.dot(self.w_))\n",
        "        probs = np.vstack([1 - probs, probs]).T\n",
        "        return probs\n",
        "\n",
        "\n",
        "    def predict(self, X: ArrayLike) -> ArrayLike:\n",
        "        \"\"\"\n",
        "        Este método permite obtener las predicciones.\n",
        "\n",
        "        Parameters\n",
        "        ----------\n",
        "        X : ArrayLike\n",
        "            Variables independientes.\n",
        "\n",
        "        Returns\n",
        "        -------\n",
        "        y_pred : ArrayLike\n",
        "            Predicciones del modelo.\n",
        "        \"\"\"\n",
        "        # INGRESE SU CÓDIGO AQUÍ\n",
        "        probs = self.predict_proba(X)\n",
        "        y_pred = np.argmax(probs, axis=1)\n",
        "        return y_pred"
      ]
    },
    {
      "cell_type": "markdown",
      "id": "84059c25",
      "metadata": {
        "id": "84059c25"
      },
      "source": [
        "Entrenamos el modelo:"
      ]
    },
    {
      "cell_type": "code",
      "execution_count": null,
      "id": "1dad2ab6",
      "metadata": {
        "id": "1dad2ab6"
      },
      "outputs": [],
      "source": [
        "model = LogisticRegression().fit(features_train, labels_train)"
      ]
    },
    {
      "cell_type": "markdown",
      "id": "139d1441",
      "metadata": {
        "id": "139d1441"
      },
      "source": [
        "## **5. Evaluación**\n",
        "---\n",
        "\n",
        "Obtenga las predicciones del modelo:"
      ]
    },
    {
      "cell_type": "code",
      "execution_count": null,
      "id": "bc1f66a2",
      "metadata": {
        "id": "bc1f66a2"
      },
      "outputs": [],
      "source": [
        "y_pred = model.predict(features_test)"
      ]
    },
    {
      "cell_type": "markdown",
      "id": "64e0be50",
      "metadata": {
        "id": "64e0be50"
      },
      "source": [
        "- ¿Cuánto da el accuracy del modelo?"
      ]
    },
    {
      "cell_type": "code",
      "source": [
        "confusion_mat = confusion_matrix(labels_test, y_pred)\n",
        "\n",
        "sns.heatmap(confusion_mat, annot=True, cmap=\"Blues\")\n",
        "\n",
        "plt.title(\"Matriz de Confusión\")\n",
        "plt.xlabel(\"Etiquetas Predichas\")\n",
        "plt.ylabel(\"Etiquetas Verdaderas\")\n",
        "plt.show()"
      ],
      "metadata": {
        "colab": {
          "base_uri": "https://localhost:8080/",
          "height": 472
        },
        "id": "PuCJI5CKYcQB",
        "outputId": "7cdc7b7a-54e4-4058-95bc-81a0d64b5c74"
      },
      "id": "PuCJI5CKYcQB",
      "execution_count": null,
      "outputs": [
        {
          "output_type": "display_data",
          "data": {
            "text/plain": [
              "<Figure size 640x480 with 2 Axes>"
            ],
            "image/png": "[encoded data removed]"
          },
          "metadata": {}
        }
      ]
    },
    {
      "cell_type": "code",
      "execution_count": null,
      "id": "86c0bbfa",
      "metadata": {
        "id": "86c0bbfa",
        "colab": {
          "base_uri": "https://localhost:8080/"
        },
        "outputId": "bbb175a9-5c86-4e71-a9ab-9b663479849a"
      },
      "outputs": [
        {
          "output_type": "stream",
          "name": "stdout",
          "text": [
            "Accuracy del modelo: 0.7692307692307693\n"
          ]
        }
      ],
      "source": [
        "# INGRESE SU CÓDIGO AQUÍ\n",
        "accuracy = accuracy_score(labels_test, y_pred)\n",
        "print(\"Accuracy del modelo:\", accuracy)"
      ]
    },
    {
      "cell_type": "markdown",
      "id": "53367bdc",
      "metadata": {
        "id": "53367bdc"
      },
      "source": [
        "- ¿Cuánto da la precisión del modelo?"
      ]
    },
    {
      "cell_type": "code",
      "execution_count": null,
      "id": "e5def659",
      "metadata": {
        "id": "e5def659",
        "colab": {
          "base_uri": "https://localhost:8080/"
        },
        "outputId": "ef73ee62-809f-46c5-c49b-8f2a9e3e7b38"
      },
      "outputs": [
        {
          "output_type": "stream",
          "name": "stdout",
          "text": [
            "Precision del modelo: 0.7301587301587301\n"
          ]
        }
      ],
      "source": [
        "# INGRESE SU CÓDIGO AQUÍ\n",
        "precision = precision_score(labels_test, y_pred)\n",
        "print(\"Precision del modelo:\",precision)"
      ]
    },
    {
      "cell_type": "markdown",
      "id": "99c44348",
      "metadata": {
        "id": "99c44348"
      },
      "source": [
        "- ¿Cuánto da el recall del modelo?"
      ]
    },
    {
      "cell_type": "code",
      "execution_count": null,
      "id": "34d8ac71",
      "metadata": {
        "id": "34d8ac71",
        "colab": {
          "base_uri": "https://localhost:8080/"
        },
        "outputId": "ceaa9262-3557-4b43-e8b4-e2bdea2816be"
      },
      "outputs": [
        {
          "output_type": "stream",
          "name": "stdout",
          "text": [
            "Recall del modelo: 0.92\n"
          ]
        }
      ],
      "source": [
        "# INGRESE SU CÓDIGO AQUÍ\n",
        "recall = recall_score(labels_test, y_pred)\n",
        "print(\"Recall del modelo:\", recall)"
      ]
    },
    {
      "cell_type": "markdown",
      "id": "41d05473",
      "metadata": {
        "id": "41d05473"
      },
      "source": [
        "- ¿Cuánto da el f1 del modelo?"
      ]
    },
    {
      "cell_type": "code",
      "execution_count": null,
      "id": "7380686a",
      "metadata": {
        "id": "7380686a",
        "colab": {
          "base_uri": "https://localhost:8080/"
        },
        "outputId": "815a6a7b-60f9-4300-bec8-cad0bd9ae5f1"
      },
      "outputs": [
        {
          "output_type": "stream",
          "name": "stdout",
          "text": [
            "F1 del modelo: 0.8141592920353983\n"
          ]
        }
      ],
      "source": [
        "# INGRESE SU CÓDIGO AQUÍ\n",
        "f1 = f1_score(labels_test, y_pred)\n",
        "print(\"F1 del modelo:\", f1)"
      ]
    },
    {
      "cell_type": "markdown",
      "id": "29075142",
      "metadata": {
        "id": "29075142"
      },
      "source": [
        "- ¿Qué puede concluir de las métricas y del modelo?"
      ]
    },
    {
      "cell_type": "markdown",
      "id": "43ea4531",
      "metadata": {
        "id": "43ea4531"
      },
      "source": [
        "# **CONCLUSIONES**\n",
        "\n",
        "* La exactitud (accuracy) del modelo es del 76.92%, lo que significa que el modelo clasificó correctamente el 76.92% de las instancias en el conjunto de pruebas.\n",
        "\n",
        "*   La precisión del modelo es del 73.02%, lo que significa que de todas las instancias que el modelo ha clasificado como positivas, el 73.02% son realmente positivas.\n",
        "\n",
        "\n",
        "* El recall del modelo es del 92.00%, lo que significa que de todas las instancias que son realmente positivas, el 92.00% han sido clasificadas correctamente por el modelo.\n",
        "\n",
        "\n",
        "* La F1 score del modelo es del 81.42%, que es una medida que combina tanto la precisión como el recall en una sola métrica.\n",
        "\n",
        "\n",
        "\n",
        "\n",
        "En general, parece que el modelo es bastante bueno en la identificación de instancias positivas, aunque aún hay margen de mejora. Sería útil hacer una evaluación adicional del modelo para determinar cómo se puede mejorar su rendimiento. También es importante tener en cuenta que la elección de métricas de evaluación depende del problema en cuestión y de los requisitos específicos del proyecto. Por lo tanto, se deben considerar cuidadosamente todas las métricas relevantes para el problema en cuestión antes de hacer conclusiones finales."
      ]
    }
  ],
  "metadata": {
    "jupytext": {
      "cell_metadata_filter": "-all",
      "formats": "py:percent,ipynb,md",
      "main_language": "python"
    },
    "colab": {
      "provenance": [],
      "collapsed_sections": [
        "ef23fc9b",
        "f15f04a3",
        "c837777c",
        "751cbbea",
        "139d1441"
      ]
    },
    "language_info": {
      "name": "python"
    },
    "kernelspec": {
      "name": "python3",
      "display_name": "Python 3"
    },
    "gpuClass": "standard"
  },
  "nbformat": 4,
  "nbformat_minor": 5
}