{
  "cells": [
    {
      "cell_type": "code",
      "execution_count": null,
      "metadata": {
        "id": "G2XMLtp3Czod"
      },
      "outputs": [],
      "source": [
        "import numpy as np\n",
        "import matplotlib.pyplot as plt\n",
        "from numpy import inf\n"
      ]
    },
    {
      "cell_type": "code",
      "execution_count": null,
      "metadata": {
        "id": "OyMGY-uOCzoj"
      },
      "outputs": [],
      "source": [
        "muestras= np.array(\n",
        "    [[6.2206, 3.5095],\n",
        "    [5.1325, 4.0181],\n",
        "    [0.7597, 2.3992],\n",
        "    [1.2332, 6.8391],\n",
        "    [2.3995, 4.1727],\n",
        "    [0.4965, 9.0272],\n",
        "    [9.4479, 4.9086],\n",
        "    [4.8925, 3.3772],\n",
        "    [9.0005, 3.6925],\n",
        "    [1.1120, 7.8025]\n",
        "    ])\n",
        "\n",
        "clases=np.array([1, 1, 0, 0, 0, 0, 1, 1, 1, 0]);\n"
      ]
    },
    {
      "cell_type": "code",
      "execution_count": null,
      "metadata": {
        "id": "yz21OTA4Czoo"
      },
      "outputs": [],
      "source": [
        "def recta(x):\n",
        "    return 0"
      ]
    },
    {
      "cell_type": "code",
      "execution_count": null,
      "metadata": {
        "id": "Wf1OWWCtCzox"
      },
      "outputs": [],
      "source": [
        "def sigmoid(z):\n",
        "  return 0"
      ]
    },
    {
      "cell_type": "code",
      "execution_count": null,
      "metadata": {
        "id": "MMbPogAYH469"
      },
      "outputs": [],
      "source": [
        "def f(x1, x2):\n",
        "  return 0"
      ]
    },
    {
      "cell_type": "code",
      "execution_count": null,
      "metadata": {
        "colab": {
          "base_uri": "https://localhost:8080/",
          "height": 265
        },
        "id": "hczDwiX0Czos",
        "outputId": "8047aa7c-2acc-4065-af6b-6e6d02e03f36"
      },
      "outputs": [
        {
          "output_type": "display_data",
          "data": {
            "text/plain": [
              "<Figure size 432x288 with 1 Axes>"
            ],
            "image/png": "[encoded data removed]"
          },
          "metadata": {
            "needs_background": "light"
          }
        }
      ],
      "source": [
        "fig = plt.figure()\n",
        "x = np.arange(-2, 12, 0.1)\n",
        "y=x\n",
        "yscale = np.arange(-2, 12, 1)\n",
        "xscale = np.arange(-2, 12, 1)\n",
        "clase1 = muestras[np.where(clases==0), :][0]\n",
        "clase2 = muestras[np.where(clases==1), :][0]\n",
        "\n",
        "plt.scatter(clase1[:,0], clase1[:,1], c=['red'])\n",
        "plt.scatter(clase2[:,0], clase2[:,1], c=['blue'])\n",
        "\n",
        "plt.plot(x,y)\n",
        "\n",
        "plt.show()"
      ]
    },
    {
      "cell_type": "markdown",
      "metadata": {
        "id": "lIpkDMo7ChFn"
      },
      "source": [
        "1- Encontrar una función(cualquiera) de una recta que divida el conjunto de datos:\n",
        "\n",
        "$x_2 = \\theta_1 x_1 + \\theta_0$\n",
        "\n",
        "2- crear la función:\n",
        "\n",
        "$f(x_1, x_2) = \\theta_1 x_1 + \\theta_0 - x_2$\n",
        "\n",
        "3- Ubicar tres puntos en la gráfica:\n",
        "a) uno por encima de la línea\n",
        "b) uno sobre la línea\n",
        "c) Uno por debajo de la línea\n",
        "\n",
        "4 - ¿Cuánto da la función $f(x_1, x_2)$  en cada uno de estos puntos?\n",
        "\n",
        "4b- En general, ¿cuańto da un punto que está por encima de la línea, uno que está sobre la línea y otro que está debajo?\n",
        "\n",
        "5 - ¿A cuánto tiende un punto que está lejos de la línea por debajo? ¿A cuanto tiende un punto que está lejos de la línea por encima?\n",
        "\n",
        "6 - Dibujar la gráfica z vs sigmoid(z). A cuánto tiende sigmoid cuando:\n",
        "\n",
        "\n",
        "sigmoid(z) = $\\frac{1}{1+e^{-z}}$\n",
        "\n",
        "\n",
        "a) z tiende a infinito\n",
        "b) z es cero\n",
        "c) z tiene a -infinito\n",
        "\n",
        "7 - cree una función:\n",
        "\n",
        " $g(x_1, x_2) = sigmoid(f(x_1, x_2))$\n",
        "\n",
        " donde $f(x_1, x_2)$ es la función creada anteriormente.\n",
        "\n",
        " 8 - responda los puntos 4 y 5  pero en lugar de utilizar la función $f(x_1, x_2)$, utilice $g(x_1, x_2)$\n",
        "\n",
        " 9 - entrenar un modelo utilizando sklearn Logistic Regression. Dibujar la línea encontrada por el algoritmo.\n",
        "\n"
      ]
    },
    {
      "cell_type": "markdown",
      "source": [
        "1 - Encontrar una función(cualquiera) de una recta que divida el conjunto de datos:\n",
        "\n",
        "$x_2 = \\theta_1 x_1 + \\theta_0$\n",
        "\n",
        "y = x\n",
        "$\\theta_1$ = 1\n",
        "$\\theta_0$ = 0"
      ],
      "metadata": {
        "id": "8KoiEEByGLmk"
      }
    },
    {
      "cell_type": "markdown",
      "source": [
        "2- crear la función:\n",
        "\n",
        "$f(x_1, x_2) = \\theta_1 x_1 + \\theta_0 - x_2$"
      ],
      "metadata": {
        "id": "wSvW8_pKIfoY"
      }
    },
    {
      "cell_type": "code",
      "source": [
        "def f(x1,x2):\n",
        "  return x1-x2"
      ],
      "metadata": {
        "id": "IPDe0vJsVWNs"
      },
      "execution_count": null,
      "outputs": []
    },
    {
      "cell_type": "markdown",
      "source": [
        "3- Ubicar tres puntos en la gráfica:\n",
        "a) uno por encima de la línea\n",
        "b) uno sobre la línea\n",
        "c) Uno por debajo de la línea\n",
        "\n",
        "**Puntos:**\n",
        "\n",
        "*SOBRE(-2,10)*\n",
        "\n",
        "*EN(-2,-2)*\n",
        "\n",
        "*DEBAJO(2,-2)*"
      ],
      "metadata": {
        "id": "I21UhLnhHC2Q"
      }
    },
    {
      "cell_type": "markdown",
      "source": [
        "4 - ¿Cuánto da la función $f(x_1, x_2)$  en cada uno de estos puntos?"
      ],
      "metadata": {
        "id": "kW-fvSFgItNf"
      }
    },
    {
      "cell_type": "code",
      "source": [
        "print('Sobre: ', f(-2,10))\n",
        "print('En: ', f(-2,-2))\n",
        "print('Debajo: ', f(2,-2))"
      ],
      "metadata": {
        "colab": {
          "base_uri": "https://localhost:8080/"
        },
        "id": "LkCdZ2r4IsqR",
        "outputId": "3ecfee35-47f4-4a3f-ba69-2eea728862ba"
      },
      "execution_count": null,
      "outputs": [
        {
          "output_type": "stream",
          "name": "stdout",
          "text": [
            "Sobre:  -12\n",
            "En:  0\n",
            "Debajo:  4\n"
          ]
        }
      ]
    },
    {
      "cell_type": "markdown",
      "source": [
        "4b- En general, ¿cuańto da un punto que está por encima de la línea, uno que está sobre la línea y otro que está debajo?\n",
        "\n",
        "*   Los que estan sobre son negativos\n",
        "*   Los que estan en la linea dan 0\n",
        "*   Los que estan debajo son positivos\n",
        "\n",
        "\n"
      ],
      "metadata": {
        "id": "IAeCkJydJctp"
      }
    },
    {
      "cell_type": "markdown",
      "source": [
        "5 - ¿A cuánto tiende un punto que está lejos de la línea por debajo? ¿A cuanto tiende un punto que está lejos de la línea por encima?\n"
      ],
      "metadata": {
        "id": "NZamZsaZKLBH"
      }
    },
    {
      "cell_type": "code",
      "source": [
        "def limite(desde, hasta,salto):\n",
        "  for i in range(desde,hasta,salto):\n",
        "    print(f(0,i))"
      ],
      "metadata": {
        "id": "rLa1w0GfKXNQ"
      },
      "execution_count": null,
      "outputs": []
    },
    {
      "cell_type": "markdown",
      "source": [
        "cuando el punto este por debajo de la recta, el numero sera positivo"
      ],
      "metadata": {
        "id": "X-wN4vEUKwyS"
      }
    },
    {
      "cell_type": "code",
      "source": [
        "limite(-1,-20,-1)"
      ],
      "metadata": {
        "colab": {
          "base_uri": "https://localhost:8080/"
        },
        "id": "GqeSsDvVKfZC",
        "outputId": "585d8ff7-3dbd-4373-936b-c3bb5a630f42"
      },
      "execution_count": null,
      "outputs": [
        {
          "output_type": "stream",
          "name": "stdout",
          "text": [
            "1\n",
            "2\n",
            "3\n",
            "4\n",
            "5\n",
            "6\n",
            "7\n",
            "8\n",
            "9\n",
            "10\n",
            "11\n",
            "12\n",
            "13\n",
            "14\n",
            "15\n",
            "16\n",
            "17\n",
            "18\n",
            "19\n"
          ]
        }
      ]
    },
    {
      "cell_type": "markdown",
      "source": [
        "cuando el punto este por encima de la recta, el numero sera negativo"
      ],
      "metadata": {
        "id": "rklXy6DQK_S2"
      }
    },
    {
      "cell_type": "code",
      "source": [
        "limite(1,20,1)"
      ],
      "metadata": {
        "colab": {
          "base_uri": "https://localhost:8080/"
        },
        "id": "MyhCpaSzKmmm",
        "outputId": "ba067fbd-b6ad-40e3-a143-66fb8bdd3c19"
      },
      "execution_count": null,
      "outputs": [
        {
          "output_type": "stream",
          "name": "stdout",
          "text": [
            "-1\n",
            "-2\n",
            "-3\n",
            "-4\n",
            "-5\n",
            "-6\n",
            "-7\n",
            "-8\n",
            "-9\n",
            "-10\n",
            "-11\n",
            "-12\n",
            "-13\n",
            "-14\n",
            "-15\n",
            "-16\n",
            "-17\n",
            "-18\n",
            "-19\n"
          ]
        }
      ]
    },
    {
      "cell_type": "markdown",
      "source": [
        "6 - Dibujar la gráfica z vs sigmoid(z). A cuánto tiende sigmoid cuando:\n",
        "\n",
        "\n",
        "sigmoid(z) = $\\frac{1}{1+e^{-z}}$\n",
        "\n",
        "\n",
        "a) z tiende a infinito\n",
        "\n",
        "b) z es cero\n",
        "\n",
        "c) z tiene a -infinito\n"
      ],
      "metadata": {
        "id": "MkDAEOoNOx8M"
      }
    },
    {
      "cell_type": "code",
      "source": [
        "import numpy as np\n",
        "def sigmoid(x):\n",
        "  return 1 / (1 + np.exp(-x))"
      ],
      "metadata": {
        "id": "SnfjZsx5MrO1"
      },
      "execution_count": null,
      "outputs": []
    },
    {
      "cell_type": "code",
      "source": [
        "x = np.arange(-12, 12, 0.1)\n",
        "y = sigmoid(x)\n",
        "plt.plot(x,y)\n",
        "plt.show()"
      ],
      "metadata": {
        "colab": {
          "base_uri": "https://localhost:8080/",
          "height": 265
        },
        "id": "z2IiiUOPNlT2",
        "outputId": "a5b195a7-2047-4698-fb6c-16267a168397"
      },
      "execution_count": null,
      "outputs": [
        {
          "output_type": "display_data",
          "data": {
            "text/plain": [
              "<Figure size 432x288 with 1 Axes>"
            ],
            "image/png": "[encoded data removed]"
          },
          "metadata": {
            "needs_background": "light"
          }
        }
      ]
    },
    {
      "cell_type": "markdown",
      "source": [
        "7 - cree una función:\n",
        "\n",
        " $g(x_1, x_2) = sigmoid(f(x_1, x_2))$\n",
        "\n",
        " donde $f(x_1, x_2)$ es la función creada anteriormente."
      ],
      "metadata": {
        "id": "-jYVYjqYPF0O"
      }
    },
    {
      "cell_type": "code",
      "source": [
        "def g(x1,x2):\n",
        "  return sigmoid(f(x1,x2))"
      ],
      "metadata": {
        "id": "o8RktG3OPLtS"
      },
      "execution_count": null,
      "outputs": []
    },
    {
      "cell_type": "markdown",
      "source": [
        " 8 - responda los puntos 4 y 5  pero en lugar de utilizar la función $f(x_1, x_2)$, utilice $g(x_1, x_2)$\n",
        "\n"
      ],
      "metadata": {
        "id": "8dIodBqRPkKN"
      }
    },
    {
      "cell_type": "code",
      "source": [
        "print('Sobre: ', g(-2,10))\n",
        "print('En: ', g(-2,-2))\n",
        "print('Debajo: ', g(2,-2))"
      ],
      "metadata": {
        "colab": {
          "base_uri": "https://localhost:8080/"
        },
        "id": "BcRaEIo0PmD_",
        "outputId": "e8be1a2e-192c-4e58-c014-a247744cd8b6"
      },
      "execution_count": null,
      "outputs": [
        {
          "output_type": "stream",
          "name": "stdout",
          "text": [
            "Sobre:  6.144174602214718e-06\n",
            "En:  0.5\n",
            "Debajo:  0.9820137900379085\n"
          ]
        }
      ]
    },
    {
      "cell_type": "code",
      "source": [
        "def limite_g(desde, hasta,salto):\n",
        "  for i in range(desde,hasta,salto):\n",
        "    print(g(0,i))"
      ],
      "metadata": {
        "id": "Udo8NcfOP6Hr"
      },
      "execution_count": null,
      "outputs": []
    },
    {
      "cell_type": "markdown",
      "source": [
        "*   Los que estan sobre tienden a 0\n",
        "*   Los que estan en la linea tienden a 0.5\n",
        "*   Los que estan debajo tienden a 1"
      ],
      "metadata": {
        "id": "DaEW53IoQMhD"
      }
    },
    {
      "cell_type": "markdown",
      "source": [
        "CUando esta sobre, tiende a 0"
      ],
      "metadata": {
        "id": "wtui60yGRRBt"
      }
    },
    {
      "cell_type": "code",
      "source": [
        "limite_g(0,10,1)"
      ],
      "metadata": {
        "colab": {
          "base_uri": "https://localhost:8080/"
        },
        "id": "OAWqJHBdQ1Ez",
        "outputId": "cd05bec3-f4bb-43d6-b570-d0c9adb7b912"
      },
      "execution_count": null,
      "outputs": [
        {
          "output_type": "stream",
          "name": "stdout",
          "text": [
            "0.5\n",
            "0.2689414213699951\n",
            "0.11920292202211755\n",
            "0.04742587317756678\n",
            "0.01798620996209156\n",
            "0.0066928509242848554\n",
            "0.0024726231566347743\n",
            "0.0009110511944006454\n",
            "0.0003353501304664781\n",
            "0.00012339457598623172\n"
          ]
        }
      ]
    },
    {
      "cell_type": "markdown",
      "source": [
        "Cuando esta debajo, tiende a 1"
      ],
      "metadata": {
        "id": "IJD-iBfaRThx"
      }
    },
    {
      "cell_type": "code",
      "source": [
        "limite_g(0,-10,-1)"
      ],
      "metadata": {
        "colab": {
          "base_uri": "https://localhost:8080/"
        },
        "id": "m6Dl47rtQ7Mj",
        "outputId": "4d5545bb-fe1a-4b48-a5db-3d2c053161c2"
      },
      "execution_count": null,
      "outputs": [
        {
          "output_type": "stream",
          "name": "stdout",
          "text": [
            "0.5\n",
            "0.7310585786300049\n",
            "0.8807970779778823\n",
            "0.9525741268224334\n",
            "0.9820137900379085\n",
            "0.9933071490757153\n",
            "0.9975273768433653\n",
            "0.9990889488055994\n",
            "0.9996646498695336\n",
            "0.9998766054240137\n"
          ]
        }
      ]
    }
  ],
  "metadata": {
    "colab": {
      "provenance": []
    },
    "kernelspec": {
      "display_name": "Python 3",
      "language": "python",
      "name": "python3"
    },
    "language_info": {
      "codemirror_mode": {
        "name": "ipython",
        "version": 3
      },
      "file_extension": ".py",
      "mimetype": "text/x-python",
      "name": "python",
      "nbconvert_exporter": "python",
      "pygments_lexer": "ipython3",
      "version": "3.9.5"
    }
  },
  "nbformat": 4,
  "nbformat_minor": 0
}