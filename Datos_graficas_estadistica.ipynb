{
  "nbformat": 4,
  "nbformat_minor": 0,
  "metadata": {
    "colab": {
      "provenance": []
    },
    "kernelspec": {
      "name": "python3",
      "display_name": "Python 3"
    },
    "language_info": {
      "name": "python"
    }
  },
  "cells": [
    {
      "cell_type": "code",
      "execution_count": null,
      "metadata": {
        "id": "h1EYgxq1TQ8p"
      },
      "outputs": [],
      "source": [
        "import pandas as pd\n",
        "import matplotlib.pyplot as plt\n",
        "import seaborn as sns"
      ]
    },
    {
      "cell_type": "code",
      "source": [
        "url = '/content/IT Salary Survey EU 2020.csv'\n",
        "df= pd.read_csv(url)\n",
        "df"
      ],
      "metadata": {
        "colab": {
          "base_uri": "https://localhost:8080/",
          "height": 913
        },
        "id": "kqDrzR2NTxq8",
        "outputId": "2f392d91-d579-4ba2-b28d-fde6d4aea55c"
      },
      "execution_count": null,
      "outputs": [
        {
          "output_type": "execute_result",
          "data": {
            "text/plain": [
              "                Timestamp   Age Gender         City  \\\n",
              "0     24/11/2020 11:14:15  26.0   Male       Munich   \n",
              "1     24/11/2020 11:14:16  26.0   Male       Berlin   \n",
              "2     24/11/2020 11:14:21  29.0   Male       Berlin   \n",
              "3     24/11/2020 11:15:24  28.0   Male       Berlin   \n",
              "4     24/11/2020 11:15:46  37.0   Male       Berlin   \n",
              "...                   ...   ...    ...          ...   \n",
              "1248  18/01/2021 15:05:50  31.0   Male       Berlin   \n",
              "1249  18/01/2021 17:46:02  33.0   Male       Berlin   \n",
              "1250  18/01/2021 23:20:35  39.0   Male       Munich   \n",
              "1251  19/01/2021 10:17:58  26.0   Male  Saarbrücken   \n",
              "1252  19/01/2021 12:01:11  26.0   Male       Berlin   \n",
              "\n",
              "                                   Position  Total years of experience  \\\n",
              "0                          Software Engineer                         5   \n",
              "1                          Backend Developer                         7   \n",
              "2                          Software Engineer                        12   \n",
              "3                         Frontend Developer                         4   \n",
              "4                          Backend Developer                        17   \n",
              "...                                      ...                       ...   \n",
              "1248                       Backend Developer                         9   \n",
              "1249  Researcher/ Consumer Insights Analyst                         10   \n",
              "1250                   IT Operations Manager                        15   \n",
              "1251                      Frontend Developer                         7   \n",
              "1252                                  DevOps                         2   \n",
              "\n",
              "     Years of experience in Germany Seniority level  \\\n",
              "0                                 3          Senior   \n",
              "1                                 4          Senior   \n",
              "2                                 6            Lead   \n",
              "3                                 1          Junior   \n",
              "4                                 6          Senior   \n",
              "...                             ...             ...   \n",
              "1248                              5          Senior   \n",
              "1249                            1.5          Senior   \n",
              "1250                              2            Lead   \n",
              "1251                              7          Middle   \n",
              "1252                              2          Middle   \n",
              "\n",
              "     Your main technology / programming language  \\\n",
              "0                                     TypeScript   \n",
              "1                                           Ruby   \n",
              "2                        Javascript / Typescript   \n",
              "3                                     Javascript   \n",
              "4                                        C# .NET   \n",
              "...                                          ...   \n",
              "1248                                        Java   \n",
              "1249                           consumer analysis   \n",
              "1250                                         PHP   \n",
              "1251                                  JavaScript   \n",
              "1252                                        yaml   \n",
              "\n",
              "     Other technologies/programming languages you use often  ...  \\\n",
              "0                       Kotlin, Javascript / Typescript      ...   \n",
              "1                                                   NaN      ...   \n",
              "2                       Javascript / Typescript, Docker      ...   \n",
              "3                                                   NaN      ...   \n",
              "4                                .NET, SQL, AWS, Docker      ...   \n",
              "...                                                 ...      ...   \n",
              "1248  Python, Javascript / Typescript, Java / Scala,...      ...   \n",
              "1249                                                NaN      ...   \n",
              "1250  Python, C/C++, Javascript / Typescript, Java /...      ...   \n",
              "1251  Javascript / Typescript, Docker, HTML, CSS; Ad...      ...   \n",
              "1252  Python, AWS, Kubernetes, Docker, terraform, an...      ...   \n",
              "\n",
              "      Annual bonus+stocks one year ago. Only answer if staying in same country  \\\n",
              "0                                                 10000                          \n",
              "1                                                  5000                          \n",
              "2                                                100000                          \n",
              "3                                                   NaN                          \n",
              "4                                                   NaN                          \n",
              "...                                                 ...                          \n",
              "1248                                              72000                          \n",
              "1249                                               2500                          \n",
              "1250                                                NaN                          \n",
              "1251                                              36400                          \n",
              "1252                                                  0                          \n",
              "\n",
              "     Number of vacation days           Employment status   Сontract duration  \\\n",
              "0                         30          Full-time employee  Unlimited contract   \n",
              "1                         28          Full-time employee  Unlimited contract   \n",
              "2                         30  Self-employed (freelancer)  Temporary contract   \n",
              "3                         24          Full-time employee  Unlimited contract   \n",
              "4                         29          Full-time employee  Unlimited contract   \n",
              "...                      ...                         ...                 ...   \n",
              "1248                      26          Full-time employee  Unlimited contract   \n",
              "1249              unlimited           Full-time employee  Unlimited contract   \n",
              "1250                      28          Full-time employee  Unlimited contract   \n",
              "1251                      27          Full-time employee  Unlimited contract   \n",
              "1252                      30          Full-time employee  Unlimited contract   \n",
              "\n",
              "     Main language at work Company size Company type  \\\n",
              "0                  English       51-100      Product   \n",
              "1                  English     101-1000      Product   \n",
              "2                  English     101-1000      Product   \n",
              "3                  English       51-100      Startup   \n",
              "4                  English     101-1000      Product   \n",
              "...                    ...          ...          ...   \n",
              "1248               English       51-100      Product   \n",
              "1249               English        1000+      Product   \n",
              "1250               English     101-1000    eCommerce   \n",
              "1251                German     101-1000      Product   \n",
              "1252               English       51-100      Startup   \n",
              "\n",
              "     Have you lost your job due to the coronavirus outbreak?  \\\n",
              "0                                                    No        \n",
              "1                                                    No        \n",
              "2                                                   Yes        \n",
              "3                                                    No        \n",
              "4                                                    No        \n",
              "...                                                 ...        \n",
              "1248                                                Yes        \n",
              "1249                                                 No        \n",
              "1250                                                 No        \n",
              "1251                                                 No        \n",
              "1252                                                 No        \n",
              "\n",
              "     Have you been forced to have a shorter working week (Kurzarbeit)? If yes, how many hours per week  \\\n",
              "0                                                   NaN                                                  \n",
              "1                                                   NaN                                                  \n",
              "2                                                   NaN                                                  \n",
              "3                                                   NaN                                                  \n",
              "4                                                   NaN                                                  \n",
              "...                                                 ...                                                  \n",
              "1248                                                NaN                                                  \n",
              "1249                                                NaN                                                  \n",
              "1250                                                NaN                                                  \n",
              "1251                                                NaN                                                  \n",
              "1252                                               30.0                                                  \n",
              "\n",
              "     Have you received additional monetary support from your employer due to Work From Home? If yes, how much in 2020 in EUR  \n",
              "0                                                   NaN                                                                       \n",
              "1                                                   NaN                                                                       \n",
              "2                                                   NaN                                                                       \n",
              "3                                                   NaN                                                                       \n",
              "4                                                   NaN                                                                       \n",
              "...                                                 ...                                                                       \n",
              "1248                                                NaN                                                                       \n",
              "1249                                                  0                                                                       \n",
              "1250                                                NaN                                                                       \n",
              "1251                                                  0                                                                       \n",
              "1252                                                600                                                                       \n",
              "\n",
              "[1253 rows x 23 columns]"
            ],
            "text/html": [
              "\n",
              "  <div id=\"df-d9824749-612d-4a48-b1c3-53ff6b088545\" class=\"colab-df-container\">\n",
              "    <div>\n",
              "<style scoped>\n",
              "    .dataframe tbody tr th:only-of-type {\n",
              "        vertical-align: middle;\n",
              "    }\n",
              "\n",
              "    .dataframe tbody tr th {\n",
              "        vertical-align: top;\n",
              "    }\n",
              "\n",
              "    .dataframe thead th {\n",
              "        text-align: right;\n",
              "    }\n",
              "</style>\n",
              "<table border=\"1\" class=\"dataframe\">\n",
              "  <thead>\n",
              "    <tr style=\"text-align: right;\">\n",
              "      <th></th>\n",
              "      <th>Timestamp</th>\n",
              "      <th>Age</th>\n",
              "      <th>Gender</th>\n",
              "      <th>City</th>\n",
              "      <th>Position</th>\n",
              "      <th>Total years of experience</th>\n",
              "      <th>Years of experience in Germany</th>\n",
              "      <th>Seniority level</th>\n",
              "      <th>Your main technology / programming language</th>\n",
              "      <th>Other technologies/programming languages you use often</th>\n",
              "      <th>...</th>\n",
              "      <th>Annual bonus+stocks one year ago. Only answer if staying in same country</th>\n",
              "      <th>Number of vacation days</th>\n",
              "      <th>Employment status</th>\n",
              "      <th>Сontract duration</th>\n",
              "      <th>Main language at work</th>\n",
              "      <th>Company size</th>\n",
              "      <th>Company type</th>\n",
              "      <th>Have you lost your job due to the coronavirus outbreak?</th>\n",
              "      <th>Have you been forced to have a shorter working week (Kurzarbeit)? If yes, how many hours per week</th>\n",
              "      <th>Have you received additional monetary support from your employer due to Work From Home? If yes, how much in 2020 in EUR</th>\n",
              "    </tr>\n",
              "  </thead>\n",
              "  <tbody>\n",
              "    <tr>\n",
              "      <th>0</th>\n",
              "      <td>24/11/2020 11:14:15</td>\n",
              "      <td>26.0</td>\n",
              "      <td>Male</td>\n",
              "      <td>Munich</td>\n",
              "      <td>Software Engineer</td>\n",
              "      <td>5</td>\n",
              "      <td>3</td>\n",
              "      <td>Senior</td>\n",
              "      <td>TypeScript</td>\n",
              "      <td>Kotlin, Javascript / Typescript</td>\n",
              "      <td>...</td>\n",
              "      <td>10000</td>\n",
              "      <td>30</td>\n",
              "      <td>Full-time employee</td>\n",
              "      <td>Unlimited contract</td>\n",
              "      <td>English</td>\n",
              "      <td>51-100</td>\n",
              "      <td>Product</td>\n",
              "      <td>No</td>\n",
              "      <td>NaN</td>\n",
              "      <td>NaN</td>\n",
              "    </tr>\n",
              "    <tr>\n",
              "      <th>1</th>\n",
              "      <td>24/11/2020 11:14:16</td>\n",
              "      <td>26.0</td>\n",
              "      <td>Male</td>\n",
              "      <td>Berlin</td>\n",
              "      <td>Backend Developer</td>\n",
              "      <td>7</td>\n",
              "      <td>4</td>\n",
              "      <td>Senior</td>\n",
              "      <td>Ruby</td>\n",
              "      <td>NaN</td>\n",
              "      <td>...</td>\n",
              "      <td>5000</td>\n",
              "      <td>28</td>\n",
              "      <td>Full-time employee</td>\n",
              "      <td>Unlimited contract</td>\n",
              "      <td>English</td>\n",
              "      <td>101-1000</td>\n",
              "      <td>Product</td>\n",
              "      <td>No</td>\n",
              "      <td>NaN</td>\n",
              "      <td>NaN</td>\n",
              "    </tr>\n",
              "    <tr>\n",
              "      <th>2</th>\n",
              "      <td>24/11/2020 11:14:21</td>\n",
              "      <td>29.0</td>\n",
              "      <td>Male</td>\n",
              "      <td>Berlin</td>\n",
              "      <td>Software Engineer</td>\n",
              "      <td>12</td>\n",
              "      <td>6</td>\n",
              "      <td>Lead</td>\n",
              "      <td>Javascript / Typescript</td>\n",
              "      <td>Javascript / Typescript, Docker</td>\n",
              "      <td>...</td>\n",
              "      <td>100000</td>\n",
              "      <td>30</td>\n",
              "      <td>Self-employed (freelancer)</td>\n",
              "      <td>Temporary contract</td>\n",
              "      <td>English</td>\n",
              "      <td>101-1000</td>\n",
              "      <td>Product</td>\n",
              "      <td>Yes</td>\n",
              "      <td>NaN</td>\n",
              "      <td>NaN</td>\n",
              "    </tr>\n",
              "    <tr>\n",
              "      <th>3</th>\n",
              "      <td>24/11/2020 11:15:24</td>\n",
              "      <td>28.0</td>\n",
              "      <td>Male</td>\n",
              "      <td>Berlin</td>\n",
              "      <td>Frontend Developer</td>\n",
              "      <td>4</td>\n",
              "      <td>1</td>\n",
              "      <td>Junior</td>\n",
              "      <td>Javascript</td>\n",
              "      <td>NaN</td>\n",
              "      <td>...</td>\n",
              "      <td>NaN</td>\n",
              "      <td>24</td>\n",
              "      <td>Full-time employee</td>\n",
              "      <td>Unlimited contract</td>\n",
              "      <td>English</td>\n",
              "      <td>51-100</td>\n",
              "      <td>Startup</td>\n",
              "      <td>No</td>\n",
              "      <td>NaN</td>\n",
              "      <td>NaN</td>\n",
              "    </tr>\n",
              "    <tr>\n",
              "      <th>4</th>\n",
              "      <td>24/11/2020 11:15:46</td>\n",
              "      <td>37.0</td>\n",
              "      <td>Male</td>\n",
              "      <td>Berlin</td>\n",
              "      <td>Backend Developer</td>\n",
              "      <td>17</td>\n",
              "      <td>6</td>\n",
              "      <td>Senior</td>\n",
              "      <td>C# .NET</td>\n",
              "      <td>.NET, SQL, AWS, Docker</td>\n",
              "      <td>...</td>\n",
              "      <td>NaN</td>\n",
              "      <td>29</td>\n",
              "      <td>Full-time employee</td>\n",
              "      <td>Unlimited contract</td>\n",
              "      <td>English</td>\n",
              "      <td>101-1000</td>\n",
              "      <td>Product</td>\n",
              "      <td>No</td>\n",
              "      <td>NaN</td>\n",
              "      <td>NaN</td>\n",
              "    </tr>\n",
              "    <tr>\n",
              "      <th>...</th>\n",
              "      <td>...</td>\n",
              "      <td>...</td>\n",
              "      <td>...</td>\n",
              "      <td>...</td>\n",
              "      <td>...</td>\n",
              "      <td>...</td>\n",
              "      <td>...</td>\n",
              "      <td>...</td>\n",
              "      <td>...</td>\n",
              "      <td>...</td>\n",
              "      <td>...</td>\n",
              "      <td>...</td>\n",
              "      <td>...</td>\n",
              "      <td>...</td>\n",
              "      <td>...</td>\n",
              "      <td>...</td>\n",
              "      <td>...</td>\n",
              "      <td>...</td>\n",
              "      <td>...</td>\n",
              "      <td>...</td>\n",
              "      <td>...</td>\n",
              "    </tr>\n",
              "    <tr>\n",
              "      <th>1248</th>\n",
              "      <td>18/01/2021 15:05:50</td>\n",
              "      <td>31.0</td>\n",
              "      <td>Male</td>\n",
              "      <td>Berlin</td>\n",
              "      <td>Backend Developer</td>\n",
              "      <td>9</td>\n",
              "      <td>5</td>\n",
              "      <td>Senior</td>\n",
              "      <td>Java</td>\n",
              "      <td>Python, Javascript / Typescript, Java / Scala,...</td>\n",
              "      <td>...</td>\n",
              "      <td>72000</td>\n",
              "      <td>26</td>\n",
              "      <td>Full-time employee</td>\n",
              "      <td>Unlimited contract</td>\n",
              "      <td>English</td>\n",
              "      <td>51-100</td>\n",
              "      <td>Product</td>\n",
              "      <td>Yes</td>\n",
              "      <td>NaN</td>\n",
              "      <td>NaN</td>\n",
              "    </tr>\n",
              "    <tr>\n",
              "      <th>1249</th>\n",
              "      <td>18/01/2021 17:46:02</td>\n",
              "      <td>33.0</td>\n",
              "      <td>Male</td>\n",
              "      <td>Berlin</td>\n",
              "      <td>Researcher/ Consumer Insights Analyst</td>\n",
              "      <td>10</td>\n",
              "      <td>1.5</td>\n",
              "      <td>Senior</td>\n",
              "      <td>consumer analysis</td>\n",
              "      <td>NaN</td>\n",
              "      <td>...</td>\n",
              "      <td>2500</td>\n",
              "      <td>unlimited</td>\n",
              "      <td>Full-time employee</td>\n",
              "      <td>Unlimited contract</td>\n",
              "      <td>English</td>\n",
              "      <td>1000+</td>\n",
              "      <td>Product</td>\n",
              "      <td>No</td>\n",
              "      <td>NaN</td>\n",
              "      <td>0</td>\n",
              "    </tr>\n",
              "    <tr>\n",
              "      <th>1250</th>\n",
              "      <td>18/01/2021 23:20:35</td>\n",
              "      <td>39.0</td>\n",
              "      <td>Male</td>\n",
              "      <td>Munich</td>\n",
              "      <td>IT Operations Manager</td>\n",
              "      <td>15</td>\n",
              "      <td>2</td>\n",
              "      <td>Lead</td>\n",
              "      <td>PHP</td>\n",
              "      <td>Python, C/C++, Javascript / Typescript, Java /...</td>\n",
              "      <td>...</td>\n",
              "      <td>NaN</td>\n",
              "      <td>28</td>\n",
              "      <td>Full-time employee</td>\n",
              "      <td>Unlimited contract</td>\n",
              "      <td>English</td>\n",
              "      <td>101-1000</td>\n",
              "      <td>eCommerce</td>\n",
              "      <td>No</td>\n",
              "      <td>NaN</td>\n",
              "      <td>NaN</td>\n",
              "    </tr>\n",
              "    <tr>\n",
              "      <th>1251</th>\n",
              "      <td>19/01/2021 10:17:58</td>\n",
              "      <td>26.0</td>\n",
              "      <td>Male</td>\n",
              "      <td>Saarbrücken</td>\n",
              "      <td>Frontend Developer</td>\n",
              "      <td>7</td>\n",
              "      <td>7</td>\n",
              "      <td>Middle</td>\n",
              "      <td>JavaScript</td>\n",
              "      <td>Javascript / Typescript, Docker, HTML, CSS; Ad...</td>\n",
              "      <td>...</td>\n",
              "      <td>36400</td>\n",
              "      <td>27</td>\n",
              "      <td>Full-time employee</td>\n",
              "      <td>Unlimited contract</td>\n",
              "      <td>German</td>\n",
              "      <td>101-1000</td>\n",
              "      <td>Product</td>\n",
              "      <td>No</td>\n",
              "      <td>NaN</td>\n",
              "      <td>0</td>\n",
              "    </tr>\n",
              "    <tr>\n",
              "      <th>1252</th>\n",
              "      <td>19/01/2021 12:01:11</td>\n",
              "      <td>26.0</td>\n",
              "      <td>Male</td>\n",
              "      <td>Berlin</td>\n",
              "      <td>DevOps</td>\n",
              "      <td>2</td>\n",
              "      <td>2</td>\n",
              "      <td>Middle</td>\n",
              "      <td>yaml</td>\n",
              "      <td>Python, AWS, Kubernetes, Docker, terraform, an...</td>\n",
              "      <td>...</td>\n",
              "      <td>0</td>\n",
              "      <td>30</td>\n",
              "      <td>Full-time employee</td>\n",
              "      <td>Unlimited contract</td>\n",
              "      <td>English</td>\n",
              "      <td>51-100</td>\n",
              "      <td>Startup</td>\n",
              "      <td>No</td>\n",
              "      <td>30.0</td>\n",
              "      <td>600</td>\n",
              "    </tr>\n",
              "  </tbody>\n",
              "</table>\n",
              "<p>1253 rows × 23 columns</p>\n",
              "</div>\n",
              "    <div class=\"colab-df-buttons\">\n",
              "\n",
              "  <div class=\"colab-df-container\">\n",
              "    <button class=\"colab-df-convert\" onclick=\"convertToInteractive('df-d9824749-612d-4a48-b1c3-53ff6b088545')\"\n",
              "            title=\"Convert this dataframe to an interactive table.\"\n",
              "            style=\"display:none;\">\n",
              "\n",
              "  <svg xmlns=\"http://www.w3.org/2000/svg\" height=\"24px\" viewBox=\"0 -960 960 960\">\n",
              "    <path d=\"M120-120v-720h720v720H120Zm60-500h600v-160H180v160Zm220 220h160v-160H400v160Zm0 220h160v-160H400v160ZM180-400h160v-160H180v160Zm440 0h160v-160H620v160ZM180-180h160v-160H180v160Zm440 0h160v-160H620v160Z\"/>\n",
              "  </svg>\n",
              "    </button>\n",
              "\n",
              "  <style>\n",
              "    .colab-df-container {\n",
              "      display:flex;\n",
              "      gap: 12px;\n",
              "    }\n",
              "\n",
              "    .colab-df-convert {\n",
              "      background-color: #E8F0FE;\n",
              "      border: none;\n",
              "      border-radius: 50%;\n",
              "      cursor: pointer;\n",
              "      display: none;\n",
              "      fill: #1967D2;\n",
              "      height: 32px;\n",
              "      padding: 0 0 0 0;\n",
              "      width: 32px;\n",
              "    }\n",
              "\n",
              "    .colab-df-convert:hover {\n",
              "      background-color: #E2EBFA;\n",
              "      box-shadow: 0px 1px 2px rgba(60, 64, 67, 0.3), 0px 1px 3px 1px rgba(60, 64, 67, 0.15);\n",
              "      fill: #174EA6;\n",
              "    }\n",
              "\n",
              "    .colab-df-buttons div {\n",
              "      margin-bottom: 4px;\n",
              "    }\n",
              "\n",
              "    [theme=dark] .colab-df-convert {\n",
              "      background-color: #3B4455;\n",
              "      fill: #D2E3FC;\n",
              "    }\n",
              "\n",
              "    [theme=dark] .colab-df-convert:hover {\n",
              "      background-color: #434B5C;\n",
              "      box-shadow: 0px 1px 3px 1px rgba(0, 0, 0, 0.15);\n",
              "      filter: drop-shadow(0px 1px 2px rgba(0, 0, 0, 0.3));\n",
              "      fill: #FFFFFF;\n",
              "    }\n",
              "  </style>\n",
              "\n",
              "    <script>\n",
              "      const buttonEl =\n",
              "        document.querySelector('#df-d9824749-612d-4a48-b1c3-53ff6b088545 button.colab-df-convert');\n",
              "      buttonEl.style.display =\n",
              "        google.colab.kernel.accessAllowed ? 'block' : 'none';\n",
              "\n",
              "      async function convertToInteractive(key) {\n",
              "        const element = document.querySelector('#df-d9824749-612d-4a48-b1c3-53ff6b088545');\n",
              "        const dataTable =\n",
              "          await google.colab.kernel.invokeFunction('convertToInteractive',\n",
              "                                                    [key], {});\n",
              "        if (!dataTable) return;\n",
              "\n",
              "        const docLinkHtml = 'Like what you see? Visit the ' +\n",
              "          '<a target=\"_blank\" href=https://colab.research.google.com/notebooks/data_table.ipynb>data table notebook</a>'\n",
              "          + ' to learn more about interactive tables.';\n",
              "        element.innerHTML = '';\n",
              "        dataTable['output_type'] = 'display_data';\n",
              "        await google.colab.output.renderOutput(dataTable, element);\n",
              "        const docLink = document.createElement('div');\n",
              "        docLink.innerHTML = docLinkHtml;\n",
              "        element.appendChild(docLink);\n",
              "      }\n",
              "    </script>\n",
              "  </div>\n",
              "\n",
              "\n",
              "<div id=\"df-baae70c5-2417-48c2-8dee-843224ec4289\">\n",
              "  <button class=\"colab-df-quickchart\" onclick=\"quickchart('df-baae70c5-2417-48c2-8dee-843224ec4289')\"\n",
              "            title=\"Suggest charts.\"\n",
              "            style=\"display:none;\">\n",
              "\n",
              "<svg xmlns=\"http://www.w3.org/2000/svg\" height=\"24px\"viewBox=\"0 0 24 24\"\n",
              "     width=\"24px\">\n",
              "    <g>\n",
              "        <path d=\"M19 3H5c-1.1 0-2 .9-2 2v14c0 1.1.9 2 2 2h14c1.1 0 2-.9 2-2V5c0-1.1-.9-2-2-2zM9 17H7v-7h2v7zm4 0h-2V7h2v10zm4 0h-2v-4h2v4z\"/>\n",
              "    </g>\n",
              "</svg>\n",
              "  </button>\n",
              "\n",
              "<style>\n",
              "  .colab-df-quickchart {\n",
              "    background-color: #E8F0FE;\n",
              "    border: none;\n",
              "    border-radius: 50%;\n",
              "    cursor: pointer;\n",
              "    display: none;\n",
              "    fill: #1967D2;\n",
              "    height: 32px;\n",
              "    padding: 0 0 0 0;\n",
              "    width: 32px;\n",
              "  }\n",
              "\n",
              "  .colab-df-quickchart:hover {\n",
              "    background-color: #E2EBFA;\n",
              "    box-shadow: 0px 1px 2px rgba(60, 64, 67, 0.3), 0px 1px 3px 1px rgba(60, 64, 67, 0.15);\n",
              "    fill: #174EA6;\n",
              "  }\n",
              "\n",
              "  [theme=dark] .colab-df-quickchart {\n",
              "    background-color: #3B4455;\n",
              "    fill: #D2E3FC;\n",
              "  }\n",
              "\n",
              "  [theme=dark] .colab-df-quickchart:hover {\n",
              "    background-color: #434B5C;\n",
              "    box-shadow: 0px 1px 3px 1px rgba(0, 0, 0, 0.15);\n",
              "    filter: drop-shadow(0px 1px 2px rgba(0, 0, 0, 0.3));\n",
              "    fill: #FFFFFF;\n",
              "  }\n",
              "</style>\n",
              "\n",
              "  <script>\n",
              "    async function quickchart(key) {\n",
              "      const charts = await google.colab.kernel.invokeFunction(\n",
              "          'suggestCharts', [key], {});\n",
              "    }\n",
              "    (() => {\n",
              "      let quickchartButtonEl =\n",
              "        document.querySelector('#df-baae70c5-2417-48c2-8dee-843224ec4289 button');\n",
              "      quickchartButtonEl.style.display =\n",
              "        google.colab.kernel.accessAllowed ? 'block' : 'none';\n",
              "    })();\n",
              "  </script>\n",
              "</div>\n",
              "    </div>\n",
              "  </div>\n"
            ]
          },
          "metadata": {},
          "execution_count": 25
        }
      ]
    },
    {
      "cell_type": "markdown",
      "source": [
        "# **PARTE 1**"
      ],
      "metadata": {
        "id": "YnzdfwEoj-eT"
      }
    },
    {
      "cell_type": "markdown",
      "source": [
        "# **1 – limpiar datos(eliminar columnas innecesarias, filas e imputar con la mediana).**"
      ],
      "metadata": {
        "id": "Pphwtz3AZts6"
      }
    },
    {
      "cell_type": "code",
      "source": [
        "# Eliminar columnas innecesarias\n",
        "columnas_innecesarias = ['Years of experience in Germany', 'Number of vacation days' ,'Employment status',\n",
        "                         'Сontract duration', 'Main language at work', 'Yearly bonus + stocks in EUR',\n",
        "                         'Annual brutto salary (without bonus and stocks) one year ago. Only answer if staying in the same country' ,\n",
        "                         'Annual bonus+stocks one year ago. Only answer if staying in same country' ,\n",
        "                         'Have you lost your job due to the coronavirus outbreak?',\n",
        "                         'Have you been forced to have a shorter working week (Kurzarbeit)? If yes, how many hours per week',\n",
        "                         'Have you received additional monetary support from your employer due to Work From Home? If yes, how much in 2020 in EUR']\n",
        "df = df.drop(columnas_innecesarias, axis=1)"
      ],
      "metadata": {
        "id": "NMKTG7zMUnWi"
      },
      "execution_count": null,
      "outputs": []
    },
    {
      "cell_type": "code",
      "source": [
        "df"
      ],
      "metadata": {
        "colab": {
          "base_uri": "https://localhost:8080/",
          "height": 667
        },
        "id": "iklG4ixIupjH",
        "outputId": "abbc10fa-2bf5-427c-a633-2d7474251f77"
      },
      "execution_count": null,
      "outputs": [
        {
          "output_type": "execute_result",
          "data": {
            "text/plain": [
              "                Timestamp   Age Gender         City  \\\n",
              "0     24/11/2020 11:14:15  26.0   Male       Munich   \n",
              "1     24/11/2020 11:14:16  26.0   Male       Berlin   \n",
              "2     24/11/2020 11:14:21  29.0   Male       Berlin   \n",
              "3     24/11/2020 11:15:24  28.0   Male       Berlin   \n",
              "4     24/11/2020 11:15:46  37.0   Male       Berlin   \n",
              "...                   ...   ...    ...          ...   \n",
              "1248  18/01/2021 15:05:50  31.0   Male       Berlin   \n",
              "1249  18/01/2021 17:46:02  33.0   Male       Berlin   \n",
              "1250  18/01/2021 23:20:35  39.0   Male       Munich   \n",
              "1251  19/01/2021 10:17:58  26.0   Male  Saarbrücken   \n",
              "1252  19/01/2021 12:01:11  26.0   Male       Berlin   \n",
              "\n",
              "                                   Position  Total years of experience  \\\n",
              "0                          Software Engineer                         5   \n",
              "1                          Backend Developer                         7   \n",
              "2                          Software Engineer                        12   \n",
              "3                         Frontend Developer                         4   \n",
              "4                          Backend Developer                        17   \n",
              "...                                      ...                       ...   \n",
              "1248                       Backend Developer                         9   \n",
              "1249  Researcher/ Consumer Insights Analyst                         10   \n",
              "1250                   IT Operations Manager                        15   \n",
              "1251                      Frontend Developer                         7   \n",
              "1252                                  DevOps                         2   \n",
              "\n",
              "     Seniority level Your main technology / programming language  \\\n",
              "0             Senior                                  TypeScript   \n",
              "1             Senior                                        Ruby   \n",
              "2               Lead                     Javascript / Typescript   \n",
              "3             Junior                                  Javascript   \n",
              "4             Senior                                     C# .NET   \n",
              "...              ...                                         ...   \n",
              "1248          Senior                                        Java   \n",
              "1249          Senior                           consumer analysis   \n",
              "1250            Lead                                         PHP   \n",
              "1251          Middle                                  JavaScript   \n",
              "1252          Middle                                        yaml   \n",
              "\n",
              "     Other technologies/programming languages you use often  \\\n",
              "0                       Kotlin, Javascript / Typescript       \n",
              "1                                                   NaN       \n",
              "2                       Javascript / Typescript, Docker       \n",
              "3                                                   NaN       \n",
              "4                                .NET, SQL, AWS, Docker       \n",
              "...                                                 ...       \n",
              "1248  Python, Javascript / Typescript, Java / Scala,...       \n",
              "1249                                                NaN       \n",
              "1250  Python, C/C++, Javascript / Typescript, Java /...       \n",
              "1251  Javascript / Typescript, Docker, HTML, CSS; Ad...       \n",
              "1252  Python, AWS, Kubernetes, Docker, terraform, an...       \n",
              "\n",
              "      Yearly brutto salary (without bonus and stocks) in EUR Company size  \\\n",
              "0                                               80000.0            51-100   \n",
              "1                                               80000.0          101-1000   \n",
              "2                                              120000.0          101-1000   \n",
              "3                                               54000.0            51-100   \n",
              "4                                               62000.0          101-1000   \n",
              "...                                                 ...               ...   \n",
              "1248                                            70000.0            51-100   \n",
              "1249                                            60000.0             1000+   \n",
              "1250                                           110000.0          101-1000   \n",
              "1251                                            38350.0          101-1000   \n",
              "1252                                            65000.0            51-100   \n",
              "\n",
              "     Company type  \n",
              "0         Product  \n",
              "1         Product  \n",
              "2         Product  \n",
              "3         Startup  \n",
              "4         Product  \n",
              "...           ...  \n",
              "1248      Product  \n",
              "1249      Product  \n",
              "1250    eCommerce  \n",
              "1251      Product  \n",
              "1252      Startup  \n",
              "\n",
              "[1253 rows x 12 columns]"
            ],
            "text/html": [
              "\n",
              "  <div id=\"df-c1386afc-41c1-4428-8d57-a9507ac53595\" class=\"colab-df-container\">\n",
              "    <div>\n",
              "<style scoped>\n",
              "    .dataframe tbody tr th:only-of-type {\n",
              "        vertical-align: middle;\n",
              "    }\n",
              "\n",
              "    .dataframe tbody tr th {\n",
              "        vertical-align: top;\n",
              "    }\n",
              "\n",
              "    .dataframe thead th {\n",
              "        text-align: right;\n",
              "    }\n",
              "</style>\n",
              "<table border=\"1\" class=\"dataframe\">\n",
              "  <thead>\n",
              "    <tr style=\"text-align: right;\">\n",
              "      <th></th>\n",
              "      <th>Timestamp</th>\n",
              "      <th>Age</th>\n",
              "      <th>Gender</th>\n",
              "      <th>City</th>\n",
              "      <th>Position</th>\n",
              "      <th>Total years of experience</th>\n",
              "      <th>Seniority level</th>\n",
              "      <th>Your main technology / programming language</th>\n",
              "      <th>Other technologies/programming languages you use often</th>\n",
              "      <th>Yearly brutto salary (without bonus and stocks) in EUR</th>\n",
              "      <th>Company size</th>\n",
              "      <th>Company type</th>\n",
              "    </tr>\n",
              "  </thead>\n",
              "  <tbody>\n",
              "    <tr>\n",
              "      <th>0</th>\n",
              "      <td>24/11/2020 11:14:15</td>\n",
              "      <td>26.0</td>\n",
              "      <td>Male</td>\n",
              "      <td>Munich</td>\n",
              "      <td>Software Engineer</td>\n",
              "      <td>5</td>\n",
              "      <td>Senior</td>\n",
              "      <td>TypeScript</td>\n",
              "      <td>Kotlin, Javascript / Typescript</td>\n",
              "      <td>80000.0</td>\n",
              "      <td>51-100</td>\n",
              "      <td>Product</td>\n",
              "    </tr>\n",
              "    <tr>\n",
              "      <th>1</th>\n",
              "      <td>24/11/2020 11:14:16</td>\n",
              "      <td>26.0</td>\n",
              "      <td>Male</td>\n",
              "      <td>Berlin</td>\n",
              "      <td>Backend Developer</td>\n",
              "      <td>7</td>\n",
              "      <td>Senior</td>\n",
              "      <td>Ruby</td>\n",
              "      <td>NaN</td>\n",
              "      <td>80000.0</td>\n",
              "      <td>101-1000</td>\n",
              "      <td>Product</td>\n",
              "    </tr>\n",
              "    <tr>\n",
              "      <th>2</th>\n",
              "      <td>24/11/2020 11:14:21</td>\n",
              "      <td>29.0</td>\n",
              "      <td>Male</td>\n",
              "      <td>Berlin</td>\n",
              "      <td>Software Engineer</td>\n",
              "      <td>12</td>\n",
              "      <td>Lead</td>\n",
              "      <td>Javascript / Typescript</td>\n",
              "      <td>Javascript / Typescript, Docker</td>\n",
              "      <td>120000.0</td>\n",
              "      <td>101-1000</td>\n",
              "      <td>Product</td>\n",
              "    </tr>\n",
              "    <tr>\n",
              "      <th>3</th>\n",
              "      <td>24/11/2020 11:15:24</td>\n",
              "      <td>28.0</td>\n",
              "      <td>Male</td>\n",
              "      <td>Berlin</td>\n",
              "      <td>Frontend Developer</td>\n",
              "      <td>4</td>\n",
              "      <td>Junior</td>\n",
              "      <td>Javascript</td>\n",
              "      <td>NaN</td>\n",
              "      <td>54000.0</td>\n",
              "      <td>51-100</td>\n",
              "      <td>Startup</td>\n",
              "    </tr>\n",
              "    <tr>\n",
              "      <th>4</th>\n",
              "      <td>24/11/2020 11:15:46</td>\n",
              "      <td>37.0</td>\n",
              "      <td>Male</td>\n",
              "      <td>Berlin</td>\n",
              "      <td>Backend Developer</td>\n",
              "      <td>17</td>\n",
              "      <td>Senior</td>\n",
              "      <td>C# .NET</td>\n",
              "      <td>.NET, SQL, AWS, Docker</td>\n",
              "      <td>62000.0</td>\n",
              "      <td>101-1000</td>\n",
              "      <td>Product</td>\n",
              "    </tr>\n",
              "    <tr>\n",
              "      <th>...</th>\n",
              "      <td>...</td>\n",
              "      <td>...</td>\n",
              "      <td>...</td>\n",
              "      <td>...</td>\n",
              "      <td>...</td>\n",
              "      <td>...</td>\n",
              "      <td>...</td>\n",
              "      <td>...</td>\n",
              "      <td>...</td>\n",
              "      <td>...</td>\n",
              "      <td>...</td>\n",
              "      <td>...</td>\n",
              "    </tr>\n",
              "    <tr>\n",
              "      <th>1248</th>\n",
              "      <td>18/01/2021 15:05:50</td>\n",
              "      <td>31.0</td>\n",
              "      <td>Male</td>\n",
              "      <td>Berlin</td>\n",
              "      <td>Backend Developer</td>\n",
              "      <td>9</td>\n",
              "      <td>Senior</td>\n",
              "      <td>Java</td>\n",
              "      <td>Python, Javascript / Typescript, Java / Scala,...</td>\n",
              "      <td>70000.0</td>\n",
              "      <td>51-100</td>\n",
              "      <td>Product</td>\n",
              "    </tr>\n",
              "    <tr>\n",
              "      <th>1249</th>\n",
              "      <td>18/01/2021 17:46:02</td>\n",
              "      <td>33.0</td>\n",
              "      <td>Male</td>\n",
              "      <td>Berlin</td>\n",
              "      <td>Researcher/ Consumer Insights Analyst</td>\n",
              "      <td>10</td>\n",
              "      <td>Senior</td>\n",
              "      <td>consumer analysis</td>\n",
              "      <td>NaN</td>\n",
              "      <td>60000.0</td>\n",
              "      <td>1000+</td>\n",
              "      <td>Product</td>\n",
              "    </tr>\n",
              "    <tr>\n",
              "      <th>1250</th>\n",
              "      <td>18/01/2021 23:20:35</td>\n",
              "      <td>39.0</td>\n",
              "      <td>Male</td>\n",
              "      <td>Munich</td>\n",
              "      <td>IT Operations Manager</td>\n",
              "      <td>15</td>\n",
              "      <td>Lead</td>\n",
              "      <td>PHP</td>\n",
              "      <td>Python, C/C++, Javascript / Typescript, Java /...</td>\n",
              "      <td>110000.0</td>\n",
              "      <td>101-1000</td>\n",
              "      <td>eCommerce</td>\n",
              "    </tr>\n",
              "    <tr>\n",
              "      <th>1251</th>\n",
              "      <td>19/01/2021 10:17:58</td>\n",
              "      <td>26.0</td>\n",
              "      <td>Male</td>\n",
              "      <td>Saarbrücken</td>\n",
              "      <td>Frontend Developer</td>\n",
              "      <td>7</td>\n",
              "      <td>Middle</td>\n",
              "      <td>JavaScript</td>\n",
              "      <td>Javascript / Typescript, Docker, HTML, CSS; Ad...</td>\n",
              "      <td>38350.0</td>\n",
              "      <td>101-1000</td>\n",
              "      <td>Product</td>\n",
              "    </tr>\n",
              "    <tr>\n",
              "      <th>1252</th>\n",
              "      <td>19/01/2021 12:01:11</td>\n",
              "      <td>26.0</td>\n",
              "      <td>Male</td>\n",
              "      <td>Berlin</td>\n",
              "      <td>DevOps</td>\n",
              "      <td>2</td>\n",
              "      <td>Middle</td>\n",
              "      <td>yaml</td>\n",
              "      <td>Python, AWS, Kubernetes, Docker, terraform, an...</td>\n",
              "      <td>65000.0</td>\n",
              "      <td>51-100</td>\n",
              "      <td>Startup</td>\n",
              "    </tr>\n",
              "  </tbody>\n",
              "</table>\n",
              "<p>1253 rows × 12 columns</p>\n",
              "</div>\n",
              "    <div class=\"colab-df-buttons\">\n",
              "\n",
              "  <div class=\"colab-df-container\">\n",
              "    <button class=\"colab-df-convert\" onclick=\"convertToInteractive('df-c1386afc-41c1-4428-8d57-a9507ac53595')\"\n",
              "            title=\"Convert this dataframe to an interactive table.\"\n",
              "            style=\"display:none;\">\n",
              "\n",
              "  <svg xmlns=\"http://www.w3.org/2000/svg\" height=\"24px\" viewBox=\"0 -960 960 960\">\n",
              "    <path d=\"M120-120v-720h720v720H120Zm60-500h600v-160H180v160Zm220 220h160v-160H400v160Zm0 220h160v-160H400v160ZM180-400h160v-160H180v160Zm440 0h160v-160H620v160ZM180-180h160v-160H180v160Zm440 0h160v-160H620v160Z\"/>\n",
              "  </svg>\n",
              "    </button>\n",
              "\n",
              "  <style>\n",
              "    .colab-df-container {\n",
              "      display:flex;\n",
              "      gap: 12px;\n",
              "    }\n",
              "\n",
              "    .colab-df-convert {\n",
              "      background-color: #E8F0FE;\n",
              "      border: none;\n",
              "      border-radius: 50%;\n",
              "      cursor: pointer;\n",
              "      display: none;\n",
              "      fill: #1967D2;\n",
              "      height: 32px;\n",
              "      padding: 0 0 0 0;\n",
              "      width: 32px;\n",
              "    }\n",
              "\n",
              "    .colab-df-convert:hover {\n",
              "      background-color: #E2EBFA;\n",
              "      box-shadow: 0px 1px 2px rgba(60, 64, 67, 0.3), 0px 1px 3px 1px rgba(60, 64, 67, 0.15);\n",
              "      fill: #174EA6;\n",
              "    }\n",
              "\n",
              "    .colab-df-buttons div {\n",
              "      margin-bottom: 4px;\n",
              "    }\n",
              "\n",
              "    [theme=dark] .colab-df-convert {\n",
              "      background-color: #3B4455;\n",
              "      fill: #D2E3FC;\n",
              "    }\n",
              "\n",
              "    [theme=dark] .colab-df-convert:hover {\n",
              "      background-color: #434B5C;\n",
              "      box-shadow: 0px 1px 3px 1px rgba(0, 0, 0, 0.15);\n",
              "      filter: drop-shadow(0px 1px 2px rgba(0, 0, 0, 0.3));\n",
              "      fill: #FFFFFF;\n",
              "    }\n",
              "  </style>\n",
              "\n",
              "    <script>\n",
              "      const buttonEl =\n",
              "        document.querySelector('#df-c1386afc-41c1-4428-8d57-a9507ac53595 button.colab-df-convert');\n",
              "      buttonEl.style.display =\n",
              "        google.colab.kernel.accessAllowed ? 'block' : 'none';\n",
              "\n",
              "      async function convertToInteractive(key) {\n",
              "        const element = document.querySelector('#df-c1386afc-41c1-4428-8d57-a9507ac53595');\n",
              "        const dataTable =\n",
              "          await google.colab.kernel.invokeFunction('convertToInteractive',\n",
              "                                                    [key], {});\n",
              "        if (!dataTable) return;\n",
              "\n",
              "        const docLinkHtml = 'Like what you see? Visit the ' +\n",
              "          '<a target=\"_blank\" href=https://colab.research.google.com/notebooks/data_table.ipynb>data table notebook</a>'\n",
              "          + ' to learn more about interactive tables.';\n",
              "        element.innerHTML = '';\n",
              "        dataTable['output_type'] = 'display_data';\n",
              "        await google.colab.output.renderOutput(dataTable, element);\n",
              "        const docLink = document.createElement('div');\n",
              "        docLink.innerHTML = docLinkHtml;\n",
              "        element.appendChild(docLink);\n",
              "      }\n",
              "    </script>\n",
              "  </div>\n",
              "\n",
              "\n",
              "<div id=\"df-93711d99-9f80-4544-89f6-635977cae396\">\n",
              "  <button class=\"colab-df-quickchart\" onclick=\"quickchart('df-93711d99-9f80-4544-89f6-635977cae396')\"\n",
              "            title=\"Suggest charts.\"\n",
              "            style=\"display:none;\">\n",
              "\n",
              "<svg xmlns=\"http://www.w3.org/2000/svg\" height=\"24px\"viewBox=\"0 0 24 24\"\n",
              "     width=\"24px\">\n",
              "    <g>\n",
              "        <path d=\"M19 3H5c-1.1 0-2 .9-2 2v14c0 1.1.9 2 2 2h14c1.1 0 2-.9 2-2V5c0-1.1-.9-2-2-2zM9 17H7v-7h2v7zm4 0h-2V7h2v10zm4 0h-2v-4h2v4z\"/>\n",
              "    </g>\n",
              "</svg>\n",
              "  </button>\n",
              "\n",
              "<style>\n",
              "  .colab-df-quickchart {\n",
              "    background-color: #E8F0FE;\n",
              "    border: none;\n",
              "    border-radius: 50%;\n",
              "    cursor: pointer;\n",
              "    display: none;\n",
              "    fill: #1967D2;\n",
              "    height: 32px;\n",
              "    padding: 0 0 0 0;\n",
              "    width: 32px;\n",
              "  }\n",
              "\n",
              "  .colab-df-quickchart:hover {\n",
              "    background-color: #E2EBFA;\n",
              "    box-shadow: 0px 1px 2px rgba(60, 64, 67, 0.3), 0px 1px 3px 1px rgba(60, 64, 67, 0.15);\n",
              "    fill: #174EA6;\n",
              "  }\n",
              "\n",
              "  [theme=dark] .colab-df-quickchart {\n",
              "    background-color: #3B4455;\n",
              "    fill: #D2E3FC;\n",
              "  }\n",
              "\n",
              "  [theme=dark] .colab-df-quickchart:hover {\n",
              "    background-color: #434B5C;\n",
              "    box-shadow: 0px 1px 3px 1px rgba(0, 0, 0, 0.15);\n",
              "    filter: drop-shadow(0px 1px 2px rgba(0, 0, 0, 0.3));\n",
              "    fill: #FFFFFF;\n",
              "  }\n",
              "</style>\n",
              "\n",
              "  <script>\n",
              "    async function quickchart(key) {\n",
              "      const charts = await google.colab.kernel.invokeFunction(\n",
              "          'suggestCharts', [key], {});\n",
              "    }\n",
              "    (() => {\n",
              "      let quickchartButtonEl =\n",
              "        document.querySelector('#df-93711d99-9f80-4544-89f6-635977cae396 button');\n",
              "      quickchartButtonEl.style.display =\n",
              "        google.colab.kernel.accessAllowed ? 'block' : 'none';\n",
              "    })();\n",
              "  </script>\n",
              "</div>\n",
              "    </div>\n",
              "  </div>\n"
            ]
          },
          "metadata": {},
          "execution_count": 34
        }
      ]
    },
    {
      "cell_type": "code",
      "source": [
        "# Imputar valores faltantes con la mediana\n",
        "columnas_con_faltantes = ['Age']\n",
        "for columna in columnas_con_faltantes:\n",
        "    mediana = df[columna].median()\n",
        "    df[columna].fillna(mediana, inplace=True)"
      ],
      "metadata": {
        "id": "w3-RejNNWT_6"
      },
      "execution_count": null,
      "outputs": []
    },
    {
      "cell_type": "code",
      "source": [
        "# Eliminar filas con valores NaN\n",
        "df.dropna(inplace=True)"
      ],
      "metadata": {
        "id": "xz0fA0-0ZHb0"
      },
      "execution_count": null,
      "outputs": []
    },
    {
      "cell_type": "code",
      "source": [
        "df.info()"
      ],
      "metadata": {
        "colab": {
          "base_uri": "https://localhost:8080/"
        },
        "id": "ZBx8i9gZZR1C",
        "outputId": "b4ad61af-a2b8-4748-8e0a-c64ff1b845a3"
      },
      "execution_count": null,
      "outputs": [
        {
          "output_type": "stream",
          "name": "stdout",
          "text": [
            "<class 'pandas.core.frame.DataFrame'>\n",
            "Int64Index: 1010 entries, 0 to 1252\n",
            "Data columns (total 12 columns):\n",
            " #   Column                                                  Non-Null Count  Dtype  \n",
            "---  ------                                                  --------------  -----  \n",
            " 0   Timestamp                                               1010 non-null   object \n",
            " 1   Age                                                     1010 non-null   float64\n",
            " 2   Gender                                                  1010 non-null   object \n",
            " 3   City                                                    1010 non-null   object \n",
            " 4   Position                                                1010 non-null   object \n",
            " 5   Total years of experience                               1010 non-null   object \n",
            " 6   Seniority level                                         1010 non-null   object \n",
            " 7   Your main technology / programming language             1010 non-null   object \n",
            " 8   Other technologies/programming languages you use often  1010 non-null   object \n",
            " 9   Yearly brutto salary (without bonus and stocks) in EUR  1010 non-null   float64\n",
            " 10  Company size                                            1010 non-null   object \n",
            " 11  Company type                                            1010 non-null   object \n",
            "dtypes: float64(2), object(10)\n",
            "memory usage: 102.6+ KB\n"
          ]
        }
      ]
    },
    {
      "cell_type": "code",
      "source": [
        "salarios = df['Yearly brutto salary (without bonus and stocks) in EUR']"
      ],
      "metadata": {
        "id": "xFQ_VUM0Z82i"
      },
      "execution_count": null,
      "outputs": []
    },
    {
      "cell_type": "markdown",
      "source": [
        "# **2 – Dibujar el histograma de distribución para el salario. Indicar Media y mediana.¿La mediana y la media son similares? ¿por qué?**"
      ],
      "metadata": {
        "id": "-q5tskKSZyGa"
      }
    },
    {
      "cell_type": "code",
      "source": [
        "media = salarios.mean()\n",
        "mediana = salarios.median()"
      ],
      "metadata": {
        "id": "XPUrS-jzaKIK"
      },
      "execution_count": null,
      "outputs": []
    },
    {
      "cell_type": "code",
      "source": [
        "plt.hist(salarios, bins=20, color='blue', alpha=0.7)\n",
        "plt.xlabel('Salario')\n",
        "plt.ylabel('Frecuencia')\n",
        "plt.title('Histograma de Distribución de Salarios')\n",
        "plt.axvline(media, color='red', linestyle='dashed', linewidth=2, label=f'Media: {media:.2f}')\n",
        "plt.axvline(mediana, color='green', linestyle='dashed', linewidth=2, label=f'Mediana: {mediana:.2f}')\n",
        "plt.legend()\n",
        "plt.show()"
      ],
      "metadata": {
        "colab": {
          "base_uri": "https://localhost:8080/",
          "height": 472
        },
        "id": "APIscTlYaLhq",
        "outputId": "dd3a466e-b5b3-441f-8976-01495994f318"
      },
      "execution_count": null,
      "outputs": [
        {
          "output_type": "display_data",
          "data": {
            "text/plain": [
              "<Figure size 640x480 with 1 Axes>"
            ],
            "image/png": "[encoded data removed]"
          },
          "metadata": {}
        }
      ]
    },
    {
      "cell_type": "code",
      "source": [
        "print(f\"Media: {media:.2f}\")\n",
        "print(f\"Mediana: {mediana:.2f}\")"
      ],
      "metadata": {
        "colab": {
          "base_uri": "https://localhost:8080/"
        },
        "id": "vlRJ2v0AaMYK",
        "outputId": "ee2f87b7-241c-498c-8ad3-eea49374413d"
      },
      "execution_count": null,
      "outputs": [
        {
          "output_type": "stream",
          "name": "stdout",
          "text": [
            "Media: 74559.50\n",
            "Mediana: 74000.00\n"
          ]
        }
      ]
    },
    {
      "cell_type": "markdown",
      "source": [
        "**Respuesta:**La media y la mediana son bastante cercanos entre sí, entonces la distribución de salarios puede ser relativamente simétrica y no esta fuertemente sesgada, y como se puede observar en la grafica, esta tiene forma de campana"
      ],
      "metadata": {
        "id": "-gjD0guyapJT"
      }
    },
    {
      "cell_type": "markdown",
      "source": [
        "# **3 – Dibujar diagrama de cajas para la distribución del salario. ¿Hay datos outliers? ¿cuales?**"
      ],
      "metadata": {
        "id": "AVTebEOubnrR"
      }
    },
    {
      "cell_type": "code",
      "source": [
        "plt.figure(figsize=(8, 6))\n",
        "plt.boxplot(salarios, vert=False)\n",
        "plt.xlabel('Salario')\n",
        "plt.title('Diagrama de Cajas de la Distribución de Salarios')\n",
        "plt.show()"
      ],
      "metadata": {
        "colab": {
          "base_uri": "https://localhost:8080/",
          "height": 565
        },
        "id": "EUaSzjC6bkiS",
        "outputId": "1441a855-fc53-4fb9-c91f-24f721edd9e0"
      },
      "execution_count": null,
      "outputs": [
        {
          "output_type": "display_data",
          "data": {
            "text/plain": [
              "<Figure size 800x600 with 1 Axes>"
            ],
            "image/png": "[encoded data removed]"
          },
          "metadata": {}
        }
      ]
    },
    {
      "cell_type": "code",
      "source": [
        "Q1 = salarios.quantile(0.25)\n",
        "Q3 = salarios.quantile(0.75)\n",
        "IQR = Q3 - Q1"
      ],
      "metadata": {
        "id": "WujOFUxnb9xz"
      },
      "execution_count": null,
      "outputs": []
    },
    {
      "cell_type": "code",
      "source": [
        "# Calcular límites para los bigotes\n",
        "limite_inferior = Q1 - 1.5 * IQR\n",
        "limite_superior = Q3 + 1.5 * IQR"
      ],
      "metadata": {
        "id": "m6rCaISGcGHh"
      },
      "execution_count": null,
      "outputs": []
    },
    {
      "cell_type": "code",
      "source": [
        "# Identificar valores atípicos\n",
        "outliers = salarios[(salarios < limite_inferior) | (salarios > limite_superior)]\n",
        "print(\"Valores atípicos:\")\n",
        "print(outliers)\n",
        "plt.show()"
      ],
      "metadata": {
        "colab": {
          "base_uri": "https://localhost:8080/"
        },
        "id": "5fqlhoCHcHGh",
        "outputId": "f9536f6c-a573-4e44-eccb-22061817ddaf"
      },
      "execution_count": null,
      "outputs": [
        {
          "output_type": "stream",
          "name": "stdout",
          "text": [
            "Valores atípicos:\n",
            "2       120000.0\n",
            "35      150000.0\n",
            "107     120000.0\n",
            "141     120000.0\n",
            "167      28000.0\n",
            "          ...   \n",
            "1155     17500.0\n",
            "1209     16320.0\n",
            "1223    200000.0\n",
            "1234     20000.0\n",
            "1235     20000.0\n",
            "Name: Yearly brutto salary (without bonus and stocks) in EUR, Length: 71, dtype: float64\n"
          ]
        }
      ]
    },
    {
      "cell_type": "markdown",
      "source": [
        "**Respuesta:** Con la ayuda del diagrama de cajas, se puede observar la precensia de datos atipicos, ya luego haciendo el calculo, se concluyo que hay 71 datos atipicos( o outliers) en el dataset"
      ],
      "metadata": {
        "id": "op6Lp0UGcL0D"
      }
    },
    {
      "cell_type": "markdown",
      "source": [
        "# **4 – Agregar una columna que indique si alguien tiene un salario bruto mayor al tercer cuantil.**"
      ],
      "metadata": {
        "id": "hlsC5I7ndPkb"
      }
    },
    {
      "cell_type": "code",
      "source": [
        "df['Salario_Mayor_Q3'] = (salarios > Q3)\n",
        "df"
      ],
      "metadata": {
        "colab": {
          "base_uri": "https://localhost:8080/",
          "height": 719
        },
        "id": "MqTpXjRqdNay",
        "outputId": "d792ccf7-9cb7-4c4b-d14e-ca1b736154d6"
      },
      "execution_count": null,
      "outputs": [
        {
          "output_type": "execute_result",
          "data": {
            "text/plain": [
              "                Timestamp   Age Gender         City              Position   \\\n",
              "0     24/11/2020 11:14:15  26.0   Male       Munich      Software Engineer   \n",
              "2     24/11/2020 11:14:21  29.0   Male       Berlin      Software Engineer   \n",
              "4     24/11/2020 11:15:46  37.0   Male       Berlin      Backend Developer   \n",
              "5     24/11/2020 11:15:53  32.0   Male       Berlin                 DevOps   \n",
              "7     24/11/2020 11:16:44  24.0   Male       Berlin     Frontend Developer   \n",
              "...                   ...   ...    ...          ...                    ...   \n",
              "1247  18/01/2021 11:50:02  34.0   Male       Zurich      Software Engineer   \n",
              "1248  18/01/2021 15:05:50  31.0   Male       Berlin      Backend Developer   \n",
              "1250  18/01/2021 23:20:35  39.0   Male       Munich  IT Operations Manager   \n",
              "1251  19/01/2021 10:17:58  26.0   Male  Saarbrücken     Frontend Developer   \n",
              "1252  19/01/2021 12:01:11  26.0   Male       Berlin                 DevOps   \n",
              "\n",
              "     Total years of experience Seniority level  \\\n",
              "0                            5          Senior   \n",
              "2                           12            Lead   \n",
              "4                           17          Senior   \n",
              "5                            5          Senior   \n",
              "7                            5          Senior   \n",
              "...                        ...             ...   \n",
              "1247                         7          Senior   \n",
              "1248                         9          Senior   \n",
              "1250                        15            Lead   \n",
              "1251                         7          Middle   \n",
              "1252                         2          Middle   \n",
              "\n",
              "     Your main technology / programming language  \\\n",
              "0                                     TypeScript   \n",
              "2                        Javascript / Typescript   \n",
              "4                                        C# .NET   \n",
              "5                           AWS, GCP, Python,K8s   \n",
              "7                                     Typescript   \n",
              "...                                          ...   \n",
              "1247                                         PHP   \n",
              "1248                                        Java   \n",
              "1250                                         PHP   \n",
              "1251                                  JavaScript   \n",
              "1252                                        yaml   \n",
              "\n",
              "     Other technologies/programming languages you use often  \\\n",
              "0                       Kotlin, Javascript / Typescript       \n",
              "2                       Javascript / Typescript, Docker       \n",
              "4                                .NET, SQL, AWS, Docker       \n",
              "5         Python, AWS, Google Cloud, Kubernetes, Docker       \n",
              "7                               Javascript / Typescript       \n",
              "...                                                 ...       \n",
              "1247                                                PHP       \n",
              "1248  Python, Javascript / Typescript, Java / Scala,...       \n",
              "1250  Python, C/C++, Javascript / Typescript, Java /...       \n",
              "1251  Javascript / Typescript, Docker, HTML, CSS; Ad...       \n",
              "1252  Python, AWS, Kubernetes, Docker, terraform, an...       \n",
              "\n",
              "      Yearly brutto salary (without bonus and stocks) in EUR Company size  \\\n",
              "0                                               80000.0            51-100   \n",
              "2                                              120000.0          101-1000   \n",
              "4                                               62000.0          101-1000   \n",
              "5                                               76000.0             11-50   \n",
              "7                                               65000.0             1000+   \n",
              "...                                                 ...               ...   \n",
              "1247                                           108500.0             11-50   \n",
              "1248                                            70000.0            51-100   \n",
              "1250                                           110000.0          101-1000   \n",
              "1251                                            38350.0          101-1000   \n",
              "1252                                            65000.0            51-100   \n",
              "\n",
              "     Company type  Salario_Mayor_Q3  \n",
              "0         Product             False  \n",
              "2         Product              True  \n",
              "4         Product             False  \n",
              "5         Startup             False  \n",
              "7         Product             False  \n",
              "...           ...               ...  \n",
              "1247      Startup              True  \n",
              "1248      Product             False  \n",
              "1250    eCommerce              True  \n",
              "1251      Product             False  \n",
              "1252      Startup             False  \n",
              "\n",
              "[1010 rows x 13 columns]"
            ],
            "text/html": [
              "\n",
              "  <div id=\"df-b23dfc15-ea5c-4c39-b335-88bf50cca43e\" class=\"colab-df-container\">\n",
              "    <div>\n",
              "<style scoped>\n",
              "    .dataframe tbody tr th:only-of-type {\n",
              "        vertical-align: middle;\n",
              "    }\n",
              "\n",
              "    .dataframe tbody tr th {\n",
              "        vertical-align: top;\n",
              "    }\n",
              "\n",
              "    .dataframe thead th {\n",
              "        text-align: right;\n",
              "    }\n",
              "</style>\n",
              "<table border=\"1\" class=\"dataframe\">\n",
              "  <thead>\n",
              "    <tr style=\"text-align: right;\">\n",
              "      <th></th>\n",
              "      <th>Timestamp</th>\n",
              "      <th>Age</th>\n",
              "      <th>Gender</th>\n",
              "      <th>City</th>\n",
              "      <th>Position</th>\n",
              "      <th>Total years of experience</th>\n",
              "      <th>Seniority level</th>\n",
              "      <th>Your main technology / programming language</th>\n",
              "      <th>Other technologies/programming languages you use often</th>\n",
              "      <th>Yearly brutto salary (without bonus and stocks) in EUR</th>\n",
              "      <th>Company size</th>\n",
              "      <th>Company type</th>\n",
              "      <th>Salario_Mayor_Q3</th>\n",
              "    </tr>\n",
              "  </thead>\n",
              "  <tbody>\n",
              "    <tr>\n",
              "      <th>0</th>\n",
              "      <td>24/11/2020 11:14:15</td>\n",
              "      <td>26.0</td>\n",
              "      <td>Male</td>\n",
              "      <td>Munich</td>\n",
              "      <td>Software Engineer</td>\n",
              "      <td>5</td>\n",
              "      <td>Senior</td>\n",
              "      <td>TypeScript</td>\n",
              "      <td>Kotlin, Javascript / Typescript</td>\n",
              "      <td>80000.0</td>\n",
              "      <td>51-100</td>\n",
              "      <td>Product</td>\n",
              "      <td>False</td>\n",
              "    </tr>\n",
              "    <tr>\n",
              "      <th>2</th>\n",
              "      <td>24/11/2020 11:14:21</td>\n",
              "      <td>29.0</td>\n",
              "      <td>Male</td>\n",
              "      <td>Berlin</td>\n",
              "      <td>Software Engineer</td>\n",
              "      <td>12</td>\n",
              "      <td>Lead</td>\n",
              "      <td>Javascript / Typescript</td>\n",
              "      <td>Javascript / Typescript, Docker</td>\n",
              "      <td>120000.0</td>\n",
              "      <td>101-1000</td>\n",
              "      <td>Product</td>\n",
              "      <td>True</td>\n",
              "    </tr>\n",
              "    <tr>\n",
              "      <th>4</th>\n",
              "      <td>24/11/2020 11:15:46</td>\n",
              "      <td>37.0</td>\n",
              "      <td>Male</td>\n",
              "      <td>Berlin</td>\n",
              "      <td>Backend Developer</td>\n",
              "      <td>17</td>\n",
              "      <td>Senior</td>\n",
              "      <td>C# .NET</td>\n",
              "      <td>.NET, SQL, AWS, Docker</td>\n",
              "      <td>62000.0</td>\n",
              "      <td>101-1000</td>\n",
              "      <td>Product</td>\n",
              "      <td>False</td>\n",
              "    </tr>\n",
              "    <tr>\n",
              "      <th>5</th>\n",
              "      <td>24/11/2020 11:15:53</td>\n",
              "      <td>32.0</td>\n",
              "      <td>Male</td>\n",
              "      <td>Berlin</td>\n",
              "      <td>DevOps</td>\n",
              "      <td>5</td>\n",
              "      <td>Senior</td>\n",
              "      <td>AWS, GCP, Python,K8s</td>\n",
              "      <td>Python, AWS, Google Cloud, Kubernetes, Docker</td>\n",
              "      <td>76000.0</td>\n",
              "      <td>11-50</td>\n",
              "      <td>Startup</td>\n",
              "      <td>False</td>\n",
              "    </tr>\n",
              "    <tr>\n",
              "      <th>7</th>\n",
              "      <td>24/11/2020 11:16:44</td>\n",
              "      <td>24.0</td>\n",
              "      <td>Male</td>\n",
              "      <td>Berlin</td>\n",
              "      <td>Frontend Developer</td>\n",
              "      <td>5</td>\n",
              "      <td>Senior</td>\n",
              "      <td>Typescript</td>\n",
              "      <td>Javascript / Typescript</td>\n",
              "      <td>65000.0</td>\n",
              "      <td>1000+</td>\n",
              "      <td>Product</td>\n",
              "      <td>False</td>\n",
              "    </tr>\n",
              "    <tr>\n",
              "      <th>...</th>\n",
              "      <td>...</td>\n",
              "      <td>...</td>\n",
              "      <td>...</td>\n",
              "      <td>...</td>\n",
              "      <td>...</td>\n",
              "      <td>...</td>\n",
              "      <td>...</td>\n",
              "      <td>...</td>\n",
              "      <td>...</td>\n",
              "      <td>...</td>\n",
              "      <td>...</td>\n",
              "      <td>...</td>\n",
              "      <td>...</td>\n",
              "    </tr>\n",
              "    <tr>\n",
              "      <th>1247</th>\n",
              "      <td>18/01/2021 11:50:02</td>\n",
              "      <td>34.0</td>\n",
              "      <td>Male</td>\n",
              "      <td>Zurich</td>\n",
              "      <td>Software Engineer</td>\n",
              "      <td>7</td>\n",
              "      <td>Senior</td>\n",
              "      <td>PHP</td>\n",
              "      <td>PHP</td>\n",
              "      <td>108500.0</td>\n",
              "      <td>11-50</td>\n",
              "      <td>Startup</td>\n",
              "      <td>True</td>\n",
              "    </tr>\n",
              "    <tr>\n",
              "      <th>1248</th>\n",
              "      <td>18/01/2021 15:05:50</td>\n",
              "      <td>31.0</td>\n",
              "      <td>Male</td>\n",
              "      <td>Berlin</td>\n",
              "      <td>Backend Developer</td>\n",
              "      <td>9</td>\n",
              "      <td>Senior</td>\n",
              "      <td>Java</td>\n",
              "      <td>Python, Javascript / Typescript, Java / Scala,...</td>\n",
              "      <td>70000.0</td>\n",
              "      <td>51-100</td>\n",
              "      <td>Product</td>\n",
              "      <td>False</td>\n",
              "    </tr>\n",
              "    <tr>\n",
              "      <th>1250</th>\n",
              "      <td>18/01/2021 23:20:35</td>\n",
              "      <td>39.0</td>\n",
              "      <td>Male</td>\n",
              "      <td>Munich</td>\n",
              "      <td>IT Operations Manager</td>\n",
              "      <td>15</td>\n",
              "      <td>Lead</td>\n",
              "      <td>PHP</td>\n",
              "      <td>Python, C/C++, Javascript / Typescript, Java /...</td>\n",
              "      <td>110000.0</td>\n",
              "      <td>101-1000</td>\n",
              "      <td>eCommerce</td>\n",
              "      <td>True</td>\n",
              "    </tr>\n",
              "    <tr>\n",
              "      <th>1251</th>\n",
              "      <td>19/01/2021 10:17:58</td>\n",
              "      <td>26.0</td>\n",
              "      <td>Male</td>\n",
              "      <td>Saarbrücken</td>\n",
              "      <td>Frontend Developer</td>\n",
              "      <td>7</td>\n",
              "      <td>Middle</td>\n",
              "      <td>JavaScript</td>\n",
              "      <td>Javascript / Typescript, Docker, HTML, CSS; Ad...</td>\n",
              "      <td>38350.0</td>\n",
              "      <td>101-1000</td>\n",
              "      <td>Product</td>\n",
              "      <td>False</td>\n",
              "    </tr>\n",
              "    <tr>\n",
              "      <th>1252</th>\n",
              "      <td>19/01/2021 12:01:11</td>\n",
              "      <td>26.0</td>\n",
              "      <td>Male</td>\n",
              "      <td>Berlin</td>\n",
              "      <td>DevOps</td>\n",
              "      <td>2</td>\n",
              "      <td>Middle</td>\n",
              "      <td>yaml</td>\n",
              "      <td>Python, AWS, Kubernetes, Docker, terraform, an...</td>\n",
              "      <td>65000.0</td>\n",
              "      <td>51-100</td>\n",
              "      <td>Startup</td>\n",
              "      <td>False</td>\n",
              "    </tr>\n",
              "  </tbody>\n",
              "</table>\n",
              "<p>1010 rows × 13 columns</p>\n",
              "</div>\n",
              "    <div class=\"colab-df-buttons\">\n",
              "\n",
              "  <div class=\"colab-df-container\">\n",
              "    <button class=\"colab-df-convert\" onclick=\"convertToInteractive('df-b23dfc15-ea5c-4c39-b335-88bf50cca43e')\"\n",
              "            title=\"Convert this dataframe to an interactive table.\"\n",
              "            style=\"display:none;\">\n",
              "\n",
              "  <svg xmlns=\"http://www.w3.org/2000/svg\" height=\"24px\" viewBox=\"0 -960 960 960\">\n",
              "    <path d=\"M120-120v-720h720v720H120Zm60-500h600v-160H180v160Zm220 220h160v-160H400v160Zm0 220h160v-160H400v160ZM180-400h160v-160H180v160Zm440 0h160v-160H620v160ZM180-180h160v-160H180v160Zm440 0h160v-160H620v160Z\"/>\n",
              "  </svg>\n",
              "    </button>\n",
              "\n",
              "  <style>\n",
              "    .colab-df-container {\n",
              "      display:flex;\n",
              "      gap: 12px;\n",
              "    }\n",
              "\n",
              "    .colab-df-convert {\n",
              "      background-color: #E8F0FE;\n",
              "      border: none;\n",
              "      border-radius: 50%;\n",
              "      cursor: pointer;\n",
              "      display: none;\n",
              "      fill: #1967D2;\n",
              "      height: 32px;\n",
              "      padding: 0 0 0 0;\n",
              "      width: 32px;\n",
              "    }\n",
              "\n",
              "    .colab-df-convert:hover {\n",
              "      background-color: #E2EBFA;\n",
              "      box-shadow: 0px 1px 2px rgba(60, 64, 67, 0.3), 0px 1px 3px 1px rgba(60, 64, 67, 0.15);\n",
              "      fill: #174EA6;\n",
              "    }\n",
              "\n",
              "    .colab-df-buttons div {\n",
              "      margin-bottom: 4px;\n",
              "    }\n",
              "\n",
              "    [theme=dark] .colab-df-convert {\n",
              "      background-color: #3B4455;\n",
              "      fill: #D2E3FC;\n",
              "    }\n",
              "\n",
              "    [theme=dark] .colab-df-convert:hover {\n",
              "      background-color: #434B5C;\n",
              "      box-shadow: 0px 1px 3px 1px rgba(0, 0, 0, 0.15);\n",
              "      filter: drop-shadow(0px 1px 2px rgba(0, 0, 0, 0.3));\n",
              "      fill: #FFFFFF;\n",
              "    }\n",
              "  </style>\n",
              "\n",
              "    <script>\n",
              "      const buttonEl =\n",
              "        document.querySelector('#df-b23dfc15-ea5c-4c39-b335-88bf50cca43e button.colab-df-convert');\n",
              "      buttonEl.style.display =\n",
              "        google.colab.kernel.accessAllowed ? 'block' : 'none';\n",
              "\n",
              "      async function convertToInteractive(key) {\n",
              "        const element = document.querySelector('#df-b23dfc15-ea5c-4c39-b335-88bf50cca43e');\n",
              "        const dataTable =\n",
              "          await google.colab.kernel.invokeFunction('convertToInteractive',\n",
              "                                                    [key], {});\n",
              "        if (!dataTable) return;\n",
              "\n",
              "        const docLinkHtml = 'Like what you see? Visit the ' +\n",
              "          '<a target=\"_blank\" href=https://colab.research.google.com/notebooks/data_table.ipynb>data table notebook</a>'\n",
              "          + ' to learn more about interactive tables.';\n",
              "        element.innerHTML = '';\n",
              "        dataTable['output_type'] = 'display_data';\n",
              "        await google.colab.output.renderOutput(dataTable, element);\n",
              "        const docLink = document.createElement('div');\n",
              "        docLink.innerHTML = docLinkHtml;\n",
              "        element.appendChild(docLink);\n",
              "      }\n",
              "    </script>\n",
              "  </div>\n",
              "\n",
              "\n",
              "<div id=\"df-c90aeba4-79c9-4eeb-890e-aff8986cdea1\">\n",
              "  <button class=\"colab-df-quickchart\" onclick=\"quickchart('df-c90aeba4-79c9-4eeb-890e-aff8986cdea1')\"\n",
              "            title=\"Suggest charts.\"\n",
              "            style=\"display:none;\">\n",
              "\n",
              "<svg xmlns=\"http://www.w3.org/2000/svg\" height=\"24px\"viewBox=\"0 0 24 24\"\n",
              "     width=\"24px\">\n",
              "    <g>\n",
              "        <path d=\"M19 3H5c-1.1 0-2 .9-2 2v14c0 1.1.9 2 2 2h14c1.1 0 2-.9 2-2V5c0-1.1-.9-2-2-2zM9 17H7v-7h2v7zm4 0h-2V7h2v10zm4 0h-2v-4h2v4z\"/>\n",
              "    </g>\n",
              "</svg>\n",
              "  </button>\n",
              "\n",
              "<style>\n",
              "  .colab-df-quickchart {\n",
              "    background-color: #E8F0FE;\n",
              "    border: none;\n",
              "    border-radius: 50%;\n",
              "    cursor: pointer;\n",
              "    display: none;\n",
              "    fill: #1967D2;\n",
              "    height: 32px;\n",
              "    padding: 0 0 0 0;\n",
              "    width: 32px;\n",
              "  }\n",
              "\n",
              "  .colab-df-quickchart:hover {\n",
              "    background-color: #E2EBFA;\n",
              "    box-shadow: 0px 1px 2px rgba(60, 64, 67, 0.3), 0px 1px 3px 1px rgba(60, 64, 67, 0.15);\n",
              "    fill: #174EA6;\n",
              "  }\n",
              "\n",
              "  [theme=dark] .colab-df-quickchart {\n",
              "    background-color: #3B4455;\n",
              "    fill: #D2E3FC;\n",
              "  }\n",
              "\n",
              "  [theme=dark] .colab-df-quickchart:hover {\n",
              "    background-color: #434B5C;\n",
              "    box-shadow: 0px 1px 3px 1px rgba(0, 0, 0, 0.15);\n",
              "    filter: drop-shadow(0px 1px 2px rgba(0, 0, 0, 0.3));\n",
              "    fill: #FFFFFF;\n",
              "  }\n",
              "</style>\n",
              "\n",
              "  <script>\n",
              "    async function quickchart(key) {\n",
              "      const charts = await google.colab.kernel.invokeFunction(\n",
              "          'suggestCharts', [key], {});\n",
              "    }\n",
              "    (() => {\n",
              "      let quickchartButtonEl =\n",
              "        document.querySelector('#df-c90aeba4-79c9-4eeb-890e-aff8986cdea1 button');\n",
              "      quickchartButtonEl.style.display =\n",
              "        google.colab.kernel.accessAllowed ? 'block' : 'none';\n",
              "    })();\n",
              "  </script>\n",
              "</div>\n",
              "    </div>\n",
              "  </div>\n"
            ]
          },
          "metadata": {},
          "execution_count": 48
        }
      ]
    },
    {
      "cell_type": "markdown",
      "source": [
        "# **5 – Dibujar tabla de contingencia y determinar:**\n",
        "- ¿Cuál es la probabilidad de tener un salario mayor al  tercer cuartil dado qué es hombre?\n",
        "\n",
        "- ¿Cuál es la probabilidad de tener un salario mayor al  tercer cuartil dado qué es mujer?\n",
        "\n",
        "- ¿Cuál es la probabilidad de  ser hombre dado que gana más del tercer cuartil?\n",
        "\n",
        "- ¿Cuál es la probabilidad de  ser mujer dado que gana más del tercer cuartil?"
      ],
      "metadata": {
        "id": "2ub2JWtFdpLZ"
      }
    },
    {
      "cell_type": "code",
      "source": [
        "tabla_contingencia = pd.crosstab(df['Gender'], df['Salario_Mayor_Q3'], margins=True, margins_name=\"Total\")"
      ],
      "metadata": {
        "id": "FWPXoVoGdaaB"
      },
      "execution_count": null,
      "outputs": []
    },
    {
      "cell_type": "code",
      "source": [
        "probabilidad_hombre_mayor_Q3 = tabla_contingencia.loc['Male', True] / tabla_contingencia.loc['Male', \"Total\"]\n",
        "probabilidad_mujer_mayor_Q3 = tabla_contingencia.loc['Female', True] / tabla_contingencia.loc['Female', \"Total\"]\n",
        "probabilidad_hombre_dado_mayor_Q3 = tabla_contingencia.loc['Male', True] / tabla_contingencia.loc['Total', True]\n",
        "probabilidad_mujer_dado_mayor_Q3 = tabla_contingencia.loc['Female', True] / tabla_contingencia.loc['Total', True]"
      ],
      "metadata": {
        "id": "X-EaKU9Id4Cq"
      },
      "execution_count": null,
      "outputs": []
    },
    {
      "cell_type": "code",
      "source": [
        "print(\"Tabla de Contingencia:\")\n",
        "print(tabla_contingencia)\n",
        "print(\"\\nProbabilidad de tener un salario mayor al tercer cuartil dado que es hombre:\", probabilidad_hombre_mayor_Q3)\n",
        "print(\"Probabilidad de tener un salario mayor al tercer cuartil dado que es mujer:\", probabilidad_mujer_mayor_Q3)\n",
        "print(\"Probabilidad de ser hombre dado que gana más del tercer cuartil:\", probabilidad_hombre_dado_mayor_Q3)\n",
        "print(\"Probabilidad de ser mujer dado que gana más del tercer cuartil:\", probabilidad_mujer_dado_mayor_Q3)"
      ],
      "metadata": {
        "colab": {
          "base_uri": "https://localhost:8080/"
        },
        "id": "m9-5jDBHfAlp",
        "outputId": "76270f35-462b-46da-ac87-fd7dabdb6b5a"
      },
      "execution_count": null,
      "outputs": [
        {
          "output_type": "stream",
          "name": "stdout",
          "text": [
            "Tabla de Contingencia:\n",
            "Salario_Mayor_Q3  False  True  Total\n",
            "Gender                              \n",
            "Diverse               0     2      2\n",
            "Female              124     4    128\n",
            "Male                652   228    880\n",
            "Total               776   234   1010\n",
            "\n",
            "Probabilidad de tener un salario mayor al tercer cuartil dado que es hombre: 0.2590909090909091\n",
            "Probabilidad de tener un salario mayor al tercer cuartil dado que es mujer: 0.03125\n",
            "Probabilidad de ser hombre dado que gana más del tercer cuartil: 0.9743589743589743\n",
            "Probabilidad de ser mujer dado que gana más del tercer cuartil: 0.017094017094017096\n"
          ]
        }
      ]
    },
    {
      "cell_type": "markdown",
      "source": [
        "# **6 – Dibujar tabla de contingencia y determinar:**\n",
        "   \n",
        "- ¿Cuál es la probabilidad de tener un salario mayor al  tercer cuartil dado que programa en Python?\n",
        "\n",
        "- ¿Cuál es la probabilidad de tener un salario mayor al  tercer cuartil dado que programa en otro lenguaje diferente de python?\n"
      ],
      "metadata": {
        "id": "Tnok8cH8fUI5"
      }
    },
    {
      "cell_type": "code",
      "source": [
        "df['Programa_Python'] = df['Your main technology / programming language'].str.contains('Python', case=False)"
      ],
      "metadata": {
        "id": "kYBOMqnWe6HB"
      },
      "execution_count": null,
      "outputs": []
    },
    {
      "cell_type": "code",
      "source": [
        "tabla_contingencia = pd.crosstab(df['Programa_Python'], df['Salario_Mayor_Q3'], margins=True, margins_name=\"Total\")"
      ],
      "metadata": {
        "id": "G3-NTnV9d8yC"
      },
      "execution_count": null,
      "outputs": []
    },
    {
      "cell_type": "code",
      "source": [
        "probabilidad_programa_python_mayor_Q3 = tabla_contingencia.loc[True, True] / tabla_contingencia.loc[True, \"Total\"]\n",
        "probabilidad_programa_otro_lenguaje_mayor_Q3 = tabla_contingencia.loc[False, True] / tabla_contingencia.loc[False, \"Total\"]"
      ],
      "metadata": {
        "id": "MSxeUh3afDf5"
      },
      "execution_count": null,
      "outputs": []
    },
    {
      "cell_type": "code",
      "source": [
        "print(\"Tabla de Contingencia:\")\n",
        "print(tabla_contingencia)\n",
        "print(\"\\nProbabilidad de tener un salario mayor al tercer cuartil dado que programa en Python:\", probabilidad_programa_python_mayor_Q3)\n",
        "print(\"Probabilidad de tener un salario mayor al tercer cuartil dado que programa en otro lenguaje diferente de Python:\", probabilidad_programa_otro_lenguaje_mayor_Q3)"
      ],
      "metadata": {
        "colab": {
          "base_uri": "https://localhost:8080/"
        },
        "id": "UJmBjUu0fEiL",
        "outputId": "b6f97621-faca-43c7-c850-793a19f4e0d2"
      },
      "execution_count": null,
      "outputs": [
        {
          "output_type": "stream",
          "name": "stdout",
          "text": [
            "Tabla de Contingencia:\n",
            "Salario_Mayor_Q3  False  True  Total\n",
            "Programa_Python                     \n",
            "False               609   182    791\n",
            "True                167    52    219\n",
            "Total               776   234   1010\n",
            "\n",
            "Probabilidad de tener un salario mayor al tercer cuartil dado que programa en Python: 0.2374429223744292\n",
            "Probabilidad de tener un salario mayor al tercer cuartil dado que programa en otro lenguaje diferente de Python: 0.23008849557522124\n"
          ]
        }
      ]
    },
    {
      "cell_type": "markdown",
      "source": [
        "#**7. Dibujar el diagrama de cajas de los salarios vs el género. ¿Hay alguna diferencia en la distribución de los salarios recibidos por género? Justificar**\n"
      ],
      "metadata": {
        "id": "QL1_pQwSfeCB"
      }
    },
    {
      "cell_type": "code",
      "source": [
        "data = pd.DataFrame({'Salario': salarios, 'Género': df['Gender']})\n",
        "\n",
        "plt.figure(figsize=(8, 6))\n",
        "plt.boxplot([data[data['Género'] == 'Male']['Salario'], data[data['Género'] == 'Female']['Salario']], labels=['Male', 'Female'])\n",
        "plt.xlabel('Género')\n",
        "plt.ylabel('Salario')\n",
        "plt.title('Diagrama de Cajas de Salarios por Género')\n",
        "plt.show()"
      ],
      "metadata": {
        "colab": {
          "base_uri": "https://localhost:8080/",
          "height": 565
        },
        "id": "9VfsNqihfH65",
        "outputId": "9f3bf3a8-5486-440d-c221-8064dda0a2fc"
      },
      "execution_count": null,
      "outputs": [
        {
          "output_type": "display_data",
          "data": {
            "text/plain": [
              "<Figure size 800x600 with 1 Axes>"
            ],
            "image/png": "[encoded data removed]"
          },
          "metadata": {}
        }
      ]
    },
    {
      "cell_type": "markdown",
      "source": [
        "**Respuesta**: Como se puede ver en la grafica, si hay bastante dispersion entre el salario de hombres al de mujeres, aunque en promedio las muejeres ganan mas que los hombres, los hombres son los que tienen los salarios mas altos, esto puede sucedes debido a que los hombres tienen mayores rangos que las mujeres.\n",
        "Y como se puede ver en la comprobación, hay mas hombres en el rango senior, que mujeres, de ahi nace que los salarios mas altos sean de los hombres. Incluso en los demas puestos, hay mayor precencia masculina que femenina"
      ],
      "metadata": {
        "id": "N2cXMFDJgKIq"
      }
    },
    {
      "cell_type": "markdown",
      "source": [
        "**- Repetir paso anterior teniendo en cuenta sólo a los programadores senior.**"
      ],
      "metadata": {
        "id": "l4nDp0Rph-qs"
      }
    },
    {
      "cell_type": "code",
      "source": [
        "df_senior = df[df['Seniority level'] == 'Senior']"
      ],
      "metadata": {
        "id": "kfT5iqJPhOaB"
      },
      "execution_count": null,
      "outputs": []
    },
    {
      "cell_type": "code",
      "source": [
        "data = pd.DataFrame({'Salario': df_senior['Yearly brutto salary (without bonus and stocks) in EUR'], 'Género': df_senior['Gender']})\n",
        "\n",
        "plt.figure(figsize=(8, 6))\n",
        "plt.boxplot([data[data['Género'] == 'Male']['Salario'], data[data['Género'] == 'Female']['Salario']], labels=['Male', 'Female'])\n",
        "plt.xlabel('Género')\n",
        "plt.ylabel('Salario')\n",
        "plt.title('Diagrama de Cajas de Salarios por Género')\n",
        "plt.show()"
      ],
      "metadata": {
        "colab": {
          "base_uri": "https://localhost:8080/",
          "height": 565
        },
        "id": "twEmyZ6PhtGp",
        "outputId": "79d37519-e40b-4905-ccea-90509c64009f"
      },
      "execution_count": null,
      "outputs": [
        {
          "output_type": "display_data",
          "data": {
            "text/plain": [
              "<Figure size 800x600 with 1 Axes>"
            ],
            "image/png": "[encoded data removed]"
          },
          "metadata": {}
        }
      ]
    },
    {
      "cell_type": "markdown",
      "source": [
        "# **8. ¿Existe alguna correlación entre la edad y el salario? Justificar**"
      ],
      "metadata": {
        "id": "c-iIXR61jnIZ"
      }
    },
    {
      "cell_type": "code",
      "source": [
        "plt.figure(figsize=(10, 6))\n",
        "sns.scatterplot(data=df, x='Age', y='Yearly brutto salary (without bonus and stocks) in EUR')\n",
        "plt.xlabel('Edad')\n",
        "plt.ylabel('Salario')\n",
        "plt.title('Gráfico de Dispersión de Edad vs. Salario')\n",
        "\n",
        "correlacion = df['Age'].corr(df['Yearly brutto salary (without bonus and stocks) in EUR'])\n",
        "\n",
        "plt.text(20, 200000, f'Correlación: {correlacion:.2f}', fontsize=12, color='red')\n",
        "\n",
        "plt.show()\n",
        "\n",
        "print(f\"Coeficiente de correlación de Pearson: {correlacion:.2f}\")"
      ],
      "metadata": {
        "colab": {
          "base_uri": "https://localhost:8080/",
          "height": 582
        },
        "id": "rHSjWSIKimli",
        "outputId": "c8219ed4-3e32-4dcc-8b57-847cfd77ae47"
      },
      "execution_count": null,
      "outputs": [
        {
          "output_type": "display_data",
          "data": {
            "text/plain": [
              "<Figure size 1000x600 with 1 Axes>"
            ],
            "image/png": "[encoded data removed]"
          },
          "metadata": {}
        },
        {
          "output_type": "stream",
          "name": "stdout",
          "text": [
            "Coeficiente de correlación de Pearson: 0.19\n"
          ]
        }
      ]
    },
    {
      "cell_type": "markdown",
      "source": [
        "**Respuesta**: Cuando la edad aumenta el salario aumenta levemente, es decir, hay una correlacion muy debil entre la edad que tiene y el salario que se gana, por lo que se puede concluir que la edad que tiene no afecta el salario que gana."
      ],
      "metadata": {
        "id": "vP5F-ultjKFC"
      }
    },
    {
      "cell_type": "markdown",
      "source": [
        "# **PARTE 2**"
      ],
      "metadata": {
        "id": "HRi-adBskBbJ"
      }
    },
    {
      "cell_type": "markdown",
      "source": [
        "# **Calcular el promedio de salario por cada tipo de compañia**"
      ],
      "metadata": {
        "id": "A9eEENgAnbTa"
      }
    },
    {
      "cell_type": "code",
      "source": [
        "promedio_salario_por_tipo_empresa = df.groupby('Company type')['Yearly brutto salary (without bonus and stocks) in EUR'].mean()\n",
        "promedio_salario_por_tipo_empresa = promedio_salario_por_tipo_empresa.sort_values(ascending=False)\n",
        "print(promedio_salario_por_tipo_empresa)"
      ],
      "metadata": {
        "colab": {
          "base_uri": "https://localhost:8080/"
        },
        "id": "dHvgBLMwnIDQ",
        "outputId": "28a810db-e2a0-4164-d0dc-919609546c60"
      },
      "execution_count": null,
      "outputs": [
        {
          "output_type": "stream",
          "name": "stdout",
          "text": [
            "Company type\n",
            "freelance                                                                   200000.000000\n",
            "Cloud                                                                       120000.000000\n",
            "Concern                                                                     120000.000000\n",
            "Pharma                                                                      115000.000000\n",
            "Corporation                                                                 113000.000000\n",
            "eCommerce                                                                   110000.000000\n",
            "Media                                                                       106000.000000\n",
            "Corporation                                                                 105000.000000\n",
            "Construction                                                                 89200.000000\n",
            "Enterprise                                                                   85000.000000\n",
            "IT Department of established business                                        84000.000000\n",
            "Old industry                                                                 80000.000000\n",
            "Transport & Logistics                                                        80000.000000\n",
            "Energy                                                                       80000.000000\n",
            "Research institute                                                           80000.000000\n",
            "Semiconductor                                                                78000.000000\n",
            "FAANG                                                                        77000.000000\n",
            "service                                                                      75000.000000\n",
            "Financial                                                                    75000.000000\n",
            "Fintech                                                                      73500.000000\n",
            "Product                                                                      73480.743590\n",
            "Startup                                                                      71571.903226\n",
            "Telecommunications                                                           70000.000000\n",
            "Bank                                                                         70000.000000\n",
            "Utilities                                                                    69500.000000\n",
            "Finance                                                                      69500.000000\n",
            "SaaS                                                                         69200.000000\n",
            "E-Commerce                                                                   68000.000000\n",
            "Outsorce                                                                     67200.000000\n",
            "Consulting / Agency                                                          65486.247706\n",
            "Consulting and Product                                                       65000.000000\n",
            "E-commerce                                                                   65000.000000\n",
            "e-commerce                                                                   63700.000000\n",
            "Publisher                                                                    62000.000000\n",
            "corporate incubator                                                          60000.000000\n",
            "Research                                                                     60000.000000\n",
            "Bank                                                                         60000.000000\n",
            "Ecommerce                                                                    60000.000000\n",
            "Bloody enterprise                                                            58800.000000\n",
            "Handel                                                                       58000.000000\n",
            "Retail                                                                       57000.000000\n",
            "Full-time position in Education, part-time position in at a data startup     54179.130000\n",
            "Market Research                                                              54000.000000\n",
            "Institute                                                                    54000.000000\n",
            "Behörde                                                                      54000.000000\n",
            "Insurance                                                                    51000.000000\n",
            "Game Company                                                                 48000.000000\n",
            "Outsourse                                                                    47500.000000\n",
            "Publishing and Technology                                                    47000.000000\n",
            "Non-tech retail                                                              32000.000000\n",
            "IT-Outsourcing                                                               28800.000000\n",
            "University                                                                   25082.000000\n",
            "Science Institute                                                            23000.000000\n",
            "Name: Yearly brutto salary (without bonus and stocks) in EUR, dtype: float64\n"
          ]
        }
      ]
    },
    {
      "cell_type": "markdown",
      "source": [
        "**Respuesta**: Se puede ver la alta variedad de salarios que hay entre los diferente tipos de compañia. Las categorías relacionadas con la tecnología, como \"Cloud,\" \"Pharma,\" \"E-commerce,\" y \"SaaS,\" tienden a tener salarios promedio más altos en comparación con algunas otras categorías. Las categorías relacionadas con la educación, como \"Education\" y \"University,\" así como \"Behörde\", tienden a tener salarios promedio más bajos en comparación con otras categorías."
      ],
      "metadata": {
        "id": "kGJAIrYuolW4"
      }
    },
    {
      "cell_type": "markdown",
      "source": [
        "# **Calcular el promedio de salario por cada Rango de puesto**"
      ],
      "metadata": {
        "id": "44p1O20_oNtx"
      }
    },
    {
      "cell_type": "code",
      "source": [
        "promedio_salario_por_seniority = df.groupby('Seniority level')['Yearly brutto salary (without bonus and stocks) in EUR'].mean()\n",
        "promedio_salario_por_seniority = promedio_salario_por_seniority.sort_values(ascending=False)\n",
        "print(promedio_salario_por_seniority)"
      ],
      "metadata": {
        "colab": {
          "base_uri": "https://localhost:8080/"
        },
        "id": "zSSG06spnwIp",
        "outputId": "c9c2a4a4-a83b-47da-8594-6c790029ec56"
      },
      "execution_count": null,
      "outputs": [
        {
          "output_type": "stream",
          "name": "stdout",
          "text": [
            "Seniority level\n",
            "Self employed                                200000.000000\n",
            "CTO                                          200000.000000\n",
            "C-Level                                      150000.000000\n",
            "C-level executive manager                    115000.000000\n",
            "Head                                         105015.625000\n",
            "Director                                     100000.000000\n",
            "VP                                           100000.000000\n",
            "Manager                                       89200.000000\n",
            "Principal                                     88500.000000\n",
            "Lead                                          87754.855072\n",
            "Senior                                        76022.138298\n",
            "no idea, there are no ranges in the firm      70000.000000\n",
            "Middle                                        58586.872414\n",
            "Entry level                                   54179.130000\n",
            "Junior                                        51366.625000\n",
            "Intern                                        35000.000000\n",
            "intern                                        20000.000000\n",
            "student                                       16320.000000\n",
            "Working Student                               14400.000000\n",
            "Student                                       12000.000000\n",
            "Name: Yearly brutto salary (without bonus and stocks) in EUR, dtype: float64\n"
          ]
        }
      ]
    },
    {
      "cell_type": "markdown",
      "source": [
        "**Respuesta**: Se puede ver la alta variedad de salarios que hay entre los diferente tipos de rangos. Los niveles de seniority relacionados con roles ejecutivos, como \"self employeed\" y \"CTO,\" tienden a tener los salarios promedio más altos.Los niveles de \"Student\", \"Intern\" y \"Working Student\" tienen salarios promedio significativamente más bajos en comparación con otros niveles."
      ],
      "metadata": {
        "id": "8hjeCYUcpIL4"
      }
    },
    {
      "cell_type": "markdown",
      "source": [
        "# **Cantidad y porporción de personas en cada Rango, categorizado por genero**"
      ],
      "metadata": {
        "id": "5PV_BFNtqO54"
      }
    },
    {
      "cell_type": "code",
      "source": [
        "conteo_por_genero_seniority = df.groupby(['Seniority level', 'Gender']).size().unstack(fill_value=0)\n",
        "\n",
        "total_hombres = conteo_por_genero_seniority['Male'].sum()\n",
        "total_mujeres = conteo_por_genero_seniority['Female'].sum()\n",
        "\n",
        "conteo_por_genero_seniority['Porcentaje Hombres'] = (conteo_por_genero_seniority['Male'] / total_hombres) * 100\n",
        "conteo_por_genero_seniority['Porcentaje Mujeres'] = (conteo_por_genero_seniority['Female'] / total_mujeres) * 100\n",
        "\n",
        "print(conteo_por_genero_seniority[['Porcentaje Hombres', 'Porcentaje Mujeres']])"
      ],
      "metadata": {
        "colab": {
          "base_uri": "https://localhost:8080/"
        },
        "id": "ewSVKfp4q5VZ",
        "outputId": "db42faa2-513b-40a9-8cb2-10b2523e4c85"
      },
      "execution_count": null,
      "outputs": [
        {
          "output_type": "stream",
          "name": "stdout",
          "text": [
            "Gender                                     Porcentaje Hombres  \\\n",
            "Seniority level                                                 \n",
            "C-Level                                              0.113636   \n",
            "C-level executive manager                            0.113636   \n",
            "CTO                                                  0.113636   \n",
            "Director                                             0.113636   \n",
            "Entry level                                          0.113636   \n",
            "Head                                                 3.409091   \n",
            "Intern                                               0.113636   \n",
            "Junior                                               5.113636   \n",
            "Lead                                                15.113636   \n",
            "Manager                                              0.113636   \n",
            "Middle                                              25.909091   \n",
            "Principal                                            0.227273   \n",
            "Self employed                                        0.113636   \n",
            "Senior                                              48.977273   \n",
            "Student                                              0.000000   \n",
            "VP                                                   0.113636   \n",
            "Working Student                                      0.113636   \n",
            "intern                                               0.000000   \n",
            "no idea, there are no ranges in the firm             0.113636   \n",
            "student                                              0.000000   \n",
            "\n",
            "Gender                                     Porcentaje Mujeres  \n",
            "Seniority level                                                \n",
            "C-Level                                               0.00000  \n",
            "C-level executive manager                             0.00000  \n",
            "CTO                                                   0.00000  \n",
            "Director                                              0.00000  \n",
            "Entry level                                           0.00000  \n",
            "Head                                                  0.78125  \n",
            "Intern                                                0.00000  \n",
            "Junior                                               14.84375  \n",
            "Lead                                                  3.90625  \n",
            "Manager                                               0.00000  \n",
            "Middle                                               47.65625  \n",
            "Principal                                             0.00000  \n",
            "Self employed                                         0.00000  \n",
            "Senior                                               30.46875  \n",
            "Student                                               0.78125  \n",
            "VP                                                    0.00000  \n",
            "Working Student                                       0.00000  \n",
            "intern                                                0.78125  \n",
            "no idea, there are no ranges in the firm              0.00000  \n",
            "student                                               0.78125  \n"
          ]
        }
      ]
    },
    {
      "cell_type": "code",
      "source": [
        "plt.figure(figsize=(12, 6))\n",
        "sns.countplot(data=df, x='Seniority level', hue='Gender', palette='Set2')\n",
        "plt.xlabel('Seniority level')\n",
        "plt.ylabel('Cantidad de Personas')\n",
        "plt.title('Cantidad de Personas en Cada Seniority level (Categorizado por Género)')\n",
        "plt.xticks(rotation=90)\n",
        "plt.legend(title='Género')\n",
        "plt.tight_layout()\n",
        "plt.show()"
      ],
      "metadata": {
        "colab": {
          "base_uri": "https://localhost:8080/",
          "height": 607
        },
        "id": "qdGfMYHip-Kx",
        "outputId": "98eb3639-c145-4a76-bffa-564b31e0cb23"
      },
      "execution_count": null,
      "outputs": [
        {
          "output_type": "display_data",
          "data": {
            "text/plain": [
              "<Figure size 1200x600 with 1 Axes>"
            ],
            "image/png": "[encoded data removed]"
          },
          "metadata": {}
        }
      ]
    },
    {
      "cell_type": "markdown",
      "source": [
        "**Respuesta:** Se puede denotar que en la gran maoyria de puestos, la precencia masculina es mayor a la femenina, se debe tambien a la mayor precencia de hombres en la poblacion de dataset, pero a excepcion de Middle y Junior, la prencia de hombres con respecto a mujeres en relacion a su propocion es bastante dispareja. Indicando que cerca de la mitad de las mujeres estan de middle, y cerca a la mitad de hombres esta de Senior, esto indicaria el porque tambien existe una diferencia de salario importante"
      ],
      "metadata": {
        "id": "X2X2VO0kqV5h"
      }
    },
    {
      "cell_type": "markdown",
      "source": [
        "# **Cantidad de personas por lenguaje, y salario promedio que tiene cada lenguaje**"
      ],
      "metadata": {
        "id": "EVM3BweLsDWY"
      }
    },
    {
      "cell_type": "code",
      "source": [
        "promedio_salario_por_lenguaje = df.groupby('Your main technology / programming language')['Yearly brutto salary (without bonus and stocks) in EUR'].mean()\n",
        "promedio_salario_por_lenguaje = promedio_salario_por_lenguaje.sort_values(ascending=False)\n",
        "print(promedio_salario_por_lenguaje)"
      ],
      "metadata": {
        "colab": {
          "base_uri": "https://localhost:8080/"
        },
        "id": "7ByHPmBHsEBw",
        "outputId": "a929557b-2aa6-4566-fd2e-f81e8a037bc7"
      },
      "execution_count": null,
      "outputs": [
        {
          "output_type": "stream",
          "name": "stdout",
          "text": [
            "Your main technology / programming language\n",
            "React JS                         850000.0\n",
            ".net, c++, spss, embeddded       200000.0\n",
            "JAVA                             200000.0\n",
            "Cobol                            159000.0\n",
            "Java & PHP                       150000.0\n",
            "                                   ...   \n",
            "Tricentis Tosca                   32000.0\n",
            "FBD                               30000.0\n",
            "GCP                               30000.0\n",
            "Web developer                     27000.0\n",
            "Python, database technologies     16320.0\n",
            "Name: Yearly brutto salary (without bonus and stocks) in EUR, Length: 225, dtype: float64\n"
          ]
        }
      ]
    },
    {
      "cell_type": "code",
      "source": [
        "conteo_por_lenguaje = df['Your main technology / programming language'].value_counts()\n",
        "conteo_por_lenguaje = conteo_por_lenguaje.sort_values(ascending=False)\n",
        "print(conteo_por_lenguaje)"
      ],
      "metadata": {
        "colab": {
          "base_uri": "https://localhost:8080/"
        },
        "id": "yTRBgFjHsWzg",
        "outputId": "288e99da-0d00-4ea0-915d-f2e9230bc586"
      },
      "execution_count": null,
      "outputs": [
        {
          "output_type": "stream",
          "name": "stdout",
          "text": [
            "Java                                            159\n",
            "Python                                          153\n",
            "PHP                                              50\n",
            "C++                                              34\n",
            "JavaScript                                       31\n",
            "                                               ... \n",
            "PL/SQL                                            1\n",
            "Swift, Objective-C                                1\n",
            "Python, Whole Apache Data Science Stack, AWS      1\n",
            "NLP, Python                                       1\n",
            "spark                                             1\n",
            "Name: Your main technology / programming language, Length: 225, dtype: int64\n"
          ]
        }
      ]
    },
    {
      "cell_type": "markdown",
      "source": [
        "**Respuesta:** Se puede evidenciar que el lenguaje que mas paga es React JS. Tambien que el lenguaje mas utilizado es Java, siendo este tambien uno de los mejores pagados, o sea, se puede decir que en promedio es mejor aprender Java y aplicar para el, puede que haya mucho competencia, pero tiene un elevado salario tambien"
      ],
      "metadata": {
        "id": "znP0_bLes7VY"
      }
    },
    {
      "cell_type": "markdown",
      "source": [
        "# **CONCLUSIONES**\n",
        "* Los salarios varían significativamente según el nivel de seniority, con los niveles ejecutivos  teniendo los salarios más altos, seguidos por niveles como Principal, Lead y Senior.\n",
        "* Los niveles de entrada y junior tienen salarios más bajos en comparación con otros niveles, lo que es típico para roles menos experimentados.\n",
        "* Existe una brecha salarial de género, con salarios promedio más altos para hombres que para mujeres en general.\n",
        "* Los salarios varían significativamente según el tipo de empresa. Las startups y las empresas tecnológicas tienden a ofrecer salarios más altos en promedio, mientras que las instituciones académicas y algunas empresas de servicios públicos tienen salarios más bajos en promedio.\n",
        "* Los salarios también varían según el lenguaje de programación utilizado. Algunos lenguajes de programación están asociados con salarios más altos en promedio que otros.\n",
        "* La distribución de salarios es asimétrica y sesgada hacia la derecha, lo que significa que hay un pequeño número de salarios muy altos que influyen en la media, haciendo que sea mayor que la mediana.\n",
        "* La mediana y la media son diferentes debido a la presencia de valores atípicos en los datos. La mediana es una medida de tendencia central más robusta en este caso."
      ],
      "metadata": {
        "id": "X56RB9DDyzpH"
      }
    }
  ]
}