{
  "nbformat": 4,
  "nbformat_minor": 0,
  "metadata": {
    "colab": {
      "provenance": []
    },
    "kernelspec": {
      "name": "python3",
      "display_name": "Python 3"
    },
    "language_info": {
      "name": "python"
    }
  },
  "cells": [
    {
      "cell_type": "code",
      "source": [
        "from nltk import CFG\n",
        "G = CFG.fromstring(\"\"\"\n",
        "    S -> A B C | D E\n",
        "    A -> 2 B 3 | ε\n",
        "    B -> BP\n",
        "    BP -> 4 C 5 BP | ε\n",
        "    C -> 6 A B | ε\n",
        "    D -> 1 A E | B\n",
        "    E -> 3\n",
        "\n",
        "\"\"\")"
      ],
      "metadata": {
        "id": "p5ybOYIKK7A7"
      },
      "execution_count": null,
      "outputs": []
    },
    {
      "cell_type": "code",
      "source": [
        "def obtener_simbolos(grammar):\n",
        "    \"\"\"\n",
        "    Función que devuelve una lista de los símbolos terminales y no terminales de una gramática CFG dada.\n",
        "    \"\"\"\n",
        "    simbolos = set()\n",
        "    for production in grammar.productions():\n",
        "        simbolos.add(production.lhs())  # agregamos el símbolo no terminal de la regla\n",
        "        for symbol in production.rhs(): # agregamos los símbolos terminales o no terminales de la regla\n",
        "            simbolos.add(symbol)\n",
        "    return list(simbolos)\n",
        "\n",
        "def obtener_no_terminales(grammar):\n",
        "    \"\"\"\n",
        "    Función que devuelve una lista de los símbolos no terminales de una gramática CFG dada.\n",
        "    \"\"\"\n",
        "    no_terminales = set()\n",
        "    for production in grammar.productions():\n",
        "        no_terminales.add(production.lhs())  # agregamos el símbolo no terminal de la regla\n",
        "    return list(no_terminales)\n",
        "\n",
        "def obtener_terminales(grammar):\n",
        "    \"\"\"\n",
        "    Función que devuelve una lista de los símbolos terminales de una gramática CFG dada.\n",
        "    \"\"\"\n",
        "    no_terminales = obtener_no_terminales(grammar)\n",
        "    simbolos = set()\n",
        "    for production in grammar.productions():\n",
        "        for symbol in production.rhs():\n",
        "            if symbol not in no_terminales:\n",
        "                simbolos.add(symbol)\n",
        "    return list(simbolos)\n",
        "\n",
        "\n",
        "\n",
        "print(obtener_simbolos(G))\n",
        "print(obtener_no_terminales(G))\n",
        "print(obtener_terminales(G))\n"
      ],
      "metadata": {
        "colab": {
          "base_uri": "https://localhost:8080/"
        },
        "id": "yXg6lcYyOgoU",
        "outputId": "cefc6033-698b-4c5c-9c2d-8f72617d9a8e"
      },
      "execution_count": null,
      "outputs": [
        {
          "output_type": "stream",
          "name": "stdout",
          "text": [
            "[A, D, S, 1, 4, E, 6, C, BP, ε, 3, 2, B, 5]\n",
            "[A, D, S, E, C, BP, B]\n",
            "[1, 4, 6, ε, 3, 2, 5]\n"
          ]
        }
      ]
    },
    {
      "cell_type": "code",
      "source": [
        "from nltk import nonterminals"
      ],
      "metadata": {
        "id": "aUdbxpp9Fq0Q"
      },
      "execution_count": null,
      "outputs": []
    },
    {
      "cell_type": "code",
      "source": [
        "def left_factor(grammar):\n",
        "    # Identificar símbolos no terminales en la gramática\n",
        "    non_terminals = nonterminals(\",\".join(sorted(set(str(p.lhs()) for p in grammar.productions()))))\n",
        "\n",
        "\n",
        "    # Para cada símbolo no terminal, identificar las producciones con prefijo común\n",
        "    for A in non_terminals:\n",
        "        productions = grammar.productions(A)\n",
        "        prefixes = {}\n",
        "        for prod in productions:\n",
        "            if prod.rhs()[0] not in prefixes:\n",
        "\n",
        "                prefixes[prod.rhs()[0]] = []\n",
        "\n",
        "            prefixes[prod.rhs()[0]].append(prod.rhs()[1:])\n",
        "\n",
        "        # Si existen producciones con prefijo común, factorizar la gramática\n",
        "        for prefix, suffixes in prefixes.items():\n",
        "            if len(suffixes) > 1:\n",
        "                A_ = grammar.new_nonterminal(A.symbol+\"'\")\n",
        "                grammar.add_nonterminal(A_)\n",
        "                grammar.remove_productions(A, lambda prod: prod.rhs[0] == prefix)\n",
        "                for suffix in suffixes:\n",
        "                    grammar.add_production(A_, suffix)\n",
        "                grammar.add_production(A, [prefix, A_])\n",
        "\n",
        "grammar = CFG.fromstring(\"\"\"\n",
        "    S -> A B C | D E\n",
        "    A -> 2 B 3 | ε\n",
        "    B -> 4 C 5 B | ε\n",
        "    C -> 6 A B | ε\n",
        "    D -> 1 A E | B\n",
        "    E -> 3\n",
        "\"\"\")\n",
        "left_factor(grammar)\n",
        "print(grammar)"
      ],
      "metadata": {
        "id": "Bu8pYu7nQqDd",
        "colab": {
          "base_uri": "https://localhost:8080/"
        },
        "outputId": "db7fed3f-df27-4b57-9463-444b51b5cb62"
      },
      "execution_count": null,
      "outputs": [
        {
          "output_type": "stream",
          "name": "stdout",
          "text": [
            "Grammar with 12 productions (start state = S)\n",
            "    S -> A B C\n",
            "    S -> D E\n",
            "    A -> 2 B 3\n",
            "    A -> ε\n",
            "    B -> Z\n",
            "    Z -> 4 C 5 Z\n",
            "    Z -> ε\n",
            "    C -> 6 A B\n",
            "    C -> ε\n",
            "    D -> 1 A E\n",
            "    D -> B\n",
            "    E -> 3\n"
          ]
        }
      ]
    },
    {
      "cell_type": "code",
      "source": [
        "def calcular_primeros_gramatica(gramatica):\n",
        "    primeros = {}\n",
        "    for no_terminal in gramatica:\n",
        "        primeros[no_terminal] = calcular_primeros(no_terminal, gramatica)\n",
        "    return primeros\n",
        "\n",
        "def calcular_primeros(simbolo, gramatica):\n",
        "    primeros = set()\n",
        "    for produccion in gramatica[simbolo]:\n",
        "        if produccion[0].isupper(): # si la producción comienza con un no-terminal\n",
        "            primeros_produccion = calcular_primeros(produccion[0], gramatica)\n",
        "            primeros |= primeros_produccion\n",
        "            if 'ε' in primeros_produccion:\n",
        "                i = 1\n",
        "                while i < len(produccion) and 'ε' in primeros_produccion:\n",
        "                    primeros_produccion = calcular_primeros(produccion[i], gramatica)\n",
        "                    primeros |= primeros_produccion - {'ε'}\n",
        "                    i += 1\n",
        "                if i == len(produccion) and 'ε' in primeros_produccion:\n",
        "                    primeros.add('ε')\n",
        "        else: # si la producción comienza con un terminal\n",
        "            primeros.add(produccion[0])\n",
        "    return primeros\n"
      ],
      "metadata": {
        "id": "luzAonVJIfaz"
      },
      "execution_count": null,
      "outputs": []
    },
    {
      "cell_type": "code",
      "source": [
        "gramatica = {'S': ['ABC', 'DE'], 'A': ['2B3','ε'], 'B': ['4C5B','ε'], 'C': ['6AB','ε'], 'D': ['1AE','B'], 'E': ['3', 'ε']}\n",
        "primeros = calcular_primeros_gramatica(gramatica)\n",
        "print(primeros)\n"
      ],
      "metadata": {
        "colab": {
          "base_uri": "https://localhost:8080/"
        },
        "id": "rHeX_xsRIjzx",
        "outputId": "b0beb9f0-6771-4a15-d731-2e45dc723588"
      },
      "execution_count": null,
      "outputs": [
        {
          "output_type": "stream",
          "name": "stdout",
          "text": [
            "{'S': {'4', '6', '3', '1', '2', 'ε'}, 'A': {'2', 'ε'}, 'B': {'ε', '4'}, 'C': {'6', 'ε'}, 'D': {'4', '1', 'ε'}, 'E': {'3', 'ε'}}\n"
          ]
        }
      ]
    }
  ]
}