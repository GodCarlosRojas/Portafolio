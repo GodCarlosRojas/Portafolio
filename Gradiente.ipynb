{
  "nbformat": 4,
  "nbformat_minor": 0,
  "metadata": {
    "colab": {
      "provenance": []
    },
    "kernelspec": {
      "name": "python3",
      "display_name": "Python 3"
    },
    "language_info": {
      "name": "python"
    }
  },
  "cells": [
    {
      "cell_type": "code",
      "execution_count": null,
      "metadata": {
        "id": "dW_A4BeIabQ1"
      },
      "outputs": [],
      "source": [
        "import numpy as np\n",
        "import matplotlib.pyplot as plt"
      ]
    },
    {
      "cell_type": "code",
      "source": [
        "np.random.seed(13)\n",
        "x = np.arange(0, 5, 0.1)\n",
        "y = -3 * x + 4 + np.random.normal(0, 3, 50)"
      ],
      "metadata": {
        "id": "VA1JVTxQadXc"
      },
      "execution_count": null,
      "outputs": []
    },
    {
      "cell_type": "code",
      "source": [
        "m = 0\n",
        "b = 0\n",
        "alpha = 0.01\n",
        "num_iter = 1000"
      ],
      "metadata": {
        "id": "Vs4q4pXhcPcT"
      },
      "execution_count": null,
      "outputs": []
    },
    {
      "cell_type": "code",
      "source": [
        "def mse_cost(y, y_pred):\n",
        "    n = len(y)\n",
        "    return np.sum((y - y_pred)**2) / n\n",
        "\n",
        "for i in range(num_iter):\n",
        "    y_pred = m * x + b\n",
        "    cost = mse_cost(y, y_pred)\n",
        "    dm = -2 * np.sum(x * (y - y_pred)) / len(y)\n",
        "    db = -2 * np.sum(y - y_pred) / len(y)\n",
        "    m = m - alpha * dm\n",
        "    b = b - alpha * db\n",
        "\n",
        "    if i % 100 == 0:\n",
        "        print(\"Iteración:\", i, \"Costo:\", cost, \"Pendiente:\", m, \"Intersección:\", b)\n",
        "\n",
        "print(\"Pendiente final:\", m, \"Intersección final:\", b)"
      ],
      "metadata": {
        "colab": {
          "base_uri": "https://localhost:8080/"
        },
        "id": "hQ2L1EUFcRc6",
        "outputId": "02599666-fc10-4f4e-f2e4-cad609b87e59"
      },
      "execution_count": null,
      "outputs": [
        {
          "output_type": "stream",
          "name": "stdout",
          "text": [
            "Iteración: 0 Costo: 38.4114536549726 Pendiente: -0.27963730128927006 Intersección: -0.058582283337625246\n",
            "Iteración: 100 Costo: 10.694743489571511 Pendiente: -2.191104503107974 Intersección: 1.6271921049994758\n",
            "Iteración: 200 Costo: 8.79947825014316 Pendiente: -2.5961008430756296 Intersección: 2.924780654822327\n",
            "Iteración: 300 Costo: 8.061720730925032 Pendiente: -2.8487820352623308 Intersección: 3.734358898553676\n",
            "Iteración: 400 Costo: 7.774538680708645 Pendiente: -3.006432313239007 Intersección: 4.239462717574023\n",
            "Iteración: 500 Costo: 7.662749199994314 Pendiente: -3.10479187031977 Intersección: 4.554601952063629\n",
            "Iteración: 600 Costo: 7.619233639084557 Pendiente: -3.166159364201101 Intersección: 4.751220416179207\n",
            "Iteración: 700 Costo: 7.602294620948053 Pendiente: -3.204447146466967 Intersección: 4.873892607389486\n",
            "Iteración: 800 Costo: 7.595700880009633 Pendiente: -3.2283352699362613 Intersección: 4.950428992535315\n",
            "Iteración: 900 Costo: 7.593134177547153 Pendiente: -3.2432393048297357 Intersección: 4.998180795070166\n",
            "Pendiente final: -3.252465134250453 Intersección final: 5.027739903584544\n"
          ]
        }
      ]
    },
    {
      "cell_type": "code",
      "source": [
        "x2= range(0,6)\n",
        "y2 = m*x2+b\n",
        "\n",
        "plt.scatter(x, y)\n",
        "plt.plot(x2,y2, color='red')"
      ],
      "metadata": {
        "colab": {
          "base_uri": "https://localhost:8080/",
          "height": 283
        },
        "id": "BFyAcn67aeAM",
        "outputId": "8d73778e-5473-469c-917b-4c9c2b824187"
      },
      "execution_count": null,
      "outputs": [
        {
          "output_type": "execute_result",
          "data": {
            "text/plain": [
              "[<matplotlib.lines.Line2D at 0x7f70f2025130>]"
            ]
          },
          "metadata": {},
          "execution_count": 9
        },
        {
          "output_type": "display_data",
          "data": {
            "text/plain": [
              "<Figure size 432x288 with 1 Axes>"
            ],
            "image/png": "[encoded data removed]"
          },
          "metadata": {
            "needs_background": "light"
          }
        }
      ]
    }
  ]
}