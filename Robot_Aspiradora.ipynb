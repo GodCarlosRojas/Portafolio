{
  "nbformat": 4,
  "nbformat_minor": 0,
  "metadata": {
    "colab": {
      "provenance": []
    },
    "kernelspec": {
      "name": "python3",
      "display_name": "Python 3"
    },
    "widgets": {
      "application/vnd.jupyter.widget-state+json": {
        "f18677cfa1a8419dbe261276bb4ea8dc": {
          "model_module": "@jupyter-widgets/controls",
          "model_name": "HTMLModel",
          "model_module_version": "1.5.0",
          "state": {
            "_dom_classes": [],
            "_model_module": "@jupyter-widgets/controls",
            "_model_module_version": "1.5.0",
            "_model_name": "HTMLModel",
            "_view_count": null,
            "_view_module": "@jupyter-widgets/controls",
            "_view_module_version": "1.5.0",
            "_view_name": "HTMLView",
            "description": "",
            "description_tooltip": null,
            "layout": "IPY_MODEL_f99fde67e0b8425b9163d7ed86e4b3db",
            "placeholder": "​",
            "style": "IPY_MODEL_ea830911db654fafa7cddaae3508d68f",
            "value": "<table border='1' ><tr><td style='height:50px;width:50px'></td><td style='height:50px;width:50px'></td><td style='height:50px;width:50px'></td><td style='height:50px;width:50px'></td><td style='height:50px;width:50px'></td></tr><tr><td style='height:50px;width:50px'></td><td style='height:50px;width:50px'></td><td style='height:50px;width:50px'></td><td style='height:50px;width:50px'></td><td style='height:50px;width:50px'></td></tr><tr><td style='height:50px;width:50px'></td><td style='height:50px;width:50px'></td><td style='height:50px;width:50px'><div style='transform: rotate(0deg);font-size:30px;'>🍂</div></td><td style='height:50px;width:50px'><div style='transform: rotate(0deg);font-size:30px;'>🍂</div></td><td style='height:50px;width:50px'></td></tr><tr><td style='height:50px;width:50px'></td><td style='height:50px;width:50px'></td><td style='height:50px;width:50px'></td><td style='height:50px;width:50px'><div style='transform: rotate(0deg);font-size:30px;'>🍂</div></td><td style='height:50px;width:50px'></td></tr><tr><td style='height:50px;width:50px'><div style='transform: rotate(270deg);font-size:30px;'>🤖</div></td><td style='height:50px;width:50px'></td><td style='height:50px;width:50px'></td><td style='height:50px;width:50px'></td><td style='height:50px;width:50px'></td></tr></table>"
          }
        },
        "f99fde67e0b8425b9163d7ed86e4b3db": {
          "model_module": "@jupyter-widgets/base",
          "model_name": "LayoutModel",
          "model_module_version": "1.2.0",
          "state": {
            "_model_module": "@jupyter-widgets/base",
            "_model_module_version": "1.2.0",
            "_model_name": "LayoutModel",
            "_view_count": null,
            "_view_module": "@jupyter-widgets/base",
            "_view_module_version": "1.2.0",
            "_view_name": "LayoutView",
            "align_content": null,
            "align_items": null,
            "align_self": null,
            "border": null,
            "bottom": null,
            "display": null,
            "flex": null,
            "flex_flow": null,
            "grid_area": null,
            "grid_auto_columns": null,
            "grid_auto_flow": null,
            "grid_auto_rows": null,
            "grid_column": null,
            "grid_gap": null,
            "grid_row": null,
            "grid_template_areas": null,
            "grid_template_columns": null,
            "grid_template_rows": null,
            "height": null,
            "justify_content": null,
            "justify_items": null,
            "left": null,
            "margin": null,
            "max_height": null,
            "max_width": null,
            "min_height": null,
            "min_width": null,
            "object_fit": null,
            "object_position": null,
            "order": null,
            "overflow": null,
            "overflow_x": null,
            "overflow_y": null,
            "padding": null,
            "right": null,
            "top": null,
            "visibility": null,
            "width": null
          }
        },
        "ea830911db654fafa7cddaae3508d68f": {
          "model_module": "@jupyter-widgets/controls",
          "model_name": "DescriptionStyleModel",
          "model_module_version": "1.5.0",
          "state": {
            "_model_module": "@jupyter-widgets/controls",
            "_model_module_version": "1.5.0",
            "_model_name": "DescriptionStyleModel",
            "_view_count": null,
            "_view_module": "@jupyter-widgets/base",
            "_view_module_version": "1.2.0",
            "_view_name": "StyleView",
            "description_width": ""
          }
        }
      }
    }
  },
  "cells": [
    {
      "cell_type": "markdown",
      "source": [
        "# __Robot Aspiradora__"
      ],
      "metadata": {
        "id": "sfNsw62P_M1t"
      }
    },
    {
      "cell_type": "code",
      "metadata": {
        "id": "B5gSyC_Meubk"
      },
      "source": [
        "from IPython.display import display\n",
        "import ipywidgets as widgets\n",
        "import time\n",
        "\n",
        "class Tablero:\n",
        "  def __init__(self, tamano_celda=(50, 50), n_celdas=(5,5)):\n",
        "    self.out = widgets.HTML()\n",
        "    display(self.out)\n",
        "    self.tamano_celda = tamano_celda\n",
        "    self.n_celdas = n_celdas\n",
        "\n",
        "  def dibujar(self, objetos):\n",
        "    tablero = \"<table border='1' >{}</table>\"\n",
        "    filas = \"\"\n",
        "\n",
        "    for i in range(self.n_celdas[0]):\n",
        "      s = \"\"\n",
        "      for j in range(self.n_celdas[1]):\n",
        "        contenido =\"\"\n",
        "        for o in objetos:\n",
        "          if o.x == j and o.y == i:\n",
        "            contenido = \\\n",
        "            \"<div style='transform: rotate({angulo}deg);font-size:{tamano_emoticon}px;'>{emoticon}</div>\".\\\n",
        "            format(angulo = o.angulo, tamano_emoticon = o.tamano_emoticon, emoticon = o.emoticon)\n",
        "        s += \"<td style='height:{alto}px;width:{ancho}px'>{contenido}</td>\".\\\n",
        "          format(alto = self.tamano_celda[0], ancho = self.tamano_celda[1],\n",
        "                contenido = contenido)\n",
        "      filas += \"<tr>{}</tr>\".format(s)\n",
        "    tablero = tablero.format(filas)\n",
        "    self.out.value = tablero"
      ],
      "execution_count": null,
      "outputs": []
    },
    {
      "cell_type": "code",
      "metadata": {
        "id": "0AzhMKlVhoot"
      },
      "source": [
        "class Agente:\n",
        "  def __init__(self, x=0, y=0, angulo=0, emoticon=\"🤖\", tamano_emoticon=30):\n",
        "    self.x = x\n",
        "    self.y = y\n",
        "    self.angulo = angulo\n",
        "    self.emoticon = emoticon\n",
        "    self.tamano_emoticon = tamano_emoticon\n",
        "    self.energia = 5\n",
        "\n",
        "  def abajo(self):\n",
        "    if self.y < 4 : self.y += 1"
      ],
      "execution_count": null,
      "outputs": []
    },
    {
      "cell_type": "code",
      "metadata": {
        "id": "Th7_Ntk0fpK7",
        "colab": {
          "base_uri": "https://localhost:8080/",
          "height": 303,
          "referenced_widgets": [
            "f18677cfa1a8419dbe261276bb4ea8dc",
            "f99fde67e0b8425b9163d7ed86e4b3db",
            "ea830911db654fafa7cddaae3508d68f"
          ]
        },
        "outputId": "7b6c50c8-db6b-4820-96cc-d5fac501f8b9"
      },
      "source": [
        "agente = Agente()\n",
        "basura1 = Agente(2, 2, 0, emoticon=\"🍂\", tamano_emoticon=30)\n",
        "basura2 = Agente(3, 3, 0, emoticon=\"🍂\", tamano_emoticon=30)\n",
        "basura3 = Agente(3, 2, 0, emoticon=\"🍂\", tamano_emoticon=30)\n",
        "\n",
        "objetos = [agente, basura1, basura2, basura3]\n",
        "\n",
        "\n",
        "escenario = Tablero()\n",
        "\n",
        "for i in range(agente.energia):\n",
        "  escenario.dibujar(objetos)\n",
        "  time.sleep(1)\n",
        "  agente.abajo()"
      ],
      "execution_count": null,
      "outputs": [
        {
          "output_type": "display_data",
          "data": {
            "text/plain": [
              "HTML(value='')"
            ],
            "application/vnd.jupyter.widget-view+json": {
              "version_major": 2,
              "version_minor": 0,
              "model_id": "f18677cfa1a8419dbe261276bb4ea8dc"
            }
          },
          "metadata": {}
        }
      ]
    }
  ]
}