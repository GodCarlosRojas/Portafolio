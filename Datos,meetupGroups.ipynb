{
  "cells": [
    {
      "cell_type": "markdown",
      "metadata": {
        "id": "jM-ljeIvN--R"
      },
      "source": [
        "![](./img/logo.png)"
      ]
    },
    {
      "cell_type": "markdown",
      "metadata": {
        "id": "qAzJz6SNN--W"
      },
      "source": [
        "# 2do Parcial: Análisis Exploratorio de Datos.\n",
        "\n",
        "## Universidad Sergio Arboleda\n",
        "\n",
        "Programa CCIA\n",
        "\n",
        "Autores: Laura Gomez Amaya, Luis Ángel Rodriguez Calderon\n",
        "\n",
        "Fecha : 10/09/2022\n",
        "\n",
        "Topico: Resolución parcial #1 HPC"
      ]
    },
    {
      "cell_type": "markdown",
      "metadata": {
        "id": "WOfaoOOGN--X"
      },
      "source": [
        "# Modelo **02**\n",
        "\n",
        "### Descripción de Valores:\n",
        "\n",
        "    join_date: fecha año-mes-dia hora:minuto:segundo.\n",
        "    group: houston machine learning, houstonr, houston data science,\n",
        "           houston energy data science, houston data visualization.\n",
        "    city:  Houston, Katy, Orizaba, Spring, Cold Spring Harbor,\n",
        "           Kenmore, Sugar Land, Colorado Springs, Pearland, Austin, ....\n",
        "    state: TX, NY, WA, CO, MD, CA, LA, GA, MO, NC, FL, NH,\n",
        "           MA, PA, KY, NE, IL, MN, TN, IN, OH, F2, NJ, NS,\n",
        "           VA, MI, 18, AR, AL, OR, DE, 17, ON, SC, BC, V5,\n",
        "           WI, AB, DC, AK, UT, OK, AZ, MS, CT, IA.\n",
        "    country: us, mx, il, be, cn, jp, gr, in, fr, my, de,\n",
        "             ye, np, no, au, gb, dz, co, tw, br, ie, pk,\n",
        "             ca, hk, nl, ng, ae, sg, eg, ir, es, nz, se,\n",
        "             za, cz, th, ch, by, pe, fi, kr, si, ph.\n",
        "         \n",
        "    "
      ]
    },
    {
      "cell_type": "markdown",
      "metadata": {
        "id": "7DFJJDgyN--Z"
      },
      "source": [
        "## 0.- Bibliotecas y Lectura"
      ]
    },
    {
      "cell_type": "code",
      "execution_count": null,
      "metadata": {
        "id": "UiQQJ8tON--Z"
      },
      "outputs": [],
      "source": [
        "#se importan las bibliotecas necesarias\n",
        "\n",
        "import pandas as pd\n",
        "import numpy as np\n",
        "import seaborn as sns\n",
        "import matplotlib.pyplot as plt\n",
        "from matplotlib import cm\n",
        "from matplotlib import colors\n",
        "from collections import OrderedDict\n",
        "import datetime"
      ]
    },
    {
      "cell_type": "code",
      "source": [
        "# se carga el dataset en un objeto pandas \"dataframe =df\"\n",
        "url = 'https://raw.githubusercontent.com/LuisAngel021/Parciales_HPC2022/main/meetup_groups.csv'\n",
        "List = df_groups = pd.read_csv(url)\n",
        "List = df_groups.head()\n"
      ],
      "metadata": {
        "id": "Xi63BRTDPYxp"
      },
      "execution_count": null,
      "outputs": []
    },
    {
      "cell_type": "markdown",
      "metadata": {
        "id": "290CWOKVN--c"
      },
      "source": [
        "## 1.- Identificación de datos perdidos (NaN)\n",
        "    - Bonus --> ¿Cuantas Filas se han eliminado después de la limpieza?"
      ]
    },
    {
      "cell_type": "code",
      "execution_count": null,
      "metadata": {
        "colab": {
          "base_uri": "https://localhost:8080/"
        },
        "id": "I6jc_xbdN--d",
        "outputId": "e12389e2-6eb6-4b66-b642-4402dacbe369"
      },
      "outputs": [
        {
          "output_type": "stream",
          "name": "stdout",
          "text": [
            "Total de registros: \n"
          ]
        },
        {
          "output_type": "execute_result",
          "data": {
            "text/plain": [
              "7671"
            ]
          },
          "metadata": {},
          "execution_count": 3
        }
      ],
      "source": [
        "#Total de registros con NaN\n",
        "print(\"Total de registros: \")\n",
        "len(df_groups)"
      ]
    },
    {
      "cell_type": "code",
      "execution_count": null,
      "metadata": {
        "colab": {
          "base_uri": "https://localhost:8080/"
        },
        "id": "oGjfM8rYN--d",
        "outputId": "6bc93bde-7b01-4cb2-99c5-64527bef011e"
      },
      "outputs": [
        {
          "output_type": "stream",
          "name": "stdout",
          "text": [
            "Lista de columnas con NaN\n"
          ]
        },
        {
          "output_type": "execute_result",
          "data": {
            "text/plain": [
              "join_date      0\n",
              "group          0\n",
              "city           0\n",
              "state        144\n",
              "country        0\n",
              "dtype: int64"
            ]
          },
          "metadata": {},
          "execution_count": 4
        }
      ],
      "source": [
        "#1. Limpieza de valores NAN\n",
        "#1.1 Lista de cantidad de valores NaN\n",
        "print(\"Lista de columnas con NaN\")\n",
        "df_groups.isnull().sum()\n"
      ]
    },
    {
      "cell_type": "markdown",
      "source": [
        "**Analisis:**\n",
        "Se observa que solo en la columna de stado (state) hay 144 valores NaN"
      ],
      "metadata": {
        "id": "NDfLIHkhPhtZ"
      }
    },
    {
      "cell_type": "code",
      "execution_count": null,
      "metadata": {
        "colab": {
          "base_uri": "https://localhost:8080/",
          "height": 424
        },
        "id": "BZeNLRZvN--e",
        "outputId": "b2472f4d-9409-4047-9f5d-2c7b31459e35"
      },
      "outputs": [
        {
          "output_type": "execute_result",
          "data": {
            "text/plain": [
              "                join_date                        group     city state country\n",
              "0     2016-11-18 02:41:29     houston machine learning  Houston    TX      us\n",
              "1     2017-05-09 14:16:37     houston machine learning  Houston    TX      us\n",
              "2     2016-12-30 02:34:16     houston machine learning  Houston    TX      us\n",
              "3     2016-07-18 00:48:17     houston machine learning  Houston    TX      us\n",
              "4     2017-05-25 12:58:16     houston machine learning  Houston    TX      us\n",
              "...                   ...                          ...      ...   ...     ...\n",
              "7666  2017-10-07 18:05:24  houston data visualization   Houston    TX      us\n",
              "7667  2017-06-24 14:06:26  houston data visualization   Houston    TX      us\n",
              "7668  2015-10-05 17:08:40  houston data visualization   Houston    TX      us\n",
              "7669  2016-11-04 22:36:24  houston data visualization   Houston    TX      us\n",
              "7670  2016-08-02 17:47:29  houston data visualization   Houston    TX      us\n",
              "\n",
              "[7527 rows x 5 columns]"
            ],
            "text/html": [
              "\n",
              "  <div id=\"df-f38403ba-14fa-4d77-887b-838158b7b9c6\">\n",
              "    <div class=\"colab-df-container\">\n",
              "      <div>\n",
              "<style scoped>\n",
              "    .dataframe tbody tr th:only-of-type {\n",
              "        vertical-align: middle;\n",
              "    }\n",
              "\n",
              "    .dataframe tbody tr th {\n",
              "        vertical-align: top;\n",
              "    }\n",
              "\n",
              "    .dataframe thead th {\n",
              "        text-align: right;\n",
              "    }\n",
              "</style>\n",
              "<table border=\"1\" class=\"dataframe\">\n",
              "  <thead>\n",
              "    <tr style=\"text-align: right;\">\n",
              "      <th></th>\n",
              "      <th>join_date</th>\n",
              "      <th>group</th>\n",
              "      <th>city</th>\n",
              "      <th>state</th>\n",
              "      <th>country</th>\n",
              "    </tr>\n",
              "  </thead>\n",
              "  <tbody>\n",
              "    <tr>\n",
              "      <th>0</th>\n",
              "      <td>2016-11-18 02:41:29</td>\n",
              "      <td>houston machine learning</td>\n",
              "      <td>Houston</td>\n",
              "      <td>TX</td>\n",
              "      <td>us</td>\n",
              "    </tr>\n",
              "    <tr>\n",
              "      <th>1</th>\n",
              "      <td>2017-05-09 14:16:37</td>\n",
              "      <td>houston machine learning</td>\n",
              "      <td>Houston</td>\n",
              "      <td>TX</td>\n",
              "      <td>us</td>\n",
              "    </tr>\n",
              "    <tr>\n",
              "      <th>2</th>\n",
              "      <td>2016-12-30 02:34:16</td>\n",
              "      <td>houston machine learning</td>\n",
              "      <td>Houston</td>\n",
              "      <td>TX</td>\n",
              "      <td>us</td>\n",
              "    </tr>\n",
              "    <tr>\n",
              "      <th>3</th>\n",
              "      <td>2016-07-18 00:48:17</td>\n",
              "      <td>houston machine learning</td>\n",
              "      <td>Houston</td>\n",
              "      <td>TX</td>\n",
              "      <td>us</td>\n",
              "    </tr>\n",
              "    <tr>\n",
              "      <th>4</th>\n",
              "      <td>2017-05-25 12:58:16</td>\n",
              "      <td>houston machine learning</td>\n",
              "      <td>Houston</td>\n",
              "      <td>TX</td>\n",
              "      <td>us</td>\n",
              "    </tr>\n",
              "    <tr>\n",
              "      <th>...</th>\n",
              "      <td>...</td>\n",
              "      <td>...</td>\n",
              "      <td>...</td>\n",
              "      <td>...</td>\n",
              "      <td>...</td>\n",
              "    </tr>\n",
              "    <tr>\n",
              "      <th>7666</th>\n",
              "      <td>2017-10-07 18:05:24</td>\n",
              "      <td>houston data visualization</td>\n",
              "      <td>Houston</td>\n",
              "      <td>TX</td>\n",
              "      <td>us</td>\n",
              "    </tr>\n",
              "    <tr>\n",
              "      <th>7667</th>\n",
              "      <td>2017-06-24 14:06:26</td>\n",
              "      <td>houston data visualization</td>\n",
              "      <td>Houston</td>\n",
              "      <td>TX</td>\n",
              "      <td>us</td>\n",
              "    </tr>\n",
              "    <tr>\n",
              "      <th>7668</th>\n",
              "      <td>2015-10-05 17:08:40</td>\n",
              "      <td>houston data visualization</td>\n",
              "      <td>Houston</td>\n",
              "      <td>TX</td>\n",
              "      <td>us</td>\n",
              "    </tr>\n",
              "    <tr>\n",
              "      <th>7669</th>\n",
              "      <td>2016-11-04 22:36:24</td>\n",
              "      <td>houston data visualization</td>\n",
              "      <td>Houston</td>\n",
              "      <td>TX</td>\n",
              "      <td>us</td>\n",
              "    </tr>\n",
              "    <tr>\n",
              "      <th>7670</th>\n",
              "      <td>2016-08-02 17:47:29</td>\n",
              "      <td>houston data visualization</td>\n",
              "      <td>Houston</td>\n",
              "      <td>TX</td>\n",
              "      <td>us</td>\n",
              "    </tr>\n",
              "  </tbody>\n",
              "</table>\n",
              "<p>7527 rows × 5 columns</p>\n",
              "</div>\n",
              "      <button class=\"colab-df-convert\" onclick=\"convertToInteractive('df-f38403ba-14fa-4d77-887b-838158b7b9c6')\"\n",
              "              title=\"Convert this dataframe to an interactive table.\"\n",
              "              style=\"display:none;\">\n",
              "        \n",
              "  <svg xmlns=\"http://www.w3.org/2000/svg\" height=\"24px\"viewBox=\"0 0 24 24\"\n",
              "       width=\"24px\">\n",
              "    <path d=\"M0 0h24v24H0V0z\" fill=\"none\"/>\n",
              "    <path d=\"M18.56 5.44l.94 2.06.94-2.06 2.06-.94-2.06-.94-.94-2.06-.94 2.06-2.06.94zm-11 1L8.5 8.5l.94-2.06 2.06-.94-2.06-.94L8.5 2.5l-.94 2.06-2.06.94zm10 10l.94 2.06.94-2.06 2.06-.94-2.06-.94-.94-2.06-.94 2.06-2.06.94z\"/><path d=\"M17.41 7.96l-1.37-1.37c-.4-.4-.92-.59-1.43-.59-.52 0-1.04.2-1.43.59L10.3 9.45l-7.72 7.72c-.78.78-.78 2.05 0 2.83L4 21.41c.39.39.9.59 1.41.59.51 0 1.02-.2 1.41-.59l7.78-7.78 2.81-2.81c.8-.78.8-2.07 0-2.86zM5.41 20L4 18.59l7.72-7.72 1.47 1.35L5.41 20z\"/>\n",
              "  </svg>\n",
              "      </button>\n",
              "      \n",
              "  <style>\n",
              "    .colab-df-container {\n",
              "      display:flex;\n",
              "      flex-wrap:wrap;\n",
              "      gap: 12px;\n",
              "    }\n",
              "\n",
              "    .colab-df-convert {\n",
              "      background-color: #E8F0FE;\n",
              "      border: none;\n",
              "      border-radius: 50%;\n",
              "      cursor: pointer;\n",
              "      display: none;\n",
              "      fill: #1967D2;\n",
              "      height: 32px;\n",
              "      padding: 0 0 0 0;\n",
              "      width: 32px;\n",
              "    }\n",
              "\n",
              "    .colab-df-convert:hover {\n",
              "      background-color: #E2EBFA;\n",
              "      box-shadow: 0px 1px 2px rgba(60, 64, 67, 0.3), 0px 1px 3px 1px rgba(60, 64, 67, 0.15);\n",
              "      fill: #174EA6;\n",
              "    }\n",
              "\n",
              "    [theme=dark] .colab-df-convert {\n",
              "      background-color: #3B4455;\n",
              "      fill: #D2E3FC;\n",
              "    }\n",
              "\n",
              "    [theme=dark] .colab-df-convert:hover {\n",
              "      background-color: #434B5C;\n",
              "      box-shadow: 0px 1px 3px 1px rgba(0, 0, 0, 0.15);\n",
              "      filter: drop-shadow(0px 1px 2px rgba(0, 0, 0, 0.3));\n",
              "      fill: #FFFFFF;\n",
              "    }\n",
              "  </style>\n",
              "\n",
              "      <script>\n",
              "        const buttonEl =\n",
              "          document.querySelector('#df-f38403ba-14fa-4d77-887b-838158b7b9c6 button.colab-df-convert');\n",
              "        buttonEl.style.display =\n",
              "          google.colab.kernel.accessAllowed ? 'block' : 'none';\n",
              "\n",
              "        async function convertToInteractive(key) {\n",
              "          const element = document.querySelector('#df-f38403ba-14fa-4d77-887b-838158b7b9c6');\n",
              "          const dataTable =\n",
              "            await google.colab.kernel.invokeFunction('convertToInteractive',\n",
              "                                                     [key], {});\n",
              "          if (!dataTable) return;\n",
              "\n",
              "          const docLinkHtml = 'Like what you see? Visit the ' +\n",
              "            '<a target=\"_blank\" href=https://colab.research.google.com/notebooks/data_table.ipynb>data table notebook</a>'\n",
              "            + ' to learn more about interactive tables.';\n",
              "          element.innerHTML = '';\n",
              "          dataTable['output_type'] = 'display_data';\n",
              "          await google.colab.output.renderOutput(dataTable, element);\n",
              "          const docLink = document.createElement('div');\n",
              "          docLink.innerHTML = docLinkHtml;\n",
              "          element.appendChild(docLink);\n",
              "        }\n",
              "      </script>\n",
              "    </div>\n",
              "  </div>\n",
              "  "
            ]
          },
          "metadata": {},
          "execution_count": 5
        }
      ],
      "source": [
        "#1.2 Eliminar los valores NaN del dataset\n",
        "List = df_groups.dropna()\n",
        "df_groups.dropna()"
      ]
    },
    {
      "cell_type": "code",
      "source": [
        "#1.3 Eliminar los valores NaN del dataset\n",
        "print(\"Data set con los registros NaN eliminados: \")\n",
        "len(List)"
      ],
      "metadata": {
        "colab": {
          "base_uri": "https://localhost:8080/"
        },
        "id": "yaR0_15jPhAA",
        "outputId": "af35c837-7b34-4c86-a8ae-2457fbaffab4"
      },
      "execution_count": null,
      "outputs": [
        {
          "output_type": "stream",
          "name": "stdout",
          "text": [
            "Data set con los registros NaN eliminados: \n"
          ]
        },
        {
          "output_type": "execute_result",
          "data": {
            "text/plain": [
              "7527"
            ]
          },
          "metadata": {},
          "execution_count": 6
        }
      ]
    },
    {
      "cell_type": "markdown",
      "source": [
        "**Observaciones:** Como se puede apreciar, previamente eran 7671 registros contando los valores NaN, al almacenar el registro en una variable auxiliar llamada 'lista' podemos eliminar los registros en esa lista (144) y obtener un dataset limpio de valores NaN. Se han eliminado 144 registros de los 1671 registrados al inicio.\n"
      ],
      "metadata": {
        "id": "2P_AYo2cPrin"
      }
    },
    {
      "cell_type": "markdown",
      "metadata": {
        "id": "_YJ_XEg8N--e"
      },
      "source": [
        "## 2.- ¿Cuantas reuniones por grupo se registraron en el DataFrame?\n",
        "    - Haga un gráfico (Pastel) de reuniones por grupo en el DataFrame"
      ]
    },
    {
      "cell_type": "markdown",
      "metadata": {
        "id": "6IUTPKkzN--f"
      },
      "source": [
        "<img src=\"./img/grupos-meetings.png\" style=\"width:250px\">"
      ]
    },
    {
      "cell_type": "code",
      "execution_count": null,
      "metadata": {
        "colab": {
          "base_uri": "https://localhost:8080/"
        },
        "id": "yUCyX108N--f",
        "outputId": "b3976bf1-8170-4b27-a897-d33df69548f2"
      },
      "outputs": [
        {
          "output_type": "stream",
          "name": "stdout",
          "text": [
            "houston machine learning         740\n",
            "houstonr                        1037\n",
            "houston data science            2150\n",
            "houston energy data science     1891\n",
            "houston data visualization      1709\n",
            "Name: group, dtype: int64\n"
          ]
        }
      ],
      "source": [
        "#2 ¿Cuántas reuniones por grupo se registran en el dataset?\n",
        "CountCategory = List['group'].value_counts(sort=False)\n",
        "print(CountCategory)"
      ]
    },
    {
      "cell_type": "markdown",
      "source": [
        "**Observación:** Se logra apreciar que hay 5 reuniones de grupos:\n",
        "\n",
        "* En \"houston data science\" hubieron 2150 reuniones\n",
        "* En \"houston energy data science\" hubieron 1891 reuniones\n",
        "\n",
        "* En \"houston data visualization\" hubieron 1709 reuniones\n",
        "* En \"houstonr\" 1037 reuniones\n",
        "* En \"houston machine learning\" 740 reuniones"
      ],
      "metadata": {
        "id": "JSb0CbeDQYT2"
      }
    },
    {
      "cell_type": "code",
      "execution_count": null,
      "metadata": {
        "colab": {
          "base_uri": "https://localhost:8080/",
          "height": 339
        },
        "id": "-Jg6G00HN--g",
        "outputId": "79e3eff9-8e8f-486f-f49c-6b2c23fdc533"
      },
      "outputs": [
        {
          "output_type": "display_data",
          "data": {
            "text/plain": [
              "<Figure size 1008x360 with 1 Axes>"
            ],
            "image/png": "[encoded data removed]"
          },
          "metadata": {}
        }
      ],
      "source": [
        "#3. Hacer un gráfico (Pastel) de reuniones por grupo en el dataset\n",
        "plt.figure(figsize=(14,5))\n",
        "plt.suptitle('Grafica pastel por reuniones')\n",
        "\n",
        "groups_count = CountCategory.tolist()\n",
        "nombres = list(OrderedDict.fromkeys(List['group']))\n",
        "\n",
        "normdata = colors.Normalize(min(groups_count), max(groups_count))\n",
        "colormap = cm.get_cmap(\"Reds\")\n",
        "colores =colormap(normdata(groups_count))\n",
        "desfase = (0, 0, 0, 0.1, 0)\n",
        "\n",
        "plt.pie(groups_count, labels=nombres, autopct=\"%0.1f %%\", colors=colores, explode=desfase)\n",
        "plt.axis(\"equal\")\n",
        "plt.show()"
      ]
    },
    {
      "cell_type": "markdown",
      "source": [
        "**4. Analisis grafico:**\n",
        "\n",
        "*   Se concluye que el mayor porcentaje de grupos de reuniones es Houston data Science\n",
        "*   Se puede apreciar que existe un total de 7527 personas pertenecientes a un grupo de investigación de los 5 existentes.\n",
        "*   Las personas muestran menos interes en el grupo Houston Machine Learning, debido a que es el de menor porcentaje de los grupos.\n",
        "*   EL gráfico generado a partir de los datos, difiere del primer gráfico presentado a manera de ejemplo, siendo erroneo el gráfico de referencia ya que sus valores no coinciden con lo mostrado\n",
        "*   Se puede apreciar que las personas tienen un interes alto por los grupos de houston energy data science y houston data vizualization, ya que en houston r y machine learning, no se registran una cantidad considerable de reuniones.\n"
      ],
      "metadata": {
        "id": "XQ7gJhRFQb-m"
      }
    },
    {
      "cell_type": "code",
      "source": [
        "#5. ¿Cuántas reuniones presenta el grupo ‘houston machine learning’ en el dataset\n",
        "print(\"Numero total de reuniones del grupo Houston Machine Learning\")\n",
        "ML = List[List['group']=='houston machine learning']\n",
        "len(ML)"
      ],
      "metadata": {
        "colab": {
          "base_uri": "https://localhost:8080/"
        },
        "id": "vqK3DTxBQ1V1",
        "outputId": "9ee69be2-1356-4765-c440-06e1155f7edb"
      },
      "execution_count": null,
      "outputs": [
        {
          "output_type": "stream",
          "name": "stdout",
          "text": [
            "Numero total de reuniones del grupo Houston Machine Learning\n"
          ]
        },
        {
          "output_type": "execute_result",
          "data": {
            "text/plain": [
              "740"
            ]
          },
          "metadata": {},
          "execution_count": 9
        }
      ]
    },
    {
      "cell_type": "markdown",
      "source": [
        "**Observación:**\n",
        "\n",
        "\n",
        "*   Se puede observar que el grupo de houston machine learning ha tenido un total de 740 reuniones.\n"
      ],
      "metadata": {
        "id": "xqxhOrFRQ20j"
      }
    },
    {
      "cell_type": "markdown",
      "metadata": {
        "id": "_YCwZd4wN--g"
      },
      "source": [
        "## 3.-  ¿Cuál es la proporción de reuniones en la ciudad Houston?"
      ]
    },
    {
      "cell_type": "markdown",
      "metadata": {
        "id": "_XVf9-7-N--h"
      },
      "source": []
    },
    {
      "cell_type": "code",
      "execution_count": null,
      "metadata": {
        "id": "J956P94jN--h",
        "colab": {
          "base_uri": "https://localhost:8080/"
        },
        "outputId": "27500c98-ed06-4fda-ce1a-ca71b3c6e600"
      },
      "outputs": [
        {
          "output_type": "stream",
          "name": "stdout",
          "text": [
            "Numero de reuniones en Houston\n",
            "5560\n"
          ]
        }
      ],
      "source": [
        "#6. ¿Cuál es la proporción de reuniones en la ciudad de Houston?\n",
        "print(\"Numero de reuniones en Houston\")\n",
        "City = List[List['city']=='Houston']\n",
        "print(len(City))"
      ]
    },
    {
      "cell_type": "code",
      "execution_count": null,
      "metadata": {
        "id": "KH4fsAmTN--h",
        "colab": {
          "base_uri": "https://localhost:8080/"
        },
        "outputId": "4a8f0fd9-bd87-443c-833d-f1b1bf1a277d"
      },
      "outputs": [
        {
          "output_type": "stream",
          "name": "stdout",
          "text": [
            "Numero de reuniones en total\n",
            "7527\n"
          ]
        }
      ],
      "source": [
        "print(\"Numero de reuniones en total\")\n",
        "print(len(List['city']))"
      ]
    },
    {
      "cell_type": "code",
      "source": [
        "print(\"Porcentaje de reuniones llevadas en la ciudad de Houston\")\n",
        "Proporcion = len(City)/len(List['city'])*100\n",
        "print(Proporcion)"
      ],
      "metadata": {
        "colab": {
          "base_uri": "https://localhost:8080/"
        },
        "id": "b_CNAE0SgvIn",
        "outputId": "2e74646d-c0c5-437b-9a79-d45ccf749485"
      },
      "execution_count": null,
      "outputs": [
        {
          "output_type": "stream",
          "name": "stdout",
          "text": [
            "Porcentaje de reuniones llevadas en la ciudad de Houston\n",
            "73.86741065497542\n"
          ]
        }
      ]
    },
    {
      "cell_type": "markdown",
      "source": [
        "**Observación:**\n",
        "\n",
        "\n",
        "* Se toma cual es la porcion principal de reuniones en Houston en la columna ciudad, que es de 5560, después se divide por el total de reuniones que son 7527, una vez hecho esto, el resultado de la división se multiplica por 100 y tendremos el porcentaje, que equivale al 74%. De esto podemos concluir que el 74% de las reuniones se hicieron en la ciudad de Houston."
      ],
      "metadata": {
        "id": "A9e7mGx3gvhA"
      }
    },
    {
      "cell_type": "markdown",
      "metadata": {
        "id": "ZUlusRR9N--i"
      },
      "source": [
        "## 4.- Cuáles son las 10 ciudades más usadas en USA para reuniones de los grupos:\n",
        "    - 'houston machine learning ' y 'houstonr'"
      ]
    },
    {
      "cell_type": "code",
      "execution_count": null,
      "metadata": {
        "colab": {
          "base_uri": "https://localhost:8080/"
        },
        "id": "BTLxDb9kN--i",
        "outputId": "ca343233-b92d-4f3a-e2f5-f97d7b5dc315"
      },
      "outputs": [
        {
          "output_type": "stream",
          "name": "stdout",
          "text": [
            "Ciudad mas usada para reuniones del grupo HoustonR\n",
            "Houston             776\n",
            "Spring               20\n",
            "Katy                 20\n",
            "Sugar Land           16\n",
            "Austin               15\n",
            "                   ... \n",
            "McKinney              1\n",
            "Huntington Beach      1\n",
            "Lewisville            1\n",
            "Boulder               1\n",
            "Long Beach            1\n",
            "Name: city, Length: 106, dtype: int64\n"
          ]
        }
      ],
      "source": [
        "#7. ¿Cuáles son las ciudades más usadas en USA para reuniones de los grupos?'houston machine learning ‘ y 'houstonr'\n",
        "print(\"Ciudad mas usada para reuniones del grupo HoustonR\")\n",
        "HML = List[List['country'] == 'us']\n",
        "ct = HML[HML['group'] == 'houstonr']\n",
        "Ciudad_mas_usada_HR = ct['city'].value_counts()\n",
        "pd.set_option('display.max_rows',10)\n",
        "\n",
        "print(Ciudad_mas_usada_HR)"
      ]
    },
    {
      "cell_type": "code",
      "execution_count": null,
      "metadata": {
        "colab": {
          "base_uri": "https://localhost:8080/"
        },
        "id": "XtDSB06yN--i",
        "outputId": "2ef2a6a9-aab3-4ee6-fddd-22f9a3cf9a04"
      },
      "outputs": [
        {
          "output_type": "stream",
          "name": "stdout",
          "text": [
            "Ciudad mas usada para reuniones del grupo Houston Machine Learning\n",
            "Houston          572\n",
            "Katy              29\n",
            "Spring            22\n",
            "Sugar Land        16\n",
            "Cypress           11\n",
            "                ... \n",
            "San Antonio        1\n",
            "Bellevue           1\n",
            "Durham             1\n",
            "Athens             1\n",
            "South Houston      1\n",
            "Name: city, Length: 59, dtype: int64\n"
          ]
        }
      ],
      "source": [
        "#Ciudad mas usada en USA para houston machine learning\n",
        "print(\"Ciudad mas usada para reuniones del grupo Houston Machine Learning\")\n",
        "MCHL = List[List['country'] == 'us']\n",
        "ct1 = MCHL[MCHL['group'] == 'houston machine learning']\n",
        "Ciudad_mas_usada_MCHL = ct1['city'].value_counts()\n",
        "pd.set_option('display.max_rows',10)\n",
        "print(Ciudad_mas_usada_MCHL)"
      ]
    },
    {
      "cell_type": "markdown",
      "source": [
        "**Observaciones:**\n",
        "\n",
        "\n",
        "*   La ciudad más usada para las reuniones del grupo Houstonr en USA fue la ciudad de Houston con 776 reuniones registradas\n",
        "*   La ciudad más usada para las reuniones del grupo Houston Machine Learning en USA fue la ciudad de Houston con 572 reuniones registradas\n",
        "\n"
      ],
      "metadata": {
        "id": "sNOfv3y2RGuS"
      }
    },
    {
      "cell_type": "markdown",
      "metadata": {
        "id": "Wn4dlSB6N--j"
      },
      "source": [
        "## 5.- Cuáles son las ciudades más usadas para reuniones fuera del USA por:\n",
        "    -  'houston machine learning' y 'houstonr'"
      ]
    },
    {
      "cell_type": "code",
      "execution_count": null,
      "metadata": {
        "colab": {
          "base_uri": "https://localhost:8080/"
        },
        "id": "7S4Q_pxCN--j",
        "outputId": "77417423-2d2c-42aa-ef8b-eea89759c432"
      },
      "outputs": [
        {
          "output_type": "stream",
          "name": "stdout",
          "text": [
            "Ciudad mas usada para reuniones del grupo HoustonR\n",
            "London         2\n",
            "Winchester     1\n",
            "Manchester     1\n",
            "Mississauga    1\n",
            "Name: city, dtype: int64\n"
          ]
        }
      ],
      "source": [
        "#8. ¿Cuáles son las ciudades más usadas afuera de USA para reuniones de los grupos?'houston machine learning ‘ y 'houstonr'\n",
        "print(\"Ciudad mas usada para reuniones del grupo HoustonR\")\n",
        "HML = List[List['country'] != 'us']\n",
        "ct = HML[HML['group'] == 'houstonr']\n",
        "Ciudad_mas_usada_HR = ct['city'].value_counts()\n",
        "pd.set_option('display.max_rows',10)\n",
        "print(Ciudad_mas_usada_HR)"
      ]
    },
    {
      "cell_type": "code",
      "execution_count": null,
      "metadata": {
        "colab": {
          "base_uri": "https://localhost:8080/"
        },
        "id": "hyq4xhPnN--j",
        "outputId": "4acadf9d-7389-4ef7-e574-16e16746392f"
      },
      "outputs": [
        {
          "output_type": "stream",
          "name": "stdout",
          "text": [
            "Ciudad mas usada para reuniones del grupo Houston Machine Learning\n",
            "Series([], Name: city, dtype: int64)\n"
          ]
        }
      ],
      "source": [
        "#Ciudad mas usada fuera de USA para houston machine learning\n",
        "print(\"Ciudad mas usada para reuniones del grupo Houston Machine Learning\")\n",
        "MCHL = List[List['country'] != 'us']\n",
        "ct1 = MCHL[MCHL['group'] == 'houston machine learning']\n",
        "Ciudad_mas_usada_MCHL = ct1['city'].value_counts()\n",
        "pd.set_option('display.max_rows',10)\n",
        "print(Ciudad_mas_usada_MCHL)"
      ]
    },
    {
      "cell_type": "markdown",
      "source": [
        "**Observaciones:**\n",
        "\n",
        "\n",
        "*   La ciudad en la cual se reunio más el grupo de HoustonR fuera de USA fue en London con 2 reuniones registradas\n",
        "*   No se registraron ciudades fuera de USA para el grupo de Houston Machine Learning"
      ],
      "metadata": {
        "id": "oTSM0LWZU33G"
      }
    },
    {
      "cell_type": "markdown",
      "metadata": {
        "id": "KDY1l7_xN--k"
      },
      "source": [
        "## 6.- El  grupo 'houston data visualization' cuando hace reuniones en USA:\n",
        "    - ¿Es cierto que la segunda ciudad en donde hacen más reuniones es Austin?"
      ]
    },
    {
      "cell_type": "code",
      "execution_count": null,
      "metadata": {
        "colab": {
          "base_uri": "https://localhost:8080/"
        },
        "id": "zIKOdC_YN--k",
        "outputId": "34d668c2-17b2-446e-e48a-806fb29f955a"
      },
      "outputs": [
        {
          "output_type": "stream",
          "name": "stdout",
          "text": [
            "Listado de fechas en las que el grupo Houston data visualization se reunion en USA\n",
            "2013-10-27 19:51:46    5\n",
            "2013-10-27 19:51:47    2\n",
            "2016-07-28 03:12:34    1\n",
            "2015-11-30 05:27:14    1\n",
            "2016-12-10 03:37:14    1\n",
            "                      ..\n",
            "2014-10-02 14:58:45    1\n",
            "2015-05-11 15:37:44    1\n",
            "2014-07-01 19:02:37    1\n",
            "2016-05-12 20:03:44    1\n",
            "2016-08-02 17:47:29    1\n",
            "Name: join_date, Length: 1698, dtype: int64\n"
          ]
        }
      ],
      "source": [
        "#9. El grupo 'houston data visualization' cuando hace reuniones en USA:\n",
        "print(\"Listado de fechas en las que el grupo Houston data visualization se reunion en USA\")\n",
        "Fecha = List[List['group'] == 'houston data visualization ']\n",
        "Reunion = Fecha[Fecha['country'] == 'us']\n",
        "Aux = Reunion['join_date'].value_counts()\n",
        "print(Aux)"
      ]
    },
    {
      "cell_type": "code",
      "execution_count": null,
      "metadata": {
        "colab": {
          "base_uri": "https://localhost:8080/"
        },
        "id": "JDibqj-aN--k",
        "outputId": "6114ceb9-a843-4a1f-944f-733b5d95a6f1"
      },
      "outputs": [
        {
          "output_type": "stream",
          "name": "stdout",
          "text": [
            "Houston         1264\n",
            "Spring            53\n",
            "Sugar Land        36\n",
            "Katy              35\n",
            "Austin            27\n",
            "                ... \n",
            "Philadelphia       1\n",
            "Odessa             1\n",
            "Cleveland          1\n",
            "Evergreen          1\n",
            "El Paso            1\n",
            "Name: city, Length: 116, dtype: int64\n"
          ]
        }
      ],
      "source": [
        "#- ¿Es cierto que la segunda ciudad en dónde hacen más reuniones es Austin?\n",
        "HDV = List[List['country'] == 'us']\n",
        "ct2 = HDV[HDV['group'] == 'houston data visualization ']\n",
        "Ciudad_mas_usada_HDV = ct2['city'].value_counts()\n",
        "pd.set_option('display.max_rows',12)\n",
        "print(Ciudad_mas_usada_HDV)"
      ]
    },
    {
      "cell_type": "markdown",
      "source": [
        "**Observaciones:**\n",
        "\n",
        "\n",
        "\n",
        "*   Se puede observar que se muestra las fechas cuando el grupo de Houston data visualization se reunieron en US\n",
        "*   Es falso, ya que la segunda ciudad en la que más se reunieron fue en Spring, Austin fue la quinta ciudad en donde más se reunieron.\n"
      ],
      "metadata": {
        "id": "cwYN1LudVUgr"
      }
    },
    {
      "cell_type": "markdown",
      "metadata": {
        "id": "3FlLT-HwN--l"
      },
      "source": [
        "## 7.- ¿Cuál fue el mes que más reuniones tuvo el grupo 'houstonr' en el año 2016?\n",
        "\n",
        "        - Agregar columna 'month' y 'year'"
      ]
    },
    {
      "cell_type": "markdown",
      "metadata": {
        "id": "0FHQdLRWN--l"
      },
      "source": [
        "<img src=\"./img/graf02.png\">"
      ]
    },
    {
      "cell_type": "code",
      "execution_count": null,
      "metadata": {
        "colab": {
          "base_uri": "https://localhost:8080/",
          "height": 632
        },
        "id": "ZSSMR0edN--l",
        "outputId": "82b6c813-22b6-4339-ee40-7ca2cfe1dbf0"
      },
      "outputs": [
        {
          "output_type": "stream",
          "name": "stderr",
          "text": [
            "/usr/local/lib/python3.7/dist-packages/ipykernel_launcher.py:2: SettingWithCopyWarning: \n",
            "A value is trying to be set on a copy of a slice from a DataFrame.\n",
            "Try using .loc[row_indexer,col_indexer] = value instead\n",
            "\n",
            "See the caveats in the documentation: https://pandas.pydata.org/pandas-docs/stable/user_guide/indexing.html#returning-a-view-versus-a-copy\n",
            "  \n",
            "/usr/local/lib/python3.7/dist-packages/ipykernel_launcher.py:3: SettingWithCopyWarning: \n",
            "A value is trying to be set on a copy of a slice from a DataFrame.\n",
            "Try using .loc[row_indexer,col_indexer] = value instead\n",
            "\n",
            "See the caveats in the documentation: https://pandas.pydata.org/pandas-docs/stable/user_guide/indexing.html#returning-a-view-versus-a-copy\n",
            "  This is separate from the ipykernel package so we can avoid doing imports until\n"
          ]
        },
        {
          "output_type": "execute_result",
          "data": {
            "text/plain": [
              "                join_date                        group     city state country  \\\n",
              "0     2016-11-18 02:41:29     houston machine learning  Houston    TX      us   \n",
              "1     2017-05-09 14:16:37     houston machine learning  Houston    TX      us   \n",
              "2     2016-12-30 02:34:16     houston machine learning  Houston    TX      us   \n",
              "3     2016-07-18 00:48:17     houston machine learning  Houston    TX      us   \n",
              "4     2017-05-25 12:58:16     houston machine learning  Houston    TX      us   \n",
              "...                   ...                          ...      ...   ...     ...   \n",
              "7666  2017-10-07 18:05:24  houston data visualization   Houston    TX      us   \n",
              "7667  2017-06-24 14:06:26  houston data visualization   Houston    TX      us   \n",
              "7668  2015-10-05 17:08:40  houston data visualization   Houston    TX      us   \n",
              "7669  2016-11-04 22:36:24  houston data visualization   Houston    TX      us   \n",
              "7670  2016-08-02 17:47:29  houston data visualization   Houston    TX      us   \n",
              "\n",
              "     month  year  \n",
              "0       11  2016  \n",
              "1       05  2017  \n",
              "2       12  2016  \n",
              "3       07  2016  \n",
              "4       05  2017  \n",
              "...    ...   ...  \n",
              "7666    10  2017  \n",
              "7667    06  2017  \n",
              "7668    10  2015  \n",
              "7669    11  2016  \n",
              "7670    08  2016  \n",
              "\n",
              "[7527 rows x 7 columns]"
            ],
            "text/html": [
              "\n",
              "  <div id=\"df-3f367345-7fda-4b8f-9bcf-7d9bd5cec33f\">\n",
              "    <div class=\"colab-df-container\">\n",
              "      <div>\n",
              "<style scoped>\n",
              "    .dataframe tbody tr th:only-of-type {\n",
              "        vertical-align: middle;\n",
              "    }\n",
              "\n",
              "    .dataframe tbody tr th {\n",
              "        vertical-align: top;\n",
              "    }\n",
              "\n",
              "    .dataframe thead th {\n",
              "        text-align: right;\n",
              "    }\n",
              "</style>\n",
              "<table border=\"1\" class=\"dataframe\">\n",
              "  <thead>\n",
              "    <tr style=\"text-align: right;\">\n",
              "      <th></th>\n",
              "      <th>join_date</th>\n",
              "      <th>group</th>\n",
              "      <th>city</th>\n",
              "      <th>state</th>\n",
              "      <th>country</th>\n",
              "      <th>month</th>\n",
              "      <th>year</th>\n",
              "    </tr>\n",
              "  </thead>\n",
              "  <tbody>\n",
              "    <tr>\n",
              "      <th>0</th>\n",
              "      <td>2016-11-18 02:41:29</td>\n",
              "      <td>houston machine learning</td>\n",
              "      <td>Houston</td>\n",
              "      <td>TX</td>\n",
              "      <td>us</td>\n",
              "      <td>11</td>\n",
              "      <td>2016</td>\n",
              "    </tr>\n",
              "    <tr>\n",
              "      <th>1</th>\n",
              "      <td>2017-05-09 14:16:37</td>\n",
              "      <td>houston machine learning</td>\n",
              "      <td>Houston</td>\n",
              "      <td>TX</td>\n",
              "      <td>us</td>\n",
              "      <td>05</td>\n",
              "      <td>2017</td>\n",
              "    </tr>\n",
              "    <tr>\n",
              "      <th>2</th>\n",
              "      <td>2016-12-30 02:34:16</td>\n",
              "      <td>houston machine learning</td>\n",
              "      <td>Houston</td>\n",
              "      <td>TX</td>\n",
              "      <td>us</td>\n",
              "      <td>12</td>\n",
              "      <td>2016</td>\n",
              "    </tr>\n",
              "    <tr>\n",
              "      <th>3</th>\n",
              "      <td>2016-07-18 00:48:17</td>\n",
              "      <td>houston machine learning</td>\n",
              "      <td>Houston</td>\n",
              "      <td>TX</td>\n",
              "      <td>us</td>\n",
              "      <td>07</td>\n",
              "      <td>2016</td>\n",
              "    </tr>\n",
              "    <tr>\n",
              "      <th>4</th>\n",
              "      <td>2017-05-25 12:58:16</td>\n",
              "      <td>houston machine learning</td>\n",
              "      <td>Houston</td>\n",
              "      <td>TX</td>\n",
              "      <td>us</td>\n",
              "      <td>05</td>\n",
              "      <td>2017</td>\n",
              "    </tr>\n",
              "    <tr>\n",
              "      <th>...</th>\n",
              "      <td>...</td>\n",
              "      <td>...</td>\n",
              "      <td>...</td>\n",
              "      <td>...</td>\n",
              "      <td>...</td>\n",
              "      <td>...</td>\n",
              "      <td>...</td>\n",
              "    </tr>\n",
              "    <tr>\n",
              "      <th>7666</th>\n",
              "      <td>2017-10-07 18:05:24</td>\n",
              "      <td>houston data visualization</td>\n",
              "      <td>Houston</td>\n",
              "      <td>TX</td>\n",
              "      <td>us</td>\n",
              "      <td>10</td>\n",
              "      <td>2017</td>\n",
              "    </tr>\n",
              "    <tr>\n",
              "      <th>7667</th>\n",
              "      <td>2017-06-24 14:06:26</td>\n",
              "      <td>houston data visualization</td>\n",
              "      <td>Houston</td>\n",
              "      <td>TX</td>\n",
              "      <td>us</td>\n",
              "      <td>06</td>\n",
              "      <td>2017</td>\n",
              "    </tr>\n",
              "    <tr>\n",
              "      <th>7668</th>\n",
              "      <td>2015-10-05 17:08:40</td>\n",
              "      <td>houston data visualization</td>\n",
              "      <td>Houston</td>\n",
              "      <td>TX</td>\n",
              "      <td>us</td>\n",
              "      <td>10</td>\n",
              "      <td>2015</td>\n",
              "    </tr>\n",
              "    <tr>\n",
              "      <th>7669</th>\n",
              "      <td>2016-11-04 22:36:24</td>\n",
              "      <td>houston data visualization</td>\n",
              "      <td>Houston</td>\n",
              "      <td>TX</td>\n",
              "      <td>us</td>\n",
              "      <td>11</td>\n",
              "      <td>2016</td>\n",
              "    </tr>\n",
              "    <tr>\n",
              "      <th>7670</th>\n",
              "      <td>2016-08-02 17:47:29</td>\n",
              "      <td>houston data visualization</td>\n",
              "      <td>Houston</td>\n",
              "      <td>TX</td>\n",
              "      <td>us</td>\n",
              "      <td>08</td>\n",
              "      <td>2016</td>\n",
              "    </tr>\n",
              "  </tbody>\n",
              "</table>\n",
              "<p>7527 rows × 7 columns</p>\n",
              "</div>\n",
              "      <button class=\"colab-df-convert\" onclick=\"convertToInteractive('df-3f367345-7fda-4b8f-9bcf-7d9bd5cec33f')\"\n",
              "              title=\"Convert this dataframe to an interactive table.\"\n",
              "              style=\"display:none;\">\n",
              "        \n",
              "  <svg xmlns=\"http://www.w3.org/2000/svg\" height=\"24px\"viewBox=\"0 0 24 24\"\n",
              "       width=\"24px\">\n",
              "    <path d=\"M0 0h24v24H0V0z\" fill=\"none\"/>\n",
              "    <path d=\"M18.56 5.44l.94 2.06.94-2.06 2.06-.94-2.06-.94-.94-2.06-.94 2.06-2.06.94zm-11 1L8.5 8.5l.94-2.06 2.06-.94-2.06-.94L8.5 2.5l-.94 2.06-2.06.94zm10 10l.94 2.06.94-2.06 2.06-.94-2.06-.94-.94-2.06-.94 2.06-2.06.94z\"/><path d=\"M17.41 7.96l-1.37-1.37c-.4-.4-.92-.59-1.43-.59-.52 0-1.04.2-1.43.59L10.3 9.45l-7.72 7.72c-.78.78-.78 2.05 0 2.83L4 21.41c.39.39.9.59 1.41.59.51 0 1.02-.2 1.41-.59l7.78-7.78 2.81-2.81c.8-.78.8-2.07 0-2.86zM5.41 20L4 18.59l7.72-7.72 1.47 1.35L5.41 20z\"/>\n",
              "  </svg>\n",
              "      </button>\n",
              "      \n",
              "  <style>\n",
              "    .colab-df-container {\n",
              "      display:flex;\n",
              "      flex-wrap:wrap;\n",
              "      gap: 12px;\n",
              "    }\n",
              "\n",
              "    .colab-df-convert {\n",
              "      background-color: #E8F0FE;\n",
              "      border: none;\n",
              "      border-radius: 50%;\n",
              "      cursor: pointer;\n",
              "      display: none;\n",
              "      fill: #1967D2;\n",
              "      height: 32px;\n",
              "      padding: 0 0 0 0;\n",
              "      width: 32px;\n",
              "    }\n",
              "\n",
              "    .colab-df-convert:hover {\n",
              "      background-color: #E2EBFA;\n",
              "      box-shadow: 0px 1px 2px rgba(60, 64, 67, 0.3), 0px 1px 3px 1px rgba(60, 64, 67, 0.15);\n",
              "      fill: #174EA6;\n",
              "    }\n",
              "\n",
              "    [theme=dark] .colab-df-convert {\n",
              "      background-color: #3B4455;\n",
              "      fill: #D2E3FC;\n",
              "    }\n",
              "\n",
              "    [theme=dark] .colab-df-convert:hover {\n",
              "      background-color: #434B5C;\n",
              "      box-shadow: 0px 1px 3px 1px rgba(0, 0, 0, 0.15);\n",
              "      filter: drop-shadow(0px 1px 2px rgba(0, 0, 0, 0.3));\n",
              "      fill: #FFFFFF;\n",
              "    }\n",
              "  </style>\n",
              "\n",
              "      <script>\n",
              "        const buttonEl =\n",
              "          document.querySelector('#df-3f367345-7fda-4b8f-9bcf-7d9bd5cec33f button.colab-df-convert');\n",
              "        buttonEl.style.display =\n",
              "          google.colab.kernel.accessAllowed ? 'block' : 'none';\n",
              "\n",
              "        async function convertToInteractive(key) {\n",
              "          const element = document.querySelector('#df-3f367345-7fda-4b8f-9bcf-7d9bd5cec33f');\n",
              "          const dataTable =\n",
              "            await google.colab.kernel.invokeFunction('convertToInteractive',\n",
              "                                                     [key], {});\n",
              "          if (!dataTable) return;\n",
              "\n",
              "          const docLinkHtml = 'Like what you see? Visit the ' +\n",
              "            '<a target=\"_blank\" href=https://colab.research.google.com/notebooks/data_table.ipynb>data table notebook</a>'\n",
              "            + ' to learn more about interactive tables.';\n",
              "          element.innerHTML = '';\n",
              "          dataTable['output_type'] = 'display_data';\n",
              "          await google.colab.output.renderOutput(dataTable, element);\n",
              "          const docLink = document.createElement('div');\n",
              "          docLink.innerHTML = docLinkHtml;\n",
              "          element.appendChild(docLink);\n",
              "        }\n",
              "      </script>\n",
              "    </div>\n",
              "  </div>\n",
              "  "
            ]
          },
          "metadata": {},
          "execution_count": 19
        }
      ],
      "source": [
        "#10. Agregar columna ‘month’ y ‘year’\n",
        "List['month'] = List['join_date'].apply(lambda row: (row[5:7]))\n",
        "List['year'] = List['join_date'].apply(lambda row: (row[0:4]))\n",
        "List"
      ]
    },
    {
      "cell_type": "code",
      "execution_count": null,
      "metadata": {
        "colab": {
          "base_uri": "https://localhost:8080/"
        },
        "id": "1YNGsYA1N--l",
        "outputId": "13a2fa1b-441a-4239-dc56-f8e84d9c8392"
      },
      "outputs": [
        {
          "output_type": "stream",
          "name": "stdout",
          "text": [
            "Mes  Numero de reuniones\n",
            "10    84\n",
            "02    43\n",
            "11    32\n",
            "01    30\n",
            "03    29\n",
            "06    29\n",
            "09    28\n",
            "08    28\n",
            "05    21\n",
            "04    21\n",
            "12    17\n",
            "07    15\n",
            "Name: month, dtype: int64\n"
          ]
        }
      ],
      "source": [
        "#11. ¿Cuál fue el mes que más reuniones tuvo el grupo 'houstonr' en el año 2016?\n",
        "print(\"Mes  Numero de reuniones\")\n",
        "grupo = List[List['group'] == 'houstonr']\n",
        "mes = grupo[grupo['year'] == '2016']\n",
        "L = mes['month']\n",
        "reuniones = mes['month'].value_counts()\n",
        "pd.set_option('display.max_rows',12)\n",
        "print(reuniones)\n"
      ]
    },
    {
      "cell_type": "code",
      "execution_count": null,
      "metadata": {
        "colab": {
          "base_uri": "https://localhost:8080/",
          "height": 585
        },
        "id": "_wy48OElN--m",
        "outputId": "348dba57-9c65-4fae-e4f2-5a669f9d90b0"
      },
      "outputs": [
        {
          "output_type": "stream",
          "name": "stderr",
          "text": [
            "/usr/local/lib/python3.7/dist-packages/ipykernel_launcher.py:3: FutureWarning: In a future version of pandas all arguments of Series.sort_values will be keyword-only\n",
            "  This is separate from the ipykernel package so we can avoid doing imports until\n"
          ]
        },
        {
          "output_type": "execute_result",
          "data": {
            "text/plain": [
              "Text(0.5, 1.0, 'Grafico de las reuniones por mes del grupo HoustonR')"
            ]
          },
          "metadata": {},
          "execution_count": 21
        },
        {
          "output_type": "display_data",
          "data": {
            "text/plain": [
              "<Figure size 1440x576 with 1 Axes>"
            ],
            "image/png": "[encoded data removed]"
          },
          "metadata": {
            "needs_background": "light"
          }
        }
      ],
      "source": [
        "plt.figure(figsize=(20,8))\n",
        "plt.subplot(121)\n",
        "sns.histplot(L.sort_values(0,True))\n",
        "plt.title('Grafico de las reuniones por mes del grupo HoustonR')"
      ]
    },
    {
      "cell_type": "markdown",
      "source": [
        "**Observaciones:**\n",
        "\n",
        "\n",
        "\n",
        "*  Como se puede apreciar en los resultados generados, en el mes de octubre del año 2016 fue el año con más reuniones para el grupo HoustonR, contando con 84 reuniones.\n"
      ],
      "metadata": {
        "id": "tLGDkqncVmPo"
      }
    },
    {
      "cell_type": "markdown",
      "metadata": {
        "id": "CZ9Y19U7N--m"
      },
      "source": [
        "## 8.- ¿Cuantas reuniones por año se registraron en el DataFrame?"
      ]
    },
    {
      "cell_type": "code",
      "execution_count": null,
      "metadata": {
        "id": "PKmTMFZ5N--m",
        "colab": {
          "base_uri": "https://localhost:8080/"
        },
        "outputId": "f8b46b73-9a37-49a2-f6f3-8de5be6bde5b"
      },
      "outputs": [
        {
          "output_type": "stream",
          "name": "stdout",
          "text": [
            "Total de reuniones desde el año 2010 al 2017\n",
            "2017    3019\n",
            "2016    2679\n",
            "2015    1310\n",
            "2014     349\n",
            "2013      78\n",
            "2012      44\n",
            "2011      29\n",
            "2010      19\n",
            "Name: year, dtype: int64\n"
          ]
        }
      ],
      "source": [
        "#12. ¿Cuántas reuniones por año se registraron en el DataFrame?\n",
        "print(\"Total de reuniones desde el año 2010 al 2017\")\n",
        "year = List['year']\n",
        "año = List['year'].value_counts()\n",
        "print(año)"
      ]
    },
    {
      "cell_type": "code",
      "execution_count": null,
      "metadata": {
        "id": "9MzNdoQjN--m",
        "colab": {
          "base_uri": "https://localhost:8080/",
          "height": 693
        },
        "outputId": "96d92ad0-84c2-47ae-aeb6-c8011c2cc9c2"
      },
      "outputs": [
        {
          "output_type": "stream",
          "name": "stderr",
          "text": [
            "/usr/local/lib/python3.7/dist-packages/ipykernel_launcher.py:3: FutureWarning: In a future version of pandas all arguments of Series.sort_values will be keyword-only\n",
            "  This is separate from the ipykernel package so we can avoid doing imports until\n"
          ]
        },
        {
          "output_type": "execute_result",
          "data": {
            "text/plain": [
              "Text(0.5, 1.0, 'Grafico de las reuniones llevadas acabo desde el 2010 hasta el 2017')"
            ]
          },
          "metadata": {},
          "execution_count": 23
        },
        {
          "output_type": "display_data",
          "data": {
            "text/plain": [
              "<Figure size 1800x720 with 1 Axes>"
            ],
            "image/png": "[encoded data removed]"
          },
          "metadata": {
            "needs_background": "light"
          }
        }
      ],
      "source": [
        "\n",
        "plt.figure(figsize=(25,10))\n",
        "plt.subplot(121)\n",
        "sns.histplot(year.sort_values(0,False))\n",
        "plt.title('Grafico de las reuniones llevadas acabo desde el 2010 hasta el 2017')"
      ]
    },
    {
      "cell_type": "markdown",
      "source": [
        "**Observaciones:**\n",
        "\n",
        "\n",
        "\n",
        "*   Hay un total de 7527 registros, de los cuales se puede apreciar que al paso de los años, desde 2010 al 2017 se han llevado acabo distintas reuniones en total, siendo el 2017 el año donde se han registrado más reuniones de los grupos en general, y en 2010 donde se han llevado acabo menos reuniones.\n"
      ],
      "metadata": {
        "id": "1Q8BJPH0V_Ta"
      }
    },
    {
      "cell_type": "markdown",
      "metadata": {
        "id": "1xDdYo-nN--m"
      },
      "source": [
        "## 9.- ¿Cuantas veces por año se han reunido los grupos ('houston data science', 'houston machine learning') fuera de USA en el dataframe?"
      ]
    },
    {
      "cell_type": "code",
      "execution_count": null,
      "metadata": {
        "id": "ofc4G32hN--n",
        "colab": {
          "base_uri": "https://localhost:8080/"
        },
        "outputId": "fbe7f2f0-7445-45d1-dae7-5be74e5b56b4"
      },
      "outputs": [
        {
          "output_type": "stream",
          "name": "stdout",
          "text": [
            "Numero de veces que se han reunido el grupo Houston Data Science a traves de los años, fuera de USA\n",
            "2017    3\n",
            "2016    1\n",
            "Name: year, dtype: int64\n"
          ]
        }
      ],
      "source": [
        "#13.  ¿Cuántas veces por año se han reunido los grupos ('houston data science') fuera de USA en el dataframe?\n",
        "print(\"Numero de veces que se han reunido el grupo Houston Data Science a traves de los años, fuera de USA\")\n",
        "HDS = List[List['country'] != 'us']\n",
        "Grupo = HDS[HDS['group'] == 'houston data science']\n",
        "año_reunidos = Grupo['year'].value_counts()\n",
        "pd.set_option('display.max_rows',5)\n",
        "print(año_reunidos)"
      ]
    },
    {
      "cell_type": "code",
      "execution_count": null,
      "metadata": {
        "id": "hUdfqNOHN--n",
        "colab": {
          "base_uri": "https://localhost:8080/"
        },
        "outputId": "7e1e6aee-b596-42a5-e057-fa3c9bbfec75"
      },
      "outputs": [
        {
          "output_type": "stream",
          "name": "stdout",
          "text": [
            "Numero de veces que se han reunido el grupo Houston Machine Learning a traves de los años, fuera de USA\n",
            "Series([], Name: year, dtype: int64)\n"
          ]
        }
      ],
      "source": [
        "# ¿Cuántas veces por año se han reunido los grupos ('houston machine learning') fuera de USA en el dataframe?\n",
        "print(\"Numero de veces que se han reunido el grupo Houston Machine Learning a traves de los años, fuera de USA\")\n",
        "HML = List[List['country'] != 'us']\n",
        "Grupo = HML[HML['group'] == 'houston machine learning']\n",
        "año_reunidos2 = Grupo['year'].value_counts()\n",
        "pd.set_option('display.max_rows',5)\n",
        "print(año_reunidos2)"
      ]
    },
    {
      "cell_type": "markdown",
      "source": [
        "**Observaciones:**\n",
        "\n",
        "\n",
        "*   Se aprecia que para el grupo Houston data science solo se han reunido 4 veces fuera de USA, se toma registro de una reunion en 2016 fuera de USA y de 3 reuniones en 2017. Solo se realizaron 4 reuniones de este grupo fuera de USA\n",
        "*   Como previamente se habia señalado, el grupo de Houston Machine Learning no tuvo reuniones por fuera de USA, por eso no hay registros de alguna reunion realizada en un determinado año fuera de USA"
      ],
      "metadata": {
        "id": "wVhPY_8qWS-2"
      }
    },
    {
      "cell_type": "markdown",
      "source": [
        "## 10.- ¿Cuales son los países en los que se hace reunión los grupos?"
      ],
      "metadata": {
        "id": "fhMkpj9xWZ-d"
      }
    },
    {
      "cell_type": "code",
      "source": [
        "Paises = List['country'].value_counts()\n",
        "print(Paises)"
      ],
      "metadata": {
        "colab": {
          "base_uri": "https://localhost:8080/"
        },
        "id": "dSF7k4HrWgU1",
        "outputId": "39e1e992-e770-455b-b055-0993ce002e78"
      },
      "execution_count": null,
      "outputs": [
        {
          "output_type": "stream",
          "name": "stdout",
          "text": [
            "us    7500\n",
            "ca      15\n",
            "gb      12\n",
            "Name: country, dtype: int64\n"
          ]
        }
      ]
    },
    {
      "cell_type": "markdown",
      "source": [
        "## **Conclusiones:**\n",
        "\n",
        "* Se concluye que al menos en 144 reuniones, no se documento en que estado del país se encontraban, por ende estos registros son nulos y no aportan información sustancial al analisís, por esta razón no se incluyen en el análisis.\n",
        "\n",
        "* Se evidencia que el grupo que genera más interes en las personas, es Houston data sciences, ya que el mayor porcentaje y numero de reuniones en general que se tiene registros, es de este.\n",
        "\n",
        "* Se evidencia que en laa ciudad de Houston en US, se han llevado acabo la mayoria de reuniones, llegando a haber más de 5560 de las 7527 reuniones en total, sin contar aquellas reuniones donde no se ha registrado el estado donde se realizaron las reuniones.\n",
        "\n",
        "* En USA se evidencia que para el grupo Houston machine learning las principales ciudades donde más se llevaron registro de sus reuniones fueron: Houston con 572 registros; Katy con 29 registros; Spring con 22 registros; Sugar Land con 16 registros y Cypress con 11 reuniones registradas.\n",
        "\n",
        "* En USA se evidencia que para el grupo HoustonR las principales ciudades donde más se llevaron registro de sus reuniones fueron: Houston con 776 registros; Spring y Katy con 20 reuniones registradas; Sugar Land con 16 registros y Austin con 15 reuniones registradas.\n",
        "\n",
        "* Se aprecia que para el grupo HoustonR se llevaron acabo 5 reuniones por fuera de USA, las cuales fueron el London con 2 registros, Winchester, Manchester y Mississaugi con 1 reunion registrada.\n",
        "\n",
        "* Fuera de USA, se evidencia que el grupo de Houston Machine Learning no tuvo ninguna reunion registrada.\n",
        "\n",
        "* Se concluye que en USA el grupo Houston data visualization se llevan acabo reuniones bastante seguido, donde hay registro de 1698 fechas registradas donde se han reunido en USA.\n",
        "\n",
        "* Después del analisís requerido, se concluye que la segunda ciudad donde el grupo Houston data visualization es Spring, con 53 reuniones registradas. Austin es la quinta ciudad donde más se han reunido, con 27 registros de reuniones en la ciudad.\n",
        "\n",
        "* Para el año 2016 se puede concluir que, el grupo HoustonR tuvo un gran número de reuniones en el mes de octubre, con un total de 84 reuniones registradas, como se puede apreciar y abstraer de la gráfica de numero de reuniones vs mes.\n",
        "\n",
        "* Existe un total de 7527 registros, de los cuales se puede apreciar que al paso de los años, desde 2010 al 2017 se han llevado acabo distintas reuniones en total, siendo el 2017 el año donde se han registrado más reuniones de los grupos en general con un total de 3019 reuniones, como se puede apreciar en la gráfica. Por otro lado, en el año 2010 se registraron un total de 19 reuniones, concluyendo que en este año, la población no estuvo tan interesada en los grupos.\n",
        "\n",
        "* Se puede apreciar que para el grupo Houston data science se llevaron acabo 4 reuniones por fuera de USA, en 2017 se registraron 3 reuniones y en 2016 solo se registro una reunion. Por lo tanto se puede concluir que la mayoria de reuniones para este grupo se llevaron acabo en USA.\n",
        "\n",
        "* Previamente se hizo mención que para el grupo de Houston machine learning, no se registran reuniones por fuera de USA, por tal motivo, no se realizo ninguna reunion de este grupo por fuera de USA.\n",
        "\n",
        "* El país donde más se reunen los grupos es Estados Unidos con 7500 reuniones registradas.\n",
        "\n",
        "* El segundo país donde se encuentra una mayor cantidad de reuniones registradas, pero menor a Estados Unidos es Canada con 15 registros de reuniones.\n",
        "\n",
        "* El tercer país donde se registraron reuniones fue en Reino Unido, con 12 registros de reunion, inferior a Estados Unidos y Canada.\n",
        "\n",
        "* Los datos almacenados en el dataframe, no son de tipo numericos, por ende se concluye que para realizar un promedio, varianza, desviación estandar o alguna otra estadistica al dataset, no es posible mediante métodos matemáticos, se recurre al analisís para la conversión de datos a información."
      ],
      "metadata": {
        "id": "IWHzxCVUWmPL"
      }
    },
    {
      "cell_type": "markdown",
      "source": [
        "## **Referencias**\n",
        "\n",
        "* Eliminar NaN en phyton con numpy: https://www.delftstack.com/es/howto/python/remove-nan-from-list-python/#:~:text=%2C%206%2C%204%5D-,Elimine%20NaN%20de%20la%20lista%20en%20Python%20usando%20el%20m%C3%A9todo,devuelve%20False%20en%20caso%20contrario.\n",
        "\n",
        "\n",
        "* ¿Comó leer un dataset desde un repositorio? https://www.youtube.com/watch?v=uB9WcIpsdUc&ab_channel=DiMathData\n",
        "\n",
        "* ¿Comó hacer grafico de barras?: https://cursosinformatica.ucm.es/trial/dataviz/\n",
        "\n",
        "* ¿Comó hacer grafico pastel?: https://numython.github.io/posts/graficas-de-pastel-con-matplotlib/\n",
        "\n",
        "* Dividir texto en columnas con pandas: https://www.analyticslane.com/2020/10/19/separar-texto-en-columnas-con-pandas-en-python/\n",
        "\n",
        "* Convertir String a fecha en python: https://j2logo.com/convertir-un-string-en-fecha-en-python/\n",
        "\n",
        "* Agrupar fechas en un dataframe: https://www.youtube.com/watch?v=S0wBCpuGToM&ab_channel=cctmexico\n",
        "\n",
        "* Función filter en python: https://www.codigopiton.com/como-filtrar-una-lista-en-python/\n",
        "\n",
        "\n"
      ],
      "metadata": {
        "id": "F1Mb03LbdAse"
      }
    },
    {
      "cell_type": "markdown",
      "source": [
        "## Link del repositorio: https://github.com/LuisAngel021/Parciales_HPC2022\n",
        "\n",
        "* En el repositorio se aloja el dataset con extensión '.csv'. Gracias a esto, no es necesario cargar el dataset cada vez que se vaya a ejecutar cualquier linea de codigo."
      ],
      "metadata": {
        "id": "zlQJus2HlBqi"
      }
    }
  ],
  "metadata": {
    "kernelspec": {
      "display_name": "Python 3",
      "language": "python",
      "name": "python3"
    },
    "language_info": {
      "codemirror_mode": {
        "name": "ipython",
        "version": 3
      },
      "file_extension": ".py",
      "mimetype": "text/x-python",
      "name": "python",
      "nbconvert_exporter": "python",
      "pygments_lexer": "ipython3",
      "version": "3.9.1"
    },
    "colab": {
      "provenance": []
    }
  },
  "nbformat": 4,
  "nbformat_minor": 0
}